{
 "cells": [
  {
   "cell_type": "markdown",
   "metadata": {},
   "source": [
    "# Try different models for the embedding\n",
    "\n",
    "- Creating and Quering Index\n",
    "- Saving and Loading Index\n",
    "- Customize LLM\n",
    "- Customize Prompt\n",
    "- Customize Embedding\n"
   ]
  },
  {
   "cell_type": "code",
   "execution_count": 1,
   "metadata": {},
   "outputs": [],
   "source": [
    "import openai\n",
    "import environ\n",
    "from IPython.display import Markdown, display\n",
    "\n",
    "from llama_index import LLMPredictor, ServiceContext\n",
    "from llama_index import VectorStoreIndex\n",
    "from llama_index import SimpleDirectoryReader\n",
    "from llama_index import Prompt\n",
    "from llama_index.llms import OpenAI\n",
    "\n",
    "from langchain.chat_models import ChatOpenAI\n",
    "\n",
    "\n",
    "# import pickle\n",
    "# import os\n",
    "# from datetime import datetime\n",
    "# from pathlib import Path"
   ]
  },
  {
   "cell_type": "code",
   "execution_count": 2,
   "metadata": {},
   "outputs": [],
   "source": [
    "def get_response(user_query, query_engine):\n",
    "    \"\"\"\n",
    "    Return the response from the bit (using query_engine) based on the user query.\n",
    "\n",
    "    Args:\n",
    "        user_query (str): query from user.\n",
    "        query_engine: a query_engine created from the index.\n",
    "\n",
    "    Returns:\n",
    "        response: A Response object with the response and other metadata.\n",
    "    \"\"\"\n",
    "    response = query_engine.query(user_query)\n",
    "    return response\n",
    "\n",
    "\n",
    "def display_response(response):\n",
    "    \"\"\"\n",
    "    Get the answer from the query engine.\n",
    "\n",
    "    Args:\n",
    "        response: A response from a query engine\n",
    "\n",
    "    Returns:\n",
    "        None, format (for a Notebook) and print the response\n",
    "    \"\"\"\n",
    "    display(Markdown(f\"{response}\"))\n",
    "    return None"
   ]
  },
  {
   "cell_type": "code",
   "execution_count": 3,
   "metadata": {},
   "outputs": [
    {
     "name": "stderr",
     "output_type": "stream",
     "text": [
      "/home/daniele/Desktop/Projects/DSR_project_ideas/venv_DSR_project_ideas/lib/python3.10/site-packages/environ/environ.py:639: UserWarning: /tmp/ipykernel_18110/.env doesn't exist - if you're not configuring your environment separately, create one.\n",
      "  warnings.warn(\n"
     ]
    }
   ],
   "source": [
    "env = environ.Env()\n",
    "environ.Env.read_env()\n",
    "API_KEY = env('OPENAI_API_KEY')\n",
    "openai.api_key = API_KEY"
   ]
  },
  {
   "cell_type": "code",
   "execution_count": 4,
   "metadata": {},
   "outputs": [],
   "source": [
    "doc_path = \"./docs/merkblatt_fuer_arbeitslose/merkblatt-fuer-arbeitslose_ba036520.pdf\"\n",
    "documents = SimpleDirectoryReader(input_files=[doc_path]).load_data()"
   ]
  },
  {
   "cell_type": "code",
   "execution_count": 32,
   "metadata": {},
   "outputs": [
    {
     "data": {
      "text/plain": [
       "[Document(id_='e05407b7-5016-44a5-93ef-f666b9b191c0', embedding=None, metadata={'page_label': '1', 'file_name': 'merkblatt-fuer-arbeitslose_ba036520.pdf'}, excluded_embed_metadata_keys=[], excluded_llm_metadata_keys=[], relationships={}, hash='2d9a660e58719a47a0a844e0a4f2e1aeab80a2910c2e579c81af05daf01afe99', text='49466_BA_MB_1.indd   1 10.02.2015   13:20:58Agentur für Arbeit  \\nMusterstadthausen  Merkblatt\\n1Merkblatt für\\nArbeitslose \\nIhre Rechte –\\nIhre Pflichten ', start_char_idx=None, end_char_idx=None, text_template='{metadata_str}\\n\\n{content}', metadata_template='{key}: {value}', metadata_seperator='\\n'),\n",
       " Document(id_='e1c40455-db23-48fd-99e9-a8985e1c69db', embedding=None, metadata={'page_label': '2', 'file_name': 'merkblatt-fuer-arbeitslose_ba036520.pdf'}, excluded_embed_metadata_keys=[], excluded_llm_metadata_keys=[], relationships={}, hash='96291ef98137c571c20b29d30df5a6c087563271148520a97ce911686ac9592a', text='3 \\nIhre Agentur für Arbeit hält eine Fülle von \\n Informationen für Sie bereit. \\nNeben den Informationen in diesem Merkblatt finden \\nSie unter » www.arbeitsagentur.de  unser umfassen \\xad\\ndes Online-Angebot der „eServices “ sowie ein \\n interessantes Informationsangebot aus allen Aufgaben \\xad\\nbereichen der Bundesagentur für Arbeit. Sie erhalten \\nwertvolle Tipps zu den Themen Ausbil \\xad\\ndung, Berufs- und Studienwahl, Weiter \\xad\\nbildung, wichtige Informationen über \\nGeldleistungen sowie ein umfangreiches \\nServiceangebot.\\nÜber das Job- und Serviceportal  \\n» www.arbeitsagentur.de  können Sie beispielsweise:\\n•  sich arbeitsuchend und arbeitslos melden,\\n•  Geldleistungen, wie Arbeitslosengeld, beantragen\\n•  Fragen zum Arbeitslosengeld unserem Chatbot \\n stellen\\n• Stellenangebote über die Jobsuche finden\\n• Vermittlungsvorschläge und Stellenempfehlungen \\neinsehen und sich bewerben\\n•  Bescheide einsehen \\n•  die Postfachnachricht nutzen – eine sichere \\n Alternative zur E-Mail \\nund vieles mehr\\nWenden Sie sich bitte an das Service Center bzw. den \\nEmpfang in Ihrer Agentur für Arbeit, wenn Sie weitere \\nInformationen über das Verfahren und die Vorteile \\n erhalten möchten. \\n', start_char_idx=None, end_char_idx=None, text_template='{metadata_str}\\n\\n{content}', metadata_template='{key}: {value}', metadata_seperator='\\n'),\n",
       " Document(id_='81c9df55-9188-4d28-895d-2843240d0983', embedding=None, metadata={'page_label': '3', 'file_name': 'merkblatt-fuer-arbeitslose_ba036520.pdf'}, excluded_embed_metadata_keys=[], excluded_llm_metadata_keys=[], relationships={}, hash='aeda75aad73c80a3f3bd19e22ae124bd72a477c3c2f1f78dd2d2dc382b60e4bc', text=' \\n4Und jetzt auch per App: Sie können ab sofort jederzeit \\nund an jedem Ort auf ausgewählte Funktionen Ihres \\nOnline-Profils über die neue Kunden-App „BA-mobil“  \\nzugreifen. \\n \\nInformationen zur App finden Sie im Internet unter: \\nhttp://www.arbeitsagentur.de »  Arbeitslos und \\n\\xad Arbeit\\xadfinden\\xad»\\xadAlle \\xad Infos \\xad und \\xad Services \\xad » \\xad Machen \\xad\\nSie Ihren nächsten Schritt »  BA-Mobil: Die Kunden-\\nApp der BA\\nAm Ende dieses Merkblattes finden Sie eine Übersicht \\nüber weitere bei Ihrer Agentur für Arbeit erhältliche \\nMerk- und Faltblätter. Diese finden Sie auch unter \\n» www.arbeitsagentur.de .', start_char_idx=None, end_char_idx=None, text_template='{metadata_str}\\n\\n{content}', metadata_template='{key}: {value}', metadata_seperator='\\n')]"
      ]
     },
     "execution_count": 32,
     "metadata": {},
     "output_type": "execute_result"
    }
   ],
   "source": [
    "documents[:3]"
   ]
  },
  {
   "cell_type": "code",
   "execution_count": 11,
   "metadata": {},
   "outputs": [],
   "source": [
    "llm = LLMPredictor(llm=ChatOpenAI(temperature=0, model_name=\"gpt-3.5-turbo\"))\n",
    "service_context = ServiceContext.from_defaults(llm_predictor=llm)"
   ]
  },
  {
   "cell_type": "code",
   "execution_count": 12,
   "metadata": {},
   "outputs": [],
   "source": [
    "llm_index = VectorStoreIndex.from_documents(\n",
    "    documents,\n",
    "    service_context=service_context\n",
    ")"
   ]
  },
  {
   "cell_type": "code",
   "execution_count": 14,
   "metadata": {},
   "outputs": [
    {
     "name": "stdout",
     "output_type": "stream",
     "text": [
      "I'm sorry, but I cannot answer that question based on the given context information.\n"
     ]
    }
   ],
   "source": [
    "llm_query_engine = llm_index.as_query_engine()\n",
    "response = llm_query_engine.query(\"Who is the president of the U.S.A.?\")\n",
    "print(response)"
   ]
  },
  {
   "cell_type": "code",
   "execution_count": 23,
   "metadata": {},
   "outputs": [],
   "source": [
    "# Define prompt\n",
    "template = (\n",
    "    \"We have provided context information below. \\n\"\n",
    "    \"---------------------\\n\"\n",
    "    \"{context_str}\"\n",
    "    \"\\n---------------------\\n\"\n",
    "    \"Given this information, please answer the question and each answer should start with code word Response: {query_str}\\n\"\n",
    ")\n",
    "qa_template = Prompt(template)\n",
    "\n",
    "# Use the custom prompt when querying\n",
    "query_engine_with_prompt = llm_index.as_query_engine(text_qa_template=qa_template)"
   ]
  },
  {
   "cell_type": "code",
   "execution_count": 54,
   "metadata": {},
   "outputs": [
    {
     "data": {
      "text/markdown": [
       "Response: Based on the provided information, the duration of your entitlement to unemployment benefits depends on the total duration of your insurance obligations with the Federal Employment Agency within the last 5 years. Unfortunately, the specific duration cannot be determined without knowing the exact number of months you have been insured during the past 5 years. Please refer to the table provided in section 3.2 of the document \"merkblatt-fuer-arbeitslose_ba036520.pdf\" to determine the duration of your entitlement."
      ],
      "text/plain": [
       "<IPython.core.display.Markdown object>"
      ]
     },
     "metadata": {},
     "output_type": "display_data"
    }
   ],
   "source": [
    "query_user = \"I worked in Germany for 3 years. My contract will end in four months How long will I receive the unemployment benefit?\"\n",
    "response = get_response(query_user, query_engine_with_prompt)\n",
    "display_response(response)"
   ]
  },
  {
   "cell_type": "code",
   "execution_count": 55,
   "metadata": {},
   "outputs": [
    {
     "data": {
      "text/markdown": [
       "Response: Based on the information provided, if you have worked in Germany for 36 months within the last 5 years, you would be eligible for a maximum of 24 months of unemployment benefit. However, please note that the specific duration of your benefit will also depend on your age and other factors. It is recommended to refer to the \"Merkblatt 20\" or consult with your local employment agency for more accurate information regarding your individual case."
      ],
      "text/plain": [
       "<IPython.core.display.Markdown object>"
      ]
     },
     "metadata": {},
     "output_type": "display_data"
    }
   ],
   "source": [
    "query_user = \"I worked in Germany for 3 years. In the last 5 years I have worked in Germany for 36 months. My contract will end in four months How long will I receive the unemployment benefit?\"\n",
    "response = get_response(query_user, query_engine_with_prompt)\n",
    "display_response(response)"
   ]
  },
  {
   "cell_type": "markdown",
   "metadata": {},
   "source": [
    "# Custom Embedding"
   ]
  },
  {
   "cell_type": "code",
   "execution_count": 5,
   "metadata": {},
   "outputs": [],
   "source": [
    "from langchain.embeddings.huggingface import HuggingFaceEmbeddings\n",
    "from llama_index import LangchainEmbedding, ServiceContext"
   ]
  },
  {
   "cell_type": "code",
   "execution_count": 26,
   "metadata": {},
   "outputs": [
    {
     "name": "stderr",
     "output_type": "stream",
     "text": [
      "/home/daniele/Desktop/Projects/DSR_project_ideas/venv_DSR_project_ideas/lib/python3.10/site-packages/tqdm/auto.py:21: TqdmWarning: IProgress not found. Please update jupyter and ipywidgets. See https://ipywidgets.readthedocs.io/en/stable/user_install.html\n",
      "  from .autonotebook import tqdm as notebook_tqdm\n"
     ]
    }
   ],
   "source": [
    "# Load in a specific embedding model\n",
    "embed_model = LangchainEmbedding(HuggingFaceEmbeddings(model_name='sentence-transformers/all-MiniLM-L6-v2'))\n",
    "\n",
    "# Create a service context with the custom embedding model\n",
    "service_context_emb = ServiceContext.from_defaults(embed_model=embed_model)\n",
    "\n",
    "# Create an index using the service context\n",
    "index_emb = VectorStoreIndex.from_documents(\n",
    "    documents,\n",
    "    service_context=service_context_emb,\n",
    ")\n",
    "\n",
    "query_engine_emb = index_emb.as_query_engine()"
   ]
  },
  {
   "cell_type": "code",
   "execution_count": 56,
   "metadata": {},
   "outputs": [
    {
     "data": {
      "text/markdown": [
       "- The eligibility criteria for accessing statutory health insurance and long-term care insurance include being at least 55 years old and not having had any form of statutory health insurance in the last 5 years.\n",
       "- Another requirement is that during this time, the individual must have been exempt from health insurance, exempt from insurance, or not subject to insurance due to self-employment for at least two and a half years.\n",
       "- If these conditions apply, a certificate of exemption is not necessary, and there is no need to submit an exemption application or certificate to a health insurance fund.\n",
       "- If the individual is not subject to compulsory insurance, the Employment Agency will cover the contributions to their private health and long-term care insurance, up to the amount of contributions for statutory health and long-term care insurance.\n",
       "- The obligation to be a member of statutory health and long-term care insurance ends when the entitlement to unemployment benefits is exhausted, unless a new circumstance of insurance obligation or family insurance in statutory health insurance occurs immediately thereafter.\n",
       "- For questions regarding the continuation of private health and long-term care insurance during or after the receipt of benefits, individuals should contact their insurance company."
      ],
      "text/plain": [
       "<IPython.core.display.Markdown object>"
      ]
     },
     "metadata": {},
     "output_type": "display_data"
    }
   ],
   "source": [
    "query_user = \"List the points to remember\"\n",
    "response = get_response(query_user, query_engine_emb)\n",
    "display_response(response)"
   ]
  },
  {
   "cell_type": "code",
   "execution_count": 57,
   "metadata": {},
   "outputs": [
    {
     "data": {
      "text/markdown": [
       "Response: \n",
       "\n",
       "1. You are required to notify the employment agency of your job search at least three months before the termination of your employment or training. If you are informed of the termination less than three months in advance, you must notify within three days. Failure to do so may result in a penalty.\n",
       "2. You can notify the employment agency of your job search online, in person, by phone, or in writing.\n",
       "3. The obligation to notify does not apply to vocational training within a company or school.\n",
       "4. Unemployment benefits will be paid from the day you register as unemployed online or in person at the employment agency.\n",
       "5. You are responsible for actively seeking employment, accepting suitable job offers, or participating in vocational integration measures to prevent or end unemployment.\n",
       "6. The employment agency may request proof of your job search efforts.\n",
       "7. You are solely responsible for notifying the employment agency of your employment start, including probationary employment.\n",
       "8. You must inform the employment agency when you become unable to work due to illness and when you become fit for work again.\n",
       "9. If your illness or incapacity for work is due to your fault or the fault of a third party, or if it is related to organ/tissue donation or sterilization, you must provide separate information.\n",
       "10. You must provide a certificate from your doctor if you have an individual employment ban under the Maternity Protection Act.\n",
       "11. You must inform the employment agency if you apply for or receive maternity benefits, transition benefits, or any other type of pension.\n",
       "12. You must inform the employment agency if you have a part-time job that is less than 15 hours per week, even if it is not subject to taxation or social insurance contributions.\n",
       "13. You must inform the employment agency if your income or the time commitment of your part-time job increases.\n",
       "14. You must inform the employment agency if you are attending school, a similar educational institution, or if you are enrolled as a student.\n",
       "15. You must inform the employment agency if you change your place of residence or your address.\n",
       "16. You must inform the employment agency if you get married or permanently separate from your spouse or life partner."
      ],
      "text/plain": [
       "<IPython.core.display.Markdown object>"
      ]
     },
     "metadata": {},
     "output_type": "display_data"
    }
   ],
   "source": [
    "query_user = \"List the points to remember\"\n",
    "# response = display_response(query_engine_with_prompt, query_user)\n",
    "response = get_response(query_user, query_engine_with_prompt)\n",
    "display_response(response)"
   ]
  },
  {
   "cell_type": "markdown",
   "metadata": {},
   "source": [
    "# Compare Embedding models"
   ]
  },
  {
   "cell_type": "code",
   "execution_count": 6,
   "metadata": {},
   "outputs": [],
   "source": [
    "def query_engine_from_model(mod_name, documents):\n",
    "    \"\"\"\n",
    "    Create a query engine give a model name from the \"sentence-transformers\" package.\n",
    "    See for emaple: https://www.sbert.net/docs/pretrained_models.html\n",
    "\n",
    "    Args:\n",
    "        mod_name: The name of the model to use\n",
    "        documents: A list of Documents loaded with \"SimpleDirectoryReader\"\n",
    "\n",
    "    Returns:\n",
    "        A query engine to use to send queries to a LLM.\n",
    "    \"\"\"\n",
    "    # Embedding model\n",
    "    embedding_model = LangchainEmbedding(HuggingFaceEmbeddings(model_name=mod_name))\n",
    "\n",
    "    # For now we use a model from OpenAI\n",
    "    llm = OpenAI(model='text-davinci-003', temperature=0, max_tokens=256)\n",
    "\n",
    "    # Service context with the embedding model\n",
    "    service_context = ServiceContext.from_defaults(\n",
    "        llm=llm,\n",
    "        embed_model=embedding_model\n",
    "    )\n",
    "\n",
    "    # Index\n",
    "    index = VectorStoreIndex.from_documents(\n",
    "        documents,\n",
    "        service_context=service_context,\n",
    "    )\n",
    "\n",
    "    print(\"DONE!\")\n",
    "\n",
    "    # Return a query engine\n",
    "    return index.as_query_engine()"
   ]
  },
  {
   "cell_type": "markdown",
   "metadata": {},
   "source": [
    "Baseline for `ServiceContext`\n",
    "\n",
    "`llm`: The LLM used to generate natural language responses to queries.\n",
    "- If not provided, defaults to `gpt-3.5-turbo` from OpenAI.\n",
    "- If your OpenAI key is not set, defaults to `llama2-chat-13B` from Llama.cpp.\n",
    "\n",
    "`embed_model`: The embedding model used to generate vector representations of text.\n",
    "- If not provided, defaults to `text-embedding-ada-002`.\n",
    "- If your OpenAI key is not set, defaults to `BAAI/bge-small-en`."
   ]
  },
  {
   "cell_type": "code",
   "execution_count": 7,
   "metadata": {},
   "outputs": [],
   "source": [
    "# Baseline (OpenAI models)\n",
    "# \n",
    "# llm=\"gpt-3.5-turbo\"\n",
    "# embed_model=\"text-embedding-ada-002\"\n",
    "service_context_baseline = ServiceContext.from_defaults()\n",
    "index_baseline = VectorStoreIndex.from_documents(\n",
    "    documents,\n",
    "    service_context=service_context_baseline\n",
    ")\n",
    "query_engine_baseline = index_baseline.as_query_engine()"
   ]
  },
  {
   "cell_type": "code",
   "execution_count": 8,
   "metadata": {},
   "outputs": [
    {
     "name": "stderr",
     "output_type": "stream",
     "text": [
      "/home/daniele/Desktop/Projects/DSR_project_ideas/venv_DSR_project_ideas/lib/python3.10/site-packages/tqdm/auto.py:21: TqdmWarning: IProgress not found. Please update jupyter and ipywidgets. See https://ipywidgets.readthedocs.io/en/stable/user_install.html\n",
      "  from .autonotebook import tqdm as notebook_tqdm\n"
     ]
    },
    {
     "name": "stdout",
     "output_type": "stream",
     "text": [
      "DONE!\n",
      "DONE!\n",
      "DONE!\n"
     ]
    },
    {
     "name": "stderr",
     "output_type": "stream",
     "text": [
      "Downloading (…)5dc24/.gitattributes: 100%|██████████| 1.48k/1.48k [00:00<00:00, 6.32MB/s]\n",
      "Downloading (…)a19105dc24/README.md: 100%|██████████| 5.67k/5.67k [00:00<00:00, 18.2MB/s]\n",
      "Downloading (…)9105dc24/config.json: 100%|██████████| 685/685 [00:00<00:00, 2.82MB/s]\n",
      "Downloading model.safetensors: 100%|██████████| 1.34G/1.34G [02:54<00:00, 7.69MB/s]\n",
      "Downloading pytorch_model.bin: 100%|██████████| 1.34G/1.34G [04:37<00:00, 4.84MB/s]\n",
      "Downloading (…)cial_tokens_map.json: 100%|██████████| 125/125 [00:00<00:00, 371kB/s]\n",
      "Downloading (…)5dc24/tokenizer.json: 100%|██████████| 729k/729k [00:00<00:00, 1.65MB/s]\n",
      "Downloading (…)okenizer_config.json: 100%|██████████| 454/454 [00:00<00:00, 1.67MB/s]\n",
      "Downloading (…)a19105dc24/vocab.txt: 100%|██████████| 240k/240k [00:00<00:00, 1.70MB/s]\n",
      "No sentence-transformers model found with name /home/daniele/.cache/torch/sentence_transformers/aari1995_German_Semantic_STS_V2. Creating a new one with MEAN pooling.\n"
     ]
    },
    {
     "name": "stdout",
     "output_type": "stream",
     "text": [
      "DONE!\n"
     ]
    }
   ],
   "source": [
    "doc_path = \"./docs/merkblatt_fuer_arbeitslose/merkblatt-fuer-arbeitslose_ba036520.pdf\"\n",
    "docs = SimpleDirectoryReader(input_files=[doc_path]).load_data()\n",
    "\n",
    "query_engine_minilm_v2 = query_engine_from_model(\"sentence-transformers/all-MiniLM-L6-v2\", docs)\n",
    "query_engine_multilingual_v1 = query_engine_from_model(\"sentence-transformers/distiluse-base-multilingual-cased-v1\", docs)\n",
    "query_engine_bert_base_german = query_engine_from_model(\"PM-AI/bi-encoder_msmarco_bert-base_german\", docs)\n",
    "query_engine_german_semantic_sts_v2 = query_engine_from_model(\"aari1995/German_Semantic_STS_V2\", docs)"
   ]
  },
  {
   "cell_type": "code",
   "execution_count": 9,
   "metadata": {},
   "outputs": [
    {
     "name": "stdout",
     "output_type": "stream",
     "text": [
      "DONE 1 of 5\n",
      "DONE 2 of 5\n",
      "DONE 3 of 5\n",
      "DONE 4 of 5\n",
      "DONE 5 of 5\n"
     ]
    }
   ],
   "source": [
    "query_user = \"List the most important points to remember\"\n",
    "\n",
    "query_engine_dict = {\n",
    "    \"baseline\": query_engine_baseline,\n",
    "    \"minilm_v2\": query_engine_minilm_v2,\n",
    "    \"multilingual_v1\": query_engine_multilingual_v1,\n",
    "    \"bert_base_german\": query_engine_bert_base_german,\n",
    "    \"german_semantic_sts_v2\": query_engine_german_semantic_sts_v2,\n",
    "}\n",
    "\n",
    "resp_dict = dict()\n",
    "resp_dict = {\n",
    "    \"query_1\": {\n",
    "        \"query\": query_user,\n",
    "    }\n",
    "}\n",
    "\n",
    "tot_mods = len(query_engine_dict)\n",
    "i = 1\n",
    "for qe in query_engine_dict:\n",
    "    resp_dict[\"query_1\"][qe] = get_response(query_user, query_engine_dict[qe])\n",
    "    # resp_dict[\"query_1\"][qe] = display_response(query_engine_dict[qe], query_user, print_response=False)\n",
    "    print(f\"DONE {str(i)} of {tot_mods}\")\n",
    "    i += 1"
   ]
  },
  {
   "cell_type": "code",
   "execution_count": 10,
   "metadata": {},
   "outputs": [
    {
     "data": {
      "text/markdown": [
       "The most important points to remember are:\n",
       "1. When ending an employment or training relationship, you must notify the relevant authorities of your job search status at least three months in advance. If you are informed of the termination less than three months in advance, you must notify them within three days.\n",
       "2. You can notify them online, in person, by phone, or in writing.\n",
       "3. Failure to notify them on time may result in a penalty.\n",
       "4. The obligation to notify does not apply to company or school-based training relationships.\n",
       "5. Unemployment benefits will only be paid from the day you register as unemployed online or in person.\n",
       "6. You are responsible for actively seeking employment, accepting suitable job offers, or participating in vocational integration measures to prevent or end unemployment.\n",
       "7. You may be required to provide evidence of your job search efforts upon request.\n",
       "8. You must inform the employment agency when you start a new job, including trial employment.\n",
       "9. If you become sick or injured and unable to work, or if you have a medical restriction due to pregnancy, you must inform the agency.\n",
       "10. You must inform the agency if you receive any type of benefits, such as maternity benefits or pensions.\n",
       "11. If you have a part-time job that is less than 15 hours per week, you must inform the agency.\n",
       "12. You must inform the agency if there are any changes to your income or the hours of your part-time job.\n",
       "13. You must inform the agency if you are a student or if there are any changes to your address or marital status."
      ],
      "text/plain": [
       "<IPython.core.display.Markdown object>"
      ]
     },
     "metadata": {},
     "output_type": "display_data"
    }
   ],
   "source": [
    "display_response(resp_dict[\"query_1\"][\"baseline\"])"
   ]
  },
  {
   "cell_type": "code",
   "execution_count": 11,
   "metadata": {},
   "outputs": [
    {
     "data": {
      "text/markdown": [
       "\n",
       "1. Familiarize yourself with the Meldepflicht, Mitwirkungspflichten, and Mithelfende/r Familienangehörige/r regulations.\n",
       "2. Understand the rules for Nebeneinkommen, Nebentätigkeit, and Private Altersversorgung.\n",
       "3. Be aware of the Pfändung, Pflegeunterstützungsgeld, and Pflegeversicherung regulations.\n",
       "4. Know the rules for Reise, Rentenversicherung, and Rente wegen Erwerbsminderung.\n",
       "5. Familiarize yourself with the Saisonkurzarbeitergeld, Schüler, and Selbständige regulations.\n",
       "6. Understand the rules for Sozialdaten, Sperrzeit, and Transferkurzarbeitergeld.\n",
       "7. Be aware of the Übergangsgeld, Umzug, and Unfallversicherung regulations.\n",
       "8. Know the rules for Veränderungsmitteilung, Verfügbarkeit, and Verletztengeld.\n",
       "9."
      ],
      "text/plain": [
       "<IPython.core.display.Markdown object>"
      ]
     },
     "metadata": {},
     "output_type": "display_data"
    }
   ],
   "source": [
    "display_response(resp_dict[\"query_1\"][\"minilm_v2\"])"
   ]
  },
  {
   "cell_type": "code",
   "execution_count": 12,
   "metadata": {},
   "outputs": [
    {
     "data": {
      "text/markdown": [
       "\n",
       "1. When ending an employment or training relationship, you must register as unemployed at least three months before the end date. If you find out less than three months before the end date, you must register within three days.\n",
       "2. Unemployment benefits will be paid from the day you register as unemployed online or in person at the Federal Employment Agency.\n",
       "3. To prevent or end unemployment, you are obligated to search for employment independently, take up a suitable job, or participate in a professional integration program.\n",
       "4. You must provide proof of your own efforts upon request from the Employment Agency."
      ],
      "text/plain": [
       "<IPython.core.display.Markdown object>"
      ]
     },
     "metadata": {},
     "output_type": "display_data"
    }
   ],
   "source": [
    "display_response(resp_dict[\"query_1\"][\"multilingual_v1\"])"
   ]
  },
  {
   "cell_type": "code",
   "execution_count": 13,
   "metadata": {},
   "outputs": [
    {
     "data": {
      "text/markdown": [
       "\n",
       "1. Make sure to provide complete and accurate information to the Agency for Employment.\n",
       "2. Notify the Agency for Employment of any changes in your circumstances.\n",
       "3. If you receive benefits to which you are not entitled, you must repay them.\n",
       "4. You must also reimburse the contributions to health and nursing care insurance, which is approximately 35% of the benefit.\n",
       "5. If you are leaving your job, you must notify the Agency for Employment of your job search.\n",
       "6. If you are unemployed, you must register with the Agency for Employment.\n",
       "7. You can register online with the Federal Employment Agency."
      ],
      "text/plain": [
       "<IPython.core.display.Markdown object>"
      ]
     },
     "metadata": {},
     "output_type": "display_data"
    }
   ],
   "source": [
    "display_response(resp_dict[\"query_1\"][\"bert_base_german\"])"
   ]
  },
  {
   "cell_type": "code",
   "execution_count": 14,
   "metadata": {},
   "outputs": [
    {
     "data": {
      "text/markdown": [
       "\n",
       "1. Notify your local employment agency of any new employment.\n",
       "2. Notify your local employment agency if you become ill or are unable to work.\n",
       "3. Notify your local employment agency if you receive maternity leave or similar benefits.\n",
       "4. Notify your local employment agency if you receive any type of pension.\n",
       "5. Notify your local employment agency if you take on a part-time job.\n",
       "6. Notify your local employment agency if you change your address.\n",
       "7. Notify your local employment agency if you get married or separate from your partner."
      ],
      "text/plain": [
       "<IPython.core.display.Markdown object>"
      ]
     },
     "metadata": {},
     "output_type": "display_data"
    }
   ],
   "source": [
    "display_response(resp_dict[\"query_1\"][\"german_semantic_sts_v2\"])"
   ]
  },
  {
   "cell_type": "code",
   "execution_count": 65,
   "metadata": {},
   "outputs": [],
   "source": [
    "# mod_name = \"PM-AI/bi-encoder_msmarco_bert-base_german\"\n",
    "# em_tmp = LangchainEmbedding(HuggingFaceEmbeddings(model_name=mod_name))"
   ]
  },
  {
   "cell_type": "code",
   "execution_count": 89,
   "metadata": {},
   "outputs": [
    {
     "data": {
      "text/plain": [
       "{'fc4cb656-6935-4c4e-8e22-caa4590baaaa': {'page_label': '6',\n",
       "  'file_name': 'merkblatt-fuer-arbeitslose_ba036520.pdf'},\n",
       " 'c85c6abb-6d7b-4529-a76a-3fe8ac2630a0': {'page_label': '65',\n",
       "  'file_name': 'merkblatt-fuer-arbeitslose_ba036520.pdf'}}"
      ]
     },
     "execution_count": 89,
     "metadata": {},
     "output_type": "execute_result"
    }
   ],
   "source": [
    "resp_dict[\"query_1\"][\"baseline\"].metadata"
   ]
  },
  {
   "cell_type": "code",
   "execution_count": 91,
   "metadata": {},
   "outputs": [
    {
     "data": {
      "text/plain": [
       "{'199da534-8a0c-401c-b0df-436af2154d21': {'page_label': '100',\n",
       "  'file_name': 'merkblatt-fuer-arbeitslose_ba036520.pdf'},\n",
       " '675b4290-32de-425a-8a05-c8bdb912ca4e': {'page_label': '99',\n",
       "  'file_name': 'merkblatt-fuer-arbeitslose_ba036520.pdf'}}"
      ]
     },
     "execution_count": 91,
     "metadata": {},
     "output_type": "execute_result"
    }
   ],
   "source": [
    "resp_dict[\"query_1\"][\"minilm_v2\"].metadata"
   ]
  },
  {
   "cell_type": "code",
   "execution_count": 90,
   "metadata": {},
   "outputs": [
    {
     "data": {
      "text/plain": [
       "{'4c143f8b-c281-4f01-b00b-6298a5ebb8c9': {'page_label': '9',\n",
       "  'file_name': 'merkblatt-fuer-arbeitslose_ba036520.pdf'},\n",
       " 'cf22f8c4-050f-465d-91b2-e00ebb2512db': {'page_label': '6',\n",
       "  'file_name': 'merkblatt-fuer-arbeitslose_ba036520.pdf'}}"
      ]
     },
     "execution_count": 90,
     "metadata": {},
     "output_type": "execute_result"
    }
   ],
   "source": [
    "resp_dict[\"query_1\"][\"multilingual_v1\"].metadata"
   ]
  },
  {
   "cell_type": "code",
   "execution_count": 88,
   "metadata": {},
   "outputs": [
    {
     "data": {
      "text/plain": [
       "{'e7c71a41-6342-4c6c-b940-ae73956fb4ab': {'page_label': '67',\n",
       "  'file_name': 'merkblatt-fuer-arbeitslose_ba036520.pdf'},\n",
       " '996c6e24-2838-494f-92da-1b07d60983ba': {'page_label': '12',\n",
       "  'file_name': 'merkblatt-fuer-arbeitslose_ba036520.pdf'}}"
      ]
     },
     "execution_count": 88,
     "metadata": {},
     "output_type": "execute_result"
    }
   ],
   "source": [
    "resp_dict[\"query_1\"][\"bert_base_german\"].metadata"
   ]
  },
  {
   "cell_type": "code",
   "execution_count": 15,
   "metadata": {},
   "outputs": [
    {
     "data": {
      "text/plain": [
       "{'fca8b094-4f0c-4d8e-b153-eae3d0847957': {'page_label': '11',\n",
       "  'file_name': 'merkblatt-fuer-arbeitslose_ba036520.pdf'},\n",
       " 'd3593aa0-14a5-449a-8574-9b51d6c8fdbc': {'page_label': '65',\n",
       "  'file_name': 'merkblatt-fuer-arbeitslose_ba036520.pdf'}}"
      ]
     },
     "execution_count": 15,
     "metadata": {},
     "output_type": "execute_result"
    }
   ],
   "source": [
    "resp_dict[\"query_1\"][\"german_semantic_sts_v2\"].metadata"
   ]
  }
 ],
 "metadata": {
  "kernelspec": {
   "display_name": "venv_DSR_project_ideas",
   "language": "python",
   "name": "python3"
  },
  "language_info": {
   "codemirror_mode": {
    "name": "ipython",
    "version": 3
   },
   "file_extension": ".py",
   "mimetype": "text/x-python",
   "name": "python",
   "nbconvert_exporter": "python",
   "pygments_lexer": "ipython3",
   "version": "3.10.12"
  },
  "orig_nbformat": 4
 },
 "nbformat": 4,
 "nbformat_minor": 2
}
