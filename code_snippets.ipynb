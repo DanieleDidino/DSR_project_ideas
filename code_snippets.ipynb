{
 "cells": [
  {
   "cell_type": "code",
   "execution_count": 1,
   "metadata": {},
   "outputs": [],
   "source": [
    "import os\n",
    "\n",
    "## creates the folder if it does not exists and excepts more files\n",
    "def save_uploadedfile2(uploaded_files):\n",
    "    if uploaded_files is not None:\n",
    "        folder_name = \"streamlit_upload\"\n",
    "        if not os.path.exists(folder_name):\n",
    "            os.makedirs(folder_name)\n",
    "\n",
    "        for uploaded_file in uploaded_files:\n",
    "            file_path = os.path.join(folder_name, uploaded_file.name)\n",
    "            with open(file_path, \"wb\") as file:\n",
    "                file.write(uploaded_file.getvalue())\n",
    "            st.success(f\"Saved File: {uploaded_file.name} to directory\")"
   ]
  },
  {
   "cell_type": "code",
   "execution_count": null,
   "metadata": {},
   "outputs": [],
   "source": [
    "# for single files\n",
    "def save_uploaded_file(uploaded_file):\n",
    "    if uploaded_file is not None:\n",
    "        folder_name = \"streamlit_upload\"\n",
    "        if not os.path.exists(folder_name):\n",
    "            os.makedirs(folder_name)\n",
    "\n",
    "        file_path = os.path.join(folder_name, uploaded_file.name)\n",
    "\n",
    "        with open(file_path, \"wb\") as file:\n",
    "            file.write(uploaded_file.getvalue())\n",
    "        st.success(f\"Saved File: {uploaded_file.name} to directory\")\n"
   ]
  }
 ],
 "metadata": {
  "kernelspec": {
   "display_name": "project",
   "language": "python",
   "name": "python3"
  },
  "language_info": {
   "codemirror_mode": {
    "name": "ipython",
    "version": 3
   },
   "file_extension": ".py",
   "mimetype": "text/x-python",
   "name": "python",
   "nbconvert_exporter": "python",
   "pygments_lexer": "ipython3",
   "version": "3.10.12"
  },
  "orig_nbformat": 4
 },
 "nbformat": 4,
 "nbformat_minor": 2
}
