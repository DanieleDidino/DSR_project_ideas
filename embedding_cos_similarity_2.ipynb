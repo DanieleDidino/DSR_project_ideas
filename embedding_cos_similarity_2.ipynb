{
  "cells": [
    {
      "cell_type": "markdown",
      "metadata": {},
      "source": [
        "# Playing with embeddings\n",
        "\n",
        "In this notebook, I create a small set of facts, create an embedding (based on the `text-embedding-ada-` model)\n",
        "and to use cosine similarity to evaluate the next text.\n",
        "\n",
        "The [openai-cookbook](https://github.com/openai/openai-cookbook/tree/main) has useful notebooks."
      ]
    },
    {
      "cell_type": "markdown",
      "metadata": {
        "id": "sZTCjNnR10nF"
      },
      "source": [
        "# Import & set params"
      ]
    },
    {
      "cell_type": "code",
      "execution_count": 5,
      "metadata": {
        "id": "bV0fj7JM1nQq"
      },
      "outputs": [],
      "source": [
        "from pathlib import Path\n",
        "import os\n",
        "import pandas as pd\n",
        "import tiktoken\n",
        "\n",
        "# nltk.download('punkt')  # Download necessary data for NLTK (if not already downloaded)\n",
        "import nltk\n",
        "from nltk.tokenize import sent_tokenize\n",
        "\n",
        "from openai.embeddings_utils import get_embedding, cosine_similarity\n",
        "import openai\n",
        "openai.api_key = \"sk-...\" # <-------- ENTER HERE THE API KEY"
      ]
    },
    {
      "cell_type": "markdown",
      "metadata": {},
      "source": [
        "I used this model:\n",
        "\n",
        "- Model name: `text-embedding-ada-002`\n",
        "- Tokenizer:`cl100k_base`\n",
        "- Max input tokens: `8191`\n",
        "- Output dimensions: `1536` (i.e., dimensions in the embedding)"
      ]
    },
    {
      "cell_type": "code",
      "execution_count": 2,
      "metadata": {},
      "outputs": [],
      "source": [
        "# embedding model parameters\n",
        "embedding_model = \"text-embedding-ada-002\"\n",
        "embedding_encoding = \"cl100k_base\"  # encoding for text-embedding-ada-002\n",
        "max_tokens = 8000  # max input token for text-embedding-ada-002 is 8191"
      ]
    },
    {
      "cell_type": "markdown",
      "metadata": {
        "id": "sr5jQpk11xIZ"
      },
      "source": [
        "# Create data\n",
        "\n",
        "The text is from [here](https://www.bamf.de/SharedDocs/Anlagen/EN/Forschung/Migrationsberichte/migrationsbericht-2020.html)"
      ]
    },
    {
      "cell_type": "code",
      "execution_count": 33,
      "metadata": {},
      "outputs": [],
      "source": [
        "file_path = Path(os.getcwd(), \"data\", \"text_example_migration_report.txt\")\n",
        "with open(file_path, \"r\") as file:\n",
        "    content = file.read()"
      ]
    },
    {
      "cell_type": "code",
      "execution_count": 38,
      "metadata": {},
      "outputs": [
        {
          "data": {
            "text/plain": [
              "'Net migration to Germany has been declining continuously since 2016. The outbreak of the COVID-19 pa'"
            ]
          },
          "execution_count": 38,
          "metadata": {},
          "output_type": "execute_result"
        }
      ],
      "source": [
        "content[:100]"
      ]
    },
    {
      "cell_type": "markdown",
      "metadata": {},
      "source": [
        "`sent_tokenize()` splits the text into sentences, taking care of handling cases where dots are not indicative of the end of a sentence due to abbreviations, initials, or decimal numbers.\n",
        "\n",
        "NOTE: **It is NOT 100% accurate!**"
      ]
    },
    {
      "cell_type": "code",
      "execution_count": 30,
      "metadata": {},
      "outputs": [],
      "source": [
        "sentences = sent_tokenize(content)"
      ]
    },
    {
      "cell_type": "code",
      "execution_count": 31,
      "metadata": {},
      "outputs": [
        {
          "name": "stdout",
          "output_type": "stream",
          "text": [
            "Net migration to Germany has been declining continuously since 2016.\n",
            "The outbreak of the COVID-19 pandemic has further intensified this trend.\n",
            "As a result of the global travel restrictions that were caused by the pandemic, the decline in migration was particularly noticeable from March 2020 onwards.\n",
            "In 2020, a total of 1,186,702 arrivals and 966,451 departures were recorded, so that immigration to Germany decreased by 23.9 percent, and emigration fell by 21.5 percent in comparison to 2019.\n",
            "These developments culminated in net migration of +220,251 persons.\n",
            "This was a significantly lower value than in 2019 (+327,060 persons).\n",
            "More or less pronounced declines were therefore also shown in the individual forms of migration.\n",
            "Migration to and from Germany continues to be especially characterised by arrivals from and departures to other European countries.\n",
            "This meant that 69.1 percent of all immigrants came to Germany from another European country in 2020 (66.4 percent in 2019), 54.6 percent of them from EU Member States (incl.\n",
            "the United Kingdom).\n",
            "The importance of intra-European migration is also reflected in the number of departures: Europe was the main destination region here too.\n",
            "About two-thirds of those emigrating moved from Germany to another European country in 2020 (67.4 percent; 67.2 percent in 2019); 55.7 percent migrated to other EU Member States including the United Kingdom (56.0 percent in 2019).\n",
            "The number of asylum applications reflects the ongoing decline in forced migration: The number of first-time applications fell from 722,370 to 142,509 in the period 2016 to 2019 (-80.3 per cent).\n",
            "The declining trend continued in 2020 due to the pandemic.\n",
            "102,581 people applied for asylum for the first time, this being 28.0 percent fewer than in 2019.\n",
            "The number of asylum applicants thus fell below the 2013 level (109,580 first-time applications).\n",
            "25.9 percent of asylum applicants in 2020 were children under the age of one who were born in Germany (26,520 asylum applications), and their share increased again in comparison to 2019 (22.0 percent).\n",
            "This brought the number of cross-border first-time asylum applications in 2020 to 76,061 (2019: 111,094).\n"
          ]
        }
      ],
      "source": [
        "for sentence in sentences:\n",
        "    print(sentence)"
      ]
    },
    {
      "cell_type": "markdown",
      "metadata": {
        "id": "Ku7RQFtC2AJZ"
      },
      "source": [
        "# Create embeddings"
      ]
    },
    {
      "cell_type": "code",
      "execution_count": 44,
      "metadata": {},
      "outputs": [],
      "source": [
        "sentences_embedding = openai.Embedding.create(\n",
        "    input=sentences,\n",
        "    model=embedding_model)"
      ]
    },
    {
      "cell_type": "code",
      "execution_count": 45,
      "metadata": {},
      "outputs": [
        {
          "data": {
            "text/plain": [
              "dict_keys(['object', 'data', 'model', 'usage'])"
            ]
          },
          "execution_count": 45,
          "metadata": {},
          "output_type": "execute_result"
        }
      ],
      "source": [
        "sentences_embedding.keys()"
      ]
    },
    {
      "cell_type": "code",
      "execution_count": 47,
      "metadata": {},
      "outputs": [
        {
          "name": "stdout",
          "output_type": "stream",
          "text": [
            "Object: list\n",
            "\n",
            "Model: text-embedding-ada-002-v2\n",
            "\n",
            "Usage:\n",
            "{\n",
            "  \"prompt_tokens\": 498,\n",
            "  \"total_tokens\": 498\n",
            "}\n"
          ]
        }
      ],
      "source": [
        "print(f'Object: {sentences_embedding[\"object\"]}')\n",
        "print(f'\\nModel: {sentences_embedding[\"model\"]}')\n",
        "print(f'\\nUsage:\\n{sentences_embedding[\"usage\"]}')"
      ]
    },
    {
      "cell_type": "markdown",
      "metadata": {},
      "source": [
        "From the embedding model we get `N` vectors, where `N` is the number of sentences."
      ]
    },
    {
      "cell_type": "code",
      "execution_count": 49,
      "metadata": {},
      "outputs": [
        {
          "data": {
            "text/plain": [
              "18"
            ]
          },
          "execution_count": 49,
          "metadata": {},
          "output_type": "execute_result"
        }
      ],
      "source": [
        "len(sentences)"
      ]
    },
    {
      "cell_type": "code",
      "execution_count": 48,
      "metadata": {},
      "outputs": [
        {
          "data": {
            "text/plain": [
              "18"
            ]
          },
          "execution_count": 48,
          "metadata": {},
          "output_type": "execute_result"
        }
      ],
      "source": [
        "len(sentences_embedding[\"data\"])"
      ]
    },
    {
      "cell_type": "markdown",
      "metadata": {},
      "source": [
        "All vectors have the same length (i.e., the output dimensions: `1536` )"
      ]
    },
    {
      "cell_type": "code",
      "execution_count": 51,
      "metadata": {},
      "outputs": [
        {
          "name": "stdout",
          "output_type": "stream",
          "text": [
            "Vector 0 - 1536\n",
            "Vector 1 - 1536\n",
            "Vector 2 - 1536\n",
            "Vector 3 - 1536\n",
            "Vector 4 - 1536\n",
            "Vector 5 - 1536\n",
            "Vector 6 - 1536\n",
            "Vector 7 - 1536\n",
            "Vector 8 - 1536\n",
            "Vector 9 - 1536\n"
          ]
        }
      ],
      "source": [
        "first_N_sentences = 10 # N=10\n",
        "\n",
        "for i in range(first_N_sentences):\n",
        "    print(f'Vector {i} - {len(sentences_embedding[\"data\"][i][\"embedding\"])}')"
      ]
    },
    {
      "cell_type": "markdown",
      "metadata": {},
      "source": [
        "First 10 dimensions of the first vector"
      ]
    },
    {
      "cell_type": "code",
      "execution_count": 52,
      "metadata": {},
      "outputs": [
        {
          "data": {
            "text/plain": [
              "[-0.019956665113568306,\n",
              " -0.02068890631198883,\n",
              " 0.02489618770778179,\n",
              " -0.01648162305355072,\n",
              " -0.03591703251004219,\n",
              " 0.005525935906916857,\n",
              " -0.03815098851919174,\n",
              " 0.006354360841214657,\n",
              " -0.0028250222094357014,\n",
              " -0.026435134932398796]"
            ]
          },
          "execution_count": 52,
          "metadata": {},
          "output_type": "execute_result"
        }
      ],
      "source": [
        "sentences_embedding[\"data\"][0][\"embedding\"][:10]"
      ]
    },
    {
      "cell_type": "markdown",
      "metadata": {},
      "source": [
        "Create a DataFrame with the sentences and the embeddings"
      ]
    },
    {
      "cell_type": "code",
      "execution_count": 57,
      "metadata": {},
      "outputs": [
        {
          "data": {
            "text/html": [
              "<div>\n",
              "<style scoped>\n",
              "    .dataframe tbody tr th:only-of-type {\n",
              "        vertical-align: middle;\n",
              "    }\n",
              "\n",
              "    .dataframe tbody tr th {\n",
              "        vertical-align: top;\n",
              "    }\n",
              "\n",
              "    .dataframe thead th {\n",
              "        text-align: right;\n",
              "    }\n",
              "</style>\n",
              "<table border=\"1\" class=\"dataframe\">\n",
              "  <thead>\n",
              "    <tr style=\"text-align: right;\">\n",
              "      <th></th>\n",
              "      <th>Sentences</th>\n",
              "    </tr>\n",
              "  </thead>\n",
              "  <tbody>\n",
              "    <tr>\n",
              "      <th>0</th>\n",
              "      <td>Net migration to Germany has been declining co...</td>\n",
              "    </tr>\n",
              "    <tr>\n",
              "      <th>1</th>\n",
              "      <td>The outbreak of the COVID-19 pandemic has furt...</td>\n",
              "    </tr>\n",
              "    <tr>\n",
              "      <th>2</th>\n",
              "      <td>As a result of the global travel restrictions ...</td>\n",
              "    </tr>\n",
              "    <tr>\n",
              "      <th>3</th>\n",
              "      <td>In 2020, a total of 1,186,702 arrivals and 966...</td>\n",
              "    </tr>\n",
              "    <tr>\n",
              "      <th>4</th>\n",
              "      <td>These developments culminated in net migration...</td>\n",
              "    </tr>\n",
              "  </tbody>\n",
              "</table>\n",
              "</div>"
            ],
            "text/plain": [
              "                                           Sentences\n",
              "0  Net migration to Germany has been declining co...\n",
              "1  The outbreak of the COVID-19 pandemic has furt...\n",
              "2  As a result of the global travel restrictions ...\n",
              "3  In 2020, a total of 1,186,702 arrivals and 966...\n",
              "4  These developments culminated in net migration..."
            ]
          },
          "execution_count": 57,
          "metadata": {},
          "output_type": "execute_result"
        }
      ],
      "source": [
        "df = pd.DataFrame(sentences, columns=[\"Sentences\"])\n",
        "df.head(5)"
      ]
    },
    {
      "cell_type": "code",
      "execution_count": 60,
      "metadata": {},
      "outputs": [
        {
          "data": {
            "text/plain": [
              "18"
            ]
          },
          "execution_count": 60,
          "metadata": {},
          "output_type": "execute_result"
        }
      ],
      "source": [
        "embeddings_to_df = []\n",
        "for i in range(len(sentences_embedding[\"data\"])):\n",
        "    embeddings_to_df.append(sentences_embedding[\"data\"][i][\"embedding\"])\n",
        "\n",
        "len(embeddings_to_df)"
      ]
    },
    {
      "cell_type": "code",
      "execution_count": 62,
      "metadata": {},
      "outputs": [],
      "source": [
        "df[\"embedding\"] = embeddings_to_df"
      ]
    },
    {
      "cell_type": "code",
      "execution_count": 64,
      "metadata": {},
      "outputs": [
        {
          "data": {
            "text/html": [
              "<div>\n",
              "<style scoped>\n",
              "    .dataframe tbody tr th:only-of-type {\n",
              "        vertical-align: middle;\n",
              "    }\n",
              "\n",
              "    .dataframe tbody tr th {\n",
              "        vertical-align: top;\n",
              "    }\n",
              "\n",
              "    .dataframe thead th {\n",
              "        text-align: right;\n",
              "    }\n",
              "</style>\n",
              "<table border=\"1\" class=\"dataframe\">\n",
              "  <thead>\n",
              "    <tr style=\"text-align: right;\">\n",
              "      <th></th>\n",
              "      <th>Sentences</th>\n",
              "      <th>embedding</th>\n",
              "    </tr>\n",
              "  </thead>\n",
              "  <tbody>\n",
              "    <tr>\n",
              "      <th>0</th>\n",
              "      <td>Net migration to Germany has been declining co...</td>\n",
              "      <td>[-0.019956665113568306, -0.02068890631198883, ...</td>\n",
              "    </tr>\n",
              "    <tr>\n",
              "      <th>1</th>\n",
              "      <td>The outbreak of the COVID-19 pandemic has furt...</td>\n",
              "      <td>[-0.007713058032095432, -0.020636092871427536,...</td>\n",
              "    </tr>\n",
              "    <tr>\n",
              "      <th>2</th>\n",
              "      <td>As a result of the global travel restrictions ...</td>\n",
              "      <td>[-0.02250930666923523, -0.02766112983226776, 0...</td>\n",
              "    </tr>\n",
              "    <tr>\n",
              "      <th>3</th>\n",
              "      <td>In 2020, a total of 1,186,702 arrivals and 966...</td>\n",
              "      <td>[0.00510792713612318, -0.02350330352783203, 0....</td>\n",
              "    </tr>\n",
              "    <tr>\n",
              "      <th>4</th>\n",
              "      <td>These developments culminated in net migration...</td>\n",
              "      <td>[-0.006019430700689554, -0.0071343788877129555...</td>\n",
              "    </tr>\n",
              "  </tbody>\n",
              "</table>\n",
              "</div>"
            ],
            "text/plain": [
              "                                           Sentences  \\\n",
              "0  Net migration to Germany has been declining co...   \n",
              "1  The outbreak of the COVID-19 pandemic has furt...   \n",
              "2  As a result of the global travel restrictions ...   \n",
              "3  In 2020, a total of 1,186,702 arrivals and 966...   \n",
              "4  These developments culminated in net migration...   \n",
              "\n",
              "                                           embedding  \n",
              "0  [-0.019956665113568306, -0.02068890631198883, ...  \n",
              "1  [-0.007713058032095432, -0.020636092871427536,...  \n",
              "2  [-0.02250930666923523, -0.02766112983226776, 0...  \n",
              "3  [0.00510792713612318, -0.02350330352783203, 0....  \n",
              "4  [-0.006019430700689554, -0.0071343788877129555...  "
            ]
          },
          "execution_count": 64,
          "metadata": {},
          "output_type": "execute_result"
        }
      ],
      "source": [
        "df.head(5)"
      ]
    },
    {
      "cell_type": "markdown",
      "metadata": {},
      "source": [
        "# Search for similarity"
      ]
    },
    {
      "cell_type": "code",
      "execution_count": 65,
      "metadata": {},
      "outputs": [],
      "source": [
        "def get_embedding(text, model):\n",
        "   \"\"\"\n",
        "   Return an embedding from a text given a model\n",
        "   \"\"\"\n",
        "   text = text.replace(\"\\n\", \" \")\n",
        "   return openai.Embedding.create(input = [text], model=model)['data'][0]['embedding']\n",
        "\n",
        "\n",
        "def search_reviews(df: pd.DataFrame, product_description: str, n: int = 3):\n",
        "   \"\"\"\n",
        "   Calculate the cosine similarity between a database of reviews and a product description.\n",
        "\n",
        "   Args:\n",
        "       df (DataFrame): A pandas dataframe with the embedding of the review in the column \"embedding\".\n",
        "       product_description (string): product description to evaluate with cosine similarity.\n",
        "       n (int): number of most similar results to print.\n",
        "    \n",
        "    Returns:\n",
        "        DataFrame: The dataframe df with an additional column (i.e., \"similarities\") with the cosine similarities.\n",
        "    \"\"\"\n",
        "   embedding = get_embedding(product_description, model=embedding_model)\n",
        "   df['similarities'] = df.embedding.apply(lambda x: cosine_similarity(x, embedding))\n",
        "   res = df.sort_values('similarities', ascending=False).head(n)\n",
        "   return res"
      ]
    },
    {
      "cell_type": "markdown",
      "metadata": {},
      "source": [
        "# Evaluate similarity"
      ]
    },
    {
      "cell_type": "code",
      "execution_count": 83,
      "metadata": {},
      "outputs": [],
      "source": [
        "def return_more_similar_sentences(text_to_evaluate: str, n: int = 3):\n",
        "    \"\"\"\n",
        "   Return the \"n\" sentences more similar (in cosine similarity) to the \"text_to_evaluate\".\n",
        "\n",
        "   Args:\n",
        "       text_to_evaluate (string): Text to evaluate against the embeddings in the dataframe \"df\".\n",
        "       n (int): number of most similar results to print.\n",
        "    \n",
        "    Returns:\n",
        "        Print the n sentences more similar to \"text_to_evaluate\" and their similarity scores.\n",
        "    \"\"\"\n",
        "    res = search_reviews(df, text_to_evaluate, n=n)\n",
        "\n",
        "    for i in range(res.shape[0]):\n",
        "        print(\"=\"*70)\n",
        "        print(f'Similarity: {res.iloc[i].loc[\"similarities\"]:.3f}')\n",
        "        print(f'Sentence:\\n{res.iloc[i].loc[\"Sentences\"]}')"
      ]
    },
    {
      "cell_type": "code",
      "execution_count": 84,
      "metadata": {},
      "outputs": [
        {
          "name": "stdout",
          "output_type": "stream",
          "text": [
            "======================================================================\n",
            "Similarity: 0.869\n",
            "Sentence:\n",
            "Net migration to Germany has been declining continuously since 2016.\n",
            "======================================================================\n",
            "Similarity: 0.852\n",
            "Sentence:\n",
            "Migration to and from Germany continues to be especially characterised by arrivals from and departures to other European countries.\n",
            "======================================================================\n",
            "Similarity: 0.849\n",
            "Sentence:\n",
            "This meant that 69.1 percent of all immigrants came to Germany from another European country in 2020 (66.4 percent in 2019), 54.6 percent of them from EU Member States (incl.\n"
          ]
        }
      ],
      "source": [
        "return_more_similar_sentences('There are too many immigrants in Germany', 3)"
      ]
    },
    {
      "cell_type": "code",
      "execution_count": 86,
      "metadata": {},
      "outputs": [
        {
          "name": "stdout",
          "output_type": "stream",
          "text": [
            "======================================================================\n",
            "Similarity: 0.801\n",
            "Sentence:\n",
            "These developments culminated in net migration of +220,251 persons.\n",
            "======================================================================\n",
            "Similarity: 0.792\n",
            "Sentence:\n",
            "Net migration to Germany has been declining continuously since 2016.\n",
            "======================================================================\n",
            "Similarity: 0.790\n",
            "Sentence:\n",
            "As a result of the global travel restrictions that were caused by the pandemic, the decline in migration was particularly noticeable from March 2020 onwards.\n"
          ]
        }
      ],
      "source": [
        "return_more_similar_sentences('Immigrants are taking our jobs', 3)"
      ]
    },
    {
      "cell_type": "code",
      "execution_count": 87,
      "metadata": {},
      "outputs": [
        {
          "name": "stdout",
          "output_type": "stream",
          "text": [
            "======================================================================\n",
            "Similarity: 0.861\n",
            "Sentence:\n",
            "These developments culminated in net migration of +220,251 persons.\n",
            "======================================================================\n",
            "Similarity: 0.844\n",
            "Sentence:\n",
            "The number of asylum applications reflects the ongoing decline in forced migration: The number of first-time applications fell from 722,370 to 142,509 in the period 2016 to 2019 (-80.3 per cent).\n",
            "======================================================================\n",
            "Similarity: 0.844\n",
            "Sentence:\n",
            "Migration to and from Germany continues to be especially characterised by arrivals from and departures to other European countries.\n"
          ]
        }
      ],
      "source": [
        "return_more_similar_sentences('The number of immigrants is increasing', 3)"
      ]
    },
    {
      "cell_type": "code",
      "execution_count": 88,
      "metadata": {},
      "outputs": [
        {
          "name": "stdout",
          "output_type": "stream",
          "text": [
            "======================================================================\n",
            "Similarity: 0.833\n",
            "Sentence:\n",
            "This meant that 69.1 percent of all immigrants came to Germany from another European country in 2020 (66.4 percent in 2019), 54.6 percent of them from EU Member States (incl.\n",
            "======================================================================\n",
            "Similarity: 0.825\n",
            "Sentence:\n",
            "Migration to and from Germany continues to be especially characterised by arrivals from and departures to other European countries.\n",
            "======================================================================\n",
            "Similarity: 0.824\n",
            "Sentence:\n",
            "About two-thirds of those emigrating moved from Germany to another European country in 2020 (67.4 percent; 67.2 percent in 2019); 55.7 percent migrated to other EU Member States including the United Kingdom (56.0 percent in 2019).\n"
          ]
        }
      ],
      "source": [
        "return_more_similar_sentences('Most of immigrants come from Ukraine', 3)"
      ]
    },
    {
      "cell_type": "code",
      "execution_count": 90,
      "metadata": {},
      "outputs": [
        {
          "name": "stdout",
          "output_type": "stream",
          "text": [
            "======================================================================\n",
            "Similarity: 0.849\n",
            "Sentence:\n",
            "This meant that 69.1 percent of all immigrants came to Germany from another European country in 2020 (66.4 percent in 2019), 54.6 percent of them from EU Member States (incl.\n",
            "======================================================================\n",
            "Similarity: 0.842\n",
            "Sentence:\n",
            "These developments culminated in net migration of +220,251 persons.\n",
            "======================================================================\n",
            "Similarity: 0.832\n",
            "Sentence:\n",
            "102,581 people applied for asylum for the first time, this being 28.0 percent fewer than in 2019.\n"
          ]
        }
      ],
      "source": [
        "return_more_similar_sentences('The percentage of immigrant is higher than ever', 3)"
      ]
    },
    {
      "cell_type": "code",
      "execution_count": 91,
      "metadata": {},
      "outputs": [
        {
          "name": "stdout",
          "output_type": "stream",
          "text": [
            "======================================================================\n",
            "Similarity: 0.866\n",
            "Sentence:\n",
            "This brought the number of cross-border first-time asylum applications in 2020 to 76,061 (2019: 111,094).\n",
            "======================================================================\n",
            "Similarity: 0.858\n",
            "Sentence:\n",
            "The number of asylum applicants thus fell below the 2013 level (109,580 first-time applications).\n",
            "======================================================================\n",
            "Similarity: 0.856\n",
            "Sentence:\n",
            "102,581 people applied for asylum for the first time, this being 28.0 percent fewer than in 2019.\n"
          ]
        }
      ],
      "source": [
        "return_more_similar_sentences('The number of immigrant is higher now than in 2019', 3)"
      ]
    }
  ],
  "metadata": {
    "colab": {
      "provenance": []
    },
    "kernelspec": {
      "display_name": "Python 3",
      "name": "python3"
    },
    "language_info": {
      "codemirror_mode": {
        "name": "ipython",
        "version": 3
      },
      "file_extension": ".py",
      "mimetype": "text/x-python",
      "name": "python",
      "nbconvert_exporter": "python",
      "pygments_lexer": "ipython3",
      "version": "3.10.12"
    }
  },
  "nbformat": 4,
  "nbformat_minor": 0
}
