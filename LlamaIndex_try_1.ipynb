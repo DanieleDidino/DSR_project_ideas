{
 "cells": [
  {
   "cell_type": "markdown",
   "metadata": {},
   "source": [
    "Reference: [LlamaIndex overview & use cases | LangChain integration](https://www.youtube.com/watch?v=cNMYeW2mpBs) ([Colab notebook](https://colab.research.google.com/drive/19xBNmejiJUhWIy71bWFnlL1H-O-hjTbW?usp=sharing#scrollTo=z7U9dbyLTFOD)) ([GitHUb](https://github.com/jerryjliu/llama_index/tree/main))"
   ]
  },
  {
   "cell_type": "code",
   "execution_count": 1,
   "metadata": {},
   "outputs": [],
   "source": [
    "import openai\n",
    "import environ\n",
    "from llama_index import SimpleDirectoryReader\n",
    "from llama_index import VectorStoreIndex\n",
    "from llama_index.tools import QueryEngineTool, ToolMetadata\n",
    "from llama_index.query_engine import SubQuestionQueryEngine\n",
    "from llama_hub.wikipedia.base import WikipediaReader\n",
    "import wikipedia\n",
    "\n",
    "import nest_asyncio\n",
    "nest_asyncio.apply()"
   ]
  },
  {
   "cell_type": "code",
   "execution_count": 2,
   "metadata": {},
   "outputs": [
    {
     "name": "stderr",
     "output_type": "stream",
     "text": [
      "/home/daniele/Desktop/Projects/DSR_project_ideas/venv_DSR_project_ideas/lib/python3.10/site-packages/environ/environ.py:639: UserWarning: /tmp/ipykernel_8041/.env doesn't exist - if you're not configuring your environment separately, create one.\n",
      "  warnings.warn(\n"
     ]
    }
   ],
   "source": [
    "env = environ.Env()\n",
    "environ.Env.read_env()\n",
    "API_KEY = env('OPENAI_API_KEY')\n",
    "openai.api_key = API_KEY"
   ]
  },
  {
   "cell_type": "markdown",
   "metadata": {},
   "source": [
    "# Data Connectors (Llama Hub)\n",
    "\n",
    "\n",
    "see [Llama Hub](https://llamahub.ai/)"
   ]
  },
  {
   "cell_type": "code",
   "execution_count": 3,
   "metadata": {},
   "outputs": [
    {
     "data": {
      "text/plain": [
       "['Immigration to Germany',\n",
       " 'British migration to Germany',\n",
       " 'Migration from Ghana to Germany',\n",
       " 'Migration Period',\n",
       " 'Foreign-born population of the United Kingdom',\n",
       " 'Germany',\n",
       " 'Romani people in Germany',\n",
       " 'Islam in Germany',\n",
       " 'Germans in the United Kingdom',\n",
       " 'Human migration']"
      ]
     },
     "execution_count": 3,
     "metadata": {},
     "output_type": "execute_result"
    }
   ],
   "source": [
    "list_wiki_pages = wikipedia.search(\"Migration to Germany\")\n",
    "list_wiki_pages"
   ]
  },
  {
   "cell_type": "code",
   "execution_count": 4,
   "metadata": {},
   "outputs": [],
   "source": [
    "def select_pages(list_wiki_pages: list) -> list:\n",
    "    \"\"\"\n",
    "    TODO: create a function to select a subset of pages are contain information relevant for the topic\n",
    "\n",
    "    Args:\n",
    "        list_wike_pages (list): A DataFrame with the list of databases (Title, Code, etc.).\n",
    "\n",
    "    Returns:\n",
    "        List of a subset of wikipedia pages that are relevant for the topic.\n",
    "    \"\"\"\n",
    "    subset_list_wiki_pages = list_wiki_pages\n",
    "    return subset_list_wiki_pages"
   ]
  },
  {
   "cell_type": "code",
   "execution_count": 5,
   "metadata": {},
   "outputs": [],
   "source": [
    "subset_list_wiki_pages = select_pages(list_wiki_pages)"
   ]
  },
  {
   "cell_type": "code",
   "execution_count": 6,
   "metadata": {},
   "outputs": [],
   "source": [
    "loader = WikipediaReader()\n",
    "documents = loader.load_data(pages=list_wiki_pages)"
   ]
  },
  {
   "cell_type": "markdown",
   "metadata": {},
   "source": [
    "# Basic Query"
   ]
  },
  {
   "cell_type": "code",
   "execution_count": 7,
   "metadata": {},
   "outputs": [],
   "source": [
    "# Build an index for the Document objects.\n",
    "index = VectorStoreIndex.from_documents(documents)"
   ]
  },
  {
   "cell_type": "code",
   "execution_count": 8,
   "metadata": {},
   "outputs": [],
   "source": [
    "# query an index\n",
    "query_engine = index.as_query_engine()\n",
    "response = query_engine.query(\"How many move to Germany each year?\")"
   ]
  },
  {
   "cell_type": "code",
   "execution_count": 9,
   "metadata": {},
   "outputs": [
    {
     "name": "stdout",
     "output_type": "stream",
     "text": [
      "Over 1 million people move to Germany each year since 2013.\n"
     ]
    }
   ],
   "source": [
    "print(response)"
   ]
  },
  {
   "cell_type": "markdown",
   "metadata": {},
   "source": [
    "# Query Documents"
   ]
  },
  {
   "cell_type": "code",
   "execution_count": 10,
   "metadata": {},
   "outputs": [],
   "source": [
    "doc_1 = SimpleDirectoryReader(input_files=[\"docs/KS-09-23-223-EN-N.pdf\"]).load_data()\n",
    "# doc_1"
   ]
  },
  {
   "cell_type": "code",
   "execution_count": 11,
   "metadata": {},
   "outputs": [],
   "source": [
    "doc_1_index = VectorStoreIndex.from_documents(doc_1)"
   ]
  },
  {
   "cell_type": "code",
   "execution_count": 12,
   "metadata": {},
   "outputs": [],
   "source": [
    "doc_1_engine = doc_1_index.as_query_engine(similarity_top_k=3)"
   ]
  },
  {
   "cell_type": "code",
   "execution_count": 13,
   "metadata": {},
   "outputs": [],
   "source": [
    "query_engine_tools = [\n",
    "    QueryEngineTool(\n",
    "        query_engine=doc_1_engine,\n",
    "        metadata=ToolMetadata(name='report_2022', description='Annual Report on Migration and Asylum 2022')\n",
    "    ),\n",
    "]"
   ]
  },
  {
   "cell_type": "code",
   "execution_count": 14,
   "metadata": {},
   "outputs": [],
   "source": [
    "# Given a query, this query engine \"SubQuestionQueryEngine\" will generate a “query plan”\n",
    "# containing sub-queries against sub-documents before synthesizing the final answer.\n",
    "s_engine = SubQuestionQueryEngine.from_defaults(query_engine_tools=query_engine_tools)"
   ]
  },
  {
   "cell_type": "code",
   "execution_count": 15,
   "metadata": {},
   "outputs": [
    {
     "name": "stdout",
     "output_type": "stream",
     "text": [
      "Generated 1 sub questions.\n",
      "\u001b[36;1m\u001b[1;3m[report_2022] Q: How many people received residence permits according to the Annual Report on Migration and Asylum 2022?\n",
      "\u001b[0m\u001b[36;1m\u001b[1;3m[report_2022] A: Based on the Annual Report on Migration and Asylum 2022, the number of people who received residence permits is not explicitly mentioned in the provided context information.\n",
      "\u001b[0m"
     ]
    }
   ],
   "source": [
    "response = s_engine.query(\"How many people received residence permits?\")"
   ]
  },
  {
   "cell_type": "markdown",
   "metadata": {},
   "source": [
    "# Hypothetical document embeddings (HyDE)"
   ]
  },
  {
   "cell_type": "code",
   "execution_count": 24,
   "metadata": {},
   "outputs": [],
   "source": [
    "from llama_index.indices.query.query_transform import HyDEQueryTransform\n",
    "from llama_index.query_engine.transform_query_engine import TransformQueryEngine\n",
    "from IPython.display import Markdown, display"
   ]
  },
  {
   "cell_type": "code",
   "execution_count": 16,
   "metadata": {},
   "outputs": [],
   "source": [
    "doc_2 = SimpleDirectoryReader(input_dir='docs').load_data()"
   ]
  },
  {
   "cell_type": "code",
   "execution_count": 17,
   "metadata": {},
   "outputs": [],
   "source": [
    "doc_2_index = VectorStoreIndex.from_documents(doc_2)"
   ]
  },
  {
   "cell_type": "code",
   "execution_count": 18,
   "metadata": {},
   "outputs": [],
   "source": [
    "query_str = \"What is the source of the data?\""
   ]
  },
  {
   "cell_type": "code",
   "execution_count": 33,
   "metadata": {},
   "outputs": [
    {
     "name": "stdout",
     "output_type": "stream",
     "text": [
      "The source of the data is Eurostat.\n"
     ]
    }
   ],
   "source": [
    "#Now, we use HyDEQueryTransform to generate a hypothetical document and use it for embedding lookup.\n",
    "hyde = HyDEQueryTransform(include_original=True)\n",
    "query_engine = doc_2_index.as_query_engine()\n",
    "hyde_query_engine = TransformQueryEngine(query_engine, hyde)\n",
    "response = hyde_query_engine.query(query_str)"
   ]
  },
  {
   "cell_type": "code",
   "execution_count": 38,
   "metadata": {},
   "outputs": [
    {
     "name": "stdout",
     "output_type": "stream",
     "text": [
      "Prompt:\n",
      "What is the source of the data?\n",
      "\n",
      "Response:\n",
      "The source of the data is Eurostat.\n"
     ]
    }
   ],
   "source": [
    "print(f\"Prompt:\\n{query_str}\\n\\nResponse:\\n{response}\")"
   ]
  },
  {
   "cell_type": "code",
   "execution_count": 39,
   "metadata": {},
   "outputs": [],
   "source": [
    "#In this example, HyDE improves output quality significantly, by hallucinating\n",
    "# accurately, and thus improving the embedding quality, and final output.\n",
    "query_bundle = hyde(query_str)\n",
    "hyde_doc = query_bundle.embedding_strs[0]"
   ]
  },
  {
   "cell_type": "code",
   "execution_count": 58,
   "metadata": {},
   "outputs": [
    {
     "name": "stdout",
     "output_type": "stream",
     "text": [
      "Prompt:\n",
      "What is the source of the data?\n",
      "\n",
      "Response:\n"
     ]
    },
    {
     "data": {
      "text/markdown": [
       "The source of the data refers to the origin or the specific place from where the information or statistics are obtained. It is crucial to identify the source of the data as it helps in determining the reliability, credibility, and accuracy of the information presented. The source can vary depending on the context and the type of data being referred to.\n",
       "\n",
       "In the case of scientific research or academic studies, the source of the data is often primary research conducted by the researchers themselves. This involves collecting data through experiments, surveys, observations, or interviews. The researchers ensure that the data is collected in a systematic and controlled manner to minimize biases and errors.\n",
       "\n",
       "In other instances, the source of the data can be secondary research, which involves using existing data collected by others. This can include data from government agencies, research institutions, or publicly available databases. Secondary data is often used when primary data collection is not feasible or when there is a need to analyze large-scale trends or patterns.\n",
       "\n",
       "Furthermore, the source of the data can also be derived from various sources such as official records, historical documents, financial reports, market research, social media platforms, or even personal experiences. It is essential to critically evaluate the source of the data to ensure its reliability and relevance to the topic or research question at hand.\n",
       "\n",
       "In summary, the source of the data is the origin or specific place from where the information or statistics are obtained. It can be primary research conducted by the researchers themselves, secondary research using existing data, or derived from various sources such as official records or personal experiences. Identifying the source of the data is crucial in assessing its credibility and accuracy."
      ],
      "text/plain": [
       "<IPython.core.display.Markdown object>"
      ]
     },
     "metadata": {},
     "output_type": "display_data"
    }
   ],
   "source": [
    "print(f\"Prompt:\\n{query_str}\\n\\nResponse:\")\n",
    "display(Markdown(f\"{hyde_doc}\"))"
   ]
  }
 ],
 "metadata": {
  "kernelspec": {
   "display_name": "venv_porfolio_project",
   "language": "python",
   "name": "python3"
  },
  "language_info": {
   "codemirror_mode": {
    "name": "ipython",
    "version": 3
   },
   "file_extension": ".py",
   "mimetype": "text/x-python",
   "name": "python",
   "nbconvert_exporter": "python",
   "pygments_lexer": "ipython3",
   "version": "3.10.12"
  },
  "orig_nbformat": 4
 },
 "nbformat": 4,
 "nbformat_minor": 2
}
