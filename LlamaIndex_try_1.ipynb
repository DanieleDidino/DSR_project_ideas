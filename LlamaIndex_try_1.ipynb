{
 "cells": [
  {
   "cell_type": "markdown",
   "metadata": {},
   "source": [
    "References:\n",
    "\n",
    "- [LlamaIndex overview & use cases | LangChain integration](https://www.youtube.com/watch?v=cNMYeW2mpBs) ([Colab notebook](https://colab.research.google.com/drive/19xBNmejiJUhWIy71bWFnlL1H-O-hjTbW?usp=sharing#scrollTo=z7U9dbyLTFOD)) ([GitHUb](https://github.com/jerryjliu/llama_index/tree/main))"
   ]
  },
  {
   "cell_type": "code",
   "execution_count": 1,
   "metadata": {},
   "outputs": [],
   "source": [
    "import openai\n",
    "import environ\n",
    "from llama_index import SimpleDirectoryReader\n",
    "from llama_index import VectorStoreIndex\n",
    "from llama_index.tools import QueryEngineTool, ToolMetadata\n",
    "from llama_index.query_engine import SubQuestionQueryEngine\n",
    "from llama_hub.wikipedia.base import WikipediaReader\n",
    "import wikipedia\n",
    "\n",
    "import nest_asyncio\n",
    "nest_asyncio.apply()"
   ]
  },
  {
   "cell_type": "code",
   "execution_count": 2,
   "metadata": {},
   "outputs": [
    {
     "name": "stderr",
     "output_type": "stream",
     "text": [
      "/home/daniele/Desktop/Projects/DSR_project_ideas/venv_DSR_project_ideas/lib/python3.10/site-packages/environ/environ.py:639: UserWarning: /tmp/ipykernel_40425/.env doesn't exist - if you're not configuring your environment separately, create one.\n",
      "  warnings.warn(\n"
     ]
    }
   ],
   "source": [
    "env = environ.Env()\n",
    "environ.Env.read_env()\n",
    "API_KEY = env('OPENAI_API_KEY')\n",
    "openai.api_key = API_KEY"
   ]
  },
  {
   "cell_type": "markdown",
   "metadata": {},
   "source": [
    "# Data Connectors (Llama Hub)\n",
    "\n",
    "\n",
    "see [Llama Hub](https://llamahub.ai/)"
   ]
  },
  {
   "cell_type": "code",
   "execution_count": 3,
   "metadata": {},
   "outputs": [
    {
     "data": {
      "text/plain": [
       "['Immigration to Germany',\n",
       " 'British migration to Germany',\n",
       " 'Migration from Ghana to Germany',\n",
       " 'Migration Period',\n",
       " 'Germany',\n",
       " 'Foreign-born population of the United Kingdom',\n",
       " 'Romani people in Germany',\n",
       " 'Germans in the United Kingdom',\n",
       " 'Islam in Germany',\n",
       " 'Human migration']"
      ]
     },
     "execution_count": 3,
     "metadata": {},
     "output_type": "execute_result"
    }
   ],
   "source": [
    "list_wiki_pages = wikipedia.search(\"Migration to Germany\")\n",
    "list_wiki_pages"
   ]
  },
  {
   "cell_type": "code",
   "execution_count": 4,
   "metadata": {},
   "outputs": [],
   "source": [
    "def select_pages(list_wiki_pages: list) -> list:\n",
    "    \"\"\"\n",
    "    TODO: create a function to select a subset of pages are contain information relevant for the topic\n",
    "\n",
    "    Args:\n",
    "        list_wike_pages (list): A DataFrame with the list of databases (Title, Code, etc.).\n",
    "\n",
    "    Returns:\n",
    "        List of a subset of wikipedia pages that are relevant for the topic.\n",
    "    \"\"\"\n",
    "    subset_list_wiki_pages = list_wiki_pages\n",
    "    return subset_list_wiki_pages"
   ]
  },
  {
   "cell_type": "code",
   "execution_count": 5,
   "metadata": {},
   "outputs": [],
   "source": [
    "subset_list_wiki_pages = select_pages(list_wiki_pages)"
   ]
  },
  {
   "cell_type": "code",
   "execution_count": 6,
   "metadata": {},
   "outputs": [],
   "source": [
    "loader = WikipediaReader()\n",
    "documents = loader.load_data(pages=list_wiki_pages)"
   ]
  },
  {
   "cell_type": "markdown",
   "metadata": {},
   "source": [
    "# Basic Query"
   ]
  },
  {
   "cell_type": "code",
   "execution_count": 7,
   "metadata": {},
   "outputs": [],
   "source": [
    "# Build an index for the Document objects.\n",
    "index = VectorStoreIndex.from_documents(documents)"
   ]
  },
  {
   "cell_type": "code",
   "execution_count": 8,
   "metadata": {},
   "outputs": [],
   "source": [
    "# query an index\n",
    "query_engine = index.as_query_engine()\n",
    "response = query_engine.query(\"How many move to Germany each year?\")"
   ]
  },
  {
   "cell_type": "code",
   "execution_count": 9,
   "metadata": {},
   "outputs": [
    {
     "name": "stdout",
     "output_type": "stream",
     "text": [
      "Over 1 million people move to Germany each year since 2013.\n"
     ]
    }
   ],
   "source": [
    "print(response)"
   ]
  },
  {
   "cell_type": "markdown",
   "metadata": {},
   "source": [
    "# Query Documents"
   ]
  },
  {
   "cell_type": "code",
   "execution_count": 10,
   "metadata": {},
   "outputs": [],
   "source": [
    "doc_1 = SimpleDirectoryReader(input_files=[\"docs/KS-09-23-223-EN-N.pdf\"]).load_data()\n",
    "# doc_1"
   ]
  },
  {
   "cell_type": "code",
   "execution_count": 12,
   "metadata": {},
   "outputs": [],
   "source": [
    "doc_1_index = VectorStoreIndex.from_documents(doc_1)"
   ]
  },
  {
   "cell_type": "code",
   "execution_count": 13,
   "metadata": {},
   "outputs": [],
   "source": [
    "doc_1_engine = doc_1_index.as_query_engine(similarity_top_k=3)"
   ]
  },
  {
   "cell_type": "code",
   "execution_count": 14,
   "metadata": {},
   "outputs": [],
   "source": [
    "query_engine_tools = [\n",
    "    QueryEngineTool(\n",
    "        query_engine=doc_1_engine,\n",
    "        metadata=ToolMetadata(name='report_2022', description='Annual Report on Migration and Asylum 2022')\n",
    "    ),\n",
    "]"
   ]
  },
  {
   "cell_type": "code",
   "execution_count": 15,
   "metadata": {},
   "outputs": [],
   "source": [
    "# Given a query, this query engine \"SubQuestionQueryEngine\" will generate a “query plan”\n",
    "# containing sub-queries against sub-documents before synthesizing the final answer.\n",
    "s_engine = SubQuestionQueryEngine.from_defaults(query_engine_tools=query_engine_tools)"
   ]
  },
  {
   "cell_type": "code",
   "execution_count": 16,
   "metadata": {},
   "outputs": [
    {
     "name": "stdout",
     "output_type": "stream",
     "text": [
      "Generated 1 sub questions.\n",
      "\u001b[36;1m\u001b[1;3m[report_2022] Q: How many people received residence permits according to the Annual Report on Migration and Asylum 2022?\n",
      "\u001b[0m\u001b[36;1m\u001b[1;3m[report_2022] A: Based on the Annual Report on Migration and Asylum 2022, the number of people who received residence permits is not explicitly mentioned in the provided context information.\n",
      "\u001b[0m"
     ]
    }
   ],
   "source": [
    "response = s_engine.query(\"How many people received residence permits?\")"
   ]
  },
  {
   "cell_type": "markdown",
   "metadata": {},
   "source": [
    "# Hypothetical document embeddings (HyDE)"
   ]
  }
 ],
 "metadata": {
  "kernelspec": {
   "display_name": "venv_porfolio_project",
   "language": "python",
   "name": "python3"
  },
  "language_info": {
   "codemirror_mode": {
    "name": "ipython",
    "version": 3
   },
   "file_extension": ".py",
   "mimetype": "text/x-python",
   "name": "python",
   "nbconvert_exporter": "python",
   "pygments_lexer": "ipython3",
   "version": "3.10.12"
  },
  "orig_nbformat": 4
 },
 "nbformat": 4,
 "nbformat_minor": 2
}
