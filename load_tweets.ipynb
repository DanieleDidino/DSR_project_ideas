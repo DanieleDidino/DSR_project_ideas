{
 "cells": [
  {
   "cell_type": "markdown",
   "metadata": {},
   "source": [
    "# Load Twitter Dataset\n",
    "\n",
    "This notebook loads the \n",
    "[#BTW17 Twitter Dataset](https://zenodo.org/record/835735), extract the tweets and the hashtags and save them in `data/all_tweets` and `data/all_hashtags` files.\n"
   ]
  },
  {
   "cell_type": "code",
   "execution_count": 1,
   "metadata": {},
   "outputs": [],
   "source": [
    "from pathlib import Path\n",
    "import os\n",
    "import json\n",
    "# from nltk.corpus import stopwords\n",
    "# import re\n",
    "# import pandas as pd\n",
    "# from wordcloud import WordCloud\n",
    "# import matplotlib.pyplot as plt\n",
    "import pickle"
   ]
  },
  {
   "cell_type": "markdown",
   "metadata": {},
   "source": [
    "# Import one file"
   ]
  },
  {
   "cell_type": "code",
   "execution_count": 8,
   "metadata": {},
   "outputs": [],
   "source": [
    "path = Path('data/recorded-tweets')\n",
    "files = os.listdir(path)"
   ]
  },
  {
   "cell_type": "code",
   "execution_count": 9,
   "metadata": {},
   "outputs": [
    {
     "data": {
      "text/plain": [
       "1310"
      ]
     },
     "execution_count": 9,
     "metadata": {},
     "output_type": "execute_result"
    }
   ],
   "source": [
    "len(files)"
   ]
  },
  {
   "cell_type": "code",
   "execution_count": 10,
   "metadata": {},
   "outputs": [
    {
     "data": {
      "text/plain": [
       "'chunk-001f0bf7-d12d-45c8-8b6e-27b7a88a01f5.json'"
      ]
     },
     "execution_count": 10,
     "metadata": {},
     "output_type": "execute_result"
    }
   ],
   "source": [
    "files[0]"
   ]
  },
  {
   "cell_type": "code",
   "execution_count": 11,
   "metadata": {},
   "outputs": [],
   "source": [
    "# Open one json file\n",
    "with open(path / files[0]) as f:\n",
    "    data = json.load(f)"
   ]
  },
  {
   "cell_type": "code",
   "execution_count": 12,
   "metadata": {},
   "outputs": [
    {
     "data": {
      "text/plain": [
       "dict"
      ]
     },
     "execution_count": 12,
     "metadata": {},
     "output_type": "execute_result"
    }
   ],
   "source": [
    "type(data[0])"
   ]
  },
  {
   "cell_type": "code",
   "execution_count": 13,
   "metadata": {},
   "outputs": [
    {
     "data": {
      "text/plain": [
       "['created_at',\n",
       " 'id',\n",
       " 'id_str',\n",
       " 'text',\n",
       " 'display_text_range',\n",
       " 'source',\n",
       " 'truncated',\n",
       " 'in_reply_to_status_id',\n",
       " 'in_reply_to_status_id_str',\n",
       " 'in_reply_to_user_id',\n",
       " 'in_reply_to_user_id_str',\n",
       " 'in_reply_to_screen_name',\n",
       " 'user',\n",
       " 'geo',\n",
       " 'coordinates',\n",
       " 'place',\n",
       " 'contributors',\n",
       " 'is_quote_status',\n",
       " 'retweet_count',\n",
       " 'favorite_count',\n",
       " 'entities',\n",
       " 'extended_entities',\n",
       " 'favorited',\n",
       " 'retweeted',\n",
       " 'possibly_sensitive',\n",
       " 'filter_level',\n",
       " 'lang',\n",
       " 'timestamp_ms']"
      ]
     },
     "execution_count": 13,
     "metadata": {},
     "output_type": "execute_result"
    }
   ],
   "source": [
    "list(data[0].keys())"
   ]
  },
  {
   "cell_type": "code",
   "execution_count": 14,
   "metadata": {},
   "outputs": [
    {
     "data": {
      "text/plain": [
       "{'created_at': 'Wed Aug 02 21:50:58 +0000 2017',\n",
       " 'id': 892865330464382976,\n",
       " 'id_str': '892865330464382976',\n",
       " 'text': '@Volker_Beck Volker, keine Angst...wir vergessen nix!!! https://t.co/UVwj5XseP9',\n",
       " 'display_text_range': [13, 55],\n",
       " 'source': '<a href=\"http://twitter.com/download/android\" rel=\"nofollow\">Twitter for Android</a>',\n",
       " 'truncated': False,\n",
       " 'in_reply_to_status_id': 892863573843726342,\n",
       " 'in_reply_to_status_id_str': '892863573843726342',\n",
       " 'in_reply_to_user_id': 16337664,\n",
       " 'in_reply_to_user_id_str': '16337664',\n",
       " 'in_reply_to_screen_name': 'Volker_Beck',\n",
       " 'user': {'id': 805053174621073408,\n",
       "  'id_str': '805053174621073408',\n",
       "  'name': '🏅Monsieur Oh Lala🏅',\n",
       "  'screen_name': 'TheBrutalinski',\n",
       "  'location': 'Neusiedl am See, Österreich',\n",
       "  'url': None,\n",
       "  'description': 'In einer irrsinnigen Welt vernünftig sein zu wollen ist schon wieder ein Irrsinn.\\xa0 Natürlich alles Satire!!!',\n",
       "  'protected': False,\n",
       "  'verified': False,\n",
       "  'followers_count': 39,\n",
       "  'friends_count': 200,\n",
       "  'listed_count': 3,\n",
       "  'favourites_count': 321,\n",
       "  'statuses_count': 461,\n",
       "  'created_at': 'Sat Dec 03 14:16:48 +0000 2016',\n",
       "  'utc_offset': None,\n",
       "  'time_zone': None,\n",
       "  'geo_enabled': True,\n",
       "  'lang': 'de',\n",
       "  'contributors_enabled': False,\n",
       "  'is_translator': False,\n",
       "  'profile_background_color': 'F5F8FA',\n",
       "  'profile_background_image_url': '',\n",
       "  'profile_background_image_url_https': '',\n",
       "  'profile_background_tile': False,\n",
       "  'profile_link_color': '1DA1F2',\n",
       "  'profile_sidebar_border_color': 'C0DEED',\n",
       "  'profile_sidebar_fill_color': 'DDEEF6',\n",
       "  'profile_text_color': '333333',\n",
       "  'profile_use_background_image': True,\n",
       "  'profile_image_url': 'http://pbs.twimg.com/profile_images/873438481481170944/0PGdmtlt_normal.jpg',\n",
       "  'profile_image_url_https': 'https://pbs.twimg.com/profile_images/873438481481170944/0PGdmtlt_normal.jpg',\n",
       "  'profile_banner_url': 'https://pbs.twimg.com/profile_banners/805053174621073408/1497075455',\n",
       "  'default_profile': True,\n",
       "  'default_profile_image': False,\n",
       "  'following': None,\n",
       "  'follow_request_sent': None,\n",
       "  'notifications': None},\n",
       " 'geo': None,\n",
       " 'coordinates': None,\n",
       " 'place': None,\n",
       " 'contributors': None,\n",
       " 'is_quote_status': False,\n",
       " 'retweet_count': 0,\n",
       " 'favorite_count': 0,\n",
       " 'entities': {'hashtags': [],\n",
       "  'urls': [],\n",
       "  'user_mentions': [{'screen_name': 'Volker_Beck',\n",
       "    'name': 'Volker Beck',\n",
       "    'id': 16337664,\n",
       "    'id_str': '16337664',\n",
       "    'indices': [0, 12]}],\n",
       "  'symbols': [],\n",
       "  'media': [{'id': 892865316153421824,\n",
       "    'id_str': '892865316153421824',\n",
       "    'indices': [56, 79],\n",
       "    'media_url': 'http://pbs.twimg.com/media/DGQYRkGXcAA1roT.jpg',\n",
       "    'media_url_https': 'https://pbs.twimg.com/media/DGQYRkGXcAA1roT.jpg',\n",
       "    'url': 'https://t.co/UVwj5XseP9',\n",
       "    'display_url': 'pic.twitter.com/UVwj5XseP9',\n",
       "    'expanded_url': 'https://twitter.com/TheBrutalinski/status/892865330464382976/photo/1',\n",
       "    'type': 'photo',\n",
       "    'sizes': {'large': {'w': 720, 'h': 712, 'resize': 'fit'},\n",
       "     'thumb': {'w': 150, 'h': 150, 'resize': 'crop'},\n",
       "     'medium': {'w': 720, 'h': 712, 'resize': 'fit'},\n",
       "     'small': {'w': 680, 'h': 672, 'resize': 'fit'}}}]},\n",
       " 'extended_entities': {'media': [{'id': 892865316153421824,\n",
       "    'id_str': '892865316153421824',\n",
       "    'indices': [56, 79],\n",
       "    'media_url': 'http://pbs.twimg.com/media/DGQYRkGXcAA1roT.jpg',\n",
       "    'media_url_https': 'https://pbs.twimg.com/media/DGQYRkGXcAA1roT.jpg',\n",
       "    'url': 'https://t.co/UVwj5XseP9',\n",
       "    'display_url': 'pic.twitter.com/UVwj5XseP9',\n",
       "    'expanded_url': 'https://twitter.com/TheBrutalinski/status/892865330464382976/photo/1',\n",
       "    'type': 'photo',\n",
       "    'sizes': {'large': {'w': 720, 'h': 712, 'resize': 'fit'},\n",
       "     'thumb': {'w': 150, 'h': 150, 'resize': 'crop'},\n",
       "     'medium': {'w': 720, 'h': 712, 'resize': 'fit'},\n",
       "     'small': {'w': 680, 'h': 672, 'resize': 'fit'}}}]},\n",
       " 'favorited': False,\n",
       " 'retweeted': False,\n",
       " 'possibly_sensitive': False,\n",
       " 'filter_level': 'low',\n",
       " 'lang': 'de',\n",
       " 'timestamp_ms': '1501710658075'}"
      ]
     },
     "execution_count": 14,
     "metadata": {},
     "output_type": "execute_result"
    }
   ],
   "source": [
    "data[0]"
   ]
  },
  {
   "cell_type": "code",
   "execution_count": 15,
   "metadata": {},
   "outputs": [
    {
     "name": "stdout",
     "output_type": "stream",
     "text": [
      "TEXT:\n",
      "RT @FDPAussteigerin: Nur #AfD fordert Senkung der Mehrwertsteuer. Die #FDP gerade nicht! https://t.co/9xYytsPVT7\n",
      "\n",
      "NAME:\n",
      "Alternative für 🇩🇪\n",
      "\n",
      "FULL TEXT:\n",
      "Schön, dass unsere Forderung nun Erwähnung findet:\n",
      "Senkung der #Mehrwertsteuer ist ein Alleinstellungsmerkmal der #AfD!\n",
      "#TrauDichDeutschland https://t.co/C21N3uJ5U1\n"
     ]
    }
   ],
   "source": [
    "print(\"TEXT:\")\n",
    "print(data[10][\"text\"])\n",
    "\n",
    "print(\"\\nNAME:\")\n",
    "print(data[10]['quoted_status'][\"user\"][\"name\"])\n",
    "\n",
    "print(\"\\nFULL TEXT:\")\n",
    "print(data[10]['quoted_status'][\"extended_tweet\"][\"full_text\"])"
   ]
  },
  {
   "cell_type": "code",
   "execution_count": 16,
   "metadata": {},
   "outputs": [
    {
     "name": "stdout",
     "output_type": "stream",
     "text": [
      "@Volker_Beck Volker, keine Angst...wir vergessen nix!!! https://t.co/UVwj5XseP9\n",
      "--------------------------------------------------------------------------------\n",
      "RT @Beatrix_vStorch: CDU/CSU bedeutet: Keine Obergrenze, Familiennachzug in Millionenhöhe und Resettlement. Nur die #AfD! https://t.co/CnAl…\n",
      "--------------------------------------------------------------------------------\n",
      "RT @Beatrix_vStorch: Nur gute Erfahrungen-u warum zum Teufel sollen die Mitarbeiter d Verwaltung jetzt Selbstverteidigungskurse belegen? ht…\n",
      "--------------------------------------------------------------------------------\n",
      "RT @greenpeacemag: Deutliche Worte von @marcobuelow! Die wichtigsten Fakten zum #Dieselgipfel gibt´s hier: https://t.co/nZ3tG8U3K0 https://…\n",
      "--------------------------------------------------------------------------------\n",
      "RT @Beatrix_vStorch: Die Türkei ist eine islamistische Diktatur geworden. Trotzdem sind CDU/CSU/SPD/Grüne/Linke/FDP nicht bereit die Ver… \n",
      "--------------------------------------------------------------------------------\n",
      "@Die_Gruenen u. @dieLinke wieder mal gegen die die Polizei\n",
      "Bautzener Polizeibeamte sollen Asylbewerber bedroht haben https://t.co/e9kvFIgfE5\n",
      "--------------------------------------------------------------------------------\n",
      "RT @Beatrix_vStorch: Weil wir es ernst meinen. https://t.co/Tdx8YwI1ct\n",
      "--------------------------------------------------------------------------------\n"
     ]
    }
   ],
   "source": [
    "tweets = [0, 11, 12, 13, 153, 253, 366]\n",
    "\n",
    "for tweet in tweets:\n",
    "    # print(\"TEXT:\")\n",
    "    print(data[tweet][\"text\"])\n",
    "    # print(\"NAME:\")\n",
    "    # print(data[tweet][\"user\"][\"name\"])\n",
    "    print(\"-\"*80)"
   ]
  },
  {
   "cell_type": "code",
   "execution_count": 17,
   "metadata": {},
   "outputs": [
    {
     "name": "stdout",
     "output_type": "stream",
     "text": [
      "0 -- []\n",
      "1 -- ['Dieselgipfel']\n",
      "2 -- []\n",
      "3 -- []\n",
      "4 -- []\n",
      "5 -- ['Erdogan']\n",
      "6 -- ['AfD', 'Dieselgipfel']\n",
      "7 -- []\n",
      "8 -- ['Sanktionen', 'Russland']\n",
      "9 -- []\n"
     ]
    }
   ],
   "source": [
    "hashtag_list = []\n",
    "\n",
    "for tweet in range(10):\n",
    "    hashtags = data[tweet][\"entities\"][\"hashtags\"]\n",
    "    hashtag_text = []\n",
    "    for ht in range(len(hashtags)):\n",
    "        hashtag_text.append(data[tweet][\"entities\"][\"hashtags\"][ht][\"text\"])\n",
    "    print(f'{tweet} -- {hashtag_text}')\n",
    "    hashtag_list.append(hashtag_text)"
   ]
  },
  {
   "cell_type": "code",
   "execution_count": 18,
   "metadata": {},
   "outputs": [
    {
     "data": {
      "text/plain": [
       "[[],\n",
       " ['Dieselgipfel'],\n",
       " [],\n",
       " [],\n",
       " [],\n",
       " ['Erdogan'],\n",
       " ['AfD', 'Dieselgipfel'],\n",
       " [],\n",
       " ['Sanktionen', 'Russland'],\n",
       " []]"
      ]
     },
     "execution_count": 18,
     "metadata": {},
     "output_type": "execute_result"
    }
   ],
   "source": [
    "hashtag_list"
   ]
  },
  {
   "cell_type": "code",
   "execution_count": 19,
   "metadata": {},
   "outputs": [],
   "source": [
    "# save all id in all_ids\n",
    "all_ids = []\n",
    "for tweet in range(len(data)):\n",
    "    all_ids.append(data[tweet][\"user\"][\"id\"])"
   ]
  },
  {
   "cell_type": "code",
   "execution_count": 20,
   "metadata": {},
   "outputs": [
    {
     "name": "stdout",
     "output_type": "stream",
     "text": [
      "Number of tweets: 505\n",
      "Number of unique IDs: 278\n"
     ]
    }
   ],
   "source": [
    "print(f\"Number of tweets: {len(data)}\")\n",
    "print(f\"Number of unique IDs: {len(pd.Series(all_ids).unique())}\")\n",
    "# "
   ]
  },
  {
   "cell_type": "code",
   "execution_count": 21,
   "metadata": {},
   "outputs": [
    {
     "data": {
      "text/plain": [
       "3364793391            41\n",
       "3041102615            31\n",
       "3448073356            17\n",
       "884041595452096513    10\n",
       "826051268812611584     8\n",
       "210354218              8\n",
       "738771661915344897     6\n",
       "871334212556783618     6\n",
       "784903714045829121     6\n",
       "892012440443080704     5\n",
       "Name: count, dtype: int64"
      ]
     },
     "execution_count": 21,
     "metadata": {},
     "output_type": "execute_result"
    }
   ],
   "source": [
    "# First 10 IDs with most tweets (only considering one file, loaded above)\n",
    "pd.Series(all_ids).value_counts()[:10]"
   ]
  },
  {
   "cell_type": "markdown",
   "metadata": {},
   "source": [
    "# Import all files"
   ]
  },
  {
   "cell_type": "code",
   "execution_count": 22,
   "metadata": {},
   "outputs": [],
   "source": [
    "def load_one_file(i):\n",
    "    with open(path / files[i]) as f:\n",
    "        data = json.load(f)\n",
    "    return data\n",
    "\n",
    "\n",
    "def extract_text_hashtag(data):\n",
    "    tweets = []\n",
    "    hashtags = []\n",
    "    for tweet in range(len(data)):\n",
    "        tweets.append(data[tweet][\"text\"])\n",
    "        N_hashtags = len(data[tweet][\"entities\"][\"hashtags\"])\n",
    "        hashtag_list = []\n",
    "        for ht in range(N_hashtags):\n",
    "            hashtag_list.append(data[tweet][\"entities\"][\"hashtags\"][ht][\"text\"])\n",
    "        hashtags.append(hashtag_list)\n",
    "    return tweets, hashtags\n",
    "\n",
    "\n",
    "def load_all_files():\n",
    "    all_tweets = []\n",
    "    all_hashtags = []\n",
    "    for i in range(len(files)):\n",
    "        data_tmp = load_one_file(10)\n",
    "        tweets, hashtags = extract_text_hashtag(data_tmp)\n",
    "        all_tweets.append(tweets)\n",
    "        all_hashtags.append(hashtags)\n",
    "    return all_tweets, all_hashtags"
   ]
  },
  {
   "cell_type": "markdown",
   "metadata": {},
   "source": [
    "loadind all the files takes about 2 minutes"
   ]
  },
  {
   "cell_type": "code",
   "execution_count": 23,
   "metadata": {},
   "outputs": [],
   "source": [
    "all_tweets, all_hashtags = load_all_files()"
   ]
  },
  {
   "cell_type": "code",
   "execution_count": 25,
   "metadata": {},
   "outputs": [
    {
     "name": "stdout",
     "output_type": "stream",
     "text": [
      "Length all_tweets: 1310\n",
      "Length all_tweets[0]: 1000\n",
      "Length all_hashtags: 1310\n",
      "Length all_hashtags[0]: 1000\n"
     ]
    }
   ],
   "source": [
    "print(f\"Length all_tweets: {len(all_tweets)}\")\n",
    "print(f\"Length all_tweets[0]: {len(all_tweets[0])}\")\n",
    "print(f\"Length all_hashtags: {len(all_hashtags)}\")\n",
    "print(f\"Length all_hashtags[0]: {len(all_hashtags[0])}\")"
   ]
  },
  {
   "cell_type": "markdown",
   "metadata": {},
   "source": [
    "# Save files"
   ]
  },
  {
   "cell_type": "code",
   "execution_count": 26,
   "metadata": {},
   "outputs": [],
   "source": [
    "path = Path('data', 'all_tweets')\n",
    "with open(path, \"wb\") as fp:\n",
    "    pickle.dump(all_tweets, fp)"
   ]
  },
  {
   "cell_type": "code",
   "execution_count": 27,
   "metadata": {},
   "outputs": [],
   "source": [
    "path = Path('data', 'all_hashtags')\n",
    "with open(path, \"wb\") as fp:\n",
    "    pickle.dump(all_hashtags, fp)"
   ]
  }
 ],
 "metadata": {
  "kernelspec": {
   "display_name": "venv_proj_ideas",
   "language": "python",
   "name": "python3"
  },
  "language_info": {
   "codemirror_mode": {
    "name": "ipython",
    "version": 3
   },
   "file_extension": ".py",
   "mimetype": "text/x-python",
   "name": "python",
   "nbconvert_exporter": "python",
   "pygments_lexer": "ipython3",
   "version": "3.9.5"
  },
  "orig_nbformat": 4
 },
 "nbformat": 4,
 "nbformat_minor": 2
}
