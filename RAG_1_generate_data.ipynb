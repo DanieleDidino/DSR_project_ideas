{
 "cells": [
  {
   "cell_type": "markdown",
   "id": "e1bdd511-4fc0-4bbd-9f4b-df76bbcb756a",
   "metadata": {},
   "source": [
    "# Generate Synthetic Dataset with LLM\n",
    "\n",
    "Reference: [Fine-Tuning Embeddings for RAG with Synthetic Data](https://medium.com/llamaindex-blog/fine-tuning-embeddings-for-rag-with-synthetic-data-e534409a3971)\n",
    "\n",
    "Generate a synthetic dataset of (query, relevant documents) pairs from a corpus of **documents without labelers** by leveraging LLM."
   ]
  },
  {
   "cell_type": "markdown",
   "id": "d4b48882-dd24-4872-a42c-f21ac303e550",
   "metadata": {},
   "source": [
    "## Generate Corpus"
   ]
  },
  {
   "cell_type": "code",
   "execution_count": 29,
   "id": "c262e939-9eef-421e-8a94-c1d8a6cf861d",
   "metadata": {
    "tags": []
   },
   "outputs": [],
   "source": [
    "import json\n",
    "import re\n",
    "import uuid\n",
    "\n",
    "from llama_index import SimpleDirectoryReader\n",
    "from llama_index.llms import OpenAI\n",
    "from llama_index.node_parser import SimpleNodeParser\n",
    "from llama_index.schema import MetadataMode\n",
    "\n",
    "# from tqdm.notebook import tqdm\n",
    "from tqdm import tqdm"
   ]
  },
  {
   "cell_type": "code",
   "execution_count": 1,
   "id": "32eaaf6b-e3dc-4838-aaf5-f1d6305e2426",
   "metadata": {},
   "outputs": [],
   "source": [
    "TRAIN_FILES = ['afa_docs/merkblatt-fuer-arbeitslose_ba036520.pdf']\n",
    "VAL_FILES = ['afa_docs/dok_ba035980.pdf']\n",
    "\n",
    "TRAIN_CORPUS_FPATH = 'afa_docs/train_corpus.json'\n",
    "VAL_CORPUS_FPATH = 'afa_docs/val_corpus.json'"
   ]
  },
  {
   "cell_type": "code",
   "execution_count": 2,
   "id": "f6ca90b0-eac9-420f-b6e9-a83749280b5e",
   "metadata": {},
   "outputs": [],
   "source": [
    "def load_corpus(files, verbose=False):\n",
    "    if verbose:\n",
    "        print(f\"Loading files {files}\")\n",
    "\n",
    "    reader = SimpleDirectoryReader(input_files=files)\n",
    "    docs = reader.load_data()\n",
    "    if verbose:\n",
    "        print(f'Loaded {len(docs)} docs')\n",
    "    \n",
    "    parser = SimpleNodeParser.from_defaults()\n",
    "    nodes = parser.get_nodes_from_documents(docs, show_progress=verbose)\n",
    "\n",
    "    if verbose:\n",
    "        print(f'Parsed {len(nodes)} nodes')\n",
    "\n",
    "    corpus = {node.node_id: node.get_content(metadata_mode=MetadataMode.NONE) for node in nodes}\n",
    "    return corpus"
   ]
  },
  {
   "cell_type": "markdown",
   "id": "9695c651",
   "metadata": {},
   "source": [
    "## TODO\n",
    "RANDOMIZE THE TRAIN/VAL SETS <----------------------------------------------------------\n",
    "\n",
    "NOW IT USED A PDF FOR TRAIN AND THE OTHER FOR VALIDATION"
   ]
  },
  {
   "cell_type": "code",
   "execution_count": 9,
   "id": "15af0b0c-547c-493a-8fea-1d880c3c63fb",
   "metadata": {},
   "outputs": [
    {
     "name": "stdout",
     "output_type": "stream",
     "text": [
      "Loading files ['afa_docs/merkblatt-fuer-arbeitslose_ba036520.pdf']\n",
      "Loaded 103 docs\n"
     ]
    },
    {
     "name": "stderr",
     "output_type": "stream",
     "text": [
      "Parsing documents into nodes: 100%|██████████| 103/103 [00:00<00:00, 3039.61it/s]\n"
     ]
    },
    {
     "name": "stdout",
     "output_type": "stream",
     "text": [
      "Parsed 103 nodes\n",
      "Loading files ['afa_docs/dok_ba035980.pdf']\n",
      "Loaded 40 docs\n"
     ]
    },
    {
     "name": "stderr",
     "output_type": "stream",
     "text": [
      "Parsing documents into nodes: 100%|██████████| 40/40 [00:00<00:00, 3515.32it/s]"
     ]
    },
    {
     "name": "stdout",
     "output_type": "stream",
     "text": [
      "Parsed 40 nodes\n"
     ]
    },
    {
     "name": "stderr",
     "output_type": "stream",
     "text": [
      "\n"
     ]
    }
   ],
   "source": [
    "train_corpus = load_corpus(TRAIN_FILES, verbose=True)\n",
    "val_corpus = load_corpus(VAL_FILES, verbose=True)"
   ]
  },
  {
   "cell_type": "code",
   "execution_count": 10,
   "id": "5566271e",
   "metadata": {},
   "outputs": [
    {
     "name": "stdout",
     "output_type": "stream",
     "text": [
      "Type: <class 'dict'>\n",
      "Length: 103\n",
      "49466_BA_MB_1.indd   1 10.02.2015   13:20:58Agentur für Arbeit  \n",
      "Musterstadthausen  Merkblatt\n",
      "1Merkblatt für\n",
      "Arbeitslose \n",
      "Ihre Rechte –\n",
      "Ihre Pflichten\n",
      "--------------------------------------------------------------------------------\n",
      "3 \n",
      "Ihre Agentur für Arbeit hält eine Fülle von \n",
      " Informationen für Sie bereit. \n",
      "Neben den Informationen in diesem Merkblatt finden \n",
      "Sie unter » www.arbeitsagentur.de  unser umfassen ­\n",
      "des Online-Angebot der „eServices “ sowie ein \n",
      " interessantes Informationsangebot aus allen Aufgaben ­\n",
      "bereichen der Bundesagentur für Arbeit. Sie erhalten \n",
      "wertvolle Tipps zu den Themen Ausbil ­\n",
      "dung, Berufs- und Studienwahl, Weiter ­\n",
      "bildung, wichtige Informationen über \n",
      "Geldleistungen sowie ein umfangreiches \n",
      "Serviceangebot.\n",
      "Über das Job- und Serviceportal  \n",
      "» www.arbeitsagentur.de  können Sie beispielsweise:\n",
      "•  sich arbeitsuchend und arbeitslos melden,\n",
      "•  Geldleistungen, wie Arbeitslosengeld, beantragen\n",
      "•  Fragen zum Arbeitslosengeld unserem Chatbot \n",
      " stellen\n",
      "• Stellenangebote über die Jobsuche finden\n",
      "• Vermittlungsvorschläge und Stellenempfehlungen \n",
      "einsehen und sich bewerben\n",
      "•  Bescheide einsehen \n",
      "•  die Postfachnachricht nutzen – eine sichere \n",
      " Alternative zur E-Mail \n",
      "und vieles mehr\n",
      "Wenden Sie sich bitte an das Service Center bzw. den \n",
      "Empfang in Ihrer Agentur für Arbeit, wenn Sie weitere \n",
      "Informationen über das Verfahren und die Vorteile \n",
      " erhalten möchten.\n",
      "--------------------------------------------------------------------------------\n"
     ]
    }
   ],
   "source": [
    "print(f\"Type: {type(train_corpus)}\")\n",
    "print(f\"Length: {len(train_corpus)}\")\n",
    "for key in list(train_corpus.keys())[0:2]:\n",
    "    print(train_corpus[key])\n",
    "    print(\"-\"*80)"
   ]
  },
  {
   "cell_type": "code",
   "execution_count": 13,
   "id": "92f8838e-96d0-4def-978b-61bd1dce3217",
   "metadata": {},
   "outputs": [],
   "source": [
    "with open(TRAIN_CORPUS_FPATH, 'w+') as f:\n",
    "    json.dump(train_corpus, f)\n",
    "\n",
    "with open(VAL_CORPUS_FPATH, 'w+') as f:\n",
    "    json.dump(val_corpus, f)"
   ]
  },
  {
   "cell_type": "markdown",
   "id": "d08491e5-6273-4b09-b19f-bbf3276d562b",
   "metadata": {},
   "source": [
    "## Generate synthetic queries\n",
    "\n",
    "Use an LLM (e.g., gpt-3.5-turbo) to generate questions using each text chunk in the corpus as context.\n",
    "\n",
    "For both training and validation, it creates pairs (`generated question`, `text chunk as context`).These pairs are used as data points in the finetuning dataset."
   ]
  },
  {
   "cell_type": "code",
   "execution_count": 14,
   "id": "e48e338f-0cf0-497b-988b-5a7d112b3502",
   "metadata": {},
   "outputs": [],
   "source": [
    "TRAIN_QUERIES_FPATH = 'afa_docs/train_val_data/train_queries.json'\n",
    "TRAIN_RELEVANT_DOCS_FPATH = 'afa_docs/train_val_data/train_relevant_docs.json'\n",
    "\n",
    "VAL_QUERIES_FPATH = 'afa_docs/train_val_data/val_queries.json'\n",
    "VAL_RELEVANT_DOCS_FPATH = 'afa_docs/train_val_data/val_relevant_docs.json'"
   ]
  },
  {
   "cell_type": "code",
   "execution_count": 15,
   "id": "4bfeb3cd-59fd-496c-a4f0-c269835123ed",
   "metadata": {},
   "outputs": [],
   "source": [
    "with open(TRAIN_CORPUS_FPATH, 'r+') as f:\n",
    "    train_corpus = json.load(f)\n",
    "\n",
    "with open(VAL_CORPUS_FPATH, 'r+') as f:\n",
    "    val_corpus = json.load(f)"
   ]
  },
  {
   "cell_type": "code",
   "execution_count": 30,
   "id": "0c26a5cd-9ec4-4c7b-bc58-9349d83a248f",
   "metadata": {},
   "outputs": [],
   "source": [
    "def generate_queries(\n",
    "    corpus,\n",
    "    num_questions_per_chunk=2,\n",
    "    prompt_template=None,\n",
    "    verbose=False,\n",
    "):\n",
    "    \"\"\"\n",
    "    Automatically generate hypothetical questions that could be answered with\n",
    "    doc in the corpus.\n",
    "    \"\"\"\n",
    "    llm = OpenAI(model='gpt-3.5-turbo')\n",
    "\n",
    "    prompt_template = prompt_template or \"\"\"\\\n",
    "    Context information is below.\n",
    "    \n",
    "    ---------------------\n",
    "    {context_str}\n",
    "    ---------------------\n",
    "    \n",
    "    Given the context information and not prior knowledge.\n",
    "    generate only questions based on the below query.\n",
    "    \n",
    "    You are a Teacher/ Professor. Your task is to setup \\\n",
    "    {num_questions_per_chunk} questions for an upcoming \\\n",
    "    quiz/examination. The questions should be diverse in nature \\\n",
    "    across the document. Restrict the questions to the \\\n",
    "    context information provided.\"\n",
    "    \"\"\"\n",
    "\n",
    "    queries = {}\n",
    "    relevant_docs = {}\n",
    "    # for node_id, text in corpus.items():\n",
    "    for node_id, text in tqdm(corpus.items()):\n",
    "        query = prompt_template.format(context_str=text, num_questions_per_chunk=num_questions_per_chunk)\n",
    "        response = llm.complete(query)\n",
    " \n",
    "        result = str(response).strip().split(\"\\n\")\n",
    "        questions = [\n",
    "            re.sub(r\"^\\d+[\\).\\s]\", \"\", question).strip() for question in result\n",
    "        ]\n",
    "        questions = [question for question in questions if len(question) > 0]\n",
    "        \n",
    "        for question in questions:\n",
    "            question_id = str(uuid.uuid4())\n",
    "            queries[question_id] = question\n",
    "            relevant_docs[question_id] = [node_id]\n",
    "    return queries, relevant_docs"
   ]
  },
  {
   "cell_type": "code",
   "execution_count": 43,
   "id": "14746744",
   "metadata": {},
   "outputs": [
    {
     "data": {
      "text/plain": [
       "{'38c0ae2e-65e8-4d16-8489-b894a0ae971f': '49466_BA_MB_1.indd   1 10.02.2015   13:20:58Agentur für Arbeit  \\nMusterstadthausen  Merkblatt\\n1Merkblatt für\\nArbeitslose \\nIhre Rechte –\\nIhre Pflichten',\n",
       " '982d7da4-fb36-4c1b-8cea-ef09be652e06': '3 \\nIhre Agentur für Arbeit hält eine Fülle von \\n Informationen für Sie bereit. \\nNeben den Informationen in diesem Merkblatt finden \\nSie unter » www.arbeitsagentur.de  unser umfassen \\xad\\ndes Online-Angebot der „eServices “ sowie ein \\n interessantes Informationsangebot aus allen Aufgaben \\xad\\nbereichen der Bundesagentur für Arbeit. Sie erhalten \\nwertvolle Tipps zu den Themen Ausbil \\xad\\ndung, Berufs- und Studienwahl, Weiter \\xad\\nbildung, wichtige Informationen über \\nGeldleistungen sowie ein umfangreiches \\nServiceangebot.\\nÜber das Job- und Serviceportal  \\n» www.arbeitsagentur.de  können Sie beispielsweise:\\n•  sich arbeitsuchend und arbeitslos melden,\\n•  Geldleistungen, wie Arbeitslosengeld, beantragen\\n•  Fragen zum Arbeitslosengeld unserem Chatbot \\n stellen\\n• Stellenangebote über die Jobsuche finden\\n• Vermittlungsvorschläge und Stellenempfehlungen \\neinsehen und sich bewerben\\n•  Bescheide einsehen \\n•  die Postfachnachricht nutzen – eine sichere \\n Alternative zur E-Mail \\nund vieles mehr\\nWenden Sie sich bitte an das Service Center bzw. den \\nEmpfang in Ihrer Agentur für Arbeit, wenn Sie weitere \\nInformationen über das Verfahren und die Vorteile \\n erhalten möchten.',\n",
       " 'f30076aa-cd21-4256-95fe-19b450ab4c1d': '4Und jetzt auch per App: Sie können ab sofort jederzeit \\nund an jedem Ort auf ausgewählte Funktionen Ihres \\nOnline-Profils über die neue Kunden-App „BA-mobil“  \\nzugreifen. \\n \\nInformationen zur App finden Sie im Internet unter: \\nhttp://www.arbeitsagentur.de »  Arbeitslos und \\n\\xad Arbeit\\xadfinden\\xad»\\xadAlle \\xad Infos \\xad und \\xad Services \\xad » \\xad Machen \\xad\\nSie Ihren nächsten Schritt »  BA-Mobil: Die Kunden-\\nApp der BA\\nAm Ende dieses Merkblattes finden Sie eine Übersicht \\nüber weitere bei Ihrer Agentur für Arbeit erhältliche \\nMerk- und Faltblätter. Diese finden Sie auch unter \\n» www.arbeitsagentur.de .',\n",
       " 'f4e1ab37-1f67-427c-b38a-496402045905': '5Vorwort\\nVorwort\\nDieses Merkblatt informiert Sie über Ihre wichtigsten \\nRechte und Pflichten nach dem Dritten Buch Sozial -\\ngesetzbuch (SGB III), wenn Sie Arbeitslosengeld \\n beantragt haben bzw. bereits beziehen . Es soll Sie \\nauch dabei unterstützen, die Antragsformulare schnell \\nund korrekt auszufüllen und die erbetenen Angaben im \\nerforderlichen Umfang zu belegen.\\nDas Merkblatt informiert Sie über\\n•  Ihre Pflichten zur Beendigung der Arbeitslosigkeit \\n(Eigen  bemühungen und Verfügbarkeit),\\n•  die weiteren Anspruchsvoraussetzungen, die Sie \\n erfüllen müssen, um Arbeitslosengeld erhalten zu \\nkönnen,\\n•  die Bezugsdauer von Arbeitslosengeld,\\n•  die Höhe des Arbeitslosengeldes,\\n•  das Arbeitslosengeld während einer beruflichen \\nWeiter  bildung,\\n•  Ihre Mitwirkungs- und Mitteilungspflichten.\\nEs enthält auch wichtige Informationen für den Fall, \\ndass Sie keine Leistungen beantragen möchten oder \\nerhalten können. \\nBesondere Abschnitte behandeln die Sozialversiche \\xad\\nrung der Leistungsbezieherinnen/Leistungsbezieher \\nund den Datenschutz. \\nEin Abschnitt über weitere Hilfen enthält ergänzende \\nHinweise auf andere Leistungen der Bundesagentur für \\nArbeit und Leistungen anderer Träger. \\nDort finden Sie auch Informationen zu den Leistungen \\nder Grundsicherung für Arbeitsuchende (Bürger-\\ngeld) , auf die ein Anspruch bestehen kann, wenn \\nArbeits  losengeld nicht, vorübergehend nicht oder nicht \\nin ausreichender Höhe gezahlt wird.',\n",
       " '9812de63-721f-41d7-b2fd-29169fb6da71': 'Vorwort\\n6Das Merkblatt Bürgergeld – Grundsicherung für \\nArbeit  suchende – SGB II  können Sie bei dem für Sie \\nzuständigen Jobcenter erhalten.\\n BITTE BEACHTEN SIE\\nDieses Merkblatt ist eine Informationsbro \\xad\\nschüre, die jährlich aktualisiert wird. Sie \\ndient Ihrer allgemeinen Information und kann \\nnicht alle Bestimmungen erschöpfend dar \\xad\\nstellen.\\nWenden Sie sich bitte an das Service Center \\noder den Empfang in Ihrer Agentur für Arbeit, \\nwenn Sie weitere Fragen haben oder Unklar \\xad\\nheiten beseitigen möchten.\\nTelefonisch erreichen Sie Ihre Agentur für \\nArbeit montags – freitags von 8:00 bis \\n18:00 Uhr über die gebührenfreie Service-\\nrufnummer 0800 4 5555 00.\\nDer Aktualitätsstand dieses Merkblattes ist \\nauf der Rückseite der Broschüre angegeben.',\n",
       " 'cc71f24b-2e8d-4431-8f31-12398cce1b82': '7Das Wichtigste vorweg:\\n12 Punkte, die Sie sich merken sollten!\\n• Bei Beendigung eines Arbeits- oder Ausbildungsver \\xad\\nhältnisses sind Sie verpflichtet, sich spätestens drei \\nMonate vorher arbeitsuchend zu melden. Erfahren \\nSie von der Beendigung weniger als drei Monate vor \\xad\\nher, müssen Sie sich innerhalb von drei Tagen mel \\xad\\nden. Sie können sich online, persönlich, telefonisch \\noder schriftlich arbeitsuchend melden. Melden Sie \\nsich nicht rechtzeitig, droht eine Sperrzeit. Bei einem \\nbetrieb  lichen oder schulischen Ausbildungsverhältnis \\ngilt die Pflicht zur Meldung nicht.\\nWeitere Hinweise dazu finden Sie in » Abschnitt 1 .\\n• Arbeitslosengeld wird frühestens von dem Tag an \\n gezahlt, an dem Sie sich online im Fachportal der \\nBundesagentur für Arbeit (auf » arbeitsagentur.de \\n» Menü » Alle eServices anzeigen » Arbeitslos \\nmelden ) oder persönlich bei Ihrer Agentur für Arbeit \\narbeitslos melden.\\n• Um Beschäftigungslosigkeit nicht eintreten zu lassen \\noder zu beenden, sind Sie verpflichtet, eigenverant \\xad\\nwortlich nach einer Beschäftigung zu suchen, eine \\nzumutbare Beschäftigung aufzunehmen oder an \\n einer beruflichen Eingliederungsmaßnahme teilzu \\xad\\nnehmen.\\nAuf Verlangen der Agentur für Arbeit müssen Sie Ihre \\nEigenbemühungen nachweisen. Weitere Hinweise \\ndazu finden Sie in » Abschnitt 2.4 .Das Wichtigste vorweg',\n",
       " 'c23ba87e-9d4b-440b-b2d6-b5acda18d4f0': '8• Unter Umständen müssen Sie mit dem Wegfall der \\nLeistung oder mit Sperrzeiten rechnen, wenn Sie\\n•  sich nicht selbst aktiv um Arbeit bemühen,\\n•  die während Ihrer Arbeitslosigkeit von der Agentur \\nfür Arbeit geforderten Eigenbemühungen nicht \\nnachweisen,\\n•  zumutbare Arbeitsmöglichkeiten nicht nutzen,\\n•  Eingliederungsmaßnahmen (z.  B. Maßnahmen  \\nder beruflichen Weiterbildung oder Maßnahmen \\nzur Aktivierung und beruflichen Eingliederung)  \\nablehnen  \\noder\\n•  einer Aufforderung, sich zu melden oder zu einem \\nUntersuchungstermin zu erscheinen, nicht folgen.\\n• Bitte melden Sie Ihrer zuständigen Agentur für Arbeit \\nsofort alle Änderungen, die Ihren Leistungsanspruch \\nbeeinflussen. Teilen Sie bitte insbesondere umge \\xad\\nhend jede Änderung des Familienstandes, der Lohn \\xad\\nsteuerklasse und des Faktors mit. Wenn Sie mit Ihrer \\nEhegattin / Ihrem Ehegatten oder in einer eingetrage \\xad\\nnen Lebenspartnerschaft die Lohnsteuerklassen \\nwechseln, lassen Sie sich wegen der  finanziellen \\nAuswirkungen unbedingt vor dem Lohnsteuerklassen \\xad\\nwechsel bei Ihrer Agentur für Arbeit beraten. Weitere \\nHinweise dazu finden Sie in Abschnitt 8.2. und Ab \\xad\\nschnitt 4.\\n• Bitte melden Sie Ihrer Agentur für Arbeit vorab jeden \\nUmzug oder eine geplante Ortsabwesenheit (Urlaub/\\nReise). Weitere Hinweise dazu finden Sie in \\n»  Abschnitt 8.2 und »  Abschnitt 2.5 .\\n• Das Arbeitslosengeld wird bargeldlos ausgezahlt. \\nRichten Sie deshalb bitte ein Konto ein, falls noch \\nnicht geschehen.\\n• Die Entscheidung über Ihren Antrag wird Ihnen durch \\neinen schriftlichen Bescheid bekannt gegeben.Das Wichtigste vorweg',\n",
       " '4b416f6e-3a64-484a-8841-fa20be805e3e': '9• Während Ihres Leistungsbezuges sind Sie kranken-, \\npflege-, renten- und unfallversichert. Melden Sie eine \\neventuelle Arbeitsunfähigkeit bitte sofort Ihrer Agen \\xad\\ntur für Arbeit. Nach einer Unterbrechung des Leis \\xad\\ntungsbezuges müssen Sie sich in bestimmten Fällen \\nerneut arbeitslos melden.\\n• Ihre Agentur für Arbeit ist berechtigt, Sie zur persönli \\xad\\nchen Meldung aufzufordern, weitere Auskünfte einzu \\xad\\nholen sowie Sachverhalte zu ermitteln. Hierzu gehört \\nauch die Veranlassung ärztlicher oder psychologi \\xad\\nscher Untersuchungen.\\n• Bewahren Sie die von Ihrer Agentur für Arbeit ausge \\xad\\nstellten Nachweise sorgfältig auf.\\n• Bitte beachten Sie, dass die von Ihnen eingereichten \\nPapierunterlagen nach Überführung in eine elektroni \\xad\\nsche Form und nach einer Aufbewahrungszeit von \\n6 Wochen vernichtet werden. Sollten Sie Original -\\nunterlagen eingereicht haben und diese wieder be -\\nnötigen, teilen Sie dies bitte rechtzeitig schriftlich mit.Das Wichtigste vorweg',\n",
       " 'fd9d1bcc-6304-4439-928a-5c90415de0ef': 'Inhaltsverzeichnis\\n10Inhaltsverzeichnis\\nVorwort  5\\nDas Wichtigste vorweg:  7\\n12 Punkte, die Sie sich merken sollten!\\nErläuterung zur Zeichenverwendung  12\\n1. Was müssen Sie tun, wenn  \\nArbeitslosigkeit droht?  13 \\n2. Was müssen Sie tun, wenn  \\nArbeitslosigkeit eintritt?  15 \\n2.1 Arbeitslos melden  15\\n2.2 Antrag stellen  16\\n2.3 Beschäftigungslos sein  18\\n2.4 Pflichten aus der Eingliederungs-  \\nvereinbarung, Eigenbemühungen  21\\n2.5 Verfügbar sein  22\\n3. Ihr Anspruch auf Arbeitslosengeld  30\\n3.1 Anwartschaftszeit  30\\n3.2 Anspruchsdauer  33\\n3.3 Was ist zu beachten, wenn kein Anspruch  \\nauf Arbeitslosengeld (mehr) besteht?  35\\n3.4 Wann kann der Anspruch auf Arbeitslosen-  \\ngeld nicht mehr geltend gemacht werden?  36\\n4. Die Höhe der Leistung  38\\n4.1 Das Arbeitsentgelt als Bemessungsgrundlage   39\\n4.2 Die Bedeutung der Lohnsteuerklasse  44\\n4.3 Allgemeiner oder erhöhter Leistungssatz?   48\\n4.4 Was ist zu beachten, wenn nur ein sehr  \\ngeringer Anspruch auf Arbeitslosengeld  \\nbesteht?  50\\n4.5 Weitere Regelungen  50',\n",
       " 'd82ec427-7f60-429a-ac7c-d695eff9dc03': '11Inhaltsverzeichnis\\n5. Ihr Anspruch auf Arbeitslosengeld  \\nbei\\xadberuflicher \\xadWeiterbildung \\xad 52\\n6. Sperrzeit  55\\n7. Ruhen des Anspruches  60\\n7.1 Ruhen bei Sozialleistungen   60\\n7.2 Ruhen bei Arbeitgeberleistungen  61\\n7.3 Unschädliche Leistungen   62\\n8.\\xadWeitere \\xad Pflichten, \\xad die \\xad Sie \\xad beachten \\xad sollten \\xad63\\n8.1 Meldepflicht   63\\n8.2 Mitwirkungs- und Mitteilungspflicht  64\\n8.3 Erstattungspflicht   68\\n9.\\xadDie \\xad Kranken-, \\xad Pflege-, \\xad Renten- \\xad und\\xad \\nUnfallversicherung  69\\n10. Die Anrechnung von Nebeneinkommen  78\\n11. Die Auszahlung der Leistung  80\\n12. Datenschutz  84\\n13. Der Nachweis des Leistungs  bezuges  \\ngegenüber anderen Behörden  85\\n14. Steuerliche Folgen des Leistungsbezuges,  \\nNachweis gegenüber dem Finanzamt  86\\n15. Bescheide und Rechtsbehelfe  89\\n16. Weitere Hilfen  90\\n17. Stichwortverzeichnis  99\\n18. Weitere Merkblätter  103',\n",
       " '28e20f9e-078d-4112-9abd-aa820b0538f1': 'Erläuterung zur Zeichen  verwendung\\n12Erläuterung zur Zeichen -\\nverwendung\\n BITTE BEACHTEN SIE\\nHierauf müssen Sie besonders achten, ins \\xad\\nbesondere um für Sie negative Folgen ver \\xad\\nmeiden zu können.\\n ZUSAMMENFASSUNG\\nHier werden die wichtigsten Informationen kurz für Sie \\ngesammelt.\\n HINWEIS\\nHier erhalten Sie zusätzliche nützliche Informationen.\\n TIPP\\nHier erhalten Sie kleine Ratschläge, die vielleicht nütz \\xad\\nlich für Sie sind.\\n LINK\\nHier wird erläutert, wo Sie die Informationen im Internet \\nfinden.\\n BEISPIEL\\nHier finden Sie beispielhafte Fallgestaltungen zur Ver \\xad\\nanschaulichung gesetzlicher Regelungen.'}"
      ]
     },
     "execution_count": 43,
     "metadata": {},
     "output_type": "execute_result"
    }
   ],
   "source": [
    "train_corpus_small = dict()\n",
    "i = 0\n",
    "for key, value in train_corpus.items():\n",
    "    train_corpus_small[key] = value\n",
    "    i += 1\n",
    "    if i > 10:\n",
    "        break\n",
    "\n",
    "train_corpus_small"
   ]
  },
  {
   "cell_type": "code",
   "execution_count": 44,
   "id": "5231d6c2",
   "metadata": {},
   "outputs": [
    {
     "data": {
      "text/plain": [
       "{'5cd92f1c-7e1b-47c3-80ab-f70340ea1510': 'Merkblatt\\nArbeitslosengeld und  \\nAuslandsbeschäftigung \\nDienste und Leistungen  \\nder Agentur für Arbeit\\nAgentur für Arbeit \\nMusterstadthausen  20',\n",
       " 'f25f4048-173a-4ca8-aac7-4f8dca93fccf': 'Vorwort\\n2Vorwort\\nDieses Merkblatt informiert Sie insbesondere über die\\n•  Voraussetzungen zur Berücksichtigung von Aus \\xad\\nlandsbeschäftigungen und Zeiten selbstständiger \\n Erwerbstätigkeit für einen Anspruch auf Arbeits\\xad\\nlosengeld,\\n•  Voraussetzungen der Mitnahme eines Leistungsan \\xad\\nspruchs ins Ausland zur Arbeitsuche.\\nInformationen über die übrigen allgemeinen Anspruchs \\xad\\nvoraussetzungen zum Bezug von Arbeitslosengeld ent \\xad\\nnehmen Sie bitte dem Merkblatt 1 für Arbeits  lose, das \\nIhre Agentur für Arbeit für Sie bereit hält.',\n",
       " '05f83cab-b259-439c-a47b-87a13461bd51': '3Vorwort\\nZum 1. Februar 2020 ist das Vereinigte Königreich \\nGroßbritannien und Nordirland aus der Europäischen \\nUnion ausgetreten. Das Austrittsabkommen gewährt \\neinen gewissen Bestandsschutz und seit 1. Januar \\n2021 bildet das Handels \\xad und Kooperationsabkommen \\ndie Basis für zukünftige Beziehungen.\\nDas Austrittsabkommen sieht beispielsweise für  \\nbritische Staatsangehörige sowie ihre Familienange \\xad\\nhörigen, die seit Ende 2020 dauerhaft in Deutschland \\nleben und arbeiten, einen vollumfänglichen Bestands \\xad\\nschutz ihrer Rechte vor. Bei Unionsbürgerinnen und \\nUnionsbürgern, die zum Beispiel in Großbritannien  \\ngearbeitet haben, nach Deutschland zurückkehren, \\nanschließend wieder in Deutschland arbeiten und sich \\nschließlich hier arbeitslos melden, können in der Regel \\nbritische Versicherungszeiten nach dem Austrittsab \\xad\\nkommen bzw. dem Handels \\xad und Kooperationsabkom \\xad\\nmen für einen deutschen Arbeitslosengeldanspruch \\nberücksichtigt werden.\\nWeitere Informationen finden Sie im Internet unter \\n» www.arbeitsagentur.de .\\n– Suchwort: BREXIT . Sie können sich außerdem von \\nder Brexit \\xadHotline der Bundesagentur für Arbeit (0228 \\n713\\xad2903 innerhalb Deutschlands und +49 228 713 \\xad\\n2903 aus dem Ausland) oder Ihrer Agentur für Arbeit \\nberaten lassen.',\n",
       " '8c00b0b2-0d36-4600-b4a2-7c2a68d06b43': 'Vorwort\\n4 BITTE BEACHTEN SIE\\nDieses Merkblatt ist eine Informationsbro \\xad\\nschüre, die einmal jährlich aktualisiert wird. \\nSie dient Ihrer allgemeinen Information und \\nkann nicht alle Bestimmungen erschöpfend \\ndarstellen. Wenden Sie sich bitte an Ihre \\nAgentur für Arbeit, wenn Sie weitere Fragen \\nhaben oder Unklarheiten beseitigen möch \\xad\\nten.\\nZum Thema Arbeitslosengeld und Auslands \\xad\\nbeschäftigung können Sie auch das Informa \\xad\\ntionsangebot der Zentralen Auslands \\xad und \\nFachvermittlung in Anspruch nehmen. Hier \\nerhalten Sie neben allgemeinen Informatio \\xad\\nnen zu grundlegenden Inhalten dieses Merk \\xad\\nblattes auch Informationen über Lebens \\xad und \\nArbeitsbedingungen im Ausland. Sie errei \\xad\\nchen diese über \\n» Telefon: 0228 713 13 13, über \\n» E-Mail: zav@arbeitsagentur.de  oder über \\nKlick im Internet unter: » http://www.zav.de .\\nDer Aktualitätsstand dieses Merkblattes \\nist auf der Rückseite der Broschüre ange\\xad\\ngeben.\\nUnsere datenschutzrechtlichen Hinweise \\n finden Sie unter \\n» www.arbeitsagentur.de/datenerhebung .',\n",
       " '9d5fc5e9-499c-4496-bdde-3a30eac1c202': '5Inhaltsverzeichnis\\nInhaltsverzeichnis\\nVorwort  2\\nErläuterung zur Zeichenverwendung  8\\n1 Überblick  9\\n2 Arbeitslosengeld nach deutschen \\n Rechts  vorschriften  13\\n3 Sie haben im Ausland  gearbeitet und  \\nwollen in Deutschland Arbeitslosengeld  \\nbeziehen?  15\\n3.1 Grundsatz: Zwischenbeschäftigung in \\n Deutschland  15\\n3.2 Ausnahmen: keine Zwischenbeschäftigung  \\nin Deutschland erforderlich  16\\n3.2.1  Überblick  16\\n3.2.2  „Echte“ Grenzgängerinnen bzw.  \\n„echte“ Grenzgänger  16\\n3.2.3  „Unechte“ Grenzgängerinnen  \\nbzw. „unechte“Grenzgänger  17\\n3.2.4  Entsandte Arbeitnehmerinnen  \\nbzw. „entsandte“Arbeitnehmer  18\\n3.3 Nachweis ausländischer Versicherungs \\xad und \\n Beschäftigungszeiten (Dokument PD U1)  19\\n3.4 Die Höhe des Arbeitslosengeldes  20\\n3.5 Weitergeltung deutscher Leistungs  ansprüche  21\\n3.6 Meldepflicht in Deutschland für Grenzgänger-\\ninnen bzw. Grenzgänger und Entsandte  21',\n",
       " 'ddc0736e-15f5-4227-a677-8ba857839f08': 'Inhaltsverzeichnis\\n64 Sie wollen im Ausland Arbeit suchen und \\nweiter Arbeits  losengeld beziehen?  22\\n4.1 Allgemeine Regelung  22\\n4.2 Wann haben Sie Anspruch auf Leistungs\\xad\\nmitnahme?  22\\n4.3 Wie beantragen Sie die Leistungsmitnahme  \\nund wie weisen Sie Ihre Berechtigung im  \\nLand der Arbeitsuche nach?  23\\n4.4 Wie hoch sind die Leistungen und wer zahlt  \\nsie aus?  24\\n4.5 Wartefrist  24\\n4.6 Meldung im Land der Arbeitsuche  24\\n4.7 Wie lange besteht ein Anspruch?  25\\n4.8 Verlängerung des Mitnahmezeitraums  \\nauf maximal 6 Monate  26\\n4.9 Leistungen bei Rückkehr nach Deutschland  26\\n4.10 Gestückelte Mitnahme des Leistungs  \\xad \\n anspruchs  27\\n4.11 Umstände, die den Leistungsanspruch  \\nim Ausland beeinflussen können  27\\n4.12 Wiederholte Arbeitsuche nach Verbrauch  \\nder Höchstdauer oder in einem anderen \\n Mitgliedsstaat  28\\n4.13 Erschöpfung des Anspruchs auf Arbeits\\xad\\nlosengeld im Mitnahmezeitraum\\u200a/\\u200aMitnahme  \\nvon Bürgergeld  28\\n4.14 Wie sind Kranken-, Pflege- und Renten -\\nversicherung geregelt?  29',\n",
       " 'eb0a76d7-a742-4e9d-b56c-9eea5dbf1676': '7Inhaltsverzeichnis\\n5 Sie haben in Deutschland  gearbeitet  \\nund haben als Grenzgängerin bzw.  \\nGrenzgänger im (benach  barten) Ausland  \\ngewohnt?  31\\n5.1 Zusätzliche Arbeitsuchendmeldung von \\n Grenzgängerinnen bzw. Grenzgängern im  \\nbisherigen Beschäftigungsstaat  31\\n5.2 Arbeitslosengeld ausnahmsweise  \\nvon Deutschland  32\\n5.3 Auswirkungen auf Ansprüche der Deutschen \\nRentenversicherung  32\\n6 Sonderregelungen  34\\n6.1 Drittstaatsangehörige  34\\n6.2 Staaten der früheren SFR Jugoslawien  \\n( außer Slowenien und Kroatien)  35\\n7 Was Sie sonst noch wissen sollten  37\\nAnhänge\\nAnhang 1: Zuständige Stellen  38\\nAnhang 2: Weitere Merkblätter  39',\n",
       " 'd7b9a01c-d15f-4e1a-9504-271fe5ef163b': 'Erläuterung zur Zeichenverwendung\\n8Erläuterung zur Zeichenver -\\nwendung\\n BITTE BEACHTEN SIE\\nHierauf müssen Sie besonders achten, ins \\xad\\nbesondere um für Sie negative Folgen ver \\xad\\nmeiden zu können.\\n ZUSAMMENFASSUNG\\nHier werden die wichtigsten Informationen kurz für Sie \\ngesammelt.\\n HINWEIS\\nHier erhalten Sie zusätzliche nützliche Informationen.\\n TIPP\\nHier erhalten Sie kleine Ratschläge, die vielleicht nütz \\xad\\nlich für Sie sind.\\n LINK\\nHier wird erläutert, wo Sie die Informationen im Internet \\nfinden.',\n",
       " 'c909fe77-64ed-4a9c-86d4-51a84044b795': '91 Überblick\\n1 Überblick\\nArbeitslosengeld nach internationalem Recht\\nder EU zur Arbeitslosenversicherung\\n– Verordnungen (EG) Nr. 883/2004 und 987/2009\\nRäumlicher Geltungsbereich:\\nBelgien, Bulgarien, Deutschland, Dänemark, Estland, \\nFinnland, Frankreich, Griechenland, Irland, Italien, Lett \\xad\\nland, Litauen, Luxemburg, Kroatien, Malta, Niederlan \\xad\\nde, Österreich, Polen, Portugal, Rumänien, Schweden, \\nSlowakei, Slowenien, Spanien, Tschechien, Ungarn, \\nZypern (griechischer Teil); die  Schweiz ist durch das ab \\n01.04.2012 angepasste sog. Sektorenabkommen an \\xad\\ngeschlossen und wird im Folgenden als Mitgliedstaat \\nbezeichnet;\\nIsland, Liechtenstein und Norwegen fallen ab \\n01.06.2012 als EWR \\xadStaaten ebenfalls unter den Gel \\xad\\ntungsbereich der Verordnungen und werden als Mit \\xad\\ngliedsstaaten bezeichnet. \\nDrittstaatsangehörige (Personen, die nicht Staatsange \\xad\\nhörige eines Mitgliedstaats sind) s. » Ziff. 6.1 ;\\nZweiseitige (bilaterale) Abkommen über Arbeits -\\nlosenversicherung zwischen der Bundesrepublik \\nDeutschland und\\n•  Jugoslawien: weiterhin gültig für die Staaten der \\n früheren SFR Jugoslawien (außer Slowenien und \\nKroatien)',\n",
       " '495702a8-4a41-4b89-ac60-4e2e430f9e55': '1 Überblick\\n10Besonderheiten beim Geltungsbereich  \\ndes EU-Rechts\\nDänemark  ohne Grönland und ohne die Färöer \\nInseln \\nFinnland  einschließlich  der Ålandinseln\\nFrankreich  einschließlich  der Übersee\\xad\\nDepartements, Französisch \\xadGuaya \\xad\\nna, Martinique, Guadeloupe, Réuni \\xad\\non, Mayotte (seit 01.01.14) und der \\nÜbersee \\xad Körperschaft Saint \\xadMartin\\n ohne die überseeischen Territorien \\n(französische Gebiete in Australien \\nund der Antarktis, Französisch \\xadPoly\\xad\\nnesien, Neukaledonien, Saint Pierre \\nund Miquelon, Wallis und Futuna) \\nVereinigtes  Die Verordnungen gelten einge \\xad\\nKönigreich  schränkt für das Vereinigte König \\xad\\nGroßbritannien  reich Großbritannien einschließlich \\nNordirland und Gibraltar, aber ohne die Kanalinseln (Alderney\\n, Guernsey, \\nJersey) und die Insel Man. (siehe Vorwort)\\nNorwegen\\n ohne Svalbard (Spitzbergen und die Bäreninsel) \\nPortugal  einschließlich  der autonomen \\n Regionen Azoren und Madeira\\nSpanien  einschließlich  der Balearen,  \\nder Kanarischen Inseln sowie der \\nnordafrikanischen Städte Ceuta  \\nund Melilla\\nZypern  ohne  den Nordteil Zyperns, in dem \\ndie Republik Zypern keine Kontrolle \\nausübt\\nW\\nenn Sie deutsches Arbeitslosengeld beziehen möch \\xad\\nten, müssen Sie unter anderem zwei Grundvorausset \\xad\\nzungen erfüllen:',\n",
       " 'd84b5760-ca77-496d-908b-0e0cf60006f6': '111 Überblick\\n•  Sie müssen den Vermittlungsbemühungen Ihrer \\n(deutschen) Agentur für Arbeit zur Verfügung  ste\\xad\\nhen. Diese Voraussetzung können Sie nur dann er \\xad\\nfüllen, wenn Sie Vorschlägen Ihrer Agentur für Arbeit \\nzeit\\xad und ortsnah Folge leisten und z.  B. Ihre Agentur \\nunverzüglich aufsuchen können.\\n•  Sie müssen in Deutschland versicherungspflich -\\ntig beschäftigt  gewesen sein.\\nAufgrund von Vorschriften des  zwischen- und \\nüberstaatlichen Rechts  gibt es Ausnahmen von den \\noben genannten Grundvoraussetzungen:\\n•  Unter bestimmten Voraussetzungen können auslän \\xad\\ndische Beschäftigungszeiten und Zeiten selbstständi \\xad\\nger Erwerbstätigkeit für den Erwerb eines deutschen \\nLeistungsanspruchs berücksichtigt werden  \\n(s. » Ziffer 3 ).\\n•  Sie können im Ausland Arbeit suchen und deutsches \\nArbeitslosengeld von Ihrer Agentur für Arbeit weiter \\nbeziehen. Die Voraussetzungen werden in » Ziffer 4  \\nerläutert.\\n•  Sonderregelungen gibt es für:\\n•  Drittstaatsangehörige (s. » Ziff. 6.1 ),\\n• die Staaten der früheren Sozialistischen Förderati \\xad\\nven Republik (SFR) Jugoslawien (außer Slowenien \\nund Kroatien) (s. » Ziff. 6.2 ),\\n•  Flüchtlinge nach der Genfer Flüchtlingskonvention \\nund Staatenlose nach dem New Yorker Abkommen \\nsind in die Regelungen des EU \\xadRechts mit einbe \\xad\\nzogen.\\n ZUSAMMENFASSUNG\\nBeschäftigungen, die nicht in einem Mitgliedstaat oder \\nin einem Staat der früheren SFR Jugoslawien ausgeübt \\nwurden, zum Beispiel Beschäftigungen in den USA, \\nkönnen für einen Anspruch auf deutsches Arbeitslosen \\xad\\ngeld nicht berücksichtigt werden.'}"
      ]
     },
     "execution_count": 44,
     "metadata": {},
     "output_type": "execute_result"
    }
   ],
   "source": [
    "val_corpus_small = dict()\n",
    "i = 0\n",
    "for key, value in val_corpus.items():\n",
    "    val_corpus_small[key] = value\n",
    "    i += 1\n",
    "    if i > 10:\n",
    "        break\n",
    "\n",
    "val_corpus_small"
   ]
  },
  {
   "cell_type": "code",
   "execution_count": 45,
   "id": "84780125-1c09-4904-bce1-23586d012c60",
   "metadata": {
    "scrolled": true
   },
   "outputs": [
    {
     "name": "stderr",
     "output_type": "stream",
     "text": [
      "100%|██████████| 11/11 [00:41<00:00,  3.73s/it]\n"
     ]
    }
   ],
   "source": [
    "train_queries, train_relevant_docs = generate_queries(train_corpus_small)"
   ]
  },
  {
   "cell_type": "code",
   "execution_count": 47,
   "id": "9452dcfc-7084-496f-87eb-8c7be6a6dc6a",
   "metadata": {
    "scrolled": true
   },
   "outputs": [
    {
     "name": "stderr",
     "output_type": "stream",
     "text": [
      "100%|██████████| 11/11 [00:42<00:00,  3.84s/it]\n"
     ]
    }
   ],
   "source": [
    "val_queries, val_relevant_docs = generate_queries(val_corpus_small)"
   ]
  },
  {
   "cell_type": "code",
   "execution_count": 48,
   "id": "96087eb2-607b-4115-ab37-426bfcf6af1c",
   "metadata": {
    "tags": []
   },
   "outputs": [],
   "source": [
    "with open(TRAIN_QUERIES_FPATH, 'w+') as f:\n",
    "    json.dump(train_queries, f)\n",
    "\n",
    "with open(TRAIN_RELEVANT_DOCS_FPATH, 'w+') as f:\n",
    "    json.dump(train_relevant_docs, f)\n",
    "\n",
    "with open(VAL_QUERIES_FPATH, 'w+') as f:\n",
    "    json.dump(val_queries, f)\n",
    "\n",
    "with open(VAL_RELEVANT_DOCS_FPATH, 'w+') as f:\n",
    "    json.dump(val_relevant_docs, f)"
   ]
  },
  {
   "cell_type": "markdown",
   "id": "71453dc5-25e0-45bf-9d86-5e72b3a891d5",
   "metadata": {},
   "source": [
    "## Merge data\n",
    "\n",
    "Reorganize the data for easier accessing the training and evaluation datasets"
   ]
  },
  {
   "cell_type": "code",
   "execution_count": 49,
   "id": "3f465498-daa5-41b3-9ea3-8114254832b7",
   "metadata": {},
   "outputs": [],
   "source": [
    "TRAIN_DATASET_FPATH = 'afa_docs/train_val_data/train_dataset.json'\n",
    "VAL_DATASET_FPATH = 'afa_docs/train_val_data/val_dataset.json'"
   ]
  },
  {
   "cell_type": "code",
   "execution_count": 50,
   "id": "430e34b0-699d-4eec-a26d-6d100d81cca4",
   "metadata": {},
   "outputs": [],
   "source": [
    "train_dataset = {\n",
    "    'queries': train_queries,\n",
    "    'corpus': train_corpus,\n",
    "    'relevant_docs': train_relevant_docs,\n",
    "}\n",
    "\n",
    "val_dataset = {\n",
    "    'queries': val_queries,\n",
    "    'corpus': val_corpus,\n",
    "    'relevant_docs': val_relevant_docs,\n",
    "}"
   ]
  },
  {
   "cell_type": "code",
   "execution_count": 51,
   "id": "b09071a2-6c32-408a-b971-39b5d6e42486",
   "metadata": {},
   "outputs": [],
   "source": [
    "with open(TRAIN_DATASET_FPATH, 'w+') as f:\n",
    "    json.dump(train_dataset, f)\n",
    "\n",
    "with open(VAL_DATASET_FPATH, 'w+') as f:\n",
    "    json.dump(val_dataset, f)"
   ]
  }
 ],
 "metadata": {
  "kernelspec": {
   "display_name": "Python 3 (ipykernel)",
   "language": "python",
   "name": "python3"
  },
  "language_info": {
   "codemirror_mode": {
    "name": "ipython",
    "version": 3
   },
   "file_extension": ".py",
   "mimetype": "text/x-python",
   "name": "python",
   "nbconvert_exporter": "python",
   "pygments_lexer": "ipython3",
   "version": "3.10.12"
  }
 },
 "nbformat": 4,
 "nbformat_minor": 5
}
