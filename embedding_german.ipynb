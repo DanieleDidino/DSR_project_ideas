{
 "cells": [
  {
   "cell_type": "markdown",
   "metadata": {},
   "source": [
    "\n",
    "Resources:\n",
    "- [Massive Text Embedding Benchmark (MTEB) Leaderboard](https://huggingface.co/spaces/mteb/leaderboard)"
   ]
  },
  {
   "cell_type": "code",
   "execution_count": 1,
   "metadata": {},
   "outputs": [
    {
     "name": "stderr",
     "output_type": "stream",
     "text": [
      "/home/daniele/Desktop/Projects/DSR_project_ideas/venv_DSR_project_ideas/lib/python3.10/site-packages/tqdm/auto.py:21: TqdmWarning: IProgress not found. Please update jupyter and ipywidgets. See https://ipywidgets.readthedocs.io/en/stable/user_install.html\n",
      "  from .autonotebook import tqdm as notebook_tqdm\n"
     ]
    }
   ],
   "source": [
    "from sentence_transformers import SentenceTransformer\n",
    "import pickle"
   ]
  },
  {
   "cell_type": "code",
   "execution_count": 2,
   "metadata": {},
   "outputs": [],
   "source": [
    "model = SentenceTransformer('all-MiniLM-L6-v2')"
   ]
  },
  {
   "cell_type": "code",
   "execution_count": 3,
   "metadata": {},
   "outputs": [
    {
     "name": "stdout",
     "output_type": "stream",
     "text": [
      "Sentence: This framework generates embeddings for each input sentence\n",
      "Embedding: [-0.01371739 -0.04285153 -0.0156286   0.01405375  0.03955379  0.1217963\n",
      "  0.02943335 -0.03175242  0.03549597 -0.07931399]\n",
      "Embedding shape: (384,)\n",
      "\n",
      "Sentence: Sentences are passed as a list of string.\n",
      "Embedding: [ 0.05645249  0.05500242  0.03137961  0.03394853 -0.03542472  0.08346678\n",
      "  0.09888007  0.00727543 -0.00668654 -0.0076581 ]\n",
      "Embedding shape: (384,)\n",
      "\n",
      "Sentence: The quick brown fox jumps over the lazy dog.\n",
      "Embedding: [ 0.04393355  0.05893442  0.04817839  0.0775481   0.02674441 -0.03762956\n",
      " -0.00260509 -0.05994305 -0.00249598  0.02207284]\n",
      "Embedding shape: (384,)\n",
      "\n"
     ]
    }
   ],
   "source": [
    "#Our sentences we like to encode\n",
    "sentences = ['This framework generates embeddings for each input sentence',\n",
    "    'Sentences are passed as a list of string.',\n",
    "    'The quick brown fox jumps over the lazy dog.']\n",
    "\n",
    "#Sentences are encoded by calling model.encode()\n",
    "embeddings = model.encode(sentences)\n",
    "\n",
    "#Print the embeddings\n",
    "for sentence, embedding in zip(sentences, embeddings):\n",
    "    print(f\"Sentence: {sentence}\")\n",
    "    print(f\"Embedding: {embedding[:10]}\")\n",
    "    print(f\"Embedding shape: {embedding.shape}\\n\")"
   ]
  },
  {
   "cell_type": "code",
   "execution_count": 4,
   "metadata": {},
   "outputs": [],
   "source": [
    "model_multi_lang = SentenceTransformer(\"distiluse-base-multilingual-cased-v1\")"
   ]
  },
  {
   "cell_type": "code",
   "execution_count": 5,
   "metadata": {},
   "outputs": [
    {
     "name": "stdout",
     "output_type": "stream",
     "text": [
      "Sentence: Bei Beendigung eines Arbeits- oder Ausbildungsver hältnisses sind Sie verpflichtet, sich spätestens drei Monate vorher arbeitsuchend zu melden.\n",
      "Embedding: [ 0.02625179  0.01115136 -0.01026822 -0.06133845  0.02682867 -0.03840181\n",
      "  0.04899191  0.09285875  0.02274641 -0.02847939]\n",
      "Embedding shape: (512,)\n",
      "\n",
      "Sentence: Erfahren Sie von der Beendigung weniger als drei Monate vor her, müssen Sie sich innerhalb von drei Tagen melden.\n",
      "Embedding: [-0.03790323 -0.01957224  0.0362604  -0.03070089 -0.00417996 -0.0769087\n",
      "  0.08025548  0.0462033   0.06243161  0.02552238]\n",
      "Embedding shape: (512,)\n",
      "\n",
      "Sentence: Sie können sich online, persönlich, telefonisch oder schriftlich arbeitsuchend melden.\n",
      "Embedding: [-0.08799731  0.02537259 -0.0224913  -0.06667131  0.03407011  0.02214984\n",
      "  0.01853287 -0.02886866  0.00283347 -0.02214039]\n",
      "Embedding shape: (512,)\n",
      "\n",
      "Sentence: Melden Sie sich nicht rechtzeitig, droht eine Sperrzeit.\n",
      "Embedding: [-0.04047302 -0.02856058 -0.00867569  0.01239634 -0.03007405 -0.02866238\n",
      "  0.02090187  0.01803276  0.00190812  0.03162815]\n",
      "Embedding shape: (512,)\n",
      "\n",
      "Sentence: Bei einem betrieblichen oder schulischen Ausbildungsverhältnis gilt die Pflicht zur Meldung nicht.\n",
      "Embedding: [ 0.00995935 -0.0180454  -0.02219768 -0.02565681 -0.01893226  0.02435496\n",
      "  0.05224701  0.04119255 -0.00385539 -0.00449206]\n",
      "Embedding shape: (512,)\n",
      "\n"
     ]
    }
   ],
   "source": [
    "#Our sentences we like to encode\n",
    "ge_sentences = [\n",
    "    \"Bei Beendigung eines Arbeits- oder Ausbildungsver hältnisses sind Sie verpflichtet, sich spätestens drei Monate vorher arbeitsuchend zu melden.\",\n",
    "    \"Erfahren Sie von der Beendigung weniger als drei Monate vor her, müssen Sie sich innerhalb von drei Tagen melden.\",\n",
    "    \"Sie können sich online, persönlich, telefonisch oder schriftlich arbeitsuchend melden.\",\n",
    "    \"Melden Sie sich nicht rechtzeitig, droht eine Sperrzeit.\",\n",
    "    \"Bei einem betrieblichen oder schulischen Ausbildungsverhältnis gilt die Pflicht zur Meldung nicht.\"]\n",
    "\n",
    "#Sentences are encoded by calling model_multi_lang.encode()\n",
    "ge_embeddings = model_multi_lang.encode(ge_sentences)\n",
    "\n",
    "#Print the embeddings\n",
    "for sentence, embedding in zip(ge_sentences, ge_embeddings):\n",
    "    print(f\"Sentence: {sentence}\")\n",
    "    print(f\"Embedding: {embedding[:10]}\")\n",
    "    print(f\"Embedding shape: {embedding.shape}\\n\")"
   ]
  },
  {
   "cell_type": "markdown",
   "metadata": {},
   "source": [
    "# Store and load embeddings"
   ]
  },
  {
   "cell_type": "code",
   "execution_count": 6,
   "metadata": {},
   "outputs": [],
   "source": [
    "#Store sentences & embeddings\n",
    "with open(\"embeddings/embeddings.pkl\", \"wb\") as fOut:\n",
    "    pickle.dump({\"sentences\": ge_sentences, \"embeddings\": ge_embeddings}, fOut, protocol=pickle.HIGHEST_PROTOCOL)"
   ]
  },
  {
   "cell_type": "code",
   "execution_count": 7,
   "metadata": {},
   "outputs": [],
   "source": [
    "#Load sentences & embeddings\n",
    "with open(\"embeddings/embeddings.pkl\", \"rb\") as fIn:\n",
    "    stored_data = pickle.load(fIn)\n",
    "    stored_sentences = stored_data['sentences']\n",
    "    stored_embeddings = stored_data['embeddings']"
   ]
  },
  {
   "cell_type": "code",
   "execution_count": 8,
   "metadata": {},
   "outputs": [
    {
     "data": {
      "text/plain": [
       "['Bei Beendigung eines Arbeits- oder Ausbildungsver hältnisses sind Sie verpflichtet, sich spätestens drei Monate vorher arbeitsuchend zu melden.',\n",
       " 'Erfahren Sie von der Beendigung weniger als drei Monate vor her, müssen Sie sich innerhalb von drei Tagen melden.',\n",
       " 'Sie können sich online, persönlich, telefonisch oder schriftlich arbeitsuchend melden.',\n",
       " 'Melden Sie sich nicht rechtzeitig, droht eine Sperrzeit.',\n",
       " 'Bei einem betrieblichen oder schulischen Ausbildungsverhältnis gilt die Pflicht zur Meldung nicht.']"
      ]
     },
     "execution_count": 8,
     "metadata": {},
     "output_type": "execute_result"
    }
   ],
   "source": [
    "stored_sentences"
   ]
  },
  {
   "cell_type": "markdown",
   "metadata": {},
   "source": [
    "# import pdf"
   ]
  },
  {
   "cell_type": "code",
   "execution_count": 1,
   "metadata": {},
   "outputs": [],
   "source": [
    "# import openai\n",
    "# import environ\n",
    "from llama_index import SimpleDirectoryReader\n",
    "from llama_index import VectorStoreIndex\n",
    "# from llama_index.tools import QueryEngineTool, ToolMetadata\n",
    "# from llama_index.query_engine import SubQuestionQueryEngine\n",
    "# from llama_hub.wikipedia.base import WikipediaReader\n",
    "# import wikipedia\n",
    "# \n",
    "# import nest_asyncio\n",
    "# nest_asyncio.apply()\n",
    "from IPython.display import Markdown, display"
   ]
  },
  {
   "cell_type": "code",
   "execution_count": 2,
   "metadata": {},
   "outputs": [],
   "source": [
    "doc_path = \"docs/merkblatt-fuer-arbeitslose_ba036520.pdf\"\n",
    "\n",
    "doc = SimpleDirectoryReader(input_files=[doc_path]).load_data()"
   ]
  },
  {
   "cell_type": "code",
   "execution_count": 11,
   "metadata": {},
   "outputs": [
    {
     "data": {
      "text/plain": [
       "103"
      ]
     },
     "execution_count": 11,
     "metadata": {},
     "output_type": "execute_result"
    }
   ],
   "source": [
    "len(doc)"
   ]
  },
  {
   "cell_type": "code",
   "execution_count": 12,
   "metadata": {},
   "outputs": [
    {
     "data": {
      "text/plain": [
       "[Document(id_='f6d428aa-e07b-47a9-bc28-7ba903ae2a5d', embedding=None, metadata={'page_label': '1', 'file_name': 'merkblatt-fuer-arbeitslose_ba036520.pdf'}, excluded_embed_metadata_keys=[], excluded_llm_metadata_keys=[], relationships={}, hash='2d9a660e58719a47a0a844e0a4f2e1aeab80a2910c2e579c81af05daf01afe99', text='49466_BA_MB_1.indd   1 10.02.2015   13:20:58Agentur für Arbeit  \\nMusterstadthausen  Merkblatt\\n1Merkblatt für\\nArbeitslose \\nIhre Rechte –\\nIhre Pflichten ', start_char_idx=None, end_char_idx=None, text_template='{metadata_str}\\n\\n{content}', metadata_template='{key}: {value}', metadata_seperator='\\n'),\n",
       " Document(id_='b49564a9-0edc-47fd-b284-9a2797bb717c', embedding=None, metadata={'page_label': '2', 'file_name': 'merkblatt-fuer-arbeitslose_ba036520.pdf'}, excluded_embed_metadata_keys=[], excluded_llm_metadata_keys=[], relationships={}, hash='96291ef98137c571c20b29d30df5a6c087563271148520a97ce911686ac9592a', text='3 \\nIhre Agentur für Arbeit hält eine Fülle von \\n Informationen für Sie bereit. \\nNeben den Informationen in diesem Merkblatt finden \\nSie unter » www.arbeitsagentur.de  unser umfassen \\xad\\ndes Online-Angebot der „eServices “ sowie ein \\n interessantes Informationsangebot aus allen Aufgaben \\xad\\nbereichen der Bundesagentur für Arbeit. Sie erhalten \\nwertvolle Tipps zu den Themen Ausbil \\xad\\ndung, Berufs- und Studienwahl, Weiter \\xad\\nbildung, wichtige Informationen über \\nGeldleistungen sowie ein umfangreiches \\nServiceangebot.\\nÜber das Job- und Serviceportal  \\n» www.arbeitsagentur.de  können Sie beispielsweise:\\n•  sich arbeitsuchend und arbeitslos melden,\\n•  Geldleistungen, wie Arbeitslosengeld, beantragen\\n•  Fragen zum Arbeitslosengeld unserem Chatbot \\n stellen\\n• Stellenangebote über die Jobsuche finden\\n• Vermittlungsvorschläge und Stellenempfehlungen \\neinsehen und sich bewerben\\n•  Bescheide einsehen \\n•  die Postfachnachricht nutzen – eine sichere \\n Alternative zur E-Mail \\nund vieles mehr\\nWenden Sie sich bitte an das Service Center bzw. den \\nEmpfang in Ihrer Agentur für Arbeit, wenn Sie weitere \\nInformationen über das Verfahren und die Vorteile \\n erhalten möchten. \\n', start_char_idx=None, end_char_idx=None, text_template='{metadata_str}\\n\\n{content}', metadata_template='{key}: {value}', metadata_seperator='\\n'),\n",
       " Document(id_='dadf9fe5-e3a6-496a-89e6-839e3b3520ac', embedding=None, metadata={'page_label': '3', 'file_name': 'merkblatt-fuer-arbeitslose_ba036520.pdf'}, excluded_embed_metadata_keys=[], excluded_llm_metadata_keys=[], relationships={}, hash='aeda75aad73c80a3f3bd19e22ae124bd72a477c3c2f1f78dd2d2dc382b60e4bc', text=' \\n4Und jetzt auch per App: Sie können ab sofort jederzeit \\nund an jedem Ort auf ausgewählte Funktionen Ihres \\nOnline-Profils über die neue Kunden-App „BA-mobil“  \\nzugreifen. \\n \\nInformationen zur App finden Sie im Internet unter: \\nhttp://www.arbeitsagentur.de »  Arbeitslos und \\n\\xad Arbeit\\xadfinden\\xad»\\xadAlle \\xad Infos \\xad und \\xad Services \\xad » \\xad Machen \\xad\\nSie Ihren nächsten Schritt »  BA-Mobil: Die Kunden-\\nApp der BA\\nAm Ende dieses Merkblattes finden Sie eine Übersicht \\nüber weitere bei Ihrer Agentur für Arbeit erhältliche \\nMerk- und Faltblätter. Diese finden Sie auch unter \\n» www.arbeitsagentur.de .', start_char_idx=None, end_char_idx=None, text_template='{metadata_str}\\n\\n{content}', metadata_template='{key}: {value}', metadata_seperator='\\n'),\n",
       " Document(id_='401a37c5-5cbd-48a9-84e0-1ca9662dc6a0', embedding=None, metadata={'page_label': '4', 'file_name': 'merkblatt-fuer-arbeitslose_ba036520.pdf'}, excluded_embed_metadata_keys=[], excluded_llm_metadata_keys=[], relationships={}, hash='adafaccb4373d8f95015de0d9d6bd57369981e2b1427b2b318437713d0a13848', text='5Vorwort\\nVorwort\\nDieses Merkblatt informiert Sie über Ihre wichtigsten \\nRechte und Pflichten nach dem Dritten Buch Sozial -\\ngesetzbuch (SGB III), wenn Sie Arbeitslosengeld \\n beantragt haben bzw. bereits beziehen . Es soll Sie \\nauch dabei unterstützen, die Antragsformulare schnell \\nund korrekt auszufüllen und die erbetenen Angaben im \\nerforderlichen Umfang zu belegen.\\nDas Merkblatt informiert Sie über\\n•  Ihre Pflichten zur Beendigung der Arbeitslosigkeit \\n(Eigen  bemühungen und Verfügbarkeit),\\n•  die weiteren Anspruchsvoraussetzungen, die Sie \\n erfüllen müssen, um Arbeitslosengeld erhalten zu \\nkönnen,\\n•  die Bezugsdauer von Arbeitslosengeld,\\n•  die Höhe des Arbeitslosengeldes,\\n•  das Arbeitslosengeld während einer beruflichen \\nWeiter  bildung,\\n•  Ihre Mitwirkungs- und Mitteilungspflichten.\\nEs enthält auch wichtige Informationen für den Fall, \\ndass Sie keine Leistungen beantragen möchten oder \\nerhalten können. \\nBesondere Abschnitte behandeln die Sozialversiche \\xad\\nrung der Leistungsbezieherinnen/Leistungsbezieher \\nund den Datenschutz. \\nEin Abschnitt über weitere Hilfen enthält ergänzende \\nHinweise auf andere Leistungen der Bundesagentur für \\nArbeit und Leistungen anderer Träger. \\nDort finden Sie auch Informationen zu den Leistungen \\nder Grundsicherung für Arbeitsuchende (Bürger-\\ngeld) , auf die ein Anspruch bestehen kann, wenn \\nArbeits  losengeld nicht, vorübergehend nicht oder nicht \\nin ausreichender Höhe gezahlt wird.', start_char_idx=None, end_char_idx=None, text_template='{metadata_str}\\n\\n{content}', metadata_template='{key}: {value}', metadata_seperator='\\n'),\n",
       " Document(id_='2a1e65d6-b5c6-4acc-b281-0630a73041a6', embedding=None, metadata={'page_label': '5', 'file_name': 'merkblatt-fuer-arbeitslose_ba036520.pdf'}, excluded_embed_metadata_keys=[], excluded_llm_metadata_keys=[], relationships={}, hash='0c8a57ee4f5b2fa53dba2d875d2acfc3e423002cddea6a0797c0bf4778513227', text='Vorwort\\n6Das Merkblatt Bürgergeld – Grundsicherung für \\nArbeit  suchende – SGB II  können Sie bei dem für Sie \\nzuständigen Jobcenter erhalten.\\n BITTE BEACHTEN SIE\\nDieses Merkblatt ist eine Informationsbro \\xad\\nschüre, die jährlich aktualisiert wird. Sie \\ndient Ihrer allgemeinen Information und kann \\nnicht alle Bestimmungen erschöpfend dar \\xad\\nstellen.\\nWenden Sie sich bitte an das Service Center \\noder den Empfang in Ihrer Agentur für Arbeit, \\nwenn Sie weitere Fragen haben oder Unklar \\xad\\nheiten beseitigen möchten.\\nTelefonisch erreichen Sie Ihre Agentur für \\nArbeit montags – freitags von 8:00 bis \\n18:00 Uhr über die gebührenfreie Service-\\nrufnummer 0800 4 5555 00.\\nDer Aktualitätsstand dieses Merkblattes ist \\nauf der Rückseite der Broschüre angegeben.', start_char_idx=None, end_char_idx=None, text_template='{metadata_str}\\n\\n{content}', metadata_template='{key}: {value}', metadata_seperator='\\n')]"
      ]
     },
     "execution_count": 12,
     "metadata": {},
     "output_type": "execute_result"
    }
   ],
   "source": [
    "doc[:5]"
   ]
  },
  {
   "cell_type": "code",
   "execution_count": 13,
   "metadata": {},
   "outputs": [
    {
     "data": {
      "text/plain": [
       "{'page_label': '6', 'file_name': 'merkblatt-fuer-arbeitslose_ba036520.pdf'}"
      ]
     },
     "execution_count": 13,
     "metadata": {},
     "output_type": "execute_result"
    }
   ],
   "source": [
    "doc[5].metadata"
   ]
  },
  {
   "cell_type": "code",
   "execution_count": 14,
   "metadata": {},
   "outputs": [
    {
     "data": {
      "text/markdown": [
       "7Das Wichtigste vorweg:\n",
       "12 Punkte, die Sie sich merken sollten!\n",
       "• Bei Beendigung eines Arbeits- oder Ausbildungsver ­\n",
       "hältnisses sind Sie verpflichtet, sich spätestens drei \n",
       "Monate vorher arbeitsuchend zu melden. Erfahren \n",
       "Sie von der Beendigung weniger als drei Monate vor ­\n",
       "her, müssen Sie sich innerhalb von drei Tagen mel ­\n",
       "den. Sie können sich online, persönlich, telefonisch \n",
       "oder schriftlich arbeitsuchend melden. Melden Sie \n",
       "sich nicht rechtzeitig, droht eine Sperrzeit. Bei einem \n",
       "betrieb  lichen oder schulischen Ausbildungsverhältnis \n",
       "gilt die Pflicht zur Meldung nicht.\n",
       "Weitere Hinweise dazu finden Sie in » Abschnitt 1 .\n",
       "• Arbeitslosengeld wird frühestens von dem Tag an \n",
       " gezahlt, an dem Sie sich online im Fachportal der \n",
       "Bundesagentur für Arbeit (auf » arbeitsagentur.de \n",
       "» Menü » Alle eServices anzeigen » Arbeitslos \n",
       "melden ) oder persönlich bei Ihrer Agentur für Arbeit \n",
       "arbeitslos melden.\n",
       "• Um Beschäftigungslosigkeit nicht eintreten zu lassen \n",
       "oder zu beenden, sind Sie verpflichtet, eigenverant ­\n",
       "wortlich nach einer Beschäftigung zu suchen, eine \n",
       "zumutbare Beschäftigung aufzunehmen oder an \n",
       " einer beruflichen Eingliederungsmaßnahme teilzu ­\n",
       "nehmen.\n",
       "Auf Verlangen der Agentur für Arbeit müssen Sie Ihre \n",
       "Eigenbemühungen nachweisen. Weitere Hinweise \n",
       "dazu finden Sie in » Abschnitt 2.4 .Das Wichtigste vorweg"
      ],
      "text/plain": [
       "<IPython.core.display.Markdown object>"
      ]
     },
     "metadata": {},
     "output_type": "display_data"
    }
   ],
   "source": [
    "display(Markdown(f\"{doc[5].text}\"))"
   ]
  },
  {
   "cell_type": "code",
   "execution_count": 3,
   "metadata": {},
   "outputs": [
    {
     "name": "stdout",
     "output_type": "stream",
     "text": [
      "******\n",
      "Could not load OpenAI model. Using default LlamaCPP=llama2-13b-chat. If you intended to use OpenAI, please check your OPENAI_API_KEY.\n",
      "Original error:\n",
      "No API key found for OpenAI.\n",
      "Please set either the OPENAI_API_KEY environment variable or openai.api_key prior to initialization.\n",
      "API keys can be found or created at https://platform.openai.com/account/api-keys\n",
      "\n",
      "******\n"
     ]
    },
    {
     "name": "stderr",
     "output_type": "stream",
     "text": [
      "gguf_init_from_file: invalid magic number 67676a74\n",
      "error loading model: llama_model_loader: failed to load model from /tmp/llama_index/models/llama-2-13b-chat.ggmlv3.q4_0.bin\n",
      "\n",
      "llama_load_model_from_file: failed to load model\n"
     ]
    },
    {
     "ename": "AssertionError",
     "evalue": "",
     "output_type": "error",
     "traceback": [
      "\u001b[0;31m---------------------------------------------------------------------------\u001b[0m",
      "\u001b[0;31mAssertionError\u001b[0m                            Traceback (most recent call last)",
      "Cell \u001b[0;32mIn[3], line 1\u001b[0m\n\u001b[0;32m----> 1\u001b[0m index \u001b[39m=\u001b[39m VectorStoreIndex\u001b[39m.\u001b[39;49mfrom_documents(doc)\n",
      "File \u001b[0;32m~/Desktop/Projects/DSR_project_ideas/venv_DSR_project_ideas/lib/python3.10/site-packages/llama_index/indices/base.py:92\u001b[0m, in \u001b[0;36mBaseIndex.from_documents\u001b[0;34m(cls, documents, storage_context, service_context, show_progress, **kwargs)\u001b[0m\n\u001b[1;32m     84\u001b[0m \u001b[39m\u001b[39m\u001b[39m\"\"\"Create index from documents.\u001b[39;00m\n\u001b[1;32m     85\u001b[0m \n\u001b[1;32m     86\u001b[0m \u001b[39mArgs:\u001b[39;00m\n\u001b[0;32m   (...)\u001b[0m\n\u001b[1;32m     89\u001b[0m \n\u001b[1;32m     90\u001b[0m \u001b[39m\"\"\"\u001b[39;00m\n\u001b[1;32m     91\u001b[0m storage_context \u001b[39m=\u001b[39m storage_context \u001b[39mor\u001b[39;00m StorageContext\u001b[39m.\u001b[39mfrom_defaults()\n\u001b[0;32m---> 92\u001b[0m service_context \u001b[39m=\u001b[39m service_context \u001b[39mor\u001b[39;00m ServiceContext\u001b[39m.\u001b[39;49mfrom_defaults()\n\u001b[1;32m     93\u001b[0m docstore \u001b[39m=\u001b[39m storage_context\u001b[39m.\u001b[39mdocstore\n\u001b[1;32m     95\u001b[0m \u001b[39mwith\u001b[39;00m service_context\u001b[39m.\u001b[39mcallback_manager\u001b[39m.\u001b[39mas_trace(\u001b[39m\"\u001b[39m\u001b[39mindex_construction\u001b[39m\u001b[39m\"\u001b[39m):\n",
      "File \u001b[0;32m~/Desktop/Projects/DSR_project_ideas/venv_DSR_project_ideas/lib/python3.10/site-packages/llama_index/indices/service_context.py:155\u001b[0m, in \u001b[0;36mServiceContext.from_defaults\u001b[0;34m(cls, llm_predictor, llm, prompt_helper, embed_model, node_parser, llama_logger, callback_manager, system_prompt, query_wrapper_prompt, chunk_size, chunk_overlap, context_window, num_output, chunk_size_limit)\u001b[0m\n\u001b[1;32m    153\u001b[0m         \u001b[39mraise\u001b[39;00m \u001b[39mValueError\u001b[39;00m(\u001b[39m\"\u001b[39m\u001b[39mCannot specify both llm and llm_predictor\u001b[39m\u001b[39m\"\u001b[39m)\n\u001b[1;32m    154\u001b[0m     llm \u001b[39m=\u001b[39m resolve_llm(llm)\n\u001b[0;32m--> 155\u001b[0m llm_predictor \u001b[39m=\u001b[39m llm_predictor \u001b[39mor\u001b[39;00m LLMPredictor(llm\u001b[39m=\u001b[39;49mllm)\n\u001b[1;32m    156\u001b[0m \u001b[39mif\u001b[39;00m \u001b[39misinstance\u001b[39m(llm_predictor, LLMPredictor):\n\u001b[1;32m    157\u001b[0m     llm_predictor\u001b[39m.\u001b[39mllm\u001b[39m.\u001b[39mcallback_manager \u001b[39m=\u001b[39m callback_manager\n",
      "File \u001b[0;32m~/Desktop/Projects/DSR_project_ideas/venv_DSR_project_ideas/lib/python3.10/site-packages/llama_index/llm_predictor/base.py:95\u001b[0m, in \u001b[0;36mLLMPredictor.__init__\u001b[0;34m(self, llm, callback_manager, system_prompt, query_wrapper_prompt)\u001b[0m\n\u001b[1;32m     87\u001b[0m \u001b[39mdef\u001b[39;00m \u001b[39m__init__\u001b[39m(\n\u001b[1;32m     88\u001b[0m     \u001b[39mself\u001b[39m,\n\u001b[1;32m     89\u001b[0m     llm: Optional[LLMType] \u001b[39m=\u001b[39m \u001b[39m\"\u001b[39m\u001b[39mdefault\u001b[39m\u001b[39m\"\u001b[39m,\n\u001b[0;32m   (...)\u001b[0m\n\u001b[1;32m     92\u001b[0m     query_wrapper_prompt: Optional[BasePromptTemplate] \u001b[39m=\u001b[39m \u001b[39mNone\u001b[39;00m,\n\u001b[1;32m     93\u001b[0m ) \u001b[39m-\u001b[39m\u001b[39m>\u001b[39m \u001b[39mNone\u001b[39;00m:\n\u001b[1;32m     94\u001b[0m \u001b[39m    \u001b[39m\u001b[39m\"\"\"Initialize params.\"\"\"\u001b[39;00m\n\u001b[0;32m---> 95\u001b[0m     \u001b[39mself\u001b[39m\u001b[39m.\u001b[39m_llm \u001b[39m=\u001b[39m resolve_llm(llm)\n\u001b[1;32m     97\u001b[0m     \u001b[39mif\u001b[39;00m callback_manager:\n\u001b[1;32m     98\u001b[0m         \u001b[39mself\u001b[39m\u001b[39m.\u001b[39m_llm\u001b[39m.\u001b[39mcallback_manager \u001b[39m=\u001b[39m callback_manager\n",
      "File \u001b[0;32m~/Desktop/Projects/DSR_project_ideas/venv_DSR_project_ideas/lib/python3.10/site-packages/llama_index/llms/utils.py:40\u001b[0m, in \u001b[0;36mresolve_llm\u001b[0;34m(llm)\u001b[0m\n\u001b[1;32m     36\u001b[0m     \u001b[39mif\u001b[39;00m is_local \u001b[39m!=\u001b[39m \u001b[39m\"\u001b[39m\u001b[39mlocal\u001b[39m\u001b[39m\"\u001b[39m:\n\u001b[1;32m     37\u001b[0m         \u001b[39mraise\u001b[39;00m \u001b[39mValueError\u001b[39;00m(\n\u001b[1;32m     38\u001b[0m             \u001b[39m\"\u001b[39m\u001b[39mllm must start with str \u001b[39m\u001b[39m'\u001b[39m\u001b[39mlocal\u001b[39m\u001b[39m'\u001b[39m\u001b[39m or of type LLM or BaseLanguageModel\u001b[39m\u001b[39m\"\u001b[39m\n\u001b[1;32m     39\u001b[0m         )\n\u001b[0;32m---> 40\u001b[0m     llm \u001b[39m=\u001b[39m LlamaCPP(\n\u001b[1;32m     41\u001b[0m         model_path\u001b[39m=\u001b[39;49mmodel_path,\n\u001b[1;32m     42\u001b[0m         messages_to_prompt\u001b[39m=\u001b[39;49mmessages_to_prompt,\n\u001b[1;32m     43\u001b[0m         completion_to_prompt\u001b[39m=\u001b[39;49mcompletion_to_prompt,\n\u001b[1;32m     44\u001b[0m         model_kwargs\u001b[39m=\u001b[39;49m{\u001b[39m\"\u001b[39;49m\u001b[39mn_gpu_layers\u001b[39;49m\u001b[39m\"\u001b[39;49m: \u001b[39m1\u001b[39;49m},\n\u001b[1;32m     45\u001b[0m     )\n\u001b[1;32m     46\u001b[0m \u001b[39melif\u001b[39;00m \u001b[39misinstance\u001b[39m(llm, BaseLanguageModel):\n\u001b[1;32m     47\u001b[0m     \u001b[39m# NOTE: if it's a langchain model, wrap it in a LangChainLLM\u001b[39;00m\n\u001b[1;32m     48\u001b[0m     llm \u001b[39m=\u001b[39m LangChainLLM(llm\u001b[39m=\u001b[39mllm)\n",
      "File \u001b[0;32m~/Desktop/Projects/DSR_project_ideas/venv_DSR_project_ideas/lib/python3.10/site-packages/llama_index/llms/llama_cpp.py:107\u001b[0m, in \u001b[0;36mLlamaCPP.__init__\u001b[0;34m(self, model_url, model_path, temperature, max_new_tokens, context_window, messages_to_prompt, completion_to_prompt, callback_manager, generate_kwargs, model_kwargs, verbose)\u001b[0m\n\u001b[1;32m    104\u001b[0m         \u001b[39mself\u001b[39m\u001b[39m.\u001b[39m_download_url(model_url, model_path)\n\u001b[1;32m    105\u001b[0m         \u001b[39massert\u001b[39;00m os\u001b[39m.\u001b[39mpath\u001b[39m.\u001b[39mexists(model_path)\n\u001b[0;32m--> 107\u001b[0m     \u001b[39mself\u001b[39m\u001b[39m.\u001b[39m_model \u001b[39m=\u001b[39m Llama(model_path\u001b[39m=\u001b[39;49mmodel_path, \u001b[39m*\u001b[39;49m\u001b[39m*\u001b[39;49mmodel_kwargs)\n\u001b[1;32m    109\u001b[0m model_path \u001b[39m=\u001b[39m model_path\n\u001b[1;32m    110\u001b[0m messages_to_prompt \u001b[39m=\u001b[39m messages_to_prompt \u001b[39mor\u001b[39;00m generic_messages_to_prompt\n",
      "File \u001b[0;32m~/Desktop/Projects/DSR_project_ideas/venv_DSR_project_ideas/lib/python3.10/site-packages/llama_cpp/llama.py:323\u001b[0m, in \u001b[0;36mLlama.__init__\u001b[0;34m(self, model_path, n_ctx, n_parts, n_gpu_layers, seed, f16_kv, logits_all, vocab_only, use_mmap, use_mlock, embedding, n_threads, n_batch, last_n_tokens_size, lora_base, lora_path, low_vram, tensor_split, rope_freq_base, rope_freq_scale, n_gqa, rms_norm_eps, mul_mat_q, verbose)\u001b[0m\n\u001b[1;32m    319\u001b[0m     \u001b[39mwith\u001b[39;00m suppress_stdout_stderr():\n\u001b[1;32m    320\u001b[0m         \u001b[39mself\u001b[39m\u001b[39m.\u001b[39mmodel \u001b[39m=\u001b[39m llama_cpp\u001b[39m.\u001b[39mllama_load_model_from_file(\n\u001b[1;32m    321\u001b[0m             \u001b[39mself\u001b[39m\u001b[39m.\u001b[39mmodel_path\u001b[39m.\u001b[39mencode(\u001b[39m\"\u001b[39m\u001b[39mutf-8\u001b[39m\u001b[39m\"\u001b[39m), \u001b[39mself\u001b[39m\u001b[39m.\u001b[39mparams\n\u001b[1;32m    322\u001b[0m         )\n\u001b[0;32m--> 323\u001b[0m \u001b[39massert\u001b[39;00m \u001b[39mself\u001b[39m\u001b[39m.\u001b[39mmodel \u001b[39mis\u001b[39;00m \u001b[39mnot\u001b[39;00m \u001b[39mNone\u001b[39;00m\n\u001b[1;32m    325\u001b[0m \u001b[39mif\u001b[39;00m verbose:\n\u001b[1;32m    326\u001b[0m     \u001b[39mself\u001b[39m\u001b[39m.\u001b[39mctx \u001b[39m=\u001b[39m llama_cpp\u001b[39m.\u001b[39mllama_new_context_with_model(\u001b[39mself\u001b[39m\u001b[39m.\u001b[39mmodel, \u001b[39mself\u001b[39m\u001b[39m.\u001b[39mparams)\n",
      "\u001b[0;31mAssertionError\u001b[0m: "
     ]
    }
   ],
   "source": [
    "index = VectorStoreIndex.from_documents(doc)"
   ]
  },
  {
   "cell_type": "code",
   "execution_count": null,
   "metadata": {},
   "outputs": [
    {
     "data": {
      "text/plain": [
       "<llama_index.indices.vector_store.base.VectorStoreIndex at 0x7f1570b49d50>"
      ]
     },
     "execution_count": 16,
     "metadata": {},
     "output_type": "execute_result"
    }
   ],
   "source": [
    "index"
   ]
  },
  {
   "cell_type": "code",
   "execution_count": null,
   "metadata": {},
   "outputs": [],
   "source": [
    "query_engine = index.as_query_engine(similarity_top_k=3)"
   ]
  },
  {
   "cell_type": "code",
   "execution_count": null,
   "metadata": {},
   "outputs": [],
   "source": [
    "def display_response(query: str):\n",
    "    \"\"\"\n",
    "    Get the answer from the query engine.\n",
    "\n",
    "    Args:\n",
    "        query (str): A query with the prompt.\n",
    "\n",
    "    Returns:\n",
    "        It returns the response in a llama_index.response.schema.Response object\n",
    "    \"\"\"\n",
    "    response = query_engine.query(query)\n",
    "    display(Markdown(f\"{response}\"))\n",
    "    return response"
   ]
  },
  {
   "cell_type": "code",
   "execution_count": null,
   "metadata": {},
   "outputs": [
    {
     "data": {
      "text/markdown": [
       "Sie müssen sich spätestens am 1. Tag der Arbeitslosigkeit arbeitslos melden. Dies kann entweder online über das Fachportal der Bundesagentur für Arbeit oder persönlich bei Ihrer Agentur für Arbeit erfolgen. Die Arbeitslosmeldung ist eine unverzichtbare Voraussetzung, um Arbeitslosengeld zu erhalten. Wenn Sie sich nicht arbeitslos gemeldet haben und arbeitsunfähig erkranken, kann dies dazu führen, dass Sie keinen Anspruch auf Arbeitslosengeld oder Krankengeld haben."
      ],
      "text/plain": [
       "<IPython.core.display.Markdown object>"
      ]
     },
     "metadata": {},
     "output_type": "display_data"
    }
   ],
   "source": [
    "response_tmp = display_response(\"Was müssen ich tun, wenn Arbeitslosigkeit eintritt?\")"
   ]
  },
  {
   "cell_type": "code",
   "execution_count": null,
   "metadata": {},
   "outputs": [
    {
     "data": {
      "text/plain": [
       "llama_index.response.schema.Response"
      ]
     },
     "execution_count": 20,
     "metadata": {},
     "output_type": "execute_result"
    }
   ],
   "source": [
    "type(response_tmp)"
   ]
  },
  {
   "cell_type": "code",
   "execution_count": null,
   "metadata": {},
   "outputs": [
    {
     "data": {
      "text/plain": [
       "[NodeWithScore(node=TextNode(id_='cb683289-771b-4cc9-9235-179e98ad677e', embedding=None, metadata={'page_label': '14', 'file_name': 'merkblatt-fuer-arbeitslose_ba036520.pdf'}, excluded_embed_metadata_keys=[], excluded_llm_metadata_keys=[], relationships={<NodeRelationship.SOURCE: '1'>: RelatedNodeInfo(node_id='ac23cf58-1b56-4a41-8ba3-c706cacc6c75', node_type=None, metadata={'page_label': '14', 'file_name': 'merkblatt-fuer-arbeitslose_ba036520.pdf'}, hash='d994f52cf96c202b238856eab75913c940d1697b245fc7e02d247f772ba32895')}, hash='d994f52cf96c202b238856eab75913c940d1697b245fc7e02d247f772ba32895', text='152. Was müssen Sie tun, wenn Arbeitslosigkeit eintritt?\\n2.  Was müssen Sie tun, wenn \\nArbeitslosigkeit eintritt?\\n2.1 Arbeitslos melden\\nLeistungen können Sie nur erhalten, wenn Sie der \\n zuständigen Agentur für Arbeit Ihre Arbeitslosigkeit \\n gemeldet haben; damit gilt gleichzeitig das Arbeits -\\nlosengeld als beantragt. Sie können sich hierzu online \\n arbeitslos melden. Sie benötigen dafür nur ein Aus \\xad\\nweisdokument mit Online-Ausweisfunktion, die kosten \\xad\\nlose AusweisApp2 sowie ein Smartphone oder ein \\nKarten  lesegerät. Starten Sie die Online Arbeitslos -\\nmeldung auf » www.arbeitsagentur.de »  Menü \\n» Alle  eServices anzeigen »  Arbeitslos melden . \\nOder Sie  suchen Ihre Agentur für Arbeit auf, um sich \\npersönlich arbeitslos zu melden.\\nEs ist wichtig, dass Sie sich spätestens am 1. Tag der \\nArbeitslosigkeit arbeitslos melden; dies kann auch \\ninner  halb von 3   Monaten vor dem  Beginn der \\n Arbeitslosigkeit  geschehen. Beachten Sie jedoch bitte \\nunbedingt die  Hinweise zur gesonderten Arbeit -\\nsuchendmeldung in  »  Abschnitt  1.\\n HINWEIS\\nIhre elektronische oder persönliche Arbeitslosmeldung \\nist eine unverzichtbare Anspruchsvoraussetzung zum \\nBezug von Arbeitslosengeld! Wenn Sie sich nicht \\n arbeitslos gemeldet haben und arbeitsunfähig \\n erkranken, kann dies dazu führen, dass Sie keinen \\n Anspruch auf Arbeitslosengeld oder Krankengeld \\n haben.', start_char_idx=None, end_char_idx=None, text_template='{metadata_str}\\n\\n{content}', metadata_template='{key}: {value}', metadata_seperator='\\n'), score=0.9009307946462207),\n",
       " NodeWithScore(node=TextNode(id_='067cec68-b843-4385-96f1-15437699aaf0', embedding=None, metadata={'page_label': '18', 'file_name': 'merkblatt-fuer-arbeitslose_ba036520.pdf'}, excluded_embed_metadata_keys=[], excluded_llm_metadata_keys=[], relationships={<NodeRelationship.SOURCE: '1'>: RelatedNodeInfo(node_id='d3bb7b18-2c1b-4d9f-93fa-cac3d80dbdde', node_type=None, metadata={'page_label': '18', 'file_name': 'merkblatt-fuer-arbeitslose_ba036520.pdf'}, hash='e1c65761f189954106edec54858f2fe7a21a9be2307dab64a6d6bc20a39e73b8')}, hash='d42d52399cecfae4a17bdb4400b286cbbff3b2d5f8ffcc2c3b548f58d349027d', text='192. Was müssen Sie tun, wenn Arbeitslosigkeit eintritt?\\nlässt, nicht oder verspätet angezeigt, können Sie die \\nLeistung erst wieder nach erneuter Arbeitslosmeldung \\nbeziehen. Dies gilt auch, wenn Sie ein versicherungs \\xad\\npflichtiges Wertguthaben entnehmen.\\nDie Anzeige bei einem Jobcenter reicht nicht aus. Bei \\nnicht rechtzeitiger Anzeige können Ihnen erhebliche \\n finanzielle Nachteile entstehen (siehe auch  \\n» Abschnitt 8.2 ).\\nSollte nach Aufnahme einer neuen Beschäftigung er \\xad\\nneut Arbeitslosigkeit drohen, sind Sie verpflichtet, sich \\nwieder arbeitsuchend zu melden (vgl. » Abschnitt 1 ). \\nÜber Fristen und das Verfahren für die Arbeitsuchend \\xad\\nmeldung informieren Sie sich bitte bei Ihrer Agentur für \\nArbeit. Um Nachteile zu vermeiden, müssen Sie sich \\nauch erneut – spätestens am ersten Tag der Arbeits -\\nlosigkeit – online im Fachportal der Bundesagentur für \\nArbeit oder persönlich bei Ihrer Agentur für Arbeit \\narbeits  los melden (vgl. » Abschnitt 2.1 ).\\nÜben Sie unentgeltlich eine ehrenamtliche Tätigkeit \\naus, steht diese der Arbeitslosigkeit nicht entgegen, \\nwenn sie die berufliche Eingliederung nicht behindert. \\nErkundigen Sie sich hierzu bei Ihrer Agentur für Arbeit. \\nDie ehrenamtliche Tätigkeit steht der Arbeitslosigkeit \\ngrundsätzlich auch dann nicht entgegen, wenn sie \\n15 Stunden oder mehr wöchentlich umfasst und der \\npauschalierte Auslagenersatz den Betrag von 250  Euro \\nmonatlich nicht überschreitet.\\nSie sind verpflichtet, jede mindestens 15-stündige \\nwöchent  liche ehrenamtliche Tätigkeit vor deren Beginn \\nder Agentur für Arbeit anzuzeigen.', start_char_idx=None, end_char_idx=None, text_template='{metadata_str}\\n\\n{content}', metadata_template='{key}: {value}', metadata_seperator='\\n'), score=0.8951562490683371),\n",
       " NodeWithScore(node=TextNode(id_='b6596f95-ac0e-4e45-9a6c-7b3189ce59c1', embedding=None, metadata={'page_label': '28', 'file_name': 'merkblatt-fuer-arbeitslose_ba036520.pdf'}, excluded_embed_metadata_keys=[], excluded_llm_metadata_keys=[], relationships={<NodeRelationship.SOURCE: '1'>: RelatedNodeInfo(node_id='6f714f9d-ad92-472b-9ca7-9553984e102b', node_type=None, metadata={'page_label': '28', 'file_name': 'merkblatt-fuer-arbeitslose_ba036520.pdf'}, hash='a5e41604100113756fc4889cb972e94e7b72b7246004f62c2a178f90a1aceb14')}, hash='a5e41604100113756fc4889cb972e94e7b72b7246004f62c2a178f90a1aceb14', text='292. Was müssen Sie tun, wenn Arbeitslosigkeit eintritt?\\n HINWEIS\\nKönnen Sie bereits bei Ihrer Arbeitslosmeldung wegen \\nKrankheit keine Beschäftigung ausüben, stehen Sie \\nder Arbeitsvermittlung nicht zur Verfügung und haben \\nkeinen Anspruch auf Arbeitslosengeld. Melden Sie sich \\nonline im Fachportal der Bundesagentur für  Arbeit \\narbeits  los oder sprechen Sie nach Ihrer Genesung \\n unverzüglich erneut persönlich bei Ihrer Agentur für \\n Arbeit vor. Bis dahin bleibt Ihre Krankenkasse für \\n Leistungen zuständig. Bitte beachten Sie die Hinweise \\nzur Arbeits  losmeldung unter » Abschnitt 2.1 .\\n HINWEIS\\nNach Ablauf des Monats, in dem das Lebensalter für \\ndie Inanspruchnahme der Regelaltersrente nach dem \\nSGB VI vollendet worden ist, besteht kein Anspruch auf \\nArbeitslosengeld mehr.', start_char_idx=None, end_char_idx=None, text_template='{metadata_str}\\n\\n{content}', metadata_template='{key}: {value}', metadata_seperator='\\n'), score=0.8934780468703981)]"
      ]
     },
     "execution_count": 21,
     "metadata": {},
     "output_type": "execute_result"
    }
   ],
   "source": [
    "response_tmp.source_nodes"
   ]
  },
  {
   "cell_type": "code",
   "execution_count": null,
   "metadata": {},
   "outputs": [
    {
     "data": {
      "text/markdown": [
       "Sie müssen sich spätestens drei Monate vor Beendigung Ihres Arbeits- oder Ausbildungsverhältnisses arbeitsuchend melden, um Anspruch auf Arbeitslosengeld zu haben. Wenn Sie weniger als drei Monate vorher von der Beendigung erfahren, müssen Sie sich innerhalb von drei Tagen melden. Sie können sich online, persönlich, telefonisch oder schriftlich arbeitsuchend melden."
      ],
      "text/plain": [
       "<IPython.core.display.Markdown object>"
      ]
     },
     "metadata": {},
     "output_type": "display_data"
    }
   ],
   "source": [
    "response_tmp = display_response(\"Wann muss ich mich für den Bezug von Arbeitslosengeld anmelden?\")"
   ]
  },
  {
   "cell_type": "code",
   "execution_count": null,
   "metadata": {},
   "outputs": [
    {
     "data": {
      "text/markdown": [
       "Die Höhe des Arbeitslosengeldes hängt von verschiedenen Faktoren ab, wie dem beitragspflichtigen Arbeitsentgelt, der Lohnsteuerklasse und der Anzahl der zu berücksichtigenden Kinder. Es gibt einen allgemeinen Leistungssatz von 60 Prozent des Leistungsentgelts, der gewährt wird, wenn kein Kind zu berücksichtigen ist. Wenn Sie oder Ihr Ehegatte oder Lebenspartner mindestens ein Kind haben, können Sie einen erhöhten Leistungssatz von 67 Prozent erhalten. Es ist wichtig zu beachten, dass die genaue Höhe des Arbeitslosengeldes individuell berechnet wird und in Ihrem Bewilligungsbescheid angegeben ist. Sie können auch das Selbstberechnungsprogramm für Arbeitslosengeld auf der Website der Arbeitsagentur nutzen, um die Höhe Ihres Arbeitslosengeldes zu berechnen."
      ],
      "text/plain": [
       "<IPython.core.display.Markdown object>"
      ]
     },
     "metadata": {},
     "output_type": "display_data"
    }
   ],
   "source": [
    "response_tmp = display_response(\"Wie hoch ist das Arbeitslosengeld, das ich bekomme?\")"
   ]
  },
  {
   "cell_type": "code",
   "execution_count": null,
   "metadata": {},
   "outputs": [
    {
     "data": {
      "text/markdown": [
       "Die Höhe des Arbeitslosengeldes hängt von verschiedenen Faktoren ab, wie dem beitragspflichtigen Arbeitsentgelt, der Lohnsteuerklasse und der Frage, ob ein Kind zu berücksichtigen ist. Die genaue Berechnung erfolgt durch die Agentur für Arbeit auf Grundlage dieser Informationen. Es wird tägliches Arbeitslosengeld gezahlt, und wenn es für einen vollen Kalendermonat zu zahlen ist, wird dieser mit 30 Tagen angesetzt. Um die Höhe des Arbeitslosengeldes selbst zu berechnen, können Sie das Selbstberechnungsprogramm für Arbeitslosengeld auf der Website der Arbeitsagentur nutzen."
      ],
      "text/plain": [
       "<IPython.core.display.Markdown object>"
      ]
     },
     "metadata": {},
     "output_type": "display_data"
    }
   ],
   "source": [
    "a1 = display_response(\"Wie viel Arbeitslosengeld Sie bekommen\")"
   ]
  },
  {
   "cell_type": "code",
   "execution_count": null,
   "metadata": {},
   "outputs": [
    {
     "data": {
      "text/markdown": [
       "The amount of Arbeitslosengeld (unemployment benefit) that you will receive depends on several factors, including your previous earnings, the applicable tax class, and whether you have any children. The Arbeitsagentur (employment agency) will calculate your daily Arbeitslosengeld based on these factors. The exact amount will be specified in your approval notice, which will also include the calculation details. You can also use the self-calculation program for Arbeitslosengeld on the Arbeitsagentur website to estimate the amount you will receive."
      ],
      "text/plain": [
       "<IPython.core.display.Markdown object>"
      ]
     },
     "metadata": {},
     "output_type": "display_data"
    }
   ],
   "source": [
    "response = query_engine.query(\"Wie viel Arbeitslosengeld Sie bekommen?\")\n",
    "display(Markdown(f\"{response}\"))"
   ]
  },
  {
   "cell_type": "code",
   "execution_count": null,
   "metadata": {},
   "outputs": [
    {
     "data": {
      "text/markdown": [
       "La quantità di denaro che ricevi come sussidio di disoccupazione dipende da diversi fattori, come il tuo reddito precedente, la tua situazione familiare e la durata del periodo di disoccupazione. La tua agenzia per il lavoro calcolerà un tasso giornaliero di sussidio basato sul tuo reddito precedente e su altri fattori pertinenti. Tuttavia, senza ulteriori informazioni specifiche sul tuo caso, non posso fornire una cifra esatta. Ti consiglio di contattare direttamente la tua agenzia per il lavoro per ottenere informazioni precise sul sussidio di disoccupazione che potresti ricevere."
      ],
      "text/plain": [
       "<IPython.core.display.Markdown object>"
      ]
     },
     "metadata": {},
     "output_type": "display_data"
    }
   ],
   "source": [
    "a1 = display_response(\"Quanti soldi ricevo come sussidio di disoccupazione?\")"
   ]
  }
 ],
 "metadata": {
  "kernelspec": {
   "display_name": "venv_DSR_project_ideas",
   "language": "python",
   "name": "python3"
  },
  "language_info": {
   "codemirror_mode": {
    "name": "ipython",
    "version": 3
   },
   "file_extension": ".py",
   "mimetype": "text/x-python",
   "name": "python",
   "nbconvert_exporter": "python",
   "pygments_lexer": "ipython3",
   "version": "3.10.12"
  },
  "orig_nbformat": 4
 },
 "nbformat": 4,
 "nbformat_minor": 2
}
