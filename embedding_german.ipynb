{
 "cells": [
  {
   "cell_type": "markdown",
   "metadata": {},
   "source": [
    "\n",
    "Resources:\n",
    "- [Massive Text Embedding Benchmark (MTEB) Leaderboard](https://huggingface.co/spaces/mteb/leaderboard)"
   ]
  },
  {
   "cell_type": "code",
   "execution_count": 1,
   "metadata": {},
   "outputs": [
    {
     "name": "stderr",
     "output_type": "stream",
     "text": [
      "/home/daniele/Desktop/Projects/DSR_project_ideas/venv_DSR_project_ideas/lib/python3.10/site-packages/tqdm/auto.py:21: TqdmWarning: IProgress not found. Please update jupyter and ipywidgets. See https://ipywidgets.readthedocs.io/en/stable/user_install.html\n",
      "  from .autonotebook import tqdm as notebook_tqdm\n"
     ]
    }
   ],
   "source": [
    "from sentence_transformers import SentenceTransformer\n",
    "import pickle"
   ]
  },
  {
   "cell_type": "code",
   "execution_count": 2,
   "metadata": {},
   "outputs": [],
   "source": [
    "model = SentenceTransformer('all-MiniLM-L6-v2')"
   ]
  },
  {
   "cell_type": "code",
   "execution_count": 3,
   "metadata": {},
   "outputs": [
    {
     "name": "stdout",
     "output_type": "stream",
     "text": [
      "Sentence: This framework generates embeddings for each input sentence\n",
      "Embedding: [-0.01371739 -0.04285153 -0.0156286   0.01405375  0.03955379  0.1217963\n",
      "  0.02943335 -0.03175242  0.03549597 -0.07931399]\n",
      "Embedding shape: (384,)\n",
      "\n",
      "Sentence: Sentences are passed as a list of string.\n",
      "Embedding: [ 0.05645249  0.05500242  0.03137961  0.03394853 -0.03542472  0.08346678\n",
      "  0.09888007  0.00727543 -0.00668654 -0.0076581 ]\n",
      "Embedding shape: (384,)\n",
      "\n",
      "Sentence: The quick brown fox jumps over the lazy dog.\n",
      "Embedding: [ 0.04393355  0.05893442  0.04817839  0.0775481   0.02674441 -0.03762956\n",
      " -0.00260509 -0.05994305 -0.00249598  0.02207284]\n",
      "Embedding shape: (384,)\n",
      "\n"
     ]
    }
   ],
   "source": [
    "#Our sentences we like to encode\n",
    "sentences = ['This framework generates embeddings for each input sentence',\n",
    "    'Sentences are passed as a list of string.',\n",
    "    'The quick brown fox jumps over the lazy dog.']\n",
    "\n",
    "#Sentences are encoded by calling model.encode()\n",
    "embeddings = model.encode(sentences)\n",
    "\n",
    "#Print the embeddings\n",
    "for sentence, embedding in zip(sentences, embeddings):\n",
    "    print(f\"Sentence: {sentence}\")\n",
    "    print(f\"Embedding: {embedding[:10]}\")\n",
    "    print(f\"Embedding shape: {embedding.shape}\\n\")"
   ]
  },
  {
   "cell_type": "code",
   "execution_count": 4,
   "metadata": {},
   "outputs": [],
   "source": [
    "model_multi_lang = SentenceTransformer(\"distiluse-base-multilingual-cased-v1\")"
   ]
  },
  {
   "cell_type": "code",
   "execution_count": 5,
   "metadata": {},
   "outputs": [
    {
     "name": "stdout",
     "output_type": "stream",
     "text": [
      "Sentence: Bei Beendigung eines Arbeits- oder Ausbildungsver hältnisses sind Sie verpflichtet, sich spätestens drei Monate vorher arbeitsuchend zu melden.\n",
      "Embedding: [ 0.02625179  0.01115136 -0.01026822 -0.06133845  0.02682867 -0.03840181\n",
      "  0.04899191  0.09285875  0.02274641 -0.02847939]\n",
      "Embedding shape: (512,)\n",
      "\n",
      "Sentence: Erfahren Sie von der Beendigung weniger als drei Monate vor her, müssen Sie sich innerhalb von drei Tagen melden.\n",
      "Embedding: [-0.03790323 -0.01957224  0.0362604  -0.03070089 -0.00417996 -0.0769087\n",
      "  0.08025548  0.0462033   0.06243161  0.02552238]\n",
      "Embedding shape: (512,)\n",
      "\n",
      "Sentence: Sie können sich online, persönlich, telefonisch oder schriftlich arbeitsuchend melden.\n",
      "Embedding: [-0.08799731  0.02537259 -0.0224913  -0.06667131  0.03407011  0.02214984\n",
      "  0.01853287 -0.02886866  0.00283347 -0.02214039]\n",
      "Embedding shape: (512,)\n",
      "\n",
      "Sentence: Melden Sie sich nicht rechtzeitig, droht eine Sperrzeit.\n",
      "Embedding: [-0.04047302 -0.02856058 -0.00867569  0.01239634 -0.03007405 -0.02866238\n",
      "  0.02090187  0.01803276  0.00190812  0.03162815]\n",
      "Embedding shape: (512,)\n",
      "\n",
      "Sentence: Bei einem betrieblichen oder schulischen Ausbildungsverhältnis gilt die Pflicht zur Meldung nicht.\n",
      "Embedding: [ 0.00995935 -0.0180454  -0.02219768 -0.02565681 -0.01893226  0.02435496\n",
      "  0.05224701  0.04119255 -0.00385539 -0.00449206]\n",
      "Embedding shape: (512,)\n",
      "\n"
     ]
    }
   ],
   "source": [
    "#Our sentences we like to encode\n",
    "ge_sentences = [\n",
    "    \"Bei Beendigung eines Arbeits- oder Ausbildungsver hältnisses sind Sie verpflichtet, sich spätestens drei Monate vorher arbeitsuchend zu melden.\",\n",
    "    \"Erfahren Sie von der Beendigung weniger als drei Monate vor her, müssen Sie sich innerhalb von drei Tagen melden.\",\n",
    "    \"Sie können sich online, persönlich, telefonisch oder schriftlich arbeitsuchend melden.\",\n",
    "    \"Melden Sie sich nicht rechtzeitig, droht eine Sperrzeit.\",\n",
    "    \"Bei einem betrieblichen oder schulischen Ausbildungsverhältnis gilt die Pflicht zur Meldung nicht.\"]\n",
    "\n",
    "#Sentences are encoded by calling model_multi_lang.encode()\n",
    "ge_embeddings = model_multi_lang.encode(ge_sentences)\n",
    "\n",
    "#Print the embeddings\n",
    "for sentence, embedding in zip(ge_sentences, ge_embeddings):\n",
    "    print(f\"Sentence: {sentence}\")\n",
    "    print(f\"Embedding: {embedding[:10]}\")\n",
    "    print(f\"Embedding shape: {embedding.shape}\\n\")"
   ]
  },
  {
   "cell_type": "markdown",
   "metadata": {},
   "source": [
    "# Store and load embeddings"
   ]
  },
  {
   "cell_type": "code",
   "execution_count": 6,
   "metadata": {},
   "outputs": [],
   "source": [
    "#Store sentences & embeddings\n",
    "with open(\"embeddings/embeddings.pkl\", \"wb\") as fOut:\n",
    "    pickle.dump({\"sentences\": ge_sentences, \"embeddings\": ge_embeddings}, fOut, protocol=pickle.HIGHEST_PROTOCOL)"
   ]
  },
  {
   "cell_type": "code",
   "execution_count": 7,
   "metadata": {},
   "outputs": [],
   "source": [
    "#Load sentences & embeddings\n",
    "with open(\"embeddings/embeddings.pkl\", \"rb\") as fIn:\n",
    "    stored_data = pickle.load(fIn)\n",
    "    stored_sentences = stored_data['sentences']\n",
    "    stored_embeddings = stored_data['embeddings']"
   ]
  },
  {
   "cell_type": "code",
   "execution_count": 8,
   "metadata": {},
   "outputs": [
    {
     "data": {
      "text/plain": [
       "['Bei Beendigung eines Arbeits- oder Ausbildungsver hältnisses sind Sie verpflichtet, sich spätestens drei Monate vorher arbeitsuchend zu melden.',\n",
       " 'Erfahren Sie von der Beendigung weniger als drei Monate vor her, müssen Sie sich innerhalb von drei Tagen melden.',\n",
       " 'Sie können sich online, persönlich, telefonisch oder schriftlich arbeitsuchend melden.',\n",
       " 'Melden Sie sich nicht rechtzeitig, droht eine Sperrzeit.',\n",
       " 'Bei einem betrieblichen oder schulischen Ausbildungsverhältnis gilt die Pflicht zur Meldung nicht.']"
      ]
     },
     "execution_count": 8,
     "metadata": {},
     "output_type": "execute_result"
    }
   ],
   "source": [
    "stored_sentences"
   ]
  },
  {
   "cell_type": "markdown",
   "metadata": {},
   "source": [
    "# import pdf"
   ]
  },
  {
   "cell_type": "code",
   "execution_count": 9,
   "metadata": {},
   "outputs": [],
   "source": [
    "# import openai\n",
    "# import environ\n",
    "from llama_index import SimpleDirectoryReader\n",
    "from llama_index import VectorStoreIndex\n",
    "# from llama_index.tools import QueryEngineTool, ToolMetadata\n",
    "# from llama_index.query_engine import SubQuestionQueryEngine\n",
    "# from llama_hub.wikipedia.base import WikipediaReader\n",
    "# import wikipedia\n",
    "# \n",
    "# import nest_asyncio\n",
    "# nest_asyncio.apply()\n",
    "from IPython.display import Markdown, display"
   ]
  },
  {
   "cell_type": "code",
   "execution_count": 10,
   "metadata": {},
   "outputs": [],
   "source": [
    "doc_path = \"docs/merkblatt-fuer-arbeitslose_ba036520.pdf\"\n",
    "\n",
    "doc = SimpleDirectoryReader(input_files=[doc_path]).load_data()"
   ]
  },
  {
   "cell_type": "code",
   "execution_count": 11,
   "metadata": {},
   "outputs": [
    {
     "data": {
      "text/plain": [
       "103"
      ]
     },
     "execution_count": 11,
     "metadata": {},
     "output_type": "execute_result"
    }
   ],
   "source": [
    "len(doc)"
   ]
  },
  {
   "cell_type": "code",
   "execution_count": 12,
   "metadata": {},
   "outputs": [
    {
     "data": {
      "text/plain": [
       "[Document(id_='44c218b2-995e-4ab0-b744-8320b0c41c7c', embedding=None, metadata={'page_label': '1', 'file_name': 'merkblatt-fuer-arbeitslose_ba036520.pdf'}, excluded_embed_metadata_keys=[], excluded_llm_metadata_keys=[], relationships={}, hash='2d9a660e58719a47a0a844e0a4f2e1aeab80a2910c2e579c81af05daf01afe99', text='49466_BA_MB_1.indd   1 10.02.2015   13:20:58Agentur für Arbeit  \\nMusterstadthausen  Merkblatt\\n1Merkblatt für\\nArbeitslose \\nIhre Rechte –\\nIhre Pflichten ', start_char_idx=None, end_char_idx=None, text_template='{metadata_str}\\n\\n{content}', metadata_template='{key}: {value}', metadata_seperator='\\n'),\n",
       " Document(id_='a7d14254-de05-4e1c-b0de-666c7e89e1dd', embedding=None, metadata={'page_label': '2', 'file_name': 'merkblatt-fuer-arbeitslose_ba036520.pdf'}, excluded_embed_metadata_keys=[], excluded_llm_metadata_keys=[], relationships={}, hash='96291ef98137c571c20b29d30df5a6c087563271148520a97ce911686ac9592a', text='3 \\nIhre Agentur für Arbeit hält eine Fülle von \\n Informationen für Sie bereit. \\nNeben den Informationen in diesem Merkblatt finden \\nSie unter » www.arbeitsagentur.de  unser umfassen \\xad\\ndes Online-Angebot der „eServices “ sowie ein \\n interessantes Informationsangebot aus allen Aufgaben \\xad\\nbereichen der Bundesagentur für Arbeit. Sie erhalten \\nwertvolle Tipps zu den Themen Ausbil \\xad\\ndung, Berufs- und Studienwahl, Weiter \\xad\\nbildung, wichtige Informationen über \\nGeldleistungen sowie ein umfangreiches \\nServiceangebot.\\nÜber das Job- und Serviceportal  \\n» www.arbeitsagentur.de  können Sie beispielsweise:\\n•  sich arbeitsuchend und arbeitslos melden,\\n•  Geldleistungen, wie Arbeitslosengeld, beantragen\\n•  Fragen zum Arbeitslosengeld unserem Chatbot \\n stellen\\n• Stellenangebote über die Jobsuche finden\\n• Vermittlungsvorschläge und Stellenempfehlungen \\neinsehen und sich bewerben\\n•  Bescheide einsehen \\n•  die Postfachnachricht nutzen – eine sichere \\n Alternative zur E-Mail \\nund vieles mehr\\nWenden Sie sich bitte an das Service Center bzw. den \\nEmpfang in Ihrer Agentur für Arbeit, wenn Sie weitere \\nInformationen über das Verfahren und die Vorteile \\n erhalten möchten. \\n', start_char_idx=None, end_char_idx=None, text_template='{metadata_str}\\n\\n{content}', metadata_template='{key}: {value}', metadata_seperator='\\n'),\n",
       " Document(id_='29f4eb27-e821-409c-a08f-7f8474b95369', embedding=None, metadata={'page_label': '3', 'file_name': 'merkblatt-fuer-arbeitslose_ba036520.pdf'}, excluded_embed_metadata_keys=[], excluded_llm_metadata_keys=[], relationships={}, hash='aeda75aad73c80a3f3bd19e22ae124bd72a477c3c2f1f78dd2d2dc382b60e4bc', text=' \\n4Und jetzt auch per App: Sie können ab sofort jederzeit \\nund an jedem Ort auf ausgewählte Funktionen Ihres \\nOnline-Profils über die neue Kunden-App „BA-mobil“  \\nzugreifen. \\n \\nInformationen zur App finden Sie im Internet unter: \\nhttp://www.arbeitsagentur.de »  Arbeitslos und \\n\\xad Arbeit\\xadfinden\\xad»\\xadAlle \\xad Infos \\xad und \\xad Services \\xad » \\xad Machen \\xad\\nSie Ihren nächsten Schritt »  BA-Mobil: Die Kunden-\\nApp der BA\\nAm Ende dieses Merkblattes finden Sie eine Übersicht \\nüber weitere bei Ihrer Agentur für Arbeit erhältliche \\nMerk- und Faltblätter. Diese finden Sie auch unter \\n» www.arbeitsagentur.de .', start_char_idx=None, end_char_idx=None, text_template='{metadata_str}\\n\\n{content}', metadata_template='{key}: {value}', metadata_seperator='\\n'),\n",
       " Document(id_='50ed220a-5e25-4b2a-826e-9536e52fd1c8', embedding=None, metadata={'page_label': '4', 'file_name': 'merkblatt-fuer-arbeitslose_ba036520.pdf'}, excluded_embed_metadata_keys=[], excluded_llm_metadata_keys=[], relationships={}, hash='adafaccb4373d8f95015de0d9d6bd57369981e2b1427b2b318437713d0a13848', text='5Vorwort\\nVorwort\\nDieses Merkblatt informiert Sie über Ihre wichtigsten \\nRechte und Pflichten nach dem Dritten Buch Sozial -\\ngesetzbuch (SGB III), wenn Sie Arbeitslosengeld \\n beantragt haben bzw. bereits beziehen . Es soll Sie \\nauch dabei unterstützen, die Antragsformulare schnell \\nund korrekt auszufüllen und die erbetenen Angaben im \\nerforderlichen Umfang zu belegen.\\nDas Merkblatt informiert Sie über\\n•  Ihre Pflichten zur Beendigung der Arbeitslosigkeit \\n(Eigen  bemühungen und Verfügbarkeit),\\n•  die weiteren Anspruchsvoraussetzungen, die Sie \\n erfüllen müssen, um Arbeitslosengeld erhalten zu \\nkönnen,\\n•  die Bezugsdauer von Arbeitslosengeld,\\n•  die Höhe des Arbeitslosengeldes,\\n•  das Arbeitslosengeld während einer beruflichen \\nWeiter  bildung,\\n•  Ihre Mitwirkungs- und Mitteilungspflichten.\\nEs enthält auch wichtige Informationen für den Fall, \\ndass Sie keine Leistungen beantragen möchten oder \\nerhalten können. \\nBesondere Abschnitte behandeln die Sozialversiche \\xad\\nrung der Leistungsbezieherinnen/Leistungsbezieher \\nund den Datenschutz. \\nEin Abschnitt über weitere Hilfen enthält ergänzende \\nHinweise auf andere Leistungen der Bundesagentur für \\nArbeit und Leistungen anderer Träger. \\nDort finden Sie auch Informationen zu den Leistungen \\nder Grundsicherung für Arbeitsuchende (Bürger-\\ngeld) , auf die ein Anspruch bestehen kann, wenn \\nArbeits  losengeld nicht, vorübergehend nicht oder nicht \\nin ausreichender Höhe gezahlt wird.', start_char_idx=None, end_char_idx=None, text_template='{metadata_str}\\n\\n{content}', metadata_template='{key}: {value}', metadata_seperator='\\n'),\n",
       " Document(id_='13e725af-250e-4282-b82b-44d69d613f13', embedding=None, metadata={'page_label': '5', 'file_name': 'merkblatt-fuer-arbeitslose_ba036520.pdf'}, excluded_embed_metadata_keys=[], excluded_llm_metadata_keys=[], relationships={}, hash='0c8a57ee4f5b2fa53dba2d875d2acfc3e423002cddea6a0797c0bf4778513227', text='Vorwort\\n6Das Merkblatt Bürgergeld – Grundsicherung für \\nArbeit  suchende – SGB II  können Sie bei dem für Sie \\nzuständigen Jobcenter erhalten.\\n BITTE BEACHTEN SIE\\nDieses Merkblatt ist eine Informationsbro \\xad\\nschüre, die jährlich aktualisiert wird. Sie \\ndient Ihrer allgemeinen Information und kann \\nnicht alle Bestimmungen erschöpfend dar \\xad\\nstellen.\\nWenden Sie sich bitte an das Service Center \\noder den Empfang in Ihrer Agentur für Arbeit, \\nwenn Sie weitere Fragen haben oder Unklar \\xad\\nheiten beseitigen möchten.\\nTelefonisch erreichen Sie Ihre Agentur für \\nArbeit montags – freitags von 8:00 bis \\n18:00 Uhr über die gebührenfreie Service-\\nrufnummer 0800 4 5555 00.\\nDer Aktualitätsstand dieses Merkblattes ist \\nauf der Rückseite der Broschüre angegeben.', start_char_idx=None, end_char_idx=None, text_template='{metadata_str}\\n\\n{content}', metadata_template='{key}: {value}', metadata_seperator='\\n')]"
      ]
     },
     "execution_count": 12,
     "metadata": {},
     "output_type": "execute_result"
    }
   ],
   "source": [
    "doc[:5]"
   ]
  },
  {
   "cell_type": "code",
   "execution_count": 13,
   "metadata": {},
   "outputs": [
    {
     "data": {
      "text/plain": [
       "{'page_label': '6', 'file_name': 'merkblatt-fuer-arbeitslose_ba036520.pdf'}"
      ]
     },
     "execution_count": 13,
     "metadata": {},
     "output_type": "execute_result"
    }
   ],
   "source": [
    "doc[5].metadata"
   ]
  },
  {
   "cell_type": "code",
   "execution_count": 14,
   "metadata": {},
   "outputs": [
    {
     "data": {
      "text/markdown": [
       "7Das Wichtigste vorweg:\n",
       "12 Punkte, die Sie sich merken sollten!\n",
       "• Bei Beendigung eines Arbeits- oder Ausbildungsver ­\n",
       "hältnisses sind Sie verpflichtet, sich spätestens drei \n",
       "Monate vorher arbeitsuchend zu melden. Erfahren \n",
       "Sie von der Beendigung weniger als drei Monate vor ­\n",
       "her, müssen Sie sich innerhalb von drei Tagen mel ­\n",
       "den. Sie können sich online, persönlich, telefonisch \n",
       "oder schriftlich arbeitsuchend melden. Melden Sie \n",
       "sich nicht rechtzeitig, droht eine Sperrzeit. Bei einem \n",
       "betrieb  lichen oder schulischen Ausbildungsverhältnis \n",
       "gilt die Pflicht zur Meldung nicht.\n",
       "Weitere Hinweise dazu finden Sie in » Abschnitt 1 .\n",
       "• Arbeitslosengeld wird frühestens von dem Tag an \n",
       " gezahlt, an dem Sie sich online im Fachportal der \n",
       "Bundesagentur für Arbeit (auf » arbeitsagentur.de \n",
       "» Menü » Alle eServices anzeigen » Arbeitslos \n",
       "melden ) oder persönlich bei Ihrer Agentur für Arbeit \n",
       "arbeitslos melden.\n",
       "• Um Beschäftigungslosigkeit nicht eintreten zu lassen \n",
       "oder zu beenden, sind Sie verpflichtet, eigenverant ­\n",
       "wortlich nach einer Beschäftigung zu suchen, eine \n",
       "zumutbare Beschäftigung aufzunehmen oder an \n",
       " einer beruflichen Eingliederungsmaßnahme teilzu ­\n",
       "nehmen.\n",
       "Auf Verlangen der Agentur für Arbeit müssen Sie Ihre \n",
       "Eigenbemühungen nachweisen. Weitere Hinweise \n",
       "dazu finden Sie in » Abschnitt 2.4 .Das Wichtigste vorweg"
      ],
      "text/plain": [
       "<IPython.core.display.Markdown object>"
      ]
     },
     "metadata": {},
     "output_type": "display_data"
    }
   ],
   "source": [
    "display(Markdown(f\"{doc[5].text}\"))"
   ]
  },
  {
   "cell_type": "code",
   "execution_count": 15,
   "metadata": {},
   "outputs": [],
   "source": [
    "index = VectorStoreIndex.from_documents(doc)"
   ]
  },
  {
   "cell_type": "code",
   "execution_count": 26,
   "metadata": {},
   "outputs": [
    {
     "data": {
      "text/plain": [
       "<llama_index.indices.vector_store.base.VectorStoreIndex at 0x7fef86c42da0>"
      ]
     },
     "execution_count": 26,
     "metadata": {},
     "output_type": "execute_result"
    }
   ],
   "source": [
    "index"
   ]
  },
  {
   "cell_type": "code",
   "execution_count": 16,
   "metadata": {},
   "outputs": [
    {
     "data": {
      "text/plain": [
       "<llama_index.indices.vector_store.base.VectorStoreIndex at 0x7fef86c42da0>"
      ]
     },
     "execution_count": 16,
     "metadata": {},
     "output_type": "execute_result"
    }
   ],
   "source": [
    "index"
   ]
  },
  {
   "cell_type": "code",
   "execution_count": 17,
   "metadata": {},
   "outputs": [],
   "source": [
    "query_engine = index.as_query_engine(similarity_top_k=3)"
   ]
  },
  {
   "cell_type": "code",
   "execution_count": 18,
   "metadata": {},
   "outputs": [],
   "source": [
    "def display_response(query: str):\n",
    "    \"\"\"\n",
    "    Get the answer from the query engine.\n",
    "\n",
    "    Args:\n",
    "        query (str): A query with the prompt.\n",
    "\n",
    "    Returns:\n",
    "        It returns the response in a llama_index.response.schema.Response object\n",
    "    \"\"\"\n",
    "    response = query_engine.query(query)\n",
    "    display(Markdown(f\"{response}\"))\n",
    "    return response"
   ]
  },
  {
   "cell_type": "code",
   "execution_count": 19,
   "metadata": {},
   "outputs": [
    {
     "data": {
      "text/markdown": [
       "Sie müssen sich spätestens am 1. Tag der Arbeitslosigkeit arbeitslos melden. Dies kann entweder online über das Fachportal der Bundesagentur für Arbeit oder persönlich bei Ihrer Agentur für Arbeit erfolgen. Die Arbeitslosmeldung ist eine unverzichtbare Voraussetzung, um Arbeitslosengeld zu erhalten. Wenn Sie sich nicht arbeitslos gemeldet haben und arbeitsunfähig erkranken, kann dies dazu führen, dass Sie keinen Anspruch auf Arbeitslosengeld oder Krankengeld haben."
      ],
      "text/plain": [
       "<IPython.core.display.Markdown object>"
      ]
     },
     "metadata": {},
     "output_type": "display_data"
    }
   ],
   "source": [
    "response_tmp = display_response(\"Was müssen ich tun, wenn Arbeitslosigkeit eintritt?\")"
   ]
  },
  {
   "cell_type": "code",
   "execution_count": 20,
   "metadata": {},
   "outputs": [
    {
     "data": {
      "text/plain": [
       "llama_index.response.schema.Response"
      ]
     },
     "execution_count": 20,
     "metadata": {},
     "output_type": "execute_result"
    }
   ],
   "source": [
    "type(response_tmp)"
   ]
  },
  {
   "cell_type": "code",
   "execution_count": 21,
   "metadata": {},
   "outputs": [
    {
     "data": {
      "text/plain": [
       "[NodeWithScore(node=TextNode(id_='5abbd36d-6025-4439-881e-52ae6f2b8022', embedding=None, metadata={'page_label': '14', 'file_name': 'merkblatt-fuer-arbeitslose_ba036520.pdf'}, excluded_embed_metadata_keys=[], excluded_llm_metadata_keys=[], relationships={<NodeRelationship.SOURCE: '1'>: RelatedNodeInfo(node_id='557300ab-c39a-4435-8c96-52770fc2c4fc', node_type=None, metadata={'page_label': '14', 'file_name': 'merkblatt-fuer-arbeitslose_ba036520.pdf'}, hash='d994f52cf96c202b238856eab75913c940d1697b245fc7e02d247f772ba32895')}, hash='d994f52cf96c202b238856eab75913c940d1697b245fc7e02d247f772ba32895', text='152. Was müssen Sie tun, wenn Arbeitslosigkeit eintritt?\\n2.  Was müssen Sie tun, wenn \\nArbeitslosigkeit eintritt?\\n2.1 Arbeitslos melden\\nLeistungen können Sie nur erhalten, wenn Sie der \\n zuständigen Agentur für Arbeit Ihre Arbeitslosigkeit \\n gemeldet haben; damit gilt gleichzeitig das Arbeits -\\nlosengeld als beantragt. Sie können sich hierzu online \\n arbeitslos melden. Sie benötigen dafür nur ein Aus \\xad\\nweisdokument mit Online-Ausweisfunktion, die kosten \\xad\\nlose AusweisApp2 sowie ein Smartphone oder ein \\nKarten  lesegerät. Starten Sie die Online Arbeitslos -\\nmeldung auf » www.arbeitsagentur.de »  Menü \\n» Alle  eServices anzeigen »  Arbeitslos melden . \\nOder Sie  suchen Ihre Agentur für Arbeit auf, um sich \\npersönlich arbeitslos zu melden.\\nEs ist wichtig, dass Sie sich spätestens am 1. Tag der \\nArbeitslosigkeit arbeitslos melden; dies kann auch \\ninner  halb von 3   Monaten vor dem  Beginn der \\n Arbeitslosigkeit  geschehen. Beachten Sie jedoch bitte \\nunbedingt die  Hinweise zur gesonderten Arbeit -\\nsuchendmeldung in  »  Abschnitt  1.\\n HINWEIS\\nIhre elektronische oder persönliche Arbeitslosmeldung \\nist eine unverzichtbare Anspruchsvoraussetzung zum \\nBezug von Arbeitslosengeld! Wenn Sie sich nicht \\n arbeitslos gemeldet haben und arbeitsunfähig \\n erkranken, kann dies dazu führen, dass Sie keinen \\n Anspruch auf Arbeitslosengeld oder Krankengeld \\n haben.', start_char_idx=None, end_char_idx=None, text_template='{metadata_str}\\n\\n{content}', metadata_template='{key}: {value}', metadata_seperator='\\n'), score=0.9009415549694991),\n",
       " NodeWithScore(node=TextNode(id_='457926fb-247c-47be-8094-1d77741c189d', embedding=None, metadata={'page_label': '18', 'file_name': 'merkblatt-fuer-arbeitslose_ba036520.pdf'}, excluded_embed_metadata_keys=[], excluded_llm_metadata_keys=[], relationships={<NodeRelationship.SOURCE: '1'>: RelatedNodeInfo(node_id='c79d83e8-15ba-43b2-9373-694348713746', node_type=None, metadata={'page_label': '18', 'file_name': 'merkblatt-fuer-arbeitslose_ba036520.pdf'}, hash='e1c65761f189954106edec54858f2fe7a21a9be2307dab64a6d6bc20a39e73b8')}, hash='d42d52399cecfae4a17bdb4400b286cbbff3b2d5f8ffcc2c3b548f58d349027d', text='192. Was müssen Sie tun, wenn Arbeitslosigkeit eintritt?\\nlässt, nicht oder verspätet angezeigt, können Sie die \\nLeistung erst wieder nach erneuter Arbeitslosmeldung \\nbeziehen. Dies gilt auch, wenn Sie ein versicherungs \\xad\\npflichtiges Wertguthaben entnehmen.\\nDie Anzeige bei einem Jobcenter reicht nicht aus. Bei \\nnicht rechtzeitiger Anzeige können Ihnen erhebliche \\n finanzielle Nachteile entstehen (siehe auch  \\n» Abschnitt 8.2 ).\\nSollte nach Aufnahme einer neuen Beschäftigung er \\xad\\nneut Arbeitslosigkeit drohen, sind Sie verpflichtet, sich \\nwieder arbeitsuchend zu melden (vgl. » Abschnitt 1 ). \\nÜber Fristen und das Verfahren für die Arbeitsuchend \\xad\\nmeldung informieren Sie sich bitte bei Ihrer Agentur für \\nArbeit. Um Nachteile zu vermeiden, müssen Sie sich \\nauch erneut – spätestens am ersten Tag der Arbeits -\\nlosigkeit – online im Fachportal der Bundesagentur für \\nArbeit oder persönlich bei Ihrer Agentur für Arbeit \\narbeits  los melden (vgl. » Abschnitt 2.1 ).\\nÜben Sie unentgeltlich eine ehrenamtliche Tätigkeit \\naus, steht diese der Arbeitslosigkeit nicht entgegen, \\nwenn sie die berufliche Eingliederung nicht behindert. \\nErkundigen Sie sich hierzu bei Ihrer Agentur für Arbeit. \\nDie ehrenamtliche Tätigkeit steht der Arbeitslosigkeit \\ngrundsätzlich auch dann nicht entgegen, wenn sie \\n15 Stunden oder mehr wöchentlich umfasst und der \\npauschalierte Auslagenersatz den Betrag von 250  Euro \\nmonatlich nicht überschreitet.\\nSie sind verpflichtet, jede mindestens 15-stündige \\nwöchent  liche ehrenamtliche Tätigkeit vor deren Beginn \\nder Agentur für Arbeit anzuzeigen.', start_char_idx=None, end_char_idx=None, text_template='{metadata_str}\\n\\n{content}', metadata_template='{key}: {value}', metadata_seperator='\\n'), score=0.8951609246388856),\n",
       " NodeWithScore(node=TextNode(id_='b79f2ce7-53fb-4176-854b-8b09fb99587b', embedding=None, metadata={'page_label': '28', 'file_name': 'merkblatt-fuer-arbeitslose_ba036520.pdf'}, excluded_embed_metadata_keys=[], excluded_llm_metadata_keys=[], relationships={<NodeRelationship.SOURCE: '1'>: RelatedNodeInfo(node_id='b3059766-fef1-488a-b1aa-dc6f0eb4a2f3', node_type=None, metadata={'page_label': '28', 'file_name': 'merkblatt-fuer-arbeitslose_ba036520.pdf'}, hash='a5e41604100113756fc4889cb972e94e7b72b7246004f62c2a178f90a1aceb14')}, hash='a5e41604100113756fc4889cb972e94e7b72b7246004f62c2a178f90a1aceb14', text='292. Was müssen Sie tun, wenn Arbeitslosigkeit eintritt?\\n HINWEIS\\nKönnen Sie bereits bei Ihrer Arbeitslosmeldung wegen \\nKrankheit keine Beschäftigung ausüben, stehen Sie \\nder Arbeitsvermittlung nicht zur Verfügung und haben \\nkeinen Anspruch auf Arbeitslosengeld. Melden Sie sich \\nonline im Fachportal der Bundesagentur für  Arbeit \\narbeits  los oder sprechen Sie nach Ihrer Genesung \\n unverzüglich erneut persönlich bei Ihrer Agentur für \\n Arbeit vor. Bis dahin bleibt Ihre Krankenkasse für \\n Leistungen zuständig. Bitte beachten Sie die Hinweise \\nzur Arbeits  losmeldung unter » Abschnitt 2.1 .\\n HINWEIS\\nNach Ablauf des Monats, in dem das Lebensalter für \\ndie Inanspruchnahme der Regelaltersrente nach dem \\nSGB VI vollendet worden ist, besteht kein Anspruch auf \\nArbeitslosengeld mehr.', start_char_idx=None, end_char_idx=None, text_template='{metadata_str}\\n\\n{content}', metadata_template='{key}: {value}', metadata_seperator='\\n'), score=0.8934780468703981)]"
      ]
     },
     "execution_count": 21,
     "metadata": {},
     "output_type": "execute_result"
    }
   ],
   "source": [
    "response_tmp.source_nodes"
   ]
  },
  {
   "cell_type": "code",
   "execution_count": 22,
   "metadata": {},
   "outputs": [
    {
     "data": {
      "text/markdown": [
       "Sie müssen sich spätestens drei Monate vor Beendigung Ihres Arbeits- oder Ausbildungsverhältnisses arbeitsuchend melden, um Anspruch auf Arbeitslosengeld zu haben. Wenn Sie weniger als drei Monate vorher von der Beendigung erfahren, müssen Sie sich innerhalb von drei Tagen melden. Sie können sich online, persönlich, telefonisch oder schriftlich arbeitsuchend melden."
      ],
      "text/plain": [
       "<IPython.core.display.Markdown object>"
      ]
     },
     "metadata": {},
     "output_type": "display_data"
    }
   ],
   "source": [
    "response_tmp = display_response(\"Wann muss ich mich für den Bezug von Arbeitslosengeld anmelden?\")"
   ]
  },
  {
   "cell_type": "code",
   "execution_count": 23,
   "metadata": {},
   "outputs": [
    {
     "data": {
      "text/markdown": [
       "Die Höhe des Arbeitslosengeldes hängt von verschiedenen Faktoren ab, wie dem beitragspflichtigen Arbeitsentgelt, der Lohnsteuerklasse und der Frage, ob ein Kind berücksichtigt werden muss. Die genaue Höhe wird von der Agentur für Arbeit auf Grundlage dieser Informationen berechnet. Es gibt einen allgemeinen Leistungssatz von 60 Prozent des Leistungsentgelts, der gewährt wird, wenn kein Kind zu berücksichtigen ist. Wenn Sie oder Ihr Partner mindestens ein Kind haben, können Sie einen erhöhten Leistungssatz von 67 Prozent erhalten. Es ist jedoch wichtig zu beachten, dass die genaue Höhe des Arbeitslosengeldes individuell berechnet wird und in Ihrem Bewilligungsbescheid angegeben ist."
      ],
      "text/plain": [
       "<IPython.core.display.Markdown object>"
      ]
     },
     "metadata": {},
     "output_type": "display_data"
    }
   ],
   "source": [
    "response_tmp = display_response(\"Wie hoch ist das Arbeitslosengeld, das ich bekomme?\")"
   ]
  },
  {
   "cell_type": "code",
   "execution_count": 24,
   "metadata": {},
   "outputs": [
    {
     "data": {
      "text/markdown": [
       "Die Höhe des Arbeitslosengeldes hängt von verschiedenen Faktoren ab, wie dem beitragspflichtigen Arbeitsentgelt, der Lohnsteuerklasse und der Frage, ob ein Kind zu berücksichtigen ist. Die genaue Berechnung erfolgt durch die Agentur für Arbeit auf Grundlage dieser Informationen. Es wird tägliches Arbeitslosengeld gezahlt, und wenn es für einen vollen Kalendermonat zu zahlen ist, wird dieser mit 30 Tagen angesetzt. Um die genaue Höhe des Arbeitslosengeldes zu berechnen, können Sie das Selbstberechnungsprogramm für Arbeitslosengeld auf der Website der Arbeitsagentur nutzen."
      ],
      "text/plain": [
       "<IPython.core.display.Markdown object>"
      ]
     },
     "metadata": {},
     "output_type": "display_data"
    }
   ],
   "source": [
    "a1 = display_response(\"Wie viel Arbeitslosengeld Sie bekommen\")"
   ]
  },
  {
   "cell_type": "code",
   "execution_count": 31,
   "metadata": {},
   "outputs": [
    {
     "data": {
      "text/markdown": [
       "Die Höhe des Arbeitslosengeldes hängt von verschiedenen Faktoren ab, wie zum Beispiel dem vorherigen Arbeitsentgelt und der Dauer der vorherigen Beschäftigung. Es ist nicht möglich, die genaue Höhe des Arbeitslosengeldes ohne weitere Informationen zu bestimmen. Es wird empfohlen, sich an das zuständige Jobcenter oder die Agentur für Arbeit zu wenden, um eine genaue Berechnung des Arbeitslosengeldes zu erhalten."
      ],
      "text/plain": [
       "<IPython.core.display.Markdown object>"
      ]
     },
     "metadata": {},
     "output_type": "display_data"
    }
   ],
   "source": [
    "response = query_engine.query(\"Wie viel Arbeitslosengeld Sie bekommen? Anser in German\")\n",
    "display(Markdown(f\"{response}\"))"
   ]
  },
  {
   "cell_type": "code",
   "execution_count": null,
   "metadata": {},
   "outputs": [
    {
     "data": {
      "text/markdown": [
       "La quantità di denaro che ricevi come sussidio di disoccupazione dipende da diversi fattori, come il tuo reddito precedente, la tua situazione familiare e la durata del periodo di disoccupazione. La tua agenzia per il lavoro calcolerà un tasso giornaliero di sussidio basato sul tuo reddito precedente e su altri fattori pertinenti. Tuttavia, senza ulteriori informazioni specifiche sul tuo caso, non posso fornire una cifra esatta. Ti consiglio di contattare direttamente la tua agenzia per il lavoro per ottenere informazioni precise sul sussidio di disoccupazione che potresti ricevere."
      ],
      "text/plain": [
       "<IPython.core.display.Markdown object>"
      ]
     },
     "metadata": {},
     "output_type": "display_data"
    }
   ],
   "source": [
    "a1 = display_response(\"Quanti soldi ricevo come sussidio di disoccupazione?\")"
   ]
  }
 ],
 "metadata": {
  "kernelspec": {
   "display_name": "venv_DSR_project_ideas",
   "language": "python",
   "name": "python3"
  },
  "language_info": {
   "codemirror_mode": {
    "name": "ipython",
    "version": 3
   },
   "file_extension": ".py",
   "mimetype": "text/x-python",
   "name": "python",
   "nbconvert_exporter": "python",
   "pygments_lexer": "ipython3",
   "version": "3.10.12"
  },
  "orig_nbformat": 4
 },
 "nbformat": 4,
 "nbformat_minor": 2
}
