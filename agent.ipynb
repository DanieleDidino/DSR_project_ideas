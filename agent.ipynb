{
 "cells": [
  {
   "cell_type": "code",
   "execution_count": 1,
   "metadata": {},
   "outputs": [],
   "source": [
    "import os\n",
    "from dotenv import load_dotenv\n",
    "\n",
    "load_dotenv()\n",
    "\n",
    "# openai\n",
    "OPENAI_API_KEY = os.getenv(\"OPENAI_API_KEY\")\n",
    "\n",
    "# huggingface\n",
    "HF_TOKEN = os.getenv(\"HF_ACCESS_TOKEN\")\n",
    "\n",
    "# google\n",
    "GOOGLE_CSE_ID = os.getenv(\"GOOGLE_CSE_ID\")\n",
    "GOOGLE_API_KEY = os.getenv(\"GOOGLE_API_KEY\")\n",
    "SERPAPI_KEY = os.getenv(\"SERPAPI_API_KEY\")"
   ]
  },
  {
   "cell_type": "markdown",
   "metadata": {},
   "source": [
    "# Things to try"
   ]
  },
  {
   "cell_type": "code",
   "execution_count": null,
   "metadata": {},
   "outputs": [],
   "source": [
    "https://python.langchain.com/docs/modules/data_connection/retrievers/web_research\n",
    "https://www.mlq.ai/gpt-3-enabled-research-assistant-langchain-pinecone/\n",
    "https://python.langchain.com/docs/integrations/tools/wikipedia"
   ]
  },
  {
   "cell_type": "markdown",
   "metadata": {},
   "source": [
    "# MultiQueryRetriever"
   ]
  },
  {
   "cell_type": "code",
   "execution_count": null,
   "metadata": {},
   "outputs": [],
   "source": [
    "# Build a sample vectorDB\n",
    "from langchain.vectorstores import Chroma\n",
    "from langchain.document_loaders import WebBaseLoader\n",
    "from langchain.embeddings.openai import OpenAIEmbeddings\n",
    "from langchain.text_splitter import RecursiveCharacterTextSplitter\n",
    "\n",
    "# Load blog post\n",
    "loader = WebBaseLoader(\"https://lilianweng.github.io/posts/2023-06-23-agent/\")\n",
    "data = loader.load()\n",
    "\n",
    "# Split\n",
    "text_splitter = RecursiveCharacterTextSplitter(chunk_size=500, chunk_overlap=0)\n",
    "splits = text_splitter.split_documents(data)\n",
    "\n",
    "# VectorDB\n",
    "embedding = OpenAIEmbeddings()\n",
    "vectordb = Chroma.from_documents(documents=splits, embedding=embedding)\n",
    "\n",
    "from langchain.chat_models import ChatOpenAI\n",
    "from langchain.retrievers.multi_query import MultiQueryRetriever\n",
    "\n",
    "question = \"What are the approaches to Task Decomposition?\"\n",
    "llm = ChatOpenAI(temperature=0)\n",
    "retriever_from_llm = MultiQueryRetriever.from_llm(\n",
    "    retriever=vectordb.as_retriever(), llm=llm\n",
    ")"
   ]
  },
  {
   "cell_type": "markdown",
   "metadata": {},
   "source": [
    "# German laws to english summary\n",
    "\n",
    "HTML2Text converts HTML into plain text (with markdown-like formatting) without any specific tag manipulation.\n",
    "To extract human-readable text without needing to manipulate specific HTML elements."
   ]
  },
  {
   "cell_type": "code",
   "execution_count": null,
   "metadata": {},
   "outputs": [],
   "source": [
    "import openai\n",
    "from langchain.document_loaders import AsyncHtmlLoader\n",
    "from langchain.document_transformers import Html2TextTransformer\n",
    "from translate import Translator\n",
    "\n",
    "urls = [\"https://www.gesetze-im-internet.de/baf_gzuschlagsv/BJNR009350986.html\",\n",
    "        \"https://www.gesetze-im-internet.de/baf_g/BJNR014090971.html\"\n",
    "        ]\n",
    "\n",
    "loader = AsyncHtmlLoader(urls)\n",
    "docs = loader.load()\n",
    "\n",
    "html2text = Html2TextTransformer()\n",
    "docs_transformed = html2text.transform_documents(docs)\n",
    "\n",
    "\n",
    "# Language Translation\n",
    "translator = Translator(to_lang='en', from_lang='de')\n",
    "german_text = docs_transformed[0].page_content  # Assuming there's one document\n",
    "english_text = translator.translate(german_text[:500])\n",
    "\n",
    "# summarization\n",
    "def summarize_text(text, person_type):\n",
    "    res = openai.ChatCompletion.create(\n",
    "        model=\"gpt-3.5-turbo\", max_tokens=1000, temperature=0.7, top_p=0.5, frequency_penalty=0.5,\n",
    "        messages=\n",
    "       [ { \"role\": \"system\", \"content\": \"You are a helpful assistant for text summarization.\", },\n",
    "         { \"role\": \"user\", \"content\": f\"Summarize this for a {person_type}: {text}\", }, ],\n",
    "    )\n",
    "    return res[\"choices\"][0][\"message\"][\"content\"]\n",
    "\n",
    "english_summary = summarize_text(english_text, 'person without legal training')\n",
    "english_summary\n",
    "\n",
    "# Identify Paragraph References\n",
    "# You might need a parser specific to German legal texts to extract paragraph references.\n",
    "\n",
    "# Include References in the Summary\n",
    "# Incorporate the references into the English summary.\n",
    "\n",
    "# Output\n",
    "print(english_summary)"
   ]
  },
  {
   "cell_type": "markdown",
   "metadata": {},
   "source": [
    "# Web retriever"
   ]
  },
  {
   "cell_type": "code",
   "execution_count": 14,
   "metadata": {},
   "outputs": [
    {
     "name": "stderr",
     "output_type": "stream",
     "text": [
      "INFO:langchain.retrievers.web_research:Generating questions for Google Search ...\n",
      "INFO:langchain.retrievers.web_research:Questions for Google Search (raw): {'question': 'Where can I find laws regulating the duties of landlords in Berlin Germany?', 'text': LineList(lines=['1. What are the legal obligations of landlords in Berlin, Germany?\\n', '2. Where can I access information on landlord responsibilities in Berlin, Germany?\\n', '3. What are the laws governing landlord duties in Berlin, Germany?'])}\n",
      "INFO:langchain.retrievers.web_research:Questions for Google Search: ['1. What are the legal obligations of landlords in Berlin, Germany?\\n', '2. Where can I access information on landlord responsibilities in Berlin, Germany?\\n', '3. What are the laws governing landlord duties in Berlin, Germany?']\n",
      "INFO:langchain.retrievers.web_research:Searching for relevant urls...\n",
      "INFO:langchain.retrievers.web_research:Searching for relevant urls...\n",
      "INFO:langchain.retrievers.web_research:Search results: [{'title': 'Basic Law for the Federal Republic of Germany', 'link': 'https://www.gesetze-im-internet.de/englisch_gg/englisch_gg.html', 'snippet': '(1) Human dignity shall be inviolable. To respect and protect it shall be the duty of all state authority. (2) The German people therefore acknowledge\\xa0...'}]\n",
      "INFO:langchain.retrievers.web_research:Searching for relevant urls...\n",
      "INFO:langchain.retrievers.web_research:Search results: [{'title': 'German Civil Code BGB', 'link': 'https://www.gesetze-im-internet.de/englisch_bgb/', 'snippet': 'Full text in format: HTML PDF · text in German ; Section 239Surety ; Section 240Duty to supplement security ; Book 2. Law of obligations ; Division 1. Subject\\xa0...'}]\n",
      "INFO:langchain.retrievers.web_research:Searching for relevant urls...\n",
      "INFO:langchain.retrievers.web_research:Search results: [{'title': 'German Civil Code BGB', 'link': 'https://www.gesetze-im-internet.de/englisch_bgb/', 'snippet': 'Full text in format: HTML PDF · text in German ; Section 239Surety ; Section 240Duty to supplement security ; Book 2. Law of obligations ; Division 1. Subject\\xa0...'}]\n",
      "INFO:langchain.retrievers.web_research:New URLs to load: ['https://www.gesetze-im-internet.de/englisch_gg/englisch_gg.html', 'https://www.gesetze-im-internet.de/englisch_bgb/']\n",
      "INFO:langchain.retrievers.web_research:Indexing new urls...\n",
      "Fetching pages: 100%|##########| 2/2 [00:01<00:00,  1.27it/s]\n",
      "INFO:langchain.retrievers.web_research:Grabbing most relevant splits from urls...\n",
      "INFO:langchain.retrievers.web_research:Generating questions for Google Search ...\n",
      "INFO:langchain.retrievers.web_research:Questions for Google Search (raw): {'question': 'Where can I find laws regulating the duties of landlords in Berlin Germany?', 'text': LineList(lines=['1. What are the legal obligations of landlords in Berlin, Germany?\\n', '2. Where can I access information on landlord responsibilities in Berlin, Germany?\\n', '3. What are the laws governing landlord duties in Berlin, Germany?'])}\n",
      "INFO:langchain.retrievers.web_research:Questions for Google Search: ['1. What are the legal obligations of landlords in Berlin, Germany?\\n', '2. Where can I access information on landlord responsibilities in Berlin, Germany?\\n', '3. What are the laws governing landlord duties in Berlin, Germany?']\n",
      "INFO:langchain.retrievers.web_research:Searching for relevant urls...\n",
      "INFO:langchain.retrievers.web_research:Searching for relevant urls...\n",
      "INFO:langchain.retrievers.web_research:Search results: [{'title': 'Basic Law for the Federal Republic of Germany', 'link': 'https://www.gesetze-im-internet.de/englisch_gg/englisch_gg.html', 'snippet': '(1) Human dignity shall be inviolable. To respect and protect it shall be the duty of all state authority. (2) The German people therefore acknowledge\\xa0...'}]\n",
      "INFO:langchain.retrievers.web_research:Searching for relevant urls...\n",
      "INFO:langchain.retrievers.web_research:Search results: [{'title': 'German Civil Code BGB', 'link': 'https://www.gesetze-im-internet.de/englisch_bgb/', 'snippet': 'Full text in format: HTML PDF · text in German ; Section 239Surety ; Section 240Duty to supplement security ; Book 2. Law of obligations ; Division 1. Subject\\xa0...'}]\n",
      "INFO:langchain.retrievers.web_research:Searching for relevant urls...\n",
      "INFO:langchain.retrievers.web_research:Search results: [{'title': 'German Civil Code BGB', 'link': 'https://www.gesetze-im-internet.de/englisch_bgb/', 'snippet': 'Full text in format: HTML PDF · text in German ; Section 239Surety ; Section 240Duty to supplement security ; Book 2. Law of obligations ; Division 1. Subject\\xa0...'}]\n",
      "INFO:langchain.retrievers.web_research:New URLs to load: []\n",
      "INFO:langchain.retrievers.web_research:Grabbing most relevant splits from urls...\n"
     ]
    },
    {
     "data": {
      "text/plain": [
       "{'question': 'Where can I find laws regulating the duties of landlords in Berlin Germany?',\n",
       " 'answer': 'You can find laws regulating the duties of landlords in Berlin, Germany in the German Constitution, specifically in Article 33 and Article 34. These articles outline equal citizenship and public service, as well as liability for violation of official duty. Additionally, the laws regarding property, inheritance, and expropriation are covered in Article 14. For more specific and detailed information, it is recommended to consult the relevant laws and regulations specific to Berlin. \\n',\n",
       " 'sources': ''}"
      ]
     },
     "execution_count": 14,
     "metadata": {},
     "output_type": "execute_result"
    }
   ],
   "source": [
    "import logging\n",
    "\n",
    "from langchain.chains import RetrievalQAWithSourcesChain\n",
    "from langchain.chat_models.openai import ChatOpenAI\n",
    "from langchain.embeddings import OpenAIEmbeddings\n",
    "from langchain.retrievers.web_research import WebResearchRetriever\n",
    "from langchain.utilities import GoogleSearchAPIWrapper\n",
    "from langchain.vectorstores import Chroma\n",
    "import nest_asyncio\n",
    "nest_asyncio.apply()\n",
    "\n",
    "# Vectorstore\n",
    "vectorstore = Chroma(\n",
    "    embedding_function=OpenAIEmbeddings(),\n",
    "    persist_directory=\"./chroma_db_oai\",\n",
    ")\n",
    "\n",
    "# LLM\n",
    "llm = ChatOpenAI( temperature=0 )\n",
    "\n",
    "# Custom Search with Google Programmable Search Engine\n",
    "search = GoogleSearchAPIWrapper()\n",
    "\n",
    "# Initialize\n",
    "web_research_retriever = WebResearchRetriever.from_llm(\n",
    "    vectorstore=vectorstore,\n",
    "    llm=llm,\n",
    "    search=search,\n",
    ")\n",
    "\n",
    "# logging\n",
    "logging.basicConfig()\n",
    "logging.getLogger(\"langchain.retrievers.web_research\").setLevel(logging.INFO)\n",
    "\n",
    "# retrieve docs and provide citations\n",
    "qa_chain = RetrievalQAWithSourcesChain.from_chain_type(\n",
    "    llm, retriever=web_research_retriever\n",
    ")\n",
    "\n",
    "user_input = \"Where can I find laws regulating the duties of landlords in Berlin Germany?\"\n",
    "docs = web_research_retriever.get_relevant_documents(user_input)\n",
    "\n",
    "result = qa_chain({\"question\": user_input})\n"
   ]
  },
  {
   "cell_type": "code",
   "execution_count": 17,
   "metadata": {},
   "outputs": [
    {
     "data": {
      "text/plain": [
       "dict_items([('question', 'Where can I find laws regulating the duties of landlords in Berlin Germany?'), ('answer', 'You can find laws regulating the duties of landlords in Berlin, Germany in the German Constitution, specifically in Article 33 and Article 34. These articles outline equal citizenship and public service, as well as liability for violation of official duty. Additionally, the laws regarding property, inheritance, and expropriation are covered in Article 14. For more specific and detailed information, it is recommended to consult the relevant laws and regulations specific to Berlin. \\n'), ('sources', '')])"
      ]
     },
     "execution_count": 17,
     "metadata": {},
     "output_type": "execute_result"
    }
   ],
   "source": [
    "result"
   ]
  },
  {
   "cell_type": "markdown",
   "metadata": {},
   "source": [
    "## WebRetriever with custom prompt and output parsing."
   ]
  },
  {
   "cell_type": "code",
   "execution_count": 47,
   "metadata": {},
   "outputs": [
    {
     "name": "stderr",
     "output_type": "stream",
     "text": [
      "INFO:langchain.retrievers.web_research:Generating questions for Google Search ...\n",
      "INFO:langchain.retrievers.web_research:Questions for Google Search (raw): {'question': 'Where can I find laws regulating the duties of landlords in Berlin Germany?', 'text': LineList(lines=['1. Wo kann ich Gesetze finden, die die Pflichten von Vermietern in Berlin Deutschland regeln?\\n', '2. Gibt es eine offizielle Quelle, die die Rechte und Pflichten von Vermietern in Berlin Deutschland regelt?\\n', '3. Wo kann ich die gesetzlichen Bestimmungen für Vermieter in Berlin Deutschland finden?\\n', '4. Gibt es eine offizielle Quelle, die die Rechte und Pflichten von Vermietern in Berlin Deutschland beschreibt?\\n'])}\n",
      "INFO:langchain.retrievers.web_research:Questions for Google Search: ['1. Wo kann ich Gesetze finden, die die Pflichten von Vermietern in Berlin Deutschland regeln?\\n', '2. Gibt es eine offizielle Quelle, die die Rechte und Pflichten von Vermietern in Berlin Deutschland regelt?\\n', '3. Wo kann ich die gesetzlichen Bestimmungen für Vermieter in Berlin Deutschland finden?\\n', '4. Gibt es eine offizielle Quelle, die die Rechte und Pflichten von Vermietern in Berlin Deutschland beschreibt?\\n']\n",
      "INFO:langchain.retrievers.web_research:Searching for relevant urls...\n",
      "INFO:langchain.retrievers.web_research:Searching for relevant urls...\n",
      "INFO:langchain.retrievers.web_research:Search results: [{'title': 'ArbSchG - Gesetz über die Durchführung von Maßnahmen des ...', 'link': 'https://www.gesetze-im-internet.de/arbschg/BJNR124610996.html', 'snippet': '(1) Dieses Gesetz dient dazu, Sicherheit und Gesundheitsschutz der Beschäftigten bei der Arbeit durch Maßnahmen des Arbeitsschutzes zu sichern und zu verbessern\\xa0...'}]\n",
      "INFO:langchain.retrievers.web_research:Searching for relevant urls...\n",
      "INFO:langchain.retrievers.web_research:Search results: [{'title': 'ArbSchG - Gesetz über die Durchführung von Maßnahmen des ...', 'link': 'https://www.gesetze-im-internet.de/arbschg/BJNR124610996.html', 'snippet': '(3) Pflichten, die die Arbeitgeber zur Gewährleistung von Sicherheit und Gesundheitsschutz der Beschäftigten bei der Arbeit nach sonstigen Rechtsvorschriften\\xa0...'}]\n",
      "INFO:langchain.retrievers.web_research:Searching for relevant urls...\n",
      "INFO:langchain.retrievers.web_research:Search results: [{'title': 'Gesetz zur Mietenbegrenzung im Wohnungswesen in Berlin', 'link': 'https://www.berlin.de/sen/justiz/service/gesetze-und-verordnungen/2020/ausgabe-nr-6-vom-22-2-2020-s-49-56.pdf', 'snippet': 'Feb 22, 2020 ... tens jedoch um 1,3 Prozent. Dies gilt nicht, wenn dadurch die Ober-. Gesetz zur Neuregelung gesetzlicher Vorschriften zur Mietenbegrenzung.'}]\n",
      "INFO:langchain.retrievers.web_research:Searching for relevant urls...\n",
      "INFO:langchain.retrievers.web_research:Search results: [{'title': 'ArbSchG - Gesetz über die Durchführung von Maßnahmen des ...', 'link': 'https://www.gesetze-im-internet.de/arbschg/BJNR124610996.html', 'snippet': 'Unberührt bleiben Gesetze, die andere Personen als Arbeitgeber zu Maßnahmen des Arbeitsschutzes verpflichten. (4) Bei öffentlich-rechtlichen\\xa0...'}]\n",
      "INFO:langchain.retrievers.web_research:New URLs to load: ['https://www.berlin.de/sen/justiz/service/gesetze-und-verordnungen/2020/ausgabe-nr-6-vom-22-2-2020-s-49-56.pdf', 'https://www.gesetze-im-internet.de/arbschg/BJNR124610996.html']\n",
      "INFO:langchain.retrievers.web_research:Indexing new urls...\n",
      "Fetching pages:   0%|          | 0/2 [00:00<?, ?it/s]ERROR:langchain.document_loaders.async_html:Failed to decode content from https://www.berlin.de/sen/justiz/service/gesetze-und-verordnungen/2020/ausgabe-nr-6-vom-22-2-2020-s-49-56.pdf\n",
      "Fetching pages: 100%|##########| 2/2 [00:13<00:00,  6.98s/it]\n",
      "INFO:langchain.retrievers.web_research:Grabbing most relevant splits from urls...\n",
      "INFO:langchain.retrievers.web_research:Generating questions for Google Search ...\n"
     ]
    },
    {
     "name": "stdout",
     "output_type": "stream",
     "text": [
      "{'https://www.gesetze-im-internet.de/arbschg/BJNR124610996.html'}\n"
     ]
    },
    {
     "name": "stderr",
     "output_type": "stream",
     "text": [
      "INFO:langchain.retrievers.web_research:Questions for Google Search (raw): {'question': 'Where can I find laws regulating the duties of landlords in Berlin Germany?', 'text': LineList(lines=['1. What are the legal obligations of landlords in Berlin, Germany?\\n', '2. Where can I access information on landlord responsibilities in Berlin, Germany?\\n', '3. What are the laws governing landlord duties in Berlin, Germany?'])}\n",
      "INFO:langchain.retrievers.web_research:Questions for Google Search: ['1. What are the legal obligations of landlords in Berlin, Germany?\\n', '2. Where can I access information on landlord responsibilities in Berlin, Germany?\\n', '3. What are the laws governing landlord duties in Berlin, Germany?']\n",
      "INFO:langchain.retrievers.web_research:Searching for relevant urls...\n",
      "INFO:langchain.retrievers.web_research:Searching for relevant urls...\n",
      "INFO:langchain.retrievers.web_research:Search results: [{'title': 'Basic Law for the Federal Republic of Germany', 'link': 'https://www.gesetze-im-internet.de/englisch_gg/englisch_gg.html', 'snippet': '(1) Human dignity shall be inviolable. To respect and protect it shall be the duty of all state authority. (2) The German people therefore acknowledge\\xa0...'}]\n",
      "INFO:langchain.retrievers.web_research:Searching for relevant urls...\n",
      "INFO:langchain.retrievers.web_research:Search results: [{'title': 'German Civil Code BGB', 'link': 'https://www.gesetze-im-internet.de/englisch_bgb/', 'snippet': 'Full text in format: HTML PDF · text in German ; Section 239Surety ; Section 240Duty to supplement security ; Book 2. Law of obligations ; Division 1. Subject\\xa0...'}]\n",
      "INFO:langchain.retrievers.web_research:Searching for relevant urls...\n",
      "INFO:langchain.retrievers.web_research:Search results: [{'title': 'German Civil Code BGB', 'link': 'https://www.gesetze-im-internet.de/englisch_bgb/', 'snippet': 'Full text in format: HTML PDF · text in German ; Section 239Surety ; Section 240Duty to supplement security ; Book 2. Law of obligations ; Division 1. Subject\\xa0...'}]\n",
      "INFO:langchain.retrievers.web_research:New URLs to load: []\n",
      "INFO:langchain.retrievers.web_research:Grabbing most relevant splits from urls...\n"
     ]
    },
    {
     "data": {
      "text/plain": [
       "{'question': 'Where can I find laws regulating the duties of landlords in Berlin Germany?', 'answer': ' Laws regulating the duties of landlords in Berlin, Germany can be found in the German Civil Code (Bürgerliches Gesetzbuch).\\n', 'sources': 'https://www.gesetze-im-internet.de/arbschg/BJNR124610996.html'}"
      ]
     },
     "execution_count": 47,
     "metadata": {},
     "output_type": "execute_result"
    }
   ],
   "source": [
    "import os\n",
    "import re\n",
    "from typing import List\n",
    "from langchain.chains import LLMChain\n",
    "from pydantic import BaseModel, Field\n",
    "from langchain.prompts import PromptTemplate\n",
    "from langchain.output_parsers.pydantic import PydanticOutputParser\n",
    "\n",
    "# LLMChain\n",
    "search_prompt = PromptTemplate(\n",
    "    input_variables=[\"question\"],\n",
    "    template=\"\"\"You are an assistant tasked with improving Google search \n",
    "    results. Generate FIVE Google search queries in german that are similar to\n",
    "    this question. Transalte your queries into german as your searching for german official documents.\n",
    "    The output should be a numbered list of questions and each\n",
    "    should have a question mark at the end: {question}\"\"\",\n",
    ")\n",
    "\n",
    "class LineList(BaseModel):\n",
    "    \"\"\"List of questions.\"\"\"\n",
    "\n",
    "    lines: List[str] = Field(description=\"Questions\")\n",
    "\n",
    "class QuestionListOutputParser(PydanticOutputParser):\n",
    "    \"\"\"Output parser for a list of numbered questions.\"\"\"\n",
    "\n",
    "    def __init__(self) -> None:\n",
    "        super().__init__(pydantic_object=LineList)\n",
    "\n",
    "    def parse(self, text: str) -> LineList:\n",
    "        lines = re.findall(r\"\\d+\\..*?\\n\", text)\n",
    "        return LineList(lines=lines)\n",
    "    \n",
    "llm_chain = LLMChain(\n",
    "            llm=llm,\n",
    "            prompt=search_prompt,\n",
    "            output_parser=QuestionListOutputParser(),\n",
    "        )\n",
    "\n",
    "search = GoogleSearchAPIWrapper()\n",
    "\n",
    "# Initialize\n",
    "web_research_retriever_llm_chain = WebResearchRetriever(\n",
    "    vectorstore=vectorstore,\n",
    "    llm_chain=llm_chain, \n",
    "    search=search, \n",
    ")\n",
    "\n",
    "\n",
    "# logging\n",
    "logging.basicConfig()\n",
    "logging.getLogger(\"langchain.retrievers.web_research\").setLevel(logging.INFO)\n",
    "\n",
    "# retrieve docs and provide citations\n",
    "qa_chain = RetrievalQAWithSourcesChain.from_chain_type(\n",
    "    llm, retriever=web_research_retriever, \n",
    ")\n",
    "\n",
    "\n",
    "# Run\n",
    "user_input = \"Where can I find laws regulating the duties of landlords in Berlin Germany?\"\n",
    "docs = web_research_retriever_llm_chain.get_relevant_documents(user_input)\n",
    "result = qa_chain({\"question\": user_input})"
   ]
  },
  {
   "cell_type": "code",
   "execution_count": 61,
   "metadata": {},
   "outputs": [
    {
     "data": {
      "text/plain": [
       "(' Laws regulating the duties of landlords in Berlin, Germany can be found in the German Civil Code (Bürgerliches Gesetzbuch).\\n', {'https://www.gesetze-im-internet.de/arbschg/BJNR124610996.html'})"
      ]
     },
     "execution_count": 61,
     "metadata": {},
     "output_type": "execute_result"
    }
   ],
   "source": [
    "def answer(docs, result):\n",
    "    sources = set()\n",
    "    for d in docs:\n",
    "        sources.add(d.metadata['source'])\n",
    "    \n",
    "    return result['answer'], sources\n",
    "\n",
    "answer(docs, result)"
   ]
  },
  {
   "cell_type": "code",
   "execution_count": null,
   "metadata": {},
   "outputs": [],
   "source": [
    "page_content='(1) This Basic Law shall require ratification by the parliaments of two thirds\\nof the German _Länder_ in which it is initially to apply.\\n\\n(2) Insofar as the application of this Basic Law is subject to restrictions in\\nany _Land_ listed in Article 23 or in any part thereof, such _Land_ or part\\nthereof shall have the right to send representatives to the Bundestag in\\naccordance with Article 38 and to the Bundesrat in accordance with Article 50.\\n\\ntable of contents\\n\\nArticle 145  \\n[Entry into force of the Basic Law]\\n\\n(1) The Parliamentary Council, with the participation of the members for\\nGreater Berlin, shall confirm the ratification of this Basic Law in public\\nsession and shall certify and promulgate it.\\n\\n(2) This Basic Law shall take effect at the end of the day on which it is\\npromulgated.\\n\\n(3) It shall be published in the Federal Law Gazette.\\n\\ntable of contents\\n\\nArticle 146  \\n[Duration of the Basic Law]\\n\\nThis Basic Law, which, since the achievement of the unity and freedom of\\nGermany, applies to the entire German people, shall cease to apply on the day\\non which a constitution freely adopted by the German people takes effect.\\n\\ntable of contents\\n\\nExtracts from the German Constitution of 11 August 1919 (Weimar Constitution)  \\nReligion and Religious Societies\\n\\ntable of contents\\n\\nArticle 136\\n\\n(1) Civil and political rights and duties shall be neither dependent upon nor\\nrestricted by the exercise of religious freedom.' metadata={'source': 'https://www.gesetze-im-internet.de/englisch_gg/englisch_gg.html'}"
   ]
  },
  {
   "cell_type": "markdown",
   "metadata": {},
   "source": [
    "# Google Programmable Search \n",
    "https://cse.google.com/cse.js?cx=8566b4b2cb2364df3"
   ]
  },
  {
   "cell_type": "code",
   "execution_count": 20,
   "metadata": {},
   "outputs": [
    {
     "data": {
      "text/plain": [
       "[{'title': 'Basic Law for the Federal Republic of Germany',\n",
       "  'link': 'https://www.gesetze-im-internet.de/englisch_gg/englisch_gg.html',\n",
       "  'snippet': '(5) Details shall be regulated by federal laws. table of contents. Article 22 [Federal capital – Federal flag]. (1) Berlin is the capital of the Federal\\xa0...'},\n",
       " {'title': 'Renting, Security Deposits, and Evictions - Consumer Sourcebook ...',\n",
       "  'link': 'https://www.doj.nh.gov/consumer/sourcebook/renting.htm',\n",
       "  'snippet': 'Leases are important legal documents governing the rights and duties of renters of any type of housing. Leases are usually prepared by landlords. The terms of\\xa0...'},\n",
       " {'title': 'Landlord/Tenant Guide from the Wisconsin Department of ...',\n",
       "  'link': 'https://datcp.wi.gov/Pages/Publications/LandlordTenantGuide.aspx',\n",
       "  'snippet': 'State law provides a legal framework for the relationship between landlords and tenants. ... landlord-tenant rights and responsibilities in simple language. The\\xa0...'},\n",
       " {'title': 'Property Management: Definition, Roles, Types, and Duties',\n",
       "  'link': 'https://www.investopedia.com/terms/p/property-management.asp',\n",
       "  'snippet': \"Understanding state and national landlord-tenant laws and regulations ... Every state has its own laws regulating the activities of property managers, so it's\\xa0...\"},\n",
       " {'title': 'Your guide to German rental laws and tenant rights',\n",
       "  'link': 'https://housinganywhere.com/Germany/tenant-rights-in-germany',\n",
       "  'snippet': 'Sep 3, 2023 ... Get an easy grasp of your tenant rights in Germany and German rental laws in no time at all!'},\n",
       " {'title': \"Strong tenant protections and subsidies support Germany's majority ...\",\n",
       "  'link': 'https://www.brookings.edu/articles/germany-rental-housing-markets/',\n",
       "  'snippet': 'Apr 20, 2021 ... ... legislation and is playing an important role during the COVID-19 pandemic. Overview of rental housing and renter households. Germany: A\\xa0...'},\n",
       " {'title': 'Lead-Based Paint Inspections in Rental Dwelling Units',\n",
       "  'link': 'https://www.nj.gov/dca/divisions/codes/resources/leadpaint.html',\n",
       "  'snippet': 'What is the periodic inspection procedure? What is a visual assessment? What are dust wipe samplings? What does interim controls mean? What does abatement mean?'},\n",
       " {'title': 'Repairs in Wisconsin - Tenant Resource Center',\n",
       "  'link': 'https://www.tenantresourcecenter.org/repairs_in_wisconsin',\n",
       "  'snippet': 'Landlord Repair Responsibilities · Keep heating, plumbing, electrical system, and building structure in good condition. · Keep common areas such as hallways,\\xa0...'},\n",
       " {'title': 'Importing into the United States A Guide for Commercial Importers',\n",
       "  'link': 'https://www.cbp.gov/sites/default/files/documents/Importing%20into%20the%20U.S.pdf',\n",
       "  'snippet': 'Its provisions have fundamentally altered the relationship between importers and CBP by shifting to the importer, the legal responsibility for declaring the.'},\n",
       " {'title': 'Draft articles on Responsibility of States for Internationally Wrongful ...',\n",
       "  'link': 'https://legal.un.org/ilc/texts/instruments/english/commentaries/9_6_2001.pdf',\n",
       "  'snippet': 'is a matter not regulated by the law of State responsibility but by the ... (Berlin, De Gruyter, 1989), pp. 339–353; and. N. H. B. Jørgensen, The\\xa0...'}]"
      ]
     },
     "execution_count": 20,
     "metadata": {},
     "output_type": "execute_result"
    }
   ],
   "source": [
    "from langchain.tools import Tool\n",
    "from langchain.utilities import GoogleSearchAPIWrapper\n",
    "\n",
    "\n",
    "\n",
    "def search(query):\n",
    "    search = GoogleSearchAPIWrapper(google_api_key=GOOGLE_API_KEY, google_cse_id=GOOGLE_CSE_ID)\n",
    "    return search.results(query, 10)\n",
    "\n",
    "\n",
    "tool = Tool(\n",
    "    name=\"Google Search Snippets\",\n",
    "    description=\"Search Google in german. Look for official german documents and laws concerning the users request.\",\n",
    "    func=search,\n",
    ")\n",
    "\n",
    "\n",
    "tool.run(\"What law regulates the duties of a landlord in berlin?\")"
   ]
  },
  {
   "cell_type": "markdown",
   "metadata": {},
   "source": [
    "# Plan-and-execute"
   ]
  },
  {
   "cell_type": "code",
   "execution_count": 72,
   "metadata": {},
   "outputs": [],
   "source": [
    "from langchain.chat_models import ChatOpenAI\n",
    "from langchain_experimental.plan_and_execute import (\n",
    "    PlanAndExecute,\n",
    "    load_agent_executor,\n",
    "    load_chat_planner,\n",
    ")\n",
    "from langchain.llms import OpenAI\n",
    "from langchain import SerpAPIWrapper\n",
    "from langchain.agents.tools import Tool\n",
    "from langchain import LLMMathChain"
   ]
  },
  {
   "cell_type": "code",
   "execution_count": 19,
   "metadata": {},
   "outputs": [
    {
     "name": "stdout",
     "output_type": "stream",
     "text": [
      "\n",
      "\n",
      "\u001b[1m> Entering new PlanAndExecute chain...\u001b[0m\n",
      "steps=[Step(value='Research the legal system in Berlin to understand how landlord-tenant relationships are regulated.'), Step(value='Identify the specific law or laws that govern the duties of landlords in Berlin.'), Step(value='Review the relevant law(s) to understand the specific duties and responsibilities imposed on landlords.'), Step(value='Summarize the key points of the law(s) that regulate the duties of landlords in Berlin.'), Step(value='Given the above steps taken, provide the user with the information about the specific law that regulates the duties of landlords in Berlin.')]\n",
      "\n",
      "\u001b[1m> Entering new AgentExecutor chain...\u001b[0m\n",
      "\u001b[32;1m\u001b[1;3mAction:\n",
      "{\n",
      "  \"action\": \"Search\",\n",
      "  \"action_input\": \"Legal system in Berlin landlord-tenant regulations\"\n",
      "}\u001b[0m\n",
      "\n",
      "\u001b[1m> Finished chain.\u001b[0m\n",
      "*****\n",
      "\n",
      "Step: Research the legal system in Berlin to understand how landlord-tenant relationships are regulated.\n",
      "\n",
      "Response: Action:\n",
      "{\n",
      "  \"action\": \"Search\",\n",
      "  \"action_input\": \"Legal system in Berlin landlord-tenant regulations\"\n",
      "}\n",
      "\n",
      "\u001b[1m> Entering new AgentExecutor chain...\u001b[0m\n",
      "\u001b[32;1m\u001b[1;3mAction:\n",
      "```\n",
      "{\n",
      "  \"action\": \"Search\",\n",
      "  \"action_input\": \"specific law or laws that govern the duties of landlords in Berlin\"\n",
      "}\n",
      "```\u001b[0m\n",
      "Observation: \u001b[36;1m\u001b[1;3m[{'title': 'Basic Law for the Federal Republic of Germany', 'link': 'https://www.gesetze-im-internet.de/englisch_gg/englisch_gg.html', 'snippet': '(1) If a Land fails to comply with its obligations under this Basic Law or other federal laws, the Federal Government, with the consent of the Bundesrat, may\\xa0...'}, {'title': 'Connecticut Law About Landlord/Tenant Law', 'link': 'https://www.jud.ct.gov/lawlib/law/landlord.htm', 'snippet': 'Connecticut Law About Landlord/Tenant Law: Useful links to information on summary process and landlord and tenant laws.'}, {'title': 'Renting, Security Deposits, and Evictions - Consumer Sourcebook ...', 'link': 'https://www.doj.nh.gov/consumer/sourcebook/renting.htm', 'snippet': 'Leases are important legal documents governing the rights and duties of renters of any type of housing. Leases are usually prepared by landlords. The terms of\\xa0...'}, {'title': 'German Criminal Code (Strafgesetzbuch – StGB)', 'link': 'https://www.gesetze-im-internet.de/englisch_stgb/englisch_stgb.html', 'snippet': 'If the law imposes a more severe penalty based on a specific ... in other cases under subsection (1) acts in gross breach of duties under administrative law.'}, {'title': 'Berlin - Airbnb Help Center', 'link': 'https://www.airbnb.com/help/article/854', 'snippet': 'The act, last revised on September 16, 2021 also contains certain obligations ... You can also check the overview of short-term rental rules in Berlin on the\\xa0...'}, {'title': 'Landlord/Tenant Guide from the Wisconsin Department of ...', 'link': 'https://datcp.wi.gov/Pages/Publications/LandlordTenantGuide.aspx', 'snippet': 'Many disputes between landlords and tenants can be avoided if both parties understand their legal rights and responsibilities. The Guide for Landlords and\\xa0...'}, {'title': '2023 Ohio Sunshine Laws Manual', 'link': 'https://www.ohioattorneygeneral.gov/Files/Publications-Files/Publications-for-Legal/Sunshine-Laws-Publications/2023-Sunshine-Manual.aspx', 'snippet': \"The 2023 Sunshine Laws Manual is a guide, not a substitute for legal advice. Much of open-government law stems from court interpretation of Ohio's Sunshine Laws\\xa0...\"}, {'title': 'Draft articles on Responsibility of States for Internationally Wrongful ...', 'link': 'https://legal.un.org/ilc/texts/instruments/english/commentaries/9_6_2001.pdf', 'snippet': 'of rules of law governing State responsibility, it is unnec- essary and ... specific law-making procedure, in contrast with rules of constitutional character\\xa0...'}, {'title': 'Repairs in Wisconsin - Tenant Resource Center', 'link': 'https://www.tenantresourcecenter.org/repairs_in_wisconsin', 'snippet': \"Consumer Protection laws require landlords ... No part of this website should be regarded as legal advice, or replace an individual's responsibility to be\\xa0...\"}, {'title': 'Your guide to German rental laws and tenant rights', 'link': 'https://housinganywhere.com/Germany/tenant-rights-in-germany', 'snippet': 'Sep 3, 2023 ... That means that tenants can end their lease by providing a notice. However a landlord can only terminate a rental contract under specific\\xa0...'}]\u001b[0m\n",
      "Thought:\u001b[32;1m\u001b[1;3mThe search results for the specific law or laws that govern the duties of landlords in Berlin are not relevant to the query. Let me perform another search to find more accurate information.\n",
      "\n",
      "Action:\n",
      "```\n",
      "{\n",
      "  \"action\": \"Search\",\n",
      "  \"action_input\": \"Berlin landlord-tenant regulations pdf\"\n",
      "}\n",
      "```\u001b[0m\n",
      "Observation: \u001b[36;1m\u001b[1;3m[{'title': 'Landlord/Tenant Forms - District Division | New Hampshire Judicial ...', 'link': 'https://www.courts.nh.gov/our-courts/circuit-court/district-division/forms/landlordtenant-forms', 'snippet': '... tenant of the eviction process and their legal rights. Document Format: PDF. Number: NHJB-3065-D. Tags: circuit court. district division. landlord/tenant. non e\\xa0...'}, {'title': 'Connecticut Law About Landlord/Tenant Law', 'link': 'https://www.jud.ct.gov/lawlib/law/landlord.htm', 'snippet': 'What Happens When You Go To Housing Court? (pdf). Commission on Human Rights and Opportunities. Housing Discrimination. Information from the Connecticut Network\\xa0...'}, {'title': 'New Jersey Department of Community Affairs Division of Codes and ...', 'link': 'https://www.nj.gov/dca/divisions/codes/publications/pdf_lti/grnds_for_evicti_bulltin.pdf', 'snippet': 'If the tenant does not comply with the “Notice to Cease,” a “Notice to Quit” may be served on the tenant. After giving a Notice to Quit, the landlord may file\\xa0...'}, {'title': \"A Landlord's Guide to Summary Process (Eviction) (JDP-HM-14)\", 'link': 'https://www.jud.ct.gov/Publications/hm014.pdf', 'snippet': 'Note: This pamphlet refers to a single landlord, tenant or defendant for ease of reading only. Actual eviction cases may involve multiple landlords, tenants and\\xa0...'}, {'title': 'LESSONS FROM GERMANY', 'link': 'https://www.ippr.org/files/publications/pdf/lessons-from-germany-jan17.pdf', 'snippet': \"We recommend greater balance between the rights of a tenant and the rights of a landlord in England through longer ... The Berlin Tenants' Union also commissioned\\xa0...\"}, {'title': 'PH6-1-Rental-regulation.pdf', 'link': 'https://www.oecd.org/els/family/PH6-1-Rental-regulation.pdf', 'snippet': 'May 29, 2021 ... It presents information on rent control, tenant-landlord relations, lease type and duration, regulations regarding the quality of rental\\xa0...'}, {'title': 'CHAPTER 8. TERMINATION Introduction', 'link': 'https://www.hud.gov/sites/documents/doc_35654.pdf', 'snippet': 'The authority to terminate tenancy of tenants is in accordance with the. HUD model leases and state or local Landlord and Tenant Act(s). 2. Criminal activity\\xa0...'}, {'title': 'PUTTING THE BRAKES ON RENT INCREASES: HOW THE UNITED ...', 'link': 'https://wilj.law.wisc.edu/wp-content/uploads/sites/1270/2019/11/Walser-Final-2.pdf', 'snippet': 'Jan 8, 2019 ... berlin-rent-laws-landlords/482097/. ... 85 While it is true that most of the regulation of the tenant-landlord relationship would fall to the\\xa0...'}, {'title': 'Berlin housing market: Rent cap may decouple real estate cycle ...', 'link': 'https://www.dbresearch.com/PROD/RPS_EN-PROD/PROD0000000000505273/Berlin_housing_market%3A_Rent_cap_may_decouple_real_.pdf', 'snippet': \"Feb 27, 2020 ... Landlords could also view the new legal environment as overreach with regard to their property rights and accept the tenants' offers or actively\\xa0...\"}, {'title': 'Rent regulation - Wikipedia', 'link': 'https://en.wikipedia.org/wiki/Rent_regulation', 'snippet': '1 RENTAL REGULATION\" (PDF). OECD.org - Organisation for Economic Co ... \"Landlord and Tenant (Amendment) Act 1948 (NSW)\". NSW Legislation. Retrieved\\xa0...'}]\u001b[0m\n",
      "Thought:\u001b[32;1m\u001b[1;3mThe search results for finding the specific law or laws that govern the duties of landlords in Berlin are still not relevant. Let me perform another search to find more accurate information.\n",
      "\n",
      "Action:\n",
      "```\n",
      "{\n",
      "  \"action\": \"Search\",\n",
      "  \"action_input\": \"Berlin landlord-tenant regulations official document\"\n",
      "}\n",
      "```\n",
      "\n",
      "\u001b[0m\n",
      "Observation: \u001b[36;1m\u001b[1;3m[{'title': 'Landlord/Tenant Forms - District Division | New Hampshire Judicial ...', 'link': 'https://www.courts.nh.gov/our-courts/circuit-court/district-division/forms/landlordtenant-forms', 'snippet': '... landlord with a list of reasons for the eviction and instructs the tenant of the eviction process and their legal rights. Document Format: PDF. Number: NHJB\\xa0...'}, {'title': 'Renting, Security Deposits, and Evictions - Consumer Sourcebook ...', 'link': 'https://www.doj.nh.gov/consumer/sourcebook/renting.htm', 'snippet': 'Leases are important legal documents governing the rights and duties of renters of any type of housing. Leases are usually prepared by landlords. The terms\\xa0...'}, {'title': 'Connecticut Law About Landlord/Tenant Law', 'link': 'https://www.jud.ct.gov/lawlib/law/landlord.htm', 'snippet': 'Information from the Connecticut Judicial Branch: Housing Forms (Including Eviction). Housing Matters - Where to File · Landlord/Tenant Frequently Asked\\xa0...'}, {'title': 'New Jersey Department of Community Affairs Division of Codes and ...', 'link': 'https://www.nj.gov/dca/divisions/codes/publications/pdf_lti/grnds_for_evicti_bulltin.pdf', 'snippet': '... tenant, the tenant continues to substantially violate or breach the rules and regulations, the landlord may file a suit for eviction. A Notice to. Quit must\\xa0...'}, {'title': \"A Landlord's Guide to Summary Process (Eviction) (JDP-HM-14)\", 'link': 'https://www.jud.ct.gov/Publications/hm014.pdf', 'snippet': 'For more information on Summary Process (Eviction) Cases and to find the correct court location to file this case, see Rights and Responsibilities of Landlords\\xa0...'}, {'title': 'Small Claims Court | NJ Courts', 'link': 'https://www.njcourts.gov/self-help/small-claims-court', 'snippet': 'Lawsuits in New Jersey for $3000 or less go to small claims court. Access the forms and information you need to file or respond to a small claims case.'}, {'title': 'Borough of Berlin, NJ', 'link': 'https://www.berlinnj.org/community_information/forms.php', 'snippet': 'The Document Center provides easy access to public documents. Click on one of ... This Ordinance[s] will have a public hearing and possible adoption at 7:00\\xa0...'}, {'title': 'Commercial Development Lawyer, Berlin Patten Ebling', 'link': 'https://berlinpatten.com/commercial-development/', 'snippet': \"... landlord-tenant relationships and agreements between rental property owners and business tenants. Berlin Patten Ebling's law offices have extensive\\xa0...\"}, {'title': 'CHAPTER 8. TERMINATION Introduction', 'link': 'https://www.hud.gov/sites/documents/doc_35654.pdf', 'snippet': 'Chapter 8 addresses terminating housing assistance and terminating tenancy. Under program regulations and leases, termination of assistance occurs when a tenant\\xa0...'}, {'title': 'NJ Courts: Official Website of the New Jersey Judiciary', 'link': 'https://www.njcourts.gov/', 'snippet': 'We are an independent branch of government constitutionally entrusted with the fair and just resolution of disputes in order to preserve the rule of law and to\\xa0...'}]\u001b[0m\n",
      "Thought:\u001b[32;1m\u001b[1;3mThe search results for finding the specific law or laws that govern the duties of landlords in Berlin are still not relevant. Let me perform another search to find more accurate information.\n",
      "\n",
      "Action:\n",
      "```\n",
      "{\n",
      "  \"action\": \"Search\",\n",
      "  \"action_input\": \"Berlin landlord-tenant regulations official document pdf\"\n",
      "}\n",
      "```\n",
      "\n",
      "\u001b[0m\n",
      "Observation: \u001b[36;1m\u001b[1;3m[{'title': 'Landlord/Tenant Forms - District Division | New Hampshire Judicial ...', 'link': 'https://www.courts.nh.gov/our-courts/circuit-court/district-division/forms/landlordtenant-forms', 'snippet': 'Document Format: PDF. Number: NHJB-3040-D. Tags: circuit court. district division ... and instructs the tenant of the eviction process and their legal rights.'}, {'title': 'Connecticut Law About Landlord/Tenant Law', 'link': 'https://www.jud.ct.gov/lawlib/law/landlord.htm', 'snippet': 'Rights and Responsibilities of Landlords and Tenants in Connecticut (pdf). A ... Tenant Rights in State Public Housing. Connecticut Practice Book. Selected\\xa0...'}, {'title': 'New Jersey Department of Community Affairs Division of Codes and ...', 'link': 'https://www.nj.gov/dca/divisions/codes/publications/pdf_lti/grnds_for_evicti_bulltin.pdf', 'snippet': '... landlord may immediately take legal action to have the tenant evicted ... violate or breach the rules and regulations, the landlord may file a suit for eviction.'}, {'title': \"A Landlord's Guide to Summary Process (Eviction) (JDP-HM-14)\", 'link': 'https://www.jud.ct.gov/Publications/hm014.pdf', 'snippet': 'Note: This pamphlet refers to a single landlord, tenant or defendant for ease of reading only. Actual eviction cases may involve multiple landlords, tenants and\\xa0...'}, {'title': 'Renting, Security Deposits, and Evictions - Consumer Sourcebook ...', 'link': 'https://www.doj.nh.gov/consumer/sourcebook/renting.htm', 'snippet': 'Leases are important legal documents governing the rights and duties of renters of any type of housing. Leases are usually prepared by landlords. The terms of\\xa0...'}, {'title': 'Expropriation of Residential Property Investors in Berlin — A ...', 'link': 'https://www.lw.com/en/offices/admin/upload/SiteAttachments/Expropriation-of-Residential-Property-Investors-in-Berlin-A-Realistic-Scenario.pdf', 'snippet': 'Aug 15, 2023 ... ... landlords to lower the rent under specific ... showcasing a comprehensive examination of the legal and regulatory aspects surrounding property.'}, {'title': 'LESSONS FROM GERMANY', 'link': 'https://www.ippr.org/files/publications/pdf/lessons-from-germany-jan17.pdf', 'snippet': 'Longer-term tenancies act as a natural brake on rising housing costs by giving landlords and letting agents fewer opportunities to increase tenant rents.'}, {'title': 'CHAPTER 8. TERMINATION Introduction', 'link': 'https://www.hud.gov/sites/documents/doc_35654.pdf', 'snippet': 'Chapter 8 addresses terminating housing assistance and terminating tenancy. Under program regulations and leases, termination of assistance occurs when a tenant\\xa0...'}, {'title': 'Asbestos: What Home Owners, Contractors, Property Managers and ...', 'link': 'https://www.des.nh.gov/sites/g/files/ehbemt341/files/documents/2020-01/ard-59.pdf', 'snippet': 'It is widely known that exposure to airborne asbestos fibers is hazardous to human health and wellbeing. Federal law authorizes the U.S. Environmental\\xa0...'}, {'title': 'TABLE OF CONTENTS 2022 CONNECTICUT STATE BUILDING ...', 'link': 'https://portal.ct.gov/-/media/DAS/Office-of-State-Building-Inspector/2022-State-Codes/2022-CSBC-Final.pdf', 'snippet': 'Oct 1, 2022 ... relevant laws, ordinances, rules and regulations, as determined by the building official. ... in writing by the official charged with the\\xa0...'}]\u001b[0m\n",
      "Thought:\u001b[32;1m\u001b[1;3mThe search results for finding the specific law or laws that govern the duties of landlords in Berlin are still not relevant. It seems that the search terms used are not yielding the desired results. \n",
      "\n",
      "To find accurate information on the specific law or laws that govern the duties of landlords in Berlin, it would be best to consult official German documents or legal resources. \n",
      "\n",
      "Action:\n",
      "```\n",
      "{\n",
      "  \"action\": \"Search\",\n",
      "  \"action_input\": \"official German documents landlord-tenant regulations Berlin\"\n",
      "}\n",
      "```\u001b[0m\n",
      "Observation: \u001b[36;1m\u001b[1;3m[{'title': 'Inheritance Matters - Federal Foreign Office', 'link': 'https://www.germany.info/us-en/inheritance-estate/922552', 'snippet': 'Jan 4, 2023 ... ... law, is basically unknown to German law. However, heirs have to ... German Mission and to sign the document in due form. As German is the official\\xa0...'}, {'title': 'Your guide to German rental laws and tenant rights', 'link': 'https://housinganywhere.com/Germany/tenant-rights-in-germany', 'snippet': 'Sep 3, 2023 ... That means that tenants can end their lease by providing a notice. However a landlord can only terminate a rental contract under specific\\xa0...'}, {'title': 'German Civil Code BGB', 'link': 'https://www.gesetze-im-internet.de/englisch_bgb/', 'snippet': 'Version information: The translation includes the amendment(s) to the Act by Article 1 of the Act of 10 August 2021 (Federal Law Gazette I p. 3515).'}, {'title': 'How to Avoid Rental Ripoffs and Landlord Landmines in Germany ...', 'link': 'https://www.german-way.com/for-expats/living-in-germany/expat-how-to-guides-for-germany/how-to-avoid-rental-ripoffs-and-landlord-landmines-in-germany/', 'snippet': 'Some landlords (Vermieter) may be eager to take advantage of foreign tenants (Mieter) who inadvertently ignore German rules and regulations, but most such\\xa0...'}, {'title': 'LESSONS FROM GERMANY', 'link': 'https://www.ippr.org/files/publications/pdf/lessons-from-germany-jan17.pdf', 'snippet': 'Longer-term tenancies act as a natural brake on rising housing costs by giving landlords and letting agents fewer opportunities to increase tenant rents.'}, {'title': 'Landlord/Tenant Forms - District Division | New Hampshire Judicial ...', 'link': 'https://www.courts.nh.gov/our-courts/circuit-court/district-division/forms/landlordtenant-forms', 'snippet': 'Form completed to show that defaulting party is or is not in military service. Document Format: PDF. Number: NHJB-2200-DFPS. Tags: circuit court. district\\xa0...'}, {'title': 'Residence permit for job-seeking qualified skilled workers ...', 'link': 'https://service.berlin.de/dienstleistung/324661/en/', 'snippet': '... German Residence Act and successful completion of the studies in Germany: ... in the original language as an officially certified copy and in German translation\\xa0...'}, {'title': 'Renting, Security Deposits, and Evictions - Consumer Sourcebook ...', 'link': 'https://www.doj.nh.gov/consumer/sourcebook/renting.htm', 'snippet': 'Leases are important legal documents governing the rights and duties of renters of any type of housing. Leases are usually prepared by landlords. The terms of\\xa0...'}, {'title': 'German National Registration System As Means of Police Control of ...', 'link': 'https://scholarlycommons.law.northwestern.edu/cgi/viewcontent.cgi?article=3364&context=jclc', 'snippet': 'The author holds degrees in law and public administration, was formerly a judge in Berlin and chief legal counselor of the pre-Hitler Prussian police\\xa0...'}, {'title': 'Rental contracts & Housing rights | Renting in Germany', 'link': 'https://www.iamexpat.de/housing/rentals-germany/rental-contracts-housing-rights', 'snippet': 'Your tenancy agreement will also lay out any provision for future rent increases. Legally, your landlord cannot increase your rent within the first 12 months of\\xa0...'}]\u001b[0m\n",
      "Thought:"
     ]
    },
    {
     "ename": "InvalidRequestError",
     "evalue": "This model's maximum context length is 4097 tokens. However, your messages resulted in 4723 tokens. Please reduce the length of the messages.",
     "output_type": "error",
     "traceback": [
      "\u001b[0;31m---------------------------------------------------------------------------\u001b[0m",
      "\u001b[0;31mInvalidRequestError\u001b[0m                       Traceback (most recent call last)",
      "Cell \u001b[0;32mIn[19], line 22\u001b[0m\n\u001b[1;32m     19\u001b[0m executor \u001b[39m=\u001b[39m load_agent_executor(model, tools, verbose\u001b[39m=\u001b[39m\u001b[39mTrue\u001b[39;00m)\n\u001b[1;32m     20\u001b[0m agent \u001b[39m=\u001b[39m PlanAndExecute(planner\u001b[39m=\u001b[39mplanner, executor\u001b[39m=\u001b[39mexecutor, verbose\u001b[39m=\u001b[39m\u001b[39mTrue\u001b[39;00m)\n\u001b[0;32m---> 22\u001b[0m agent\u001b[39m.\u001b[39;49mrun(\n\u001b[1;32m     23\u001b[0m     \u001b[39m\"\u001b[39;49m\u001b[39mWhat law regulates the duties of a landlord in berlin?\u001b[39;49m\u001b[39m\"\u001b[39;49m\n\u001b[1;32m     24\u001b[0m )\n",
      "File \u001b[0;32m~/code/MaCoZu/social-media-stats-servant/project/lib/python3.10/site-packages/langchain/chains/base.py:487\u001b[0m, in \u001b[0;36mChain.run\u001b[0;34m(self, callbacks, tags, metadata, *args, **kwargs)\u001b[0m\n\u001b[1;32m    485\u001b[0m     \u001b[39mif\u001b[39;00m \u001b[39mlen\u001b[39m(args) \u001b[39m!=\u001b[39m \u001b[39m1\u001b[39m:\n\u001b[1;32m    486\u001b[0m         \u001b[39mraise\u001b[39;00m \u001b[39mValueError\u001b[39;00m(\u001b[39m\"\u001b[39m\u001b[39m`run` supports only one positional argument.\u001b[39m\u001b[39m\"\u001b[39m)\n\u001b[0;32m--> 487\u001b[0m     \u001b[39mreturn\u001b[39;00m \u001b[39mself\u001b[39;49m(args[\u001b[39m0\u001b[39;49m], callbacks\u001b[39m=\u001b[39;49mcallbacks, tags\u001b[39m=\u001b[39;49mtags, metadata\u001b[39m=\u001b[39;49mmetadata)[\n\u001b[1;32m    488\u001b[0m         _output_key\n\u001b[1;32m    489\u001b[0m     ]\n\u001b[1;32m    491\u001b[0m \u001b[39mif\u001b[39;00m kwargs \u001b[39mand\u001b[39;00m \u001b[39mnot\u001b[39;00m args:\n\u001b[1;32m    492\u001b[0m     \u001b[39mreturn\u001b[39;00m \u001b[39mself\u001b[39m(kwargs, callbacks\u001b[39m=\u001b[39mcallbacks, tags\u001b[39m=\u001b[39mtags, metadata\u001b[39m=\u001b[39mmetadata)[\n\u001b[1;32m    493\u001b[0m         _output_key\n\u001b[1;32m    494\u001b[0m     ]\n",
      "File \u001b[0;32m~/code/MaCoZu/social-media-stats-servant/project/lib/python3.10/site-packages/langchain/chains/base.py:292\u001b[0m, in \u001b[0;36mChain.__call__\u001b[0;34m(self, inputs, return_only_outputs, callbacks, tags, metadata, run_name, include_run_info)\u001b[0m\n\u001b[1;32m    290\u001b[0m \u001b[39mexcept\u001b[39;00m (\u001b[39mKeyboardInterrupt\u001b[39;00m, \u001b[39mException\u001b[39;00m) \u001b[39mas\u001b[39;00m e:\n\u001b[1;32m    291\u001b[0m     run_manager\u001b[39m.\u001b[39mon_chain_error(e)\n\u001b[0;32m--> 292\u001b[0m     \u001b[39mraise\u001b[39;00m e\n\u001b[1;32m    293\u001b[0m run_manager\u001b[39m.\u001b[39mon_chain_end(outputs)\n\u001b[1;32m    294\u001b[0m final_outputs: Dict[\u001b[39mstr\u001b[39m, Any] \u001b[39m=\u001b[39m \u001b[39mself\u001b[39m\u001b[39m.\u001b[39mprep_outputs(\n\u001b[1;32m    295\u001b[0m     inputs, outputs, return_only_outputs\n\u001b[1;32m    296\u001b[0m )\n",
      "File \u001b[0;32m~/code/MaCoZu/social-media-stats-servant/project/lib/python3.10/site-packages/langchain/chains/base.py:286\u001b[0m, in \u001b[0;36mChain.__call__\u001b[0;34m(self, inputs, return_only_outputs, callbacks, tags, metadata, run_name, include_run_info)\u001b[0m\n\u001b[1;32m    279\u001b[0m run_manager \u001b[39m=\u001b[39m callback_manager\u001b[39m.\u001b[39mon_chain_start(\n\u001b[1;32m    280\u001b[0m     dumpd(\u001b[39mself\u001b[39m),\n\u001b[1;32m    281\u001b[0m     inputs,\n\u001b[1;32m    282\u001b[0m     name\u001b[39m=\u001b[39mrun_name,\n\u001b[1;32m    283\u001b[0m )\n\u001b[1;32m    284\u001b[0m \u001b[39mtry\u001b[39;00m:\n\u001b[1;32m    285\u001b[0m     outputs \u001b[39m=\u001b[39m (\n\u001b[0;32m--> 286\u001b[0m         \u001b[39mself\u001b[39;49m\u001b[39m.\u001b[39;49m_call(inputs, run_manager\u001b[39m=\u001b[39;49mrun_manager)\n\u001b[1;32m    287\u001b[0m         \u001b[39mif\u001b[39;00m new_arg_supported\n\u001b[1;32m    288\u001b[0m         \u001b[39melse\u001b[39;00m \u001b[39mself\u001b[39m\u001b[39m.\u001b[39m_call(inputs)\n\u001b[1;32m    289\u001b[0m     )\n\u001b[1;32m    290\u001b[0m \u001b[39mexcept\u001b[39;00m (\u001b[39mKeyboardInterrupt\u001b[39;00m, \u001b[39mException\u001b[39;00m) \u001b[39mas\u001b[39;00m e:\n\u001b[1;32m    291\u001b[0m     run_manager\u001b[39m.\u001b[39mon_chain_error(e)\n",
      "File \u001b[0;32m~/code/MaCoZu/social-media-stats-servant/project/lib/python3.10/site-packages/langchain_experimental/plan_and_execute/agent_executor.py:56\u001b[0m, in \u001b[0;36mPlanAndExecute._call\u001b[0;34m(self, inputs, run_manager)\u001b[0m\n\u001b[1;32m     50\u001b[0m _new_inputs \u001b[39m=\u001b[39m {\n\u001b[1;32m     51\u001b[0m     \u001b[39m\"\u001b[39m\u001b[39mprevious_steps\u001b[39m\u001b[39m\"\u001b[39m: \u001b[39mself\u001b[39m\u001b[39m.\u001b[39mstep_container,\n\u001b[1;32m     52\u001b[0m     \u001b[39m\"\u001b[39m\u001b[39mcurrent_step\u001b[39m\u001b[39m\"\u001b[39m: step,\n\u001b[1;32m     53\u001b[0m     \u001b[39m\"\u001b[39m\u001b[39mobjective\u001b[39m\u001b[39m\"\u001b[39m: inputs[\u001b[39mself\u001b[39m\u001b[39m.\u001b[39minput_key],\n\u001b[1;32m     54\u001b[0m }\n\u001b[1;32m     55\u001b[0m new_inputs \u001b[39m=\u001b[39m {\u001b[39m*\u001b[39m\u001b[39m*\u001b[39m_new_inputs, \u001b[39m*\u001b[39m\u001b[39m*\u001b[39minputs}\n\u001b[0;32m---> 56\u001b[0m response \u001b[39m=\u001b[39m \u001b[39mself\u001b[39;49m\u001b[39m.\u001b[39;49mexecutor\u001b[39m.\u001b[39;49mstep(\n\u001b[1;32m     57\u001b[0m     new_inputs,\n\u001b[1;32m     58\u001b[0m     callbacks\u001b[39m=\u001b[39;49mrun_manager\u001b[39m.\u001b[39;49mget_child() \u001b[39mif\u001b[39;49;00m run_manager \u001b[39melse\u001b[39;49;00m \u001b[39mNone\u001b[39;49;00m,\n\u001b[1;32m     59\u001b[0m )\n\u001b[1;32m     60\u001b[0m \u001b[39mif\u001b[39;00m run_manager:\n\u001b[1;32m     61\u001b[0m     run_manager\u001b[39m.\u001b[39mon_text(\n\u001b[1;32m     62\u001b[0m         \u001b[39mf\u001b[39m\u001b[39m\"\u001b[39m\u001b[39m*****\u001b[39m\u001b[39m\\n\u001b[39;00m\u001b[39m\\n\u001b[39;00m\u001b[39mStep: \u001b[39m\u001b[39m{\u001b[39;00mstep\u001b[39m.\u001b[39mvalue\u001b[39m}\u001b[39;00m\u001b[39m\"\u001b[39m, verbose\u001b[39m=\u001b[39m\u001b[39mself\u001b[39m\u001b[39m.\u001b[39mverbose\n\u001b[1;32m     63\u001b[0m     )\n",
      "File \u001b[0;32m~/code/MaCoZu/social-media-stats-servant/project/lib/python3.10/site-packages/langchain_experimental/plan_and_execute/executors/base.py:37\u001b[0m, in \u001b[0;36mChainExecutor.step\u001b[0;34m(self, inputs, callbacks, **kwargs)\u001b[0m\n\u001b[1;32m     33\u001b[0m \u001b[39mdef\u001b[39;00m \u001b[39mstep\u001b[39m(\n\u001b[1;32m     34\u001b[0m     \u001b[39mself\u001b[39m, inputs: \u001b[39mdict\u001b[39m, callbacks: Callbacks \u001b[39m=\u001b[39m \u001b[39mNone\u001b[39;00m, \u001b[39m*\u001b[39m\u001b[39m*\u001b[39mkwargs: Any\n\u001b[1;32m     35\u001b[0m ) \u001b[39m-\u001b[39m\u001b[39m>\u001b[39m StepResponse:\n\u001b[1;32m     36\u001b[0m \u001b[39m    \u001b[39m\u001b[39m\"\"\"Take step.\"\"\"\u001b[39;00m\n\u001b[0;32m---> 37\u001b[0m     response \u001b[39m=\u001b[39m \u001b[39mself\u001b[39;49m\u001b[39m.\u001b[39;49mchain\u001b[39m.\u001b[39;49mrun(\u001b[39m*\u001b[39;49m\u001b[39m*\u001b[39;49minputs, callbacks\u001b[39m=\u001b[39;49mcallbacks)\n\u001b[1;32m     38\u001b[0m     \u001b[39mreturn\u001b[39;00m StepResponse(response\u001b[39m=\u001b[39mresponse)\n",
      "File \u001b[0;32m~/code/MaCoZu/social-media-stats-servant/project/lib/python3.10/site-packages/langchain/chains/base.py:492\u001b[0m, in \u001b[0;36mChain.run\u001b[0;34m(self, callbacks, tags, metadata, *args, **kwargs)\u001b[0m\n\u001b[1;32m    487\u001b[0m     \u001b[39mreturn\u001b[39;00m \u001b[39mself\u001b[39m(args[\u001b[39m0\u001b[39m], callbacks\u001b[39m=\u001b[39mcallbacks, tags\u001b[39m=\u001b[39mtags, metadata\u001b[39m=\u001b[39mmetadata)[\n\u001b[1;32m    488\u001b[0m         _output_key\n\u001b[1;32m    489\u001b[0m     ]\n\u001b[1;32m    491\u001b[0m \u001b[39mif\u001b[39;00m kwargs \u001b[39mand\u001b[39;00m \u001b[39mnot\u001b[39;00m args:\n\u001b[0;32m--> 492\u001b[0m     \u001b[39mreturn\u001b[39;00m \u001b[39mself\u001b[39;49m(kwargs, callbacks\u001b[39m=\u001b[39;49mcallbacks, tags\u001b[39m=\u001b[39;49mtags, metadata\u001b[39m=\u001b[39;49mmetadata)[\n\u001b[1;32m    493\u001b[0m         _output_key\n\u001b[1;32m    494\u001b[0m     ]\n\u001b[1;32m    496\u001b[0m \u001b[39mif\u001b[39;00m \u001b[39mnot\u001b[39;00m kwargs \u001b[39mand\u001b[39;00m \u001b[39mnot\u001b[39;00m args:\n\u001b[1;32m    497\u001b[0m     \u001b[39mraise\u001b[39;00m \u001b[39mValueError\u001b[39;00m(\n\u001b[1;32m    498\u001b[0m         \u001b[39m\"\u001b[39m\u001b[39m`run` supported with either positional arguments or keyword arguments,\u001b[39m\u001b[39m\"\u001b[39m\n\u001b[1;32m    499\u001b[0m         \u001b[39m\"\u001b[39m\u001b[39m but none were provided.\u001b[39m\u001b[39m\"\u001b[39m\n\u001b[1;32m    500\u001b[0m     )\n",
      "File \u001b[0;32m~/code/MaCoZu/social-media-stats-servant/project/lib/python3.10/site-packages/langchain/chains/base.py:292\u001b[0m, in \u001b[0;36mChain.__call__\u001b[0;34m(self, inputs, return_only_outputs, callbacks, tags, metadata, run_name, include_run_info)\u001b[0m\n\u001b[1;32m    290\u001b[0m \u001b[39mexcept\u001b[39;00m (\u001b[39mKeyboardInterrupt\u001b[39;00m, \u001b[39mException\u001b[39;00m) \u001b[39mas\u001b[39;00m e:\n\u001b[1;32m    291\u001b[0m     run_manager\u001b[39m.\u001b[39mon_chain_error(e)\n\u001b[0;32m--> 292\u001b[0m     \u001b[39mraise\u001b[39;00m e\n\u001b[1;32m    293\u001b[0m run_manager\u001b[39m.\u001b[39mon_chain_end(outputs)\n\u001b[1;32m    294\u001b[0m final_outputs: Dict[\u001b[39mstr\u001b[39m, Any] \u001b[39m=\u001b[39m \u001b[39mself\u001b[39m\u001b[39m.\u001b[39mprep_outputs(\n\u001b[1;32m    295\u001b[0m     inputs, outputs, return_only_outputs\n\u001b[1;32m    296\u001b[0m )\n",
      "File \u001b[0;32m~/code/MaCoZu/social-media-stats-servant/project/lib/python3.10/site-packages/langchain/chains/base.py:286\u001b[0m, in \u001b[0;36mChain.__call__\u001b[0;34m(self, inputs, return_only_outputs, callbacks, tags, metadata, run_name, include_run_info)\u001b[0m\n\u001b[1;32m    279\u001b[0m run_manager \u001b[39m=\u001b[39m callback_manager\u001b[39m.\u001b[39mon_chain_start(\n\u001b[1;32m    280\u001b[0m     dumpd(\u001b[39mself\u001b[39m),\n\u001b[1;32m    281\u001b[0m     inputs,\n\u001b[1;32m    282\u001b[0m     name\u001b[39m=\u001b[39mrun_name,\n\u001b[1;32m    283\u001b[0m )\n\u001b[1;32m    284\u001b[0m \u001b[39mtry\u001b[39;00m:\n\u001b[1;32m    285\u001b[0m     outputs \u001b[39m=\u001b[39m (\n\u001b[0;32m--> 286\u001b[0m         \u001b[39mself\u001b[39;49m\u001b[39m.\u001b[39;49m_call(inputs, run_manager\u001b[39m=\u001b[39;49mrun_manager)\n\u001b[1;32m    287\u001b[0m         \u001b[39mif\u001b[39;00m new_arg_supported\n\u001b[1;32m    288\u001b[0m         \u001b[39melse\u001b[39;00m \u001b[39mself\u001b[39m\u001b[39m.\u001b[39m_call(inputs)\n\u001b[1;32m    289\u001b[0m     )\n\u001b[1;32m    290\u001b[0m \u001b[39mexcept\u001b[39;00m (\u001b[39mKeyboardInterrupt\u001b[39;00m, \u001b[39mException\u001b[39;00m) \u001b[39mas\u001b[39;00m e:\n\u001b[1;32m    291\u001b[0m     run_manager\u001b[39m.\u001b[39mon_chain_error(e)\n",
      "File \u001b[0;32m~/code/MaCoZu/social-media-stats-servant/project/lib/python3.10/site-packages/langchain/agents/agent.py:1039\u001b[0m, in \u001b[0;36mAgentExecutor._call\u001b[0;34m(self, inputs, run_manager)\u001b[0m\n\u001b[1;32m   1037\u001b[0m \u001b[39m# We now enter the agent loop (until it returns something).\u001b[39;00m\n\u001b[1;32m   1038\u001b[0m \u001b[39mwhile\u001b[39;00m \u001b[39mself\u001b[39m\u001b[39m.\u001b[39m_should_continue(iterations, time_elapsed):\n\u001b[0;32m-> 1039\u001b[0m     next_step_output \u001b[39m=\u001b[39m \u001b[39mself\u001b[39;49m\u001b[39m.\u001b[39;49m_take_next_step(\n\u001b[1;32m   1040\u001b[0m         name_to_tool_map,\n\u001b[1;32m   1041\u001b[0m         color_mapping,\n\u001b[1;32m   1042\u001b[0m         inputs,\n\u001b[1;32m   1043\u001b[0m         intermediate_steps,\n\u001b[1;32m   1044\u001b[0m         run_manager\u001b[39m=\u001b[39;49mrun_manager,\n\u001b[1;32m   1045\u001b[0m     )\n\u001b[1;32m   1046\u001b[0m     \u001b[39mif\u001b[39;00m \u001b[39misinstance\u001b[39m(next_step_output, AgentFinish):\n\u001b[1;32m   1047\u001b[0m         \u001b[39mreturn\u001b[39;00m \u001b[39mself\u001b[39m\u001b[39m.\u001b[39m_return(\n\u001b[1;32m   1048\u001b[0m             next_step_output, intermediate_steps, run_manager\u001b[39m=\u001b[39mrun_manager\n\u001b[1;32m   1049\u001b[0m         )\n",
      "File \u001b[0;32m~/code/MaCoZu/social-media-stats-servant/project/lib/python3.10/site-packages/langchain/agents/agent.py:836\u001b[0m, in \u001b[0;36mAgentExecutor._take_next_step\u001b[0;34m(self, name_to_tool_map, color_mapping, inputs, intermediate_steps, run_manager)\u001b[0m\n\u001b[1;32m    833\u001b[0m     intermediate_steps \u001b[39m=\u001b[39m \u001b[39mself\u001b[39m\u001b[39m.\u001b[39m_prepare_intermediate_steps(intermediate_steps)\n\u001b[1;32m    835\u001b[0m     \u001b[39m# Call the LLM to see what to do.\u001b[39;00m\n\u001b[0;32m--> 836\u001b[0m     output \u001b[39m=\u001b[39m \u001b[39mself\u001b[39;49m\u001b[39m.\u001b[39;49magent\u001b[39m.\u001b[39;49mplan(\n\u001b[1;32m    837\u001b[0m         intermediate_steps,\n\u001b[1;32m    838\u001b[0m         callbacks\u001b[39m=\u001b[39;49mrun_manager\u001b[39m.\u001b[39;49mget_child() \u001b[39mif\u001b[39;49;00m run_manager \u001b[39melse\u001b[39;49;00m \u001b[39mNone\u001b[39;49;00m,\n\u001b[1;32m    839\u001b[0m         \u001b[39m*\u001b[39;49m\u001b[39m*\u001b[39;49minputs,\n\u001b[1;32m    840\u001b[0m     )\n\u001b[1;32m    841\u001b[0m \u001b[39mexcept\u001b[39;00m OutputParserException \u001b[39mas\u001b[39;00m e:\n\u001b[1;32m    842\u001b[0m     \u001b[39mif\u001b[39;00m \u001b[39misinstance\u001b[39m(\u001b[39mself\u001b[39m\u001b[39m.\u001b[39mhandle_parsing_errors, \u001b[39mbool\u001b[39m):\n",
      "File \u001b[0;32m~/code/MaCoZu/social-media-stats-servant/project/lib/python3.10/site-packages/langchain/agents/agent.py:456\u001b[0m, in \u001b[0;36mAgent.plan\u001b[0;34m(self, intermediate_steps, callbacks, **kwargs)\u001b[0m\n\u001b[1;32m    444\u001b[0m \u001b[39m\u001b[39m\u001b[39m\"\"\"Given input, decided what to do.\u001b[39;00m\n\u001b[1;32m    445\u001b[0m \n\u001b[1;32m    446\u001b[0m \u001b[39mArgs:\u001b[39;00m\n\u001b[0;32m   (...)\u001b[0m\n\u001b[1;32m    453\u001b[0m \u001b[39m    Action specifying what tool to use.\u001b[39;00m\n\u001b[1;32m    454\u001b[0m \u001b[39m\"\"\"\u001b[39;00m\n\u001b[1;32m    455\u001b[0m full_inputs \u001b[39m=\u001b[39m \u001b[39mself\u001b[39m\u001b[39m.\u001b[39mget_full_inputs(intermediate_steps, \u001b[39m*\u001b[39m\u001b[39m*\u001b[39mkwargs)\n\u001b[0;32m--> 456\u001b[0m full_output \u001b[39m=\u001b[39m \u001b[39mself\u001b[39;49m\u001b[39m.\u001b[39;49mllm_chain\u001b[39m.\u001b[39;49mpredict(callbacks\u001b[39m=\u001b[39;49mcallbacks, \u001b[39m*\u001b[39;49m\u001b[39m*\u001b[39;49mfull_inputs)\n\u001b[1;32m    457\u001b[0m \u001b[39mreturn\u001b[39;00m \u001b[39mself\u001b[39m\u001b[39m.\u001b[39moutput_parser\u001b[39m.\u001b[39mparse(full_output)\n",
      "File \u001b[0;32m~/code/MaCoZu/social-media-stats-servant/project/lib/python3.10/site-packages/langchain/chains/llm.py:255\u001b[0m, in \u001b[0;36mLLMChain.predict\u001b[0;34m(self, callbacks, **kwargs)\u001b[0m\n\u001b[1;32m    240\u001b[0m \u001b[39mdef\u001b[39;00m \u001b[39mpredict\u001b[39m(\u001b[39mself\u001b[39m, callbacks: Callbacks \u001b[39m=\u001b[39m \u001b[39mNone\u001b[39;00m, \u001b[39m*\u001b[39m\u001b[39m*\u001b[39mkwargs: Any) \u001b[39m-\u001b[39m\u001b[39m>\u001b[39m \u001b[39mstr\u001b[39m:\n\u001b[1;32m    241\u001b[0m \u001b[39m    \u001b[39m\u001b[39m\"\"\"Format prompt with kwargs and pass to LLM.\u001b[39;00m\n\u001b[1;32m    242\u001b[0m \n\u001b[1;32m    243\u001b[0m \u001b[39m    Args:\u001b[39;00m\n\u001b[0;32m   (...)\u001b[0m\n\u001b[1;32m    253\u001b[0m \u001b[39m            completion = llm.predict(adjective=\"funny\")\u001b[39;00m\n\u001b[1;32m    254\u001b[0m \u001b[39m    \"\"\"\u001b[39;00m\n\u001b[0;32m--> 255\u001b[0m     \u001b[39mreturn\u001b[39;00m \u001b[39mself\u001b[39;49m(kwargs, callbacks\u001b[39m=\u001b[39;49mcallbacks)[\u001b[39mself\u001b[39m\u001b[39m.\u001b[39moutput_key]\n",
      "File \u001b[0;32m~/code/MaCoZu/social-media-stats-servant/project/lib/python3.10/site-packages/langchain/chains/base.py:292\u001b[0m, in \u001b[0;36mChain.__call__\u001b[0;34m(self, inputs, return_only_outputs, callbacks, tags, metadata, run_name, include_run_info)\u001b[0m\n\u001b[1;32m    290\u001b[0m \u001b[39mexcept\u001b[39;00m (\u001b[39mKeyboardInterrupt\u001b[39;00m, \u001b[39mException\u001b[39;00m) \u001b[39mas\u001b[39;00m e:\n\u001b[1;32m    291\u001b[0m     run_manager\u001b[39m.\u001b[39mon_chain_error(e)\n\u001b[0;32m--> 292\u001b[0m     \u001b[39mraise\u001b[39;00m e\n\u001b[1;32m    293\u001b[0m run_manager\u001b[39m.\u001b[39mon_chain_end(outputs)\n\u001b[1;32m    294\u001b[0m final_outputs: Dict[\u001b[39mstr\u001b[39m, Any] \u001b[39m=\u001b[39m \u001b[39mself\u001b[39m\u001b[39m.\u001b[39mprep_outputs(\n\u001b[1;32m    295\u001b[0m     inputs, outputs, return_only_outputs\n\u001b[1;32m    296\u001b[0m )\n",
      "File \u001b[0;32m~/code/MaCoZu/social-media-stats-servant/project/lib/python3.10/site-packages/langchain/chains/base.py:286\u001b[0m, in \u001b[0;36mChain.__call__\u001b[0;34m(self, inputs, return_only_outputs, callbacks, tags, metadata, run_name, include_run_info)\u001b[0m\n\u001b[1;32m    279\u001b[0m run_manager \u001b[39m=\u001b[39m callback_manager\u001b[39m.\u001b[39mon_chain_start(\n\u001b[1;32m    280\u001b[0m     dumpd(\u001b[39mself\u001b[39m),\n\u001b[1;32m    281\u001b[0m     inputs,\n\u001b[1;32m    282\u001b[0m     name\u001b[39m=\u001b[39mrun_name,\n\u001b[1;32m    283\u001b[0m )\n\u001b[1;32m    284\u001b[0m \u001b[39mtry\u001b[39;00m:\n\u001b[1;32m    285\u001b[0m     outputs \u001b[39m=\u001b[39m (\n\u001b[0;32m--> 286\u001b[0m         \u001b[39mself\u001b[39;49m\u001b[39m.\u001b[39;49m_call(inputs, run_manager\u001b[39m=\u001b[39;49mrun_manager)\n\u001b[1;32m    287\u001b[0m         \u001b[39mif\u001b[39;00m new_arg_supported\n\u001b[1;32m    288\u001b[0m         \u001b[39melse\u001b[39;00m \u001b[39mself\u001b[39m\u001b[39m.\u001b[39m_call(inputs)\n\u001b[1;32m    289\u001b[0m     )\n\u001b[1;32m    290\u001b[0m \u001b[39mexcept\u001b[39;00m (\u001b[39mKeyboardInterrupt\u001b[39;00m, \u001b[39mException\u001b[39;00m) \u001b[39mas\u001b[39;00m e:\n\u001b[1;32m    291\u001b[0m     run_manager\u001b[39m.\u001b[39mon_chain_error(e)\n",
      "File \u001b[0;32m~/code/MaCoZu/social-media-stats-servant/project/lib/python3.10/site-packages/langchain/chains/llm.py:91\u001b[0m, in \u001b[0;36mLLMChain._call\u001b[0;34m(self, inputs, run_manager)\u001b[0m\n\u001b[1;32m     86\u001b[0m \u001b[39mdef\u001b[39;00m \u001b[39m_call\u001b[39m(\n\u001b[1;32m     87\u001b[0m     \u001b[39mself\u001b[39m,\n\u001b[1;32m     88\u001b[0m     inputs: Dict[\u001b[39mstr\u001b[39m, Any],\n\u001b[1;32m     89\u001b[0m     run_manager: Optional[CallbackManagerForChainRun] \u001b[39m=\u001b[39m \u001b[39mNone\u001b[39;00m,\n\u001b[1;32m     90\u001b[0m ) \u001b[39m-\u001b[39m\u001b[39m>\u001b[39m Dict[\u001b[39mstr\u001b[39m, \u001b[39mstr\u001b[39m]:\n\u001b[0;32m---> 91\u001b[0m     response \u001b[39m=\u001b[39m \u001b[39mself\u001b[39;49m\u001b[39m.\u001b[39;49mgenerate([inputs], run_manager\u001b[39m=\u001b[39;49mrun_manager)\n\u001b[1;32m     92\u001b[0m     \u001b[39mreturn\u001b[39;00m \u001b[39mself\u001b[39m\u001b[39m.\u001b[39mcreate_outputs(response)[\u001b[39m0\u001b[39m]\n",
      "File \u001b[0;32m~/code/MaCoZu/social-media-stats-servant/project/lib/python3.10/site-packages/langchain/chains/llm.py:101\u001b[0m, in \u001b[0;36mLLMChain.generate\u001b[0;34m(self, input_list, run_manager)\u001b[0m\n\u001b[1;32m     99\u001b[0m \u001b[39m\u001b[39m\u001b[39m\"\"\"Generate LLM result from inputs.\"\"\"\u001b[39;00m\n\u001b[1;32m    100\u001b[0m prompts, stop \u001b[39m=\u001b[39m \u001b[39mself\u001b[39m\u001b[39m.\u001b[39mprep_prompts(input_list, run_manager\u001b[39m=\u001b[39mrun_manager)\n\u001b[0;32m--> 101\u001b[0m \u001b[39mreturn\u001b[39;00m \u001b[39mself\u001b[39;49m\u001b[39m.\u001b[39;49mllm\u001b[39m.\u001b[39;49mgenerate_prompt(\n\u001b[1;32m    102\u001b[0m     prompts,\n\u001b[1;32m    103\u001b[0m     stop,\n\u001b[1;32m    104\u001b[0m     callbacks\u001b[39m=\u001b[39;49mrun_manager\u001b[39m.\u001b[39;49mget_child() \u001b[39mif\u001b[39;49;00m run_manager \u001b[39melse\u001b[39;49;00m \u001b[39mNone\u001b[39;49;00m,\n\u001b[1;32m    105\u001b[0m     \u001b[39m*\u001b[39;49m\u001b[39m*\u001b[39;49m\u001b[39mself\u001b[39;49m\u001b[39m.\u001b[39;49mllm_kwargs,\n\u001b[1;32m    106\u001b[0m )\n",
      "File \u001b[0;32m~/code/MaCoZu/social-media-stats-servant/project/lib/python3.10/site-packages/langchain/chat_models/base.py:414\u001b[0m, in \u001b[0;36mBaseChatModel.generate_prompt\u001b[0;34m(self, prompts, stop, callbacks, **kwargs)\u001b[0m\n\u001b[1;32m    406\u001b[0m \u001b[39mdef\u001b[39;00m \u001b[39mgenerate_prompt\u001b[39m(\n\u001b[1;32m    407\u001b[0m     \u001b[39mself\u001b[39m,\n\u001b[1;32m    408\u001b[0m     prompts: List[PromptValue],\n\u001b[0;32m   (...)\u001b[0m\n\u001b[1;32m    411\u001b[0m     \u001b[39m*\u001b[39m\u001b[39m*\u001b[39mkwargs: Any,\n\u001b[1;32m    412\u001b[0m ) \u001b[39m-\u001b[39m\u001b[39m>\u001b[39m LLMResult:\n\u001b[1;32m    413\u001b[0m     prompt_messages \u001b[39m=\u001b[39m [p\u001b[39m.\u001b[39mto_messages() \u001b[39mfor\u001b[39;00m p \u001b[39min\u001b[39;00m prompts]\n\u001b[0;32m--> 414\u001b[0m     \u001b[39mreturn\u001b[39;00m \u001b[39mself\u001b[39;49m\u001b[39m.\u001b[39;49mgenerate(prompt_messages, stop\u001b[39m=\u001b[39;49mstop, callbacks\u001b[39m=\u001b[39;49mcallbacks, \u001b[39m*\u001b[39;49m\u001b[39m*\u001b[39;49mkwargs)\n",
      "File \u001b[0;32m~/code/MaCoZu/social-media-stats-servant/project/lib/python3.10/site-packages/langchain/chat_models/base.py:309\u001b[0m, in \u001b[0;36mBaseChatModel.generate\u001b[0;34m(self, messages, stop, callbacks, tags, metadata, **kwargs)\u001b[0m\n\u001b[1;32m    307\u001b[0m         \u001b[39mif\u001b[39;00m run_managers:\n\u001b[1;32m    308\u001b[0m             run_managers[i]\u001b[39m.\u001b[39mon_llm_error(e)\n\u001b[0;32m--> 309\u001b[0m         \u001b[39mraise\u001b[39;00m e\n\u001b[1;32m    310\u001b[0m flattened_outputs \u001b[39m=\u001b[39m [\n\u001b[1;32m    311\u001b[0m     LLMResult(generations\u001b[39m=\u001b[39m[res\u001b[39m.\u001b[39mgenerations], llm_output\u001b[39m=\u001b[39mres\u001b[39m.\u001b[39mllm_output)\n\u001b[1;32m    312\u001b[0m     \u001b[39mfor\u001b[39;00m res \u001b[39min\u001b[39;00m results\n\u001b[1;32m    313\u001b[0m ]\n\u001b[1;32m    314\u001b[0m llm_output \u001b[39m=\u001b[39m \u001b[39mself\u001b[39m\u001b[39m.\u001b[39m_combine_llm_outputs([res\u001b[39m.\u001b[39mllm_output \u001b[39mfor\u001b[39;00m res \u001b[39min\u001b[39;00m results])\n",
      "File \u001b[0;32m~/code/MaCoZu/social-media-stats-servant/project/lib/python3.10/site-packages/langchain/chat_models/base.py:299\u001b[0m, in \u001b[0;36mBaseChatModel.generate\u001b[0;34m(self, messages, stop, callbacks, tags, metadata, **kwargs)\u001b[0m\n\u001b[1;32m    296\u001b[0m \u001b[39mfor\u001b[39;00m i, m \u001b[39min\u001b[39;00m \u001b[39menumerate\u001b[39m(messages):\n\u001b[1;32m    297\u001b[0m     \u001b[39mtry\u001b[39;00m:\n\u001b[1;32m    298\u001b[0m         results\u001b[39m.\u001b[39mappend(\n\u001b[0;32m--> 299\u001b[0m             \u001b[39mself\u001b[39;49m\u001b[39m.\u001b[39;49m_generate_with_cache(\n\u001b[1;32m    300\u001b[0m                 m,\n\u001b[1;32m    301\u001b[0m                 stop\u001b[39m=\u001b[39;49mstop,\n\u001b[1;32m    302\u001b[0m                 run_manager\u001b[39m=\u001b[39;49mrun_managers[i] \u001b[39mif\u001b[39;49;00m run_managers \u001b[39melse\u001b[39;49;00m \u001b[39mNone\u001b[39;49;00m,\n\u001b[1;32m    303\u001b[0m                 \u001b[39m*\u001b[39;49m\u001b[39m*\u001b[39;49mkwargs,\n\u001b[1;32m    304\u001b[0m             )\n\u001b[1;32m    305\u001b[0m         )\n\u001b[1;32m    306\u001b[0m     \u001b[39mexcept\u001b[39;00m (\u001b[39mKeyboardInterrupt\u001b[39;00m, \u001b[39mException\u001b[39;00m) \u001b[39mas\u001b[39;00m e:\n\u001b[1;32m    307\u001b[0m         \u001b[39mif\u001b[39;00m run_managers:\n",
      "File \u001b[0;32m~/code/MaCoZu/social-media-stats-servant/project/lib/python3.10/site-packages/langchain/chat_models/base.py:446\u001b[0m, in \u001b[0;36mBaseChatModel._generate_with_cache\u001b[0;34m(self, messages, stop, run_manager, **kwargs)\u001b[0m\n\u001b[1;32m    442\u001b[0m     \u001b[39mraise\u001b[39;00m \u001b[39mValueError\u001b[39;00m(\n\u001b[1;32m    443\u001b[0m         \u001b[39m\"\u001b[39m\u001b[39mAsked to cache, but no cache found at `langchain.cache`.\u001b[39m\u001b[39m\"\u001b[39m\n\u001b[1;32m    444\u001b[0m     )\n\u001b[1;32m    445\u001b[0m \u001b[39mif\u001b[39;00m new_arg_supported:\n\u001b[0;32m--> 446\u001b[0m     \u001b[39mreturn\u001b[39;00m \u001b[39mself\u001b[39;49m\u001b[39m.\u001b[39;49m_generate(\n\u001b[1;32m    447\u001b[0m         messages, stop\u001b[39m=\u001b[39;49mstop, run_manager\u001b[39m=\u001b[39;49mrun_manager, \u001b[39m*\u001b[39;49m\u001b[39m*\u001b[39;49mkwargs\n\u001b[1;32m    448\u001b[0m     )\n\u001b[1;32m    449\u001b[0m \u001b[39melse\u001b[39;00m:\n\u001b[1;32m    450\u001b[0m     \u001b[39mreturn\u001b[39;00m \u001b[39mself\u001b[39m\u001b[39m.\u001b[39m_generate(messages, stop\u001b[39m=\u001b[39mstop, \u001b[39m*\u001b[39m\u001b[39m*\u001b[39mkwargs)\n",
      "File \u001b[0;32m~/code/MaCoZu/social-media-stats-servant/project/lib/python3.10/site-packages/langchain/chat_models/openai.py:345\u001b[0m, in \u001b[0;36mChatOpenAI._generate\u001b[0;34m(self, messages, stop, run_manager, stream, **kwargs)\u001b[0m\n\u001b[1;32m    343\u001b[0m message_dicts, params \u001b[39m=\u001b[39m \u001b[39mself\u001b[39m\u001b[39m.\u001b[39m_create_message_dicts(messages, stop)\n\u001b[1;32m    344\u001b[0m params \u001b[39m=\u001b[39m {\u001b[39m*\u001b[39m\u001b[39m*\u001b[39mparams, \u001b[39m*\u001b[39m\u001b[39m*\u001b[39mkwargs}\n\u001b[0;32m--> 345\u001b[0m response \u001b[39m=\u001b[39m \u001b[39mself\u001b[39;49m\u001b[39m.\u001b[39;49mcompletion_with_retry(\n\u001b[1;32m    346\u001b[0m     messages\u001b[39m=\u001b[39;49mmessage_dicts, run_manager\u001b[39m=\u001b[39;49mrun_manager, \u001b[39m*\u001b[39;49m\u001b[39m*\u001b[39;49mparams\n\u001b[1;32m    347\u001b[0m )\n\u001b[1;32m    348\u001b[0m \u001b[39mreturn\u001b[39;00m \u001b[39mself\u001b[39m\u001b[39m.\u001b[39m_create_chat_result(response)\n",
      "File \u001b[0;32m~/code/MaCoZu/social-media-stats-servant/project/lib/python3.10/site-packages/langchain/chat_models/openai.py:278\u001b[0m, in \u001b[0;36mChatOpenAI.completion_with_retry\u001b[0;34m(self, run_manager, **kwargs)\u001b[0m\n\u001b[1;32m    274\u001b[0m \u001b[39m@retry_decorator\u001b[39m\n\u001b[1;32m    275\u001b[0m \u001b[39mdef\u001b[39;00m \u001b[39m_completion_with_retry\u001b[39m(\u001b[39m*\u001b[39m\u001b[39m*\u001b[39mkwargs: Any) \u001b[39m-\u001b[39m\u001b[39m>\u001b[39m Any:\n\u001b[1;32m    276\u001b[0m     \u001b[39mreturn\u001b[39;00m \u001b[39mself\u001b[39m\u001b[39m.\u001b[39mclient\u001b[39m.\u001b[39mcreate(\u001b[39m*\u001b[39m\u001b[39m*\u001b[39mkwargs)\n\u001b[0;32m--> 278\u001b[0m \u001b[39mreturn\u001b[39;00m _completion_with_retry(\u001b[39m*\u001b[39;49m\u001b[39m*\u001b[39;49mkwargs)\n",
      "File \u001b[0;32m~/code/MaCoZu/social-media-stats-servant/project/lib/python3.10/site-packages/tenacity/__init__.py:289\u001b[0m, in \u001b[0;36mBaseRetrying.wraps.<locals>.wrapped_f\u001b[0;34m(*args, **kw)\u001b[0m\n\u001b[1;32m    287\u001b[0m \u001b[39m@functools\u001b[39m\u001b[39m.\u001b[39mwraps(f)\n\u001b[1;32m    288\u001b[0m \u001b[39mdef\u001b[39;00m \u001b[39mwrapped_f\u001b[39m(\u001b[39m*\u001b[39margs: t\u001b[39m.\u001b[39mAny, \u001b[39m*\u001b[39m\u001b[39m*\u001b[39mkw: t\u001b[39m.\u001b[39mAny) \u001b[39m-\u001b[39m\u001b[39m>\u001b[39m t\u001b[39m.\u001b[39mAny:\n\u001b[0;32m--> 289\u001b[0m     \u001b[39mreturn\u001b[39;00m \u001b[39mself\u001b[39;49m(f, \u001b[39m*\u001b[39;49margs, \u001b[39m*\u001b[39;49m\u001b[39m*\u001b[39;49mkw)\n",
      "File \u001b[0;32m~/code/MaCoZu/social-media-stats-servant/project/lib/python3.10/site-packages/tenacity/__init__.py:379\u001b[0m, in \u001b[0;36mRetrying.__call__\u001b[0;34m(self, fn, *args, **kwargs)\u001b[0m\n\u001b[1;32m    377\u001b[0m retry_state \u001b[39m=\u001b[39m RetryCallState(retry_object\u001b[39m=\u001b[39m\u001b[39mself\u001b[39m, fn\u001b[39m=\u001b[39mfn, args\u001b[39m=\u001b[39margs, kwargs\u001b[39m=\u001b[39mkwargs)\n\u001b[1;32m    378\u001b[0m \u001b[39mwhile\u001b[39;00m \u001b[39mTrue\u001b[39;00m:\n\u001b[0;32m--> 379\u001b[0m     do \u001b[39m=\u001b[39m \u001b[39mself\u001b[39;49m\u001b[39m.\u001b[39;49miter(retry_state\u001b[39m=\u001b[39;49mretry_state)\n\u001b[1;32m    380\u001b[0m     \u001b[39mif\u001b[39;00m \u001b[39misinstance\u001b[39m(do, DoAttempt):\n\u001b[1;32m    381\u001b[0m         \u001b[39mtry\u001b[39;00m:\n",
      "File \u001b[0;32m~/code/MaCoZu/social-media-stats-servant/project/lib/python3.10/site-packages/tenacity/__init__.py:314\u001b[0m, in \u001b[0;36mBaseRetrying.iter\u001b[0;34m(self, retry_state)\u001b[0m\n\u001b[1;32m    312\u001b[0m is_explicit_retry \u001b[39m=\u001b[39m fut\u001b[39m.\u001b[39mfailed \u001b[39mand\u001b[39;00m \u001b[39misinstance\u001b[39m(fut\u001b[39m.\u001b[39mexception(), TryAgain)\n\u001b[1;32m    313\u001b[0m \u001b[39mif\u001b[39;00m \u001b[39mnot\u001b[39;00m (is_explicit_retry \u001b[39mor\u001b[39;00m \u001b[39mself\u001b[39m\u001b[39m.\u001b[39mretry(retry_state)):\n\u001b[0;32m--> 314\u001b[0m     \u001b[39mreturn\u001b[39;00m fut\u001b[39m.\u001b[39;49mresult()\n\u001b[1;32m    316\u001b[0m \u001b[39mif\u001b[39;00m \u001b[39mself\u001b[39m\u001b[39m.\u001b[39mafter \u001b[39mis\u001b[39;00m \u001b[39mnot\u001b[39;00m \u001b[39mNone\u001b[39;00m:\n\u001b[1;32m    317\u001b[0m     \u001b[39mself\u001b[39m\u001b[39m.\u001b[39mafter(retry_state)\n",
      "File \u001b[0;32m/usr/lib/python3.10/concurrent/futures/_base.py:451\u001b[0m, in \u001b[0;36mFuture.result\u001b[0;34m(self, timeout)\u001b[0m\n\u001b[1;32m    449\u001b[0m     \u001b[39mraise\u001b[39;00m CancelledError()\n\u001b[1;32m    450\u001b[0m \u001b[39melif\u001b[39;00m \u001b[39mself\u001b[39m\u001b[39m.\u001b[39m_state \u001b[39m==\u001b[39m FINISHED:\n\u001b[0;32m--> 451\u001b[0m     \u001b[39mreturn\u001b[39;00m \u001b[39mself\u001b[39;49m\u001b[39m.\u001b[39;49m__get_result()\n\u001b[1;32m    453\u001b[0m \u001b[39mself\u001b[39m\u001b[39m.\u001b[39m_condition\u001b[39m.\u001b[39mwait(timeout)\n\u001b[1;32m    455\u001b[0m \u001b[39mif\u001b[39;00m \u001b[39mself\u001b[39m\u001b[39m.\u001b[39m_state \u001b[39min\u001b[39;00m [CANCELLED, CANCELLED_AND_NOTIFIED]:\n",
      "File \u001b[0;32m/usr/lib/python3.10/concurrent/futures/_base.py:403\u001b[0m, in \u001b[0;36mFuture.__get_result\u001b[0;34m(self)\u001b[0m\n\u001b[1;32m    401\u001b[0m \u001b[39mif\u001b[39;00m \u001b[39mself\u001b[39m\u001b[39m.\u001b[39m_exception:\n\u001b[1;32m    402\u001b[0m     \u001b[39mtry\u001b[39;00m:\n\u001b[0;32m--> 403\u001b[0m         \u001b[39mraise\u001b[39;00m \u001b[39mself\u001b[39m\u001b[39m.\u001b[39m_exception\n\u001b[1;32m    404\u001b[0m     \u001b[39mfinally\u001b[39;00m:\n\u001b[1;32m    405\u001b[0m         \u001b[39m# Break a reference cycle with the exception in self._exception\u001b[39;00m\n\u001b[1;32m    406\u001b[0m         \u001b[39mself\u001b[39m \u001b[39m=\u001b[39m \u001b[39mNone\u001b[39;00m\n",
      "File \u001b[0;32m~/code/MaCoZu/social-media-stats-servant/project/lib/python3.10/site-packages/tenacity/__init__.py:382\u001b[0m, in \u001b[0;36mRetrying.__call__\u001b[0;34m(self, fn, *args, **kwargs)\u001b[0m\n\u001b[1;32m    380\u001b[0m \u001b[39mif\u001b[39;00m \u001b[39misinstance\u001b[39m(do, DoAttempt):\n\u001b[1;32m    381\u001b[0m     \u001b[39mtry\u001b[39;00m:\n\u001b[0;32m--> 382\u001b[0m         result \u001b[39m=\u001b[39m fn(\u001b[39m*\u001b[39;49margs, \u001b[39m*\u001b[39;49m\u001b[39m*\u001b[39;49mkwargs)\n\u001b[1;32m    383\u001b[0m     \u001b[39mexcept\u001b[39;00m \u001b[39mBaseException\u001b[39;00m:  \u001b[39m# noqa: B902\u001b[39;00m\n\u001b[1;32m    384\u001b[0m         retry_state\u001b[39m.\u001b[39mset_exception(sys\u001b[39m.\u001b[39mexc_info())  \u001b[39m# type: ignore[arg-type]\u001b[39;00m\n",
      "File \u001b[0;32m~/code/MaCoZu/social-media-stats-servant/project/lib/python3.10/site-packages/langchain/chat_models/openai.py:276\u001b[0m, in \u001b[0;36mChatOpenAI.completion_with_retry.<locals>._completion_with_retry\u001b[0;34m(**kwargs)\u001b[0m\n\u001b[1;32m    274\u001b[0m \u001b[39m@retry_decorator\u001b[39m\n\u001b[1;32m    275\u001b[0m \u001b[39mdef\u001b[39;00m \u001b[39m_completion_with_retry\u001b[39m(\u001b[39m*\u001b[39m\u001b[39m*\u001b[39mkwargs: Any) \u001b[39m-\u001b[39m\u001b[39m>\u001b[39m Any:\n\u001b[0;32m--> 276\u001b[0m     \u001b[39mreturn\u001b[39;00m \u001b[39mself\u001b[39;49m\u001b[39m.\u001b[39;49mclient\u001b[39m.\u001b[39;49mcreate(\u001b[39m*\u001b[39;49m\u001b[39m*\u001b[39;49mkwargs)\n",
      "File \u001b[0;32m~/code/MaCoZu/social-media-stats-servant/project/lib/python3.10/site-packages/openai/api_resources/chat_completion.py:25\u001b[0m, in \u001b[0;36mChatCompletion.create\u001b[0;34m(cls, *args, **kwargs)\u001b[0m\n\u001b[1;32m     23\u001b[0m \u001b[39mwhile\u001b[39;00m \u001b[39mTrue\u001b[39;00m:\n\u001b[1;32m     24\u001b[0m     \u001b[39mtry\u001b[39;00m:\n\u001b[0;32m---> 25\u001b[0m         \u001b[39mreturn\u001b[39;00m \u001b[39msuper\u001b[39;49m()\u001b[39m.\u001b[39;49mcreate(\u001b[39m*\u001b[39;49margs, \u001b[39m*\u001b[39;49m\u001b[39m*\u001b[39;49mkwargs)\n\u001b[1;32m     26\u001b[0m     \u001b[39mexcept\u001b[39;00m TryAgain \u001b[39mas\u001b[39;00m e:\n\u001b[1;32m     27\u001b[0m         \u001b[39mif\u001b[39;00m timeout \u001b[39mis\u001b[39;00m \u001b[39mnot\u001b[39;00m \u001b[39mNone\u001b[39;00m \u001b[39mand\u001b[39;00m time\u001b[39m.\u001b[39mtime() \u001b[39m>\u001b[39m start \u001b[39m+\u001b[39m timeout:\n",
      "File \u001b[0;32m~/code/MaCoZu/social-media-stats-servant/project/lib/python3.10/site-packages/openai/api_resources/abstract/engine_api_resource.py:153\u001b[0m, in \u001b[0;36mEngineAPIResource.create\u001b[0;34m(cls, api_key, api_base, api_type, request_id, api_version, organization, **params)\u001b[0m\n\u001b[1;32m    127\u001b[0m \u001b[39m@classmethod\u001b[39m\n\u001b[1;32m    128\u001b[0m \u001b[39mdef\u001b[39;00m \u001b[39mcreate\u001b[39m(\n\u001b[1;32m    129\u001b[0m     \u001b[39mcls\u001b[39m,\n\u001b[0;32m   (...)\u001b[0m\n\u001b[1;32m    136\u001b[0m     \u001b[39m*\u001b[39m\u001b[39m*\u001b[39mparams,\n\u001b[1;32m    137\u001b[0m ):\n\u001b[1;32m    138\u001b[0m     (\n\u001b[1;32m    139\u001b[0m         deployment_id,\n\u001b[1;32m    140\u001b[0m         engine,\n\u001b[0;32m   (...)\u001b[0m\n\u001b[1;32m    150\u001b[0m         api_key, api_base, api_type, api_version, organization, \u001b[39m*\u001b[39m\u001b[39m*\u001b[39mparams\n\u001b[1;32m    151\u001b[0m     )\n\u001b[0;32m--> 153\u001b[0m     response, _, api_key \u001b[39m=\u001b[39m requestor\u001b[39m.\u001b[39;49mrequest(\n\u001b[1;32m    154\u001b[0m         \u001b[39m\"\u001b[39;49m\u001b[39mpost\u001b[39;49m\u001b[39m\"\u001b[39;49m,\n\u001b[1;32m    155\u001b[0m         url,\n\u001b[1;32m    156\u001b[0m         params\u001b[39m=\u001b[39;49mparams,\n\u001b[1;32m    157\u001b[0m         headers\u001b[39m=\u001b[39;49mheaders,\n\u001b[1;32m    158\u001b[0m         stream\u001b[39m=\u001b[39;49mstream,\n\u001b[1;32m    159\u001b[0m         request_id\u001b[39m=\u001b[39;49mrequest_id,\n\u001b[1;32m    160\u001b[0m         request_timeout\u001b[39m=\u001b[39;49mrequest_timeout,\n\u001b[1;32m    161\u001b[0m     )\n\u001b[1;32m    163\u001b[0m     \u001b[39mif\u001b[39;00m stream:\n\u001b[1;32m    164\u001b[0m         \u001b[39m# must be an iterator\u001b[39;00m\n\u001b[1;32m    165\u001b[0m         \u001b[39massert\u001b[39;00m \u001b[39mnot\u001b[39;00m \u001b[39misinstance\u001b[39m(response, OpenAIResponse)\n",
      "File \u001b[0;32m~/code/MaCoZu/social-media-stats-servant/project/lib/python3.10/site-packages/openai/api_requestor.py:298\u001b[0m, in \u001b[0;36mAPIRequestor.request\u001b[0;34m(self, method, url, params, headers, files, stream, request_id, request_timeout)\u001b[0m\n\u001b[1;32m    277\u001b[0m \u001b[39mdef\u001b[39;00m \u001b[39mrequest\u001b[39m(\n\u001b[1;32m    278\u001b[0m     \u001b[39mself\u001b[39m,\n\u001b[1;32m    279\u001b[0m     method,\n\u001b[0;32m   (...)\u001b[0m\n\u001b[1;32m    286\u001b[0m     request_timeout: Optional[Union[\u001b[39mfloat\u001b[39m, Tuple[\u001b[39mfloat\u001b[39m, \u001b[39mfloat\u001b[39m]]] \u001b[39m=\u001b[39m \u001b[39mNone\u001b[39;00m,\n\u001b[1;32m    287\u001b[0m ) \u001b[39m-\u001b[39m\u001b[39m>\u001b[39m Tuple[Union[OpenAIResponse, Iterator[OpenAIResponse]], \u001b[39mbool\u001b[39m, \u001b[39mstr\u001b[39m]:\n\u001b[1;32m    288\u001b[0m     result \u001b[39m=\u001b[39m \u001b[39mself\u001b[39m\u001b[39m.\u001b[39mrequest_raw(\n\u001b[1;32m    289\u001b[0m         method\u001b[39m.\u001b[39mlower(),\n\u001b[1;32m    290\u001b[0m         url,\n\u001b[0;32m   (...)\u001b[0m\n\u001b[1;32m    296\u001b[0m         request_timeout\u001b[39m=\u001b[39mrequest_timeout,\n\u001b[1;32m    297\u001b[0m     )\n\u001b[0;32m--> 298\u001b[0m     resp, got_stream \u001b[39m=\u001b[39m \u001b[39mself\u001b[39;49m\u001b[39m.\u001b[39;49m_interpret_response(result, stream)\n\u001b[1;32m    299\u001b[0m     \u001b[39mreturn\u001b[39;00m resp, got_stream, \u001b[39mself\u001b[39m\u001b[39m.\u001b[39mapi_key\n",
      "File \u001b[0;32m~/code/MaCoZu/social-media-stats-servant/project/lib/python3.10/site-packages/openai/api_requestor.py:700\u001b[0m, in \u001b[0;36mAPIRequestor._interpret_response\u001b[0;34m(self, result, stream)\u001b[0m\n\u001b[1;32m    692\u001b[0m     \u001b[39mreturn\u001b[39;00m (\n\u001b[1;32m    693\u001b[0m         \u001b[39mself\u001b[39m\u001b[39m.\u001b[39m_interpret_response_line(\n\u001b[1;32m    694\u001b[0m             line, result\u001b[39m.\u001b[39mstatus_code, result\u001b[39m.\u001b[39mheaders, stream\u001b[39m=\u001b[39m\u001b[39mTrue\u001b[39;00m\n\u001b[1;32m    695\u001b[0m         )\n\u001b[1;32m    696\u001b[0m         \u001b[39mfor\u001b[39;00m line \u001b[39min\u001b[39;00m parse_stream(result\u001b[39m.\u001b[39miter_lines())\n\u001b[1;32m    697\u001b[0m     ), \u001b[39mTrue\u001b[39;00m\n\u001b[1;32m    698\u001b[0m \u001b[39melse\u001b[39;00m:\n\u001b[1;32m    699\u001b[0m     \u001b[39mreturn\u001b[39;00m (\n\u001b[0;32m--> 700\u001b[0m         \u001b[39mself\u001b[39;49m\u001b[39m.\u001b[39;49m_interpret_response_line(\n\u001b[1;32m    701\u001b[0m             result\u001b[39m.\u001b[39;49mcontent\u001b[39m.\u001b[39;49mdecode(\u001b[39m\"\u001b[39;49m\u001b[39mutf-8\u001b[39;49m\u001b[39m\"\u001b[39;49m),\n\u001b[1;32m    702\u001b[0m             result\u001b[39m.\u001b[39;49mstatus_code,\n\u001b[1;32m    703\u001b[0m             result\u001b[39m.\u001b[39;49mheaders,\n\u001b[1;32m    704\u001b[0m             stream\u001b[39m=\u001b[39;49m\u001b[39mFalse\u001b[39;49;00m,\n\u001b[1;32m    705\u001b[0m         ),\n\u001b[1;32m    706\u001b[0m         \u001b[39mFalse\u001b[39;00m,\n\u001b[1;32m    707\u001b[0m     )\n",
      "File \u001b[0;32m~/code/MaCoZu/social-media-stats-servant/project/lib/python3.10/site-packages/openai/api_requestor.py:765\u001b[0m, in \u001b[0;36mAPIRequestor._interpret_response_line\u001b[0;34m(self, rbody, rcode, rheaders, stream)\u001b[0m\n\u001b[1;32m    763\u001b[0m stream_error \u001b[39m=\u001b[39m stream \u001b[39mand\u001b[39;00m \u001b[39m\"\u001b[39m\u001b[39merror\u001b[39m\u001b[39m\"\u001b[39m \u001b[39min\u001b[39;00m resp\u001b[39m.\u001b[39mdata\n\u001b[1;32m    764\u001b[0m \u001b[39mif\u001b[39;00m stream_error \u001b[39mor\u001b[39;00m \u001b[39mnot\u001b[39;00m \u001b[39m200\u001b[39m \u001b[39m<\u001b[39m\u001b[39m=\u001b[39m rcode \u001b[39m<\u001b[39m \u001b[39m300\u001b[39m:\n\u001b[0;32m--> 765\u001b[0m     \u001b[39mraise\u001b[39;00m \u001b[39mself\u001b[39m\u001b[39m.\u001b[39mhandle_error_response(\n\u001b[1;32m    766\u001b[0m         rbody, rcode, resp\u001b[39m.\u001b[39mdata, rheaders, stream_error\u001b[39m=\u001b[39mstream_error\n\u001b[1;32m    767\u001b[0m     )\n\u001b[1;32m    768\u001b[0m \u001b[39mreturn\u001b[39;00m resp\n",
      "\u001b[0;31mInvalidRequestError\u001b[0m: This model's maximum context length is 4097 tokens. However, your messages resulted in 4723 tokens. Please reduce the length of the messages."
     ]
    }
   ],
   "source": [
    "def search(query):\n",
    "    search = GoogleSearchAPIWrapper(google_api_key=GOOGLE_API_KEY, google_cse_id=GOOGLE_CSE_ID)\n",
    "    return search.results(query, 10)\n",
    "\n",
    "llm = OpenAI(temperature=0)\n",
    "\n",
    "tools = [\n",
    "    Tool(\n",
    "        name=\"Search\",\n",
    "        func=search,\n",
    "        description=\"Find offical german documents. translate the user input into german and search for pdf, doc, docx files and provide their sources?\",\n",
    "    ),\n",
    "]\n",
    "\n",
    "model = ChatOpenAI(temperature=0)\n",
    "planner = load_chat_planner(model)\n",
    "executor = load_agent_executor(model, tools, verbose=True)\n",
    "agent = PlanAndExecute(planner=planner, executor=executor, verbose=True)\n",
    "\n",
    "agent.run(\n",
    "    \"What law regulates the duties of a landlord in berlin?\"\n",
    ")"
   ]
  },
  {
   "cell_type": "markdown",
   "metadata": {},
   "source": [
    "# Tools\n",
    "\n",
    "\n",
    "<details>\n",
    "<summary>Different Agent Types:</summary>\n",
    "\n",
    "\n",
    "These `ReAct` agent types serve different purposes within a system designed for research, information retrieval, and interaction. Here's an explanation of each:\n",
    "\n",
    "1. **`AgentType.ZERO_SHOT_REACT_DESCRIPTION`: ZeroShotAgent**\n",
    "   - This agent is designed for generating descriptions using a zero-shot approach. It can generate descriptions of various topics without having been explicitly trained on those specific topics.\n",
    "\n",
    "2. **`AgentType.REACT_DOCSTORE`: ReActDocstoreAgent**\n",
    "   - This agent interacts with a document store. It's likely designed to handle tasks related to searching, retrieving, and interacting with a database of documents.\n",
    "\n",
    "3. **`AgentType.SELF_ASK_WITH_SEARCH`: SelfAskWithSearchAgent**\n",
    "   - This agent seems to be capable of asking questions to itself and then performing a search operation to find relevant information to answer those questions.\n",
    "\n",
    "4. **`AgentType.CONVERSATIONAL_REACT_DESCRIPTION`: ConversationalAgent**\n",
    "   - This agent is designed to engage in conversations. It's capable of generating responses in a conversational manner, potentially based on provided prompts or user inputs.\n",
    "\n",
    "5. **`AgentType.CHAT_ZERO_SHOT_REACT_DESCRIPTION`: ChatAgent**\n",
    "   - This agent is tailored for chat-based interactions using a zero-shot approach. It can generate responses in a chat-like format without specific training on the topics.\n",
    "\n",
    "6. **`AgentType.CHAT_CONVERSATIONAL_REACT_DESCRIPTION`: ConversationalChatAgent**\n",
    "   - This is a variant of the `ChatAgent` specialized for conversational interactions. It can engage in back-and-forth conversations with users, generating responses in a chat-like manner.\n",
    "\n",
    "7. **`AgentType.STRUCTURED_CHAT_ZERO_SHOT_REACT_DESCRIPTION`: StructuredChatAgent**\n",
    "   - This agent is designed for structured chat-based interactions using a zero-shot approach. It likely follows a specific format or structure in its responses.\n",
    "\n",
    "8. **`AgentType.OPENAI_FUNCTIONS`: OpenAIFunctionsAgent**\n",
    "   - This agent might be designed to utilize functions or capabilities provided by the OpenAI platform. It could perform various tasks or computations using OpenAI's functionalities.\n",
    "\n",
    "9. **`AgentType.OPENAI_MULTI_FUNCTIONS`: OpenAIMultiFunctionsAgent**\n",
    "   - Similar to the `OpenAIFunctionsAgent`, this agent may interact with multiple functions or capabilities provided by the OpenAI platform. It's likely capable of more complex operations or interactions.\n",
    "\n",
    "These agents represent a range of capabilities, from generating descriptions to interacting with documents, performing searches, engaging in conversations, and utilizing functionalities provided by OpenAI. Each type is specialized for different tasks or scenarios within a broader system.\n",
    "\n",
    "</details>\n"
   ]
  },
  {
   "cell_type": "markdown",
   "metadata": {},
   "source": [
    "## PSE & Wiki "
   ]
  },
  {
   "cell_type": "code",
   "execution_count": 12,
   "metadata": {},
   "outputs": [
    {
     "name": "stdout",
     "output_type": "stream",
     "text": [
      "\n",
      "\n",
      "\u001b[1m> Entering new AgentExecutor chain...\u001b[0m\n",
      "\u001b[32;1m\u001b[1;3m Yes.\n",
      "Follow up: What is the name of the law that regulates the duties of a landlord in Berlin?\u001b[0m\n",
      "Intermediate answer: \u001b[36;1m\u001b[1;3mPage: Law of Germany\n",
      "Summary: The law of Germany (German: das Recht Deutschlands), that being the modern German legal system (German: Deutsches Rechtssystem), is a system of civil law which is founded on the principles laid out by the Basic Law for the Federal Republic of Germany, though many of the most important laws, for example most regulations of the civil code (Bürgerliches Gesetzbuch, or BGB) were developed prior to the 1949 constitution.  It is composed of public law (öffentliches Recht), which regulates the relations between a citizen/person and the state (including criminal law) or two bodies of the state,  and the private law, (Privatrecht) which regulates the relations between two people or companies. It has been subject to a wide array of influences from Roman law, such as the Corpus Juris Civilis, to Napoleonic law, such as the Napoleonic Code.\n",
      "\n",
      "Page: Law\n",
      "Summary: Law is a set of rules that are created and are enforceable by social or governmental institutions to regulate behavior, with its precise definition a matter of longstanding debate. It has been variously described as a science and as the art of justice. State-enforced laws can be made by a group legislature or by a single legislator, resulting in statutes; by the executive through decrees and regulations; or established by judges through precedent, usually in common law jurisdictions. Private individuals may create legally binding contracts, including arbitration agreements that adopt alternative ways of resolving disputes to standard court litigation. The creation of laws themselves may be influenced by a constitution, written or tacit, and the rights encoded therein. The law shapes politics, economics, history and society in various ways and also serves as a mediator of relations between people.\n",
      "Legal systems vary between jurisdictions, with their differences analysed in comparative law. In civil law jurisdictions, a legislature or other central body codifies and consolidates the law. In common law systems, judges may make binding case law through precedent, although on occasion this may be overturned by a higher court or the legislature. Historically, religious law has influenced secular matters and is, as of the 21st century, still in use in some religious communities. Sharia law based on Islamic principles is used as the primary legal system in several countries, including Iran and Saudi Arabia.The scope of law can be divided into two domains: public law concerns government and society, including constitutional law, administrative law, and criminal law; while private law deals with legal disputes between individuals and/or organisations in areas such as contracts, property, torts/delicts and commercial law. This distinction is stronger in civil law countries, particularly those with a separate system of administrative courts; by contrast, the public-private law divide is less pronounced in common law jurisdictions.Law provides a source of scholarly inquiry into legal history, philosophy, economic analysis and sociology. Law also raises important and complex issues concerning equality, fairness, and justice.\n",
      "\n",
      "Page: West Germany\n",
      "Summary: West Germany (German: Westdeutschland) is the colloquial English term used to indicate the Federal Republic of Germany (FRG; German: Bundesrepublik Deutschland [ˈbʊndəsʁepuˌbliːk ˈdɔʏtʃlant] ) between its formation on 23 May 1949 and the German reunification through the accession of East Germany on 3 October 1990. During the Cold War, the western portion of Germany and the associated territory of West Berlin were parts of the Western Bloc. West Germany was formed as a political entity during the Allied occupation of Germany after World War II, established from 12 states formed in the three Allied zones of occupation held by the United States, the United Kingdom, and France. The FRG's provisional capital was the city of Bonn, and the Cold War era country is retrospectively designated as the Bonn Republic (Bonner Republ\u001b[0m\n",
      "\u001b[32;1m\u001b[1;3mSo the final answer is: The law of Germany (German: das Recht Deutschlands).\u001b[0m\n",
      "\n",
      "\u001b[1m> Finished chain.\u001b[0m\n"
     ]
    },
    {
     "data": {
      "text/plain": [
       "'The law of Germany (German: das Recht Deutschlands).'"
      ]
     },
     "execution_count": 12,
     "metadata": {},
     "output_type": "execute_result"
    }
   ],
   "source": [
    "from langchain import OpenAI\n",
    "from langchain.agents import AgentType, Tool, initialize_agent, load_tools\n",
    "from langchain.llms.openai import OpenAI\n",
    "from langchain.tools import Tool, WikipediaQueryRun\n",
    "from langchain.utilities import (\n",
    "    GoogleSearchAPIWrapper,\n",
    "    WikipediaAPIWrapper,\n",
    "\n",
    ")\n",
    "\n",
    "\n",
    "def pse(query):\n",
    "    search = GoogleSearchAPIWrapper(google_api_key=GOOGLE_API_KEY, google_cse_id=GOOGLE_CSE_ID)\n",
    "    return search.results(query, 5)\n",
    "\n",
    "wiki = WikipediaQueryRun(api_wrapper=WikipediaAPIWrapper())\n",
    "\n",
    "\n",
    "tools = [\n",
    "    # Tool(\n",
    "    #     name=\"Intermediate Answer\",\n",
    "    #     description=\"use this tool first. SEARCH IN GERMAN. Find offical german documents and laws concerning the users problem.\\\n",
    "    #         Retrieve sources and links to the document and give a short summary of its content.\\\n",
    "    #         Find official documents of Germany, preferably in pdf fromat\",\n",
    "    #     func=pse,\n",
    "    # ),\n",
    "\n",
    "    Tool(\n",
    "        name=\"Intermediate Answer\",\n",
    "        description=\"use this tool when the first failed. \\\n",
    "            Find official documents of Germany, preferably in pdf fromat\\\n",
    "            Look in the footnotes and links of wikipedia pages for links to pdf's and sources\\\n",
    "            follow the links and find the source where the file can be downloaded\",\n",
    "        func=wiki.run,\n",
    "    ),\n",
    "]\n",
    "\n",
    "agent = initialize_agent(\n",
    "    tools,\n",
    "    OpenAI(temperature=0),\n",
    "    agent=AgentType.SELF_ASK_WITH_SEARCH,\n",
    "    verbose=True,\n",
    ")\n",
    "\n",
    "\n",
    "agent.run(\n",
    "    \"What law regulates the duties of a landlord in berlin?\"\n",
    ")"
   ]
  },
  {
   "cell_type": "markdown",
   "metadata": {},
   "source": [
    "# Serper, serapi, google-search, searchNG"
   ]
  },
  {
   "cell_type": "code",
   "execution_count": 79,
   "metadata": {},
   "outputs": [
    {
     "name": "stdout",
     "output_type": "stream",
     "text": [
      "\n",
      "\n",
      "\u001b[1m> Entering new AgentExecutor chain...\u001b[0m\n",
      "\u001b[32;1m\u001b[1;3m I should search for the law online\n",
      "Action: google_search\n",
      "Action Input: \"landlord duties berlin germany\"\u001b[0m\n",
      "Observation: \u001b[38;5;200m\u001b[1;3mFull text in format: HTML PDF · text in German ; Section 239Surety ; Section 240Duty to supplement security ; Book 2. Law of obligations ; Division 1. Subject ... Legal obligations of secrecy, especially tax secrecy pursuant to Section 30 of the German Fiscal Code, as well as professional or special official secrecy ... 1 Act of 30.6.1959 101-3; Entry into force in Berlin on 10.8.1951 pursuant ... Where these duties are performed by an expert, the provisions of the General ...\u001b[0m\n",
      "Thought:\u001b[32;1m\u001b[1;3m I should look for a specific law\n",
      "Action: google_search\n",
      "Action Input: \"landlord duties berlin germany law\"\u001b[0m\n",
      "Observation: \u001b[38;5;200m\u001b[1;3mFull text in format: HTML PDF · text in German ; Section 239Surety ; Section 240Duty to supplement security ; Book 2. Law of obligations ; Division 1. Subject ... Book 10 of the German Code of Civil Procedure is largely based on the ... 866) (Act on Regulatory Reform of Federal Law in the Area of Responsibility of the ... Legal obligations of secrecy, especially tax secrecy pursuant to Section 30 of the German Fiscal Code, as well as professional or special official secrecy ... (2) The provisions of the German Civil Code that apply to claims arising from ... (1) The individuals responsible for fulfilling obligations under this Act, ... 1 Act of 30.6.1959 101-3; Entry into force in Berlin on 10.8.1951 pursuant ... Where these duties are performed by an expert, the provisions of the General ...\u001b[0m\n",
      "Thought:\u001b[32;1m\u001b[1;3m I now know the final answer\n",
      "Final Answer: The law regulating the duties of a landlord in Berlin, Germany is found in Book 2 of the German Code of Civil Procedure, Section 239Surety, Section 240Duty to supplement security, and Book 10 of the German Code of Civil Procedure. Additionally, the German Civil Code and the Act of 30.6.1959 101-3 are also relevant.\u001b[0m\n",
      "\n",
      "\u001b[1m> Finished chain.\u001b[0m\n"
     ]
    },
    {
     "data": {
      "text/plain": [
       "'The law regulating the duties of a landlord in Berlin, Germany is found in Book 2 of the German Code of Civil Procedure, Section 239Surety, Section 240Duty to supplement security, and Book 10 of the German Code of Civil Procedure. Additionally, the German Civil Code and the Act of 30.6.1959 101-3 are also relevant.'"
      ]
     },
     "execution_count": 79,
     "metadata": {},
     "output_type": "execute_result"
    }
   ],
   "source": [
    "from langchain.agents import load_tools\n",
    "from langchain.agents import initialize_agent\n",
    "from langchain.agents import AgentType\n",
    "from langchain.llms import OpenAI\n",
    "\n",
    "llm = OpenAI(temperature=0)\n",
    "\n",
    "\n",
    "standard_tools = load_tools([\"google-serper\", \"serpapi\", \"google-search\", \"searx-search\"], searx_host=\"http://localhost:8888\", llm=llm)\n",
    "\n",
    "agent = initialize_agent(\n",
    "    tools, llm, agent=AgentType.ZERO_SHOT_REACT_DESCRIPTION, verbose=True\n",
    ")\n",
    "\n",
    "agent.run(\"Where can I find the law regulating the duties of a landlord in berlin germany?\")"
   ]
  },
  {
   "cell_type": "markdown",
   "metadata": {},
   "source": [
    "# Langchain + Streamlit Searchbar"
   ]
  },
  {
   "cell_type": "code",
   "execution_count": null,
   "metadata": {},
   "outputs": [],
   "source": [
    "import streamlit as st\n",
    "\n",
    "from langchain.agents import initialize_agent, AgentType\n",
    "from langchain.callbacks import StreamlitCallbackHandler\n",
    "from langchain.chat_models import ChatOpenAI\n",
    "from langchain.tools import DuckDuckGoSearchRun\n",
    "\n",
    "with st.sidebar:\n",
    "    openai_api_key = st.text_input(\n",
    "        \"OpenAI API Key\", key=\"langchain_search_api_key_openai\", type=\"password\"\n",
    "    )\n",
    "\n",
    "st.title(\"🔎 LangChain - Chat with search\")\n",
    "\n",
    "\"\"\"\n",
    "In this example, we're using `StreamlitCallbackHandler` to display the thoughts and actions of an agent in an interactive Streamlit app.\n",
    "Try more LangChain 🤝 Streamlit Agent examples at [github.com/langchain-ai/streamlit-agent](https://github.com/langchain-ai/streamlit-agent).\n",
    "\"\"\"\n",
    "\n",
    "if \"messages\" not in st.session_state:\n",
    "    st.session_state[\"messages\"] = [\n",
    "        {\n",
    "            \"role\": \"assistant\",\n",
    "            \"content\": \"Hi, I'm a chatbot who can search the web. How can I help you?\",\n",
    "        }\n",
    "    ]\n",
    "\n",
    "for msg in st.session_state.messages:\n",
    "    st.chat_message(msg[\"role\"]).write(msg[\"content\"])\n",
    "\n",
    "if prompt := st.chat_input(placeholder=\"Who won the Women's U.S. Open in 2018?\"):\n",
    "    st.session_state.messages.append({\"role\": \"user\", \"content\": prompt})\n",
    "    st.chat_message(\"user\").write(prompt)\n",
    "\n",
    "    if not openai_api_key:\n",
    "        st.info(\"Please add your OpenAI API key to continue.\")\n",
    "        st.stop()\n",
    "\n",
    "    llm = ChatOpenAI(\n",
    "        model_name=\"gpt-3.5-turbo\", openai_api_key=openai_api_key, streaming=True\n",
    "    )\n",
    "    search = DuckDuckGoSearchRun(name=\"Search\")\n",
    "    search_agent = initialize_agent(\n",
    "        [search],\n",
    "        llm,\n",
    "        agent=AgentType.ZERO_SHOT_REACT_DESCRIPTION,\n",
    "        handle_parsing_errors=True,\n",
    "    )\n",
    "    with st.chat_message(\"assistant\"):\n",
    "        st_cb = StreamlitCallbackHandler(st.container(), expand_new_thoughts=False)\n",
    "        response = search_agent.run(st.session_state.messages, callbacks=[st_cb])\n",
    "        st.session_state.messages.append({\"role\": \"assistant\", \"content\": response})\n",
    "        st.write(response)"
   ]
  },
  {
   "cell_type": "markdown",
   "metadata": {},
   "source": [
    "# Chain to solve math problems"
   ]
  },
  {
   "cell_type": "code",
   "execution_count": null,
   "metadata": {},
   "outputs": [],
   "source": [
    "from langchain.chains import PALChain\n",
    "palchain = PALChain.from_math_prompt(llm=llm, verbose=True)\n",
    "palchain.run(\"If my age is half of my dad's age and he is going to be 60 next year, what is my current age?\")\n",
    "\n",
    "\n",
    "\n",
    "\n",
    "# OUTPUT\n",
    "# > Entering new PALChain chain...\n",
    "# def solution():\n",
    "#    \"\"\"If my age is half of my dad's age and he is going to be 60 next year, what is my current age?\"\"\"\n",
    "#    dad_age_next_year = 60\n",
    "#    dad_age_now = dad_age_next_year - 1\n",
    "#    my_age_now = dad_age_now / 2\n",
    "#    result = my_age_now\n",
    "#    return result\n",
    "#\n",
    "# > Finished chain.\n",
    "# '29.5'\n",
    "\n",
    "# You can check the default prompt\n",
    "print(palchain.prompt.template)"
   ]
  }
 ],
 "metadata": {
  "kernelspec": {
   "display_name": "project",
   "language": "python",
   "name": "python3"
  },
  "language_info": {
   "codemirror_mode": {
    "name": "ipython",
    "version": 3
   },
   "file_extension": ".py",
   "mimetype": "text/x-python",
   "name": "python",
   "nbconvert_exporter": "python",
   "pygments_lexer": "ipython3",
   "version": "3.10.12"
  },
  "orig_nbformat": 4
 },
 "nbformat": 4,
 "nbformat_minor": 2
}
