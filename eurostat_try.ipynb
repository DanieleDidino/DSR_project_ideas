{
 "cells": [
  {
   "cell_type": "markdown",
   "metadata": {},
   "source": [
    "# EUROSTAT\n",
    "\n",
    "In this notebook I use the [eurostat](https://pypi.org/project/eurostat/) library to read data from [Eurostat API](https://ec.europa.eu/eurostat/web/main/data/web-services)."
   ]
  },
  {
   "cell_type": "code",
   "execution_count": 175,
   "metadata": {},
   "outputs": [],
   "source": [
    "import eurostat\n",
    "import pandas as pd"
   ]
  },
  {
   "cell_type": "code",
   "execution_count": 176,
   "metadata": {},
   "outputs": [
    {
     "name": "stdout",
     "output_type": "stream",
     "text": [
      "Shape: (7477, 7)\n"
     ]
    }
   ],
   "source": [
    "# get table of contents of the Eurostat database\n",
    "toc_df = eurostat.get_toc_df()\n",
    "print(f\"Shape: {toc_df.shape}\")"
   ]
  },
  {
   "cell_type": "code",
   "execution_count": 177,
   "metadata": {},
   "outputs": [
    {
     "data": {
      "text/html": [
       "<div>\n",
       "<style scoped>\n",
       "    .dataframe tbody tr th:only-of-type {\n",
       "        vertical-align: middle;\n",
       "    }\n",
       "\n",
       "    .dataframe tbody tr th {\n",
       "        vertical-align: top;\n",
       "    }\n",
       "\n",
       "    .dataframe thead th {\n",
       "        text-align: right;\n",
       "    }\n",
       "</style>\n",
       "<table border=\"1\" class=\"dataframe\">\n",
       "  <thead>\n",
       "    <tr style=\"text-align: right;\">\n",
       "      <th></th>\n",
       "      <th>title</th>\n",
       "      <th>code</th>\n",
       "      <th>type</th>\n",
       "      <th>last update of data</th>\n",
       "      <th>last table structure change</th>\n",
       "      <th>data start</th>\n",
       "      <th>data end</th>\n",
       "    </tr>\n",
       "  </thead>\n",
       "  <tbody>\n",
       "    <tr>\n",
       "      <th>0</th>\n",
       "      <td>Top 5 ports - gross weight of goods handled in...</td>\n",
       "      <td>MAR_QG_QM_PWH</td>\n",
       "      <td>dataset</td>\n",
       "      <td>2023-06-29T11:00:00+0200</td>\n",
       "      <td>2023-06-29T11:00:00+0200</td>\n",
       "      <td>2005-Q1</td>\n",
       "      <td>2022-Q4</td>\n",
       "    </tr>\n",
       "    <tr>\n",
       "      <th>1</th>\n",
       "      <td>Top 5 ports for dry bulk- gross weight of dry ...</td>\n",
       "      <td>MAR_QG_QM_PWHB</td>\n",
       "      <td>dataset</td>\n",
       "      <td>2023-06-29T11:00:00+0200</td>\n",
       "      <td>2023-06-29T11:00:00+0200</td>\n",
       "      <td>2005-Q1</td>\n",
       "      <td>2022-Q4</td>\n",
       "    </tr>\n",
       "    <tr>\n",
       "      <th>2</th>\n",
       "      <td>Top 5 ports for containers - gross weight of g...</td>\n",
       "      <td>MAR_QG_QM_PWHC</td>\n",
       "      <td>dataset</td>\n",
       "      <td>2023-06-29T11:00:00+0200</td>\n",
       "      <td>2023-06-29T11:00:00+0200</td>\n",
       "      <td>2005-Q1</td>\n",
       "      <td>2022-Q4</td>\n",
       "    </tr>\n",
       "  </tbody>\n",
       "</table>\n",
       "</div>"
      ],
      "text/plain": [
       "                                               title            code     type  \\\n",
       "0  Top 5 ports - gross weight of goods handled in...   MAR_QG_QM_PWH  dataset   \n",
       "1  Top 5 ports for dry bulk- gross weight of dry ...  MAR_QG_QM_PWHB  dataset   \n",
       "2  Top 5 ports for containers - gross weight of g...  MAR_QG_QM_PWHC  dataset   \n",
       "\n",
       "        last update of data last table structure change data start data end  \n",
       "0  2023-06-29T11:00:00+0200    2023-06-29T11:00:00+0200    2005-Q1  2022-Q4  \n",
       "1  2023-06-29T11:00:00+0200    2023-06-29T11:00:00+0200    2005-Q1  2022-Q4  \n",
       "2  2023-06-29T11:00:00+0200    2023-06-29T11:00:00+0200    2005-Q1  2022-Q4  "
      ]
     },
     "execution_count": 177,
     "metadata": {},
     "output_type": "execute_result"
    }
   ],
   "source": [
    "toc_df.head(3)"
   ]
  },
  {
   "cell_type": "code",
   "execution_count": 178,
   "metadata": {},
   "outputs": [],
   "source": [
    "def subset_with_keyword(df: pd.DataFrame, keyword: str) -> pd.DataFrame:\n",
    "    \"\"\"\n",
    "    Get a subset of databases based on a keyword.\n",
    "\n",
    "    Args:\n",
    "        df (pd.DataFrame): A DataFrame with the list of databases (Title, Code, etc.).\n",
    "        keyword (str): The keyword to use to subset the databases.\n",
    "\n",
    "    Returns:\n",
    "        DataFrame with the list of databases (Title, Code, etc.) selected based on the keyword.\n",
    "    \"\"\"\n",
    "    return eurostat.subset_toc_df(df, keyword)\n",
    "\n",
    "\n",
    "def print_titles_code(df: pd.DataFrame, filename: str) -> None:\n",
    "    \"\"\"\n",
    "    Save in a csv file the list pairs (Title, Code) for every database in df.\n",
    "\n",
    "    Args:\n",
    "        df (pd.DataFrame): A DataFrame with the list of databases (Title, Code, etc.)\n",
    "        filename (str): The name of the file to print.\n",
    "\n",
    "    Returns:\n",
    "        None\n",
    "    \"\"\"\n",
    "    df.loc[:, [\"title\", \"code\"]].to_csv(filename, index=False)\n",
    "\n",
    "\n",
    "def get_database_from_code(code: str) -> pd.DataFrame:\n",
    "    \"\"\"\n",
    "    Download a dataset using the \"code\".\n",
    "\n",
    "    Args:\n",
    "        code (str): Code associate to the database to download.\n",
    "\n",
    "    Returns:\n",
    "        Dataset as a pd.DataFrame.\n",
    "    \"\"\"\n",
    "    return eurostat.get_data_df(code, flags=False)\n",
    "\n",
    "\n",
    "\n",
    "def get_col_names(database_code: str) -> list:\n",
    "    \"\"\"\n",
    "    Return the name of the columns of a database using the database \"code\".\n",
    "\n",
    "    Args:\n",
    "        code (str): Code associate to the database to download.\n",
    "\n",
    "    Returns:\n",
    "        List of columns names.\n",
    "    \"\"\"\n",
    "    return eurostat.get_pars(database_code)\n",
    "\n",
    "def get_col_categories(database_code: str, col_name: str) -> dict:\n",
    "    \"\"\"\n",
    "    Return the name of the columns of a database using the database \"code\".\n",
    "\n",
    "    Args:\n",
    "        code (str): Code associate to the database to download.\n",
    "\n",
    "    Returns:\n",
    "        List of columns names.\n",
    "    \"\"\"\n",
    "    return eurostat.get_dic(database_code, col_name, frmt=\"dict\")"
   ]
  },
  {
   "cell_type": "code",
   "execution_count": 179,
   "metadata": {},
   "outputs": [
    {
     "name": "stdout",
     "output_type": "stream",
     "text": [
      "Shape: (72, 7)\n"
     ]
    }
   ],
   "source": [
    "list_subset_db = subset_with_keyword(toc_df, \"migration\")\n",
    "print(f\"Shape: {list_subset_db.shape}\")\n",
    "\n",
    "print_titles_code(list_subset_db, \"data/migration_databases.csv\")"
   ]
  },
  {
   "cell_type": "code",
   "execution_count": 180,
   "metadata": {},
   "outputs": [
    {
     "data": {
      "text/html": [
       "<div>\n",
       "<style scoped>\n",
       "    .dataframe tbody tr th:only-of-type {\n",
       "        vertical-align: middle;\n",
       "    }\n",
       "\n",
       "    .dataframe tbody tr th {\n",
       "        vertical-align: top;\n",
       "    }\n",
       "\n",
       "    .dataframe thead th {\n",
       "        text-align: right;\n",
       "    }\n",
       "</style>\n",
       "<table border=\"1\" class=\"dataframe\">\n",
       "  <thead>\n",
       "    <tr style=\"text-align: right;\">\n",
       "      <th></th>\n",
       "      <th>title</th>\n",
       "      <th>code</th>\n",
       "      <th>type</th>\n",
       "      <th>last update of data</th>\n",
       "      <th>last table structure change</th>\n",
       "      <th>data start</th>\n",
       "      <th>data end</th>\n",
       "    </tr>\n",
       "  </thead>\n",
       "  <tbody>\n",
       "    <tr>\n",
       "      <th>155</th>\n",
       "      <td>Assumptions for net migration by age, sex, typ...</td>\n",
       "      <td>MET_PROJ_19RANMIG</td>\n",
       "      <td>dataset</td>\n",
       "      <td>2022-12-20T23:00:00+0100</td>\n",
       "      <td>2022-12-20T23:00:00+0100</td>\n",
       "      <td>2019</td>\n",
       "      <td>2100</td>\n",
       "    </tr>\n",
       "    <tr>\n",
       "      <th>257</th>\n",
       "      <td>Emigration by age group, sex and citizenship</td>\n",
       "      <td>MIGR_EMI1CTZ</td>\n",
       "      <td>dataset</td>\n",
       "      <td>2023-05-16T23:00:00+0200</td>\n",
       "      <td>2023-03-24T23:00:00+0100</td>\n",
       "      <td>1998</td>\n",
       "      <td>2021</td>\n",
       "    </tr>\n",
       "    <tr>\n",
       "      <th>258</th>\n",
       "      <td>Emigration by age and sex</td>\n",
       "      <td>MIGR_EMI2</td>\n",
       "      <td>dataset</td>\n",
       "      <td>2023-03-29T23:00:00+0200</td>\n",
       "      <td>2023-03-02T23:00:00+0100</td>\n",
       "      <td>1990</td>\n",
       "      <td>2021</td>\n",
       "    </tr>\n",
       "    <tr>\n",
       "      <th>259</th>\n",
       "      <td>Emigration by age group, sex and country of ne...</td>\n",
       "      <td>MIGR_EMI3NXT</td>\n",
       "      <td>dataset</td>\n",
       "      <td>2023-04-13T23:00:00+0200</td>\n",
       "      <td>2023-03-29T11:00:00+0200</td>\n",
       "      <td>1998</td>\n",
       "      <td>2021</td>\n",
       "    </tr>\n",
       "    <tr>\n",
       "      <th>260</th>\n",
       "      <td>Emigration by age group, sex and country of birth</td>\n",
       "      <td>MIGR_EMI4CTB</td>\n",
       "      <td>dataset</td>\n",
       "      <td>2023-05-16T23:00:00+0200</td>\n",
       "      <td>2023-03-24T23:00:00+0100</td>\n",
       "      <td>2008</td>\n",
       "      <td>2021</td>\n",
       "    </tr>\n",
       "    <tr>\n",
       "      <th>...</th>\n",
       "      <td>...</td>\n",
       "      <td>...</td>\n",
       "      <td>...</td>\n",
       "      <td>...</td>\n",
       "      <td>...</td>\n",
       "      <td>...</td>\n",
       "      <td>...</td>\n",
       "    </tr>\n",
       "    <tr>\n",
       "      <th>2199</th>\n",
       "      <td>Emigration</td>\n",
       "      <td>TPS00177</td>\n",
       "      <td>dataset</td>\n",
       "      <td>2023-05-16T23:00:00+0200</td>\n",
       "      <td>2023-05-16T23:00:00+0200</td>\n",
       "      <td>2010</td>\n",
       "      <td>2021</td>\n",
       "    </tr>\n",
       "    <tr>\n",
       "      <th>2704</th>\n",
       "      <td>Assumptions for net migration by age, sex, typ...</td>\n",
       "      <td>URT_PROJ_19RANMIG</td>\n",
       "      <td>dataset</td>\n",
       "      <td>2022-12-20T23:00:00+0100</td>\n",
       "      <td>2022-12-20T23:00:00+0100</td>\n",
       "      <td>2019</td>\n",
       "      <td>2100</td>\n",
       "    </tr>\n",
       "    <tr>\n",
       "      <th>3192</th>\n",
       "      <td>Population change by NUTS 2 region - Crude rat...</td>\n",
       "      <td>TGS00099</td>\n",
       "      <td>dataset</td>\n",
       "      <td>2023-04-14T23:00:00+0200</td>\n",
       "      <td>2023-04-14T23:00:00+0200</td>\n",
       "      <td>2010</td>\n",
       "      <td>2021</td>\n",
       "    </tr>\n",
       "    <tr>\n",
       "      <th>3770</th>\n",
       "      <td>Health workforce migration - historical data (...</td>\n",
       "      <td>HLTH_RS_WKMG</td>\n",
       "      <td>dataset</td>\n",
       "      <td>2022-07-12T11:00:00+0200</td>\n",
       "      <td>2022-07-12T11:00:00+0200</td>\n",
       "      <td>2000</td>\n",
       "      <td>2021</td>\n",
       "    </tr>\n",
       "    <tr>\n",
       "      <th>3771</th>\n",
       "      <td>Health workforce migration</td>\n",
       "      <td>HLTH_RS_WKMG2</td>\n",
       "      <td>dataset</td>\n",
       "      <td>2023-07-12T11:00:00+0200</td>\n",
       "      <td>2023-07-12T11:00:00+0200</td>\n",
       "      <td>2000</td>\n",
       "      <td>2022</td>\n",
       "    </tr>\n",
       "  </tbody>\n",
       "</table>\n",
       "<p>72 rows × 7 columns</p>\n",
       "</div>"
      ],
      "text/plain": [
       "                                                  title               code  \\\n",
       "155   Assumptions for net migration by age, sex, typ...  MET_PROJ_19RANMIG   \n",
       "257        Emigration by age group, sex and citizenship       MIGR_EMI1CTZ   \n",
       "258                           Emigration by age and sex          MIGR_EMI2   \n",
       "259   Emigration by age group, sex and country of ne...       MIGR_EMI3NXT   \n",
       "260   Emigration by age group, sex and country of birth       MIGR_EMI4CTB   \n",
       "...                                                 ...                ...   \n",
       "2199                                         Emigration           TPS00177   \n",
       "2704  Assumptions for net migration by age, sex, typ...  URT_PROJ_19RANMIG   \n",
       "3192  Population change by NUTS 2 region - Crude rat...           TGS00099   \n",
       "3770  Health workforce migration - historical data (...       HLTH_RS_WKMG   \n",
       "3771                         Health workforce migration      HLTH_RS_WKMG2   \n",
       "\n",
       "         type       last update of data last table structure change  \\\n",
       "155   dataset  2022-12-20T23:00:00+0100    2022-12-20T23:00:00+0100   \n",
       "257   dataset  2023-05-16T23:00:00+0200    2023-03-24T23:00:00+0100   \n",
       "258   dataset  2023-03-29T23:00:00+0200    2023-03-02T23:00:00+0100   \n",
       "259   dataset  2023-04-13T23:00:00+0200    2023-03-29T11:00:00+0200   \n",
       "260   dataset  2023-05-16T23:00:00+0200    2023-03-24T23:00:00+0100   \n",
       "...       ...                       ...                         ...   \n",
       "2199  dataset  2023-05-16T23:00:00+0200    2023-05-16T23:00:00+0200   \n",
       "2704  dataset  2022-12-20T23:00:00+0100    2022-12-20T23:00:00+0100   \n",
       "3192  dataset  2023-04-14T23:00:00+0200    2023-04-14T23:00:00+0200   \n",
       "3770  dataset  2022-07-12T11:00:00+0200    2022-07-12T11:00:00+0200   \n",
       "3771  dataset  2023-07-12T11:00:00+0200    2023-07-12T11:00:00+0200   \n",
       "\n",
       "     data start data end  \n",
       "155        2019     2100  \n",
       "257        1998     2021  \n",
       "258        1990     2021  \n",
       "259        1998     2021  \n",
       "260        2008     2021  \n",
       "...         ...      ...  \n",
       "2199       2010     2021  \n",
       "2704       2019     2100  \n",
       "3192       2010     2021  \n",
       "3770       2000     2021  \n",
       "3771       2000     2022  \n",
       "\n",
       "[72 rows x 7 columns]"
      ]
     },
     "execution_count": 180,
     "metadata": {},
     "output_type": "execute_result"
    }
   ],
   "source": [
    "list_subset_db"
   ]
  },
  {
   "cell_type": "code",
   "execution_count": 181,
   "metadata": {},
   "outputs": [
    {
     "name": "stdout",
     "output_type": "stream",
     "text": [
      "Shape: (96616, 20)\n",
      "\n",
      "Columns: Index(['freq', 'citizen', 'c_birth', 'unit', 'sex', 'geo\\TIME_PERIOD', '2008',\n",
      "       '2009', '2010', '2011', '2012', '2013', '2014', '2015', '2016', '2017',\n",
      "       '2018', '2019', '2020', '2021'],\n",
      "      dtype='object')\n"
     ]
    }
   ],
   "source": [
    "db_code = \"MIGR_IMM6CTZ\"\n",
    "\n",
    "df_1 = get_database_from_code(db_code)\n",
    "print(f\"Shape: {df_1.shape}\\n\")\n",
    "print(f\"Columns: {df_1.columns}\")"
   ]
  },
  {
   "cell_type": "code",
   "execution_count": 182,
   "metadata": {},
   "outputs": [
    {
     "data": {
      "text/plain": [
       "['freq', 'citizen', 'c_birth', 'unit', 'sex', 'geo']"
      ]
     },
     "execution_count": 182,
     "metadata": {},
     "output_type": "execute_result"
    }
   ],
   "source": [
    "get_col_names(db_code)"
   ]
  },
  {
   "cell_type": "code",
   "execution_count": 183,
   "metadata": {},
   "outputs": [
    {
     "data": {
      "text/plain": [
       "{'T': 'Total',\n",
       " 'M': 'Males',\n",
       " 'F': 'Females',\n",
       " 'DIFF': 'Absolute difference between males and females',\n",
       " 'NAP': 'Not applicable',\n",
       " 'NRP': 'No response',\n",
       " 'UNK': 'Unknown'}"
      ]
     },
     "execution_count": 183,
     "metadata": {},
     "output_type": "execute_result"
    }
   ],
   "source": [
    "get_col_categories(db_code, \"sex\")"
   ]
  },
  {
   "cell_type": "code",
   "execution_count": 184,
   "metadata": {},
   "outputs": [
    {
     "data": {
      "text/html": [
       "<div>\n",
       "<style scoped>\n",
       "    .dataframe tbody tr th:only-of-type {\n",
       "        vertical-align: middle;\n",
       "    }\n",
       "\n",
       "    .dataframe tbody tr th {\n",
       "        vertical-align: top;\n",
       "    }\n",
       "\n",
       "    .dataframe thead th {\n",
       "        text-align: right;\n",
       "    }\n",
       "</style>\n",
       "<table border=\"1\" class=\"dataframe\">\n",
       "  <thead>\n",
       "    <tr style=\"text-align: right;\">\n",
       "      <th></th>\n",
       "      <th>freq</th>\n",
       "      <th>citizen</th>\n",
       "      <th>c_birth</th>\n",
       "      <th>unit</th>\n",
       "      <th>sex</th>\n",
       "      <th>geo\\TIME_PERIOD</th>\n",
       "      <th>2008</th>\n",
       "      <th>2009</th>\n",
       "      <th>2010</th>\n",
       "      <th>2011</th>\n",
       "      <th>2012</th>\n",
       "      <th>2013</th>\n",
       "      <th>2014</th>\n",
       "      <th>2015</th>\n",
       "      <th>2016</th>\n",
       "      <th>2017</th>\n",
       "      <th>2018</th>\n",
       "      <th>2019</th>\n",
       "      <th>2020</th>\n",
       "      <th>2021</th>\n",
       "    </tr>\n",
       "  </thead>\n",
       "  <tbody>\n",
       "    <tr>\n",
       "      <th>0</th>\n",
       "      <td>A</td>\n",
       "      <td>AD</td>\n",
       "      <td>EU27_2007_FOR</td>\n",
       "      <td>NR</td>\n",
       "      <td>F</td>\n",
       "      <td>AT</td>\n",
       "      <td>0.0</td>\n",
       "      <td>0.0</td>\n",
       "      <td>0.0</td>\n",
       "      <td>0.0</td>\n",
       "      <td>0.0</td>\n",
       "      <td>NaN</td>\n",
       "      <td>NaN</td>\n",
       "      <td>NaN</td>\n",
       "      <td>NaN</td>\n",
       "      <td>NaN</td>\n",
       "      <td>NaN</td>\n",
       "      <td>NaN</td>\n",
       "      <td>NaN</td>\n",
       "      <td>NaN</td>\n",
       "    </tr>\n",
       "    <tr>\n",
       "      <th>1</th>\n",
       "      <td>A</td>\n",
       "      <td>AD</td>\n",
       "      <td>EU27_2007_FOR</td>\n",
       "      <td>NR</td>\n",
       "      <td>F</td>\n",
       "      <td>BE</td>\n",
       "      <td>NaN</td>\n",
       "      <td>NaN</td>\n",
       "      <td>0.0</td>\n",
       "      <td>0.0</td>\n",
       "      <td>0.0</td>\n",
       "      <td>NaN</td>\n",
       "      <td>NaN</td>\n",
       "      <td>NaN</td>\n",
       "      <td>NaN</td>\n",
       "      <td>NaN</td>\n",
       "      <td>NaN</td>\n",
       "      <td>NaN</td>\n",
       "      <td>NaN</td>\n",
       "      <td>NaN</td>\n",
       "    </tr>\n",
       "    <tr>\n",
       "      <th>2</th>\n",
       "      <td>A</td>\n",
       "      <td>AD</td>\n",
       "      <td>EU27_2007_FOR</td>\n",
       "      <td>NR</td>\n",
       "      <td>F</td>\n",
       "      <td>BG</td>\n",
       "      <td>NaN</td>\n",
       "      <td>NaN</td>\n",
       "      <td>NaN</td>\n",
       "      <td>NaN</td>\n",
       "      <td>0.0</td>\n",
       "      <td>NaN</td>\n",
       "      <td>NaN</td>\n",
       "      <td>NaN</td>\n",
       "      <td>NaN</td>\n",
       "      <td>NaN</td>\n",
       "      <td>NaN</td>\n",
       "      <td>NaN</td>\n",
       "      <td>NaN</td>\n",
       "      <td>NaN</td>\n",
       "    </tr>\n",
       "    <tr>\n",
       "      <th>3</th>\n",
       "      <td>A</td>\n",
       "      <td>AD</td>\n",
       "      <td>EU27_2007_FOR</td>\n",
       "      <td>NR</td>\n",
       "      <td>F</td>\n",
       "      <td>CH</td>\n",
       "      <td>NaN</td>\n",
       "      <td>NaN</td>\n",
       "      <td>NaN</td>\n",
       "      <td>1.0</td>\n",
       "      <td>0.0</td>\n",
       "      <td>NaN</td>\n",
       "      <td>NaN</td>\n",
       "      <td>NaN</td>\n",
       "      <td>NaN</td>\n",
       "      <td>NaN</td>\n",
       "      <td>NaN</td>\n",
       "      <td>NaN</td>\n",
       "      <td>NaN</td>\n",
       "      <td>NaN</td>\n",
       "    </tr>\n",
       "    <tr>\n",
       "      <th>4</th>\n",
       "      <td>A</td>\n",
       "      <td>AD</td>\n",
       "      <td>EU27_2007_FOR</td>\n",
       "      <td>NR</td>\n",
       "      <td>F</td>\n",
       "      <td>DK</td>\n",
       "      <td>0.0</td>\n",
       "      <td>0.0</td>\n",
       "      <td>0.0</td>\n",
       "      <td>0.0</td>\n",
       "      <td>0.0</td>\n",
       "      <td>NaN</td>\n",
       "      <td>NaN</td>\n",
       "      <td>NaN</td>\n",
       "      <td>NaN</td>\n",
       "      <td>NaN</td>\n",
       "      <td>NaN</td>\n",
       "      <td>NaN</td>\n",
       "      <td>NaN</td>\n",
       "      <td>NaN</td>\n",
       "    </tr>\n",
       "    <tr>\n",
       "      <th>...</th>\n",
       "      <td>...</td>\n",
       "      <td>...</td>\n",
       "      <td>...</td>\n",
       "      <td>...</td>\n",
       "      <td>...</td>\n",
       "      <td>...</td>\n",
       "      <td>...</td>\n",
       "      <td>...</td>\n",
       "      <td>...</td>\n",
       "      <td>...</td>\n",
       "      <td>...</td>\n",
       "      <td>...</td>\n",
       "      <td>...</td>\n",
       "      <td>...</td>\n",
       "      <td>...</td>\n",
       "      <td>...</td>\n",
       "      <td>...</td>\n",
       "      <td>...</td>\n",
       "      <td>...</td>\n",
       "      <td>...</td>\n",
       "    </tr>\n",
       "    <tr>\n",
       "      <th>96611</th>\n",
       "      <td>A</td>\n",
       "      <td>ZW</td>\n",
       "      <td>UNK</td>\n",
       "      <td>NR</td>\n",
       "      <td>T</td>\n",
       "      <td>LU</td>\n",
       "      <td>0.0</td>\n",
       "      <td>0.0</td>\n",
       "      <td>0.0</td>\n",
       "      <td>0.0</td>\n",
       "      <td>0.0</td>\n",
       "      <td>NaN</td>\n",
       "      <td>NaN</td>\n",
       "      <td>NaN</td>\n",
       "      <td>NaN</td>\n",
       "      <td>NaN</td>\n",
       "      <td>NaN</td>\n",
       "      <td>NaN</td>\n",
       "      <td>NaN</td>\n",
       "      <td>NaN</td>\n",
       "    </tr>\n",
       "    <tr>\n",
       "      <th>96612</th>\n",
       "      <td>A</td>\n",
       "      <td>ZW</td>\n",
       "      <td>UNK</td>\n",
       "      <td>NR</td>\n",
       "      <td>T</td>\n",
       "      <td>NL</td>\n",
       "      <td>NaN</td>\n",
       "      <td>NaN</td>\n",
       "      <td>NaN</td>\n",
       "      <td>NaN</td>\n",
       "      <td>0.0</td>\n",
       "      <td>NaN</td>\n",
       "      <td>NaN</td>\n",
       "      <td>NaN</td>\n",
       "      <td>NaN</td>\n",
       "      <td>NaN</td>\n",
       "      <td>NaN</td>\n",
       "      <td>NaN</td>\n",
       "      <td>NaN</td>\n",
       "      <td>NaN</td>\n",
       "    </tr>\n",
       "    <tr>\n",
       "      <th>96613</th>\n",
       "      <td>A</td>\n",
       "      <td>ZW</td>\n",
       "      <td>UNK</td>\n",
       "      <td>NR</td>\n",
       "      <td>T</td>\n",
       "      <td>NO</td>\n",
       "      <td>NaN</td>\n",
       "      <td>NaN</td>\n",
       "      <td>NaN</td>\n",
       "      <td>NaN</td>\n",
       "      <td>0.0</td>\n",
       "      <td>NaN</td>\n",
       "      <td>NaN</td>\n",
       "      <td>NaN</td>\n",
       "      <td>NaN</td>\n",
       "      <td>NaN</td>\n",
       "      <td>NaN</td>\n",
       "      <td>NaN</td>\n",
       "      <td>NaN</td>\n",
       "      <td>NaN</td>\n",
       "    </tr>\n",
       "    <tr>\n",
       "      <th>96614</th>\n",
       "      <td>A</td>\n",
       "      <td>ZW</td>\n",
       "      <td>UNK</td>\n",
       "      <td>NR</td>\n",
       "      <td>T</td>\n",
       "      <td>SE</td>\n",
       "      <td>0.0</td>\n",
       "      <td>0.0</td>\n",
       "      <td>0.0</td>\n",
       "      <td>0.0</td>\n",
       "      <td>0.0</td>\n",
       "      <td>NaN</td>\n",
       "      <td>NaN</td>\n",
       "      <td>NaN</td>\n",
       "      <td>NaN</td>\n",
       "      <td>NaN</td>\n",
       "      <td>NaN</td>\n",
       "      <td>NaN</td>\n",
       "      <td>NaN</td>\n",
       "      <td>NaN</td>\n",
       "    </tr>\n",
       "    <tr>\n",
       "      <th>96615</th>\n",
       "      <td>A</td>\n",
       "      <td>ZW</td>\n",
       "      <td>UNK</td>\n",
       "      <td>NR</td>\n",
       "      <td>T</td>\n",
       "      <td>SI</td>\n",
       "      <td>NaN</td>\n",
       "      <td>NaN</td>\n",
       "      <td>0.0</td>\n",
       "      <td>0.0</td>\n",
       "      <td>NaN</td>\n",
       "      <td>NaN</td>\n",
       "      <td>NaN</td>\n",
       "      <td>NaN</td>\n",
       "      <td>NaN</td>\n",
       "      <td>NaN</td>\n",
       "      <td>NaN</td>\n",
       "      <td>NaN</td>\n",
       "      <td>NaN</td>\n",
       "      <td>NaN</td>\n",
       "    </tr>\n",
       "  </tbody>\n",
       "</table>\n",
       "<p>96616 rows × 20 columns</p>\n",
       "</div>"
      ],
      "text/plain": [
       "      freq citizen        c_birth unit sex geo\\TIME_PERIOD  2008  2009  2010  \\\n",
       "0        A      AD  EU27_2007_FOR   NR   F              AT   0.0   0.0   0.0   \n",
       "1        A      AD  EU27_2007_FOR   NR   F              BE   NaN   NaN   0.0   \n",
       "2        A      AD  EU27_2007_FOR   NR   F              BG   NaN   NaN   NaN   \n",
       "3        A      AD  EU27_2007_FOR   NR   F              CH   NaN   NaN   NaN   \n",
       "4        A      AD  EU27_2007_FOR   NR   F              DK   0.0   0.0   0.0   \n",
       "...    ...     ...            ...  ...  ..             ...   ...   ...   ...   \n",
       "96611    A      ZW            UNK   NR   T              LU   0.0   0.0   0.0   \n",
       "96612    A      ZW            UNK   NR   T              NL   NaN   NaN   NaN   \n",
       "96613    A      ZW            UNK   NR   T              NO   NaN   NaN   NaN   \n",
       "96614    A      ZW            UNK   NR   T              SE   0.0   0.0   0.0   \n",
       "96615    A      ZW            UNK   NR   T              SI   NaN   NaN   0.0   \n",
       "\n",
       "       2011  2012  2013  2014  2015  2016  2017  2018  2019  2020  2021  \n",
       "0       0.0   0.0   NaN   NaN   NaN   NaN   NaN   NaN   NaN   NaN   NaN  \n",
       "1       0.0   0.0   NaN   NaN   NaN   NaN   NaN   NaN   NaN   NaN   NaN  \n",
       "2       NaN   0.0   NaN   NaN   NaN   NaN   NaN   NaN   NaN   NaN   NaN  \n",
       "3       1.0   0.0   NaN   NaN   NaN   NaN   NaN   NaN   NaN   NaN   NaN  \n",
       "4       0.0   0.0   NaN   NaN   NaN   NaN   NaN   NaN   NaN   NaN   NaN  \n",
       "...     ...   ...   ...   ...   ...   ...   ...   ...   ...   ...   ...  \n",
       "96611   0.0   0.0   NaN   NaN   NaN   NaN   NaN   NaN   NaN   NaN   NaN  \n",
       "96612   NaN   0.0   NaN   NaN   NaN   NaN   NaN   NaN   NaN   NaN   NaN  \n",
       "96613   NaN   0.0   NaN   NaN   NaN   NaN   NaN   NaN   NaN   NaN   NaN  \n",
       "96614   0.0   0.0   NaN   NaN   NaN   NaN   NaN   NaN   NaN   NaN   NaN  \n",
       "96615   0.0   NaN   NaN   NaN   NaN   NaN   NaN   NaN   NaN   NaN   NaN  \n",
       "\n",
       "[96616 rows x 20 columns]"
      ]
     },
     "execution_count": 184,
     "metadata": {},
     "output_type": "execute_result"
    }
   ],
   "source": [
    "df_1"
   ]
  },
  {
   "cell_type": "markdown",
   "metadata": {},
   "source": [
    "# Using URL"
   ]
  },
  {
   "cell_type": "code",
   "execution_count": 185,
   "metadata": {},
   "outputs": [],
   "source": [
    "import requests"
   ]
  },
  {
   "cell_type": "code",
   "execution_count": 186,
   "metadata": {},
   "outputs": [],
   "source": [
    "url = \"https://ec.europa.eu/eurostat/api/dissemination/statistics/1.0/data/migr_imm1ctz?lang=EN\"\n",
    "response = requests.get(url)\n",
    "\n",
    "if response.status_code == 200:\n",
    "    json_data = response.json()\n",
    "else:\n",
    "    print(\"Failed to retrieve JSON data. Status code:\", response.status_code)\n",
    "    json_data = None"
   ]
  },
  {
   "cell_type": "code",
   "execution_count": 187,
   "metadata": {},
   "outputs": [
    {
     "data": {
      "text/plain": [
       "['version',\n",
       " 'class',\n",
       " 'label',\n",
       " 'source',\n",
       " 'updated',\n",
       " 'value',\n",
       " 'status',\n",
       " 'id',\n",
       " 'size',\n",
       " 'dimension',\n",
       " 'extension']"
      ]
     },
     "execution_count": 187,
     "metadata": {},
     "output_type": "execute_result"
    }
   ],
   "source": [
    "list(json_data.keys())"
   ]
  },
  {
   "cell_type": "code",
   "execution_count": 188,
   "metadata": {},
   "outputs": [
    {
     "data": {
      "text/plain": [
       "'Immigration by age group, sex and citizenship'"
      ]
     },
     "execution_count": 188,
     "metadata": {},
     "output_type": "execute_result"
    }
   ],
   "source": [
    "json_data[\"label\"] # title"
   ]
  },
  {
   "cell_type": "code",
   "execution_count": 189,
   "metadata": {},
   "outputs": [
    {
     "data": {
      "text/plain": [
       "'ESTAT'"
      ]
     },
     "execution_count": 189,
     "metadata": {},
     "output_type": "execute_result"
    }
   ],
   "source": [
    "json_data[\"source\"]"
   ]
  },
  {
   "cell_type": "code",
   "execution_count": 190,
   "metadata": {},
   "outputs": [
    {
     "data": {
      "text/plain": [
       "'2023-03-29T23:00:00+0200'"
      ]
     },
     "execution_count": 190,
     "metadata": {},
     "output_type": "execute_result"
    }
   ],
   "source": [
    "json_data[\"updated\"] # last update"
   ]
  },
  {
   "cell_type": "code",
   "execution_count": 191,
   "metadata": {},
   "outputs": [
    {
     "data": {
      "text/plain": [
       "['freq', 'citizen', 'agedef', 'age', 'unit', 'sex', 'geo', 'time']"
      ]
     },
     "execution_count": 191,
     "metadata": {},
     "output_type": "execute_result"
    }
   ],
   "source": [
    "json_data[\"id\"] # columns"
   ]
  },
  {
   "cell_type": "code",
   "execution_count": 192,
   "metadata": {},
   "outputs": [
    {
     "data": {
      "text/plain": [
       "[1, 289, 2, 27, 1, 3, 48, 24]"
      ]
     },
     "execution_count": 192,
     "metadata": {},
     "output_type": "execute_result"
    }
   ],
   "source": [
    "json_data[\"size\"]"
   ]
  },
  {
   "cell_type": "code",
   "execution_count": 193,
   "metadata": {},
   "outputs": [
    {
     "data": {
      "text/plain": [
       "dict_keys(['freq', 'citizen', 'agedef', 'age', 'unit', 'sex', 'geo', 'time'])"
      ]
     },
     "execution_count": 193,
     "metadata": {},
     "output_type": "execute_result"
    }
   ],
   "source": [
    "json_data[\"dimension\"].keys()"
   ]
  },
  {
   "cell_type": "code",
   "execution_count": 194,
   "metadata": {},
   "outputs": [
    {
     "data": {
      "text/plain": [
       "'Germany'"
      ]
     },
     "execution_count": 194,
     "metadata": {},
     "output_type": "execute_result"
    }
   ],
   "source": [
    "json_data[\"dimension\"][\"geo\"][\"category\"][\"label\"][\"DE\"]"
   ]
  },
  {
   "cell_type": "code",
   "execution_count": 195,
   "metadata": {},
   "outputs": [
    {
     "data": {
      "text/plain": [
       "{'lang': 'EN',\n",
       " 'id': 'MIGR_IMM1CTZ',\n",
       " 'agencyId': 'ESTAT',\n",
       " 'version': '1.0',\n",
       " 'datastructure': {'id': 'MIGR_IMM1CTZ',\n",
       "  'agencyId': 'ESTAT',\n",
       "  'version': '25.0'},\n",
       " 'annotation': [{'type': 'DISSEMINATION_DOI_XML',\n",
       "   'title': '<adms:identifier xmlns:adms=\"http://www.w3.org/ns/adms#\" xmlns:skos=\"http://www.w3.org/2004/02/skos/core.html\" xmlns:dct=\"http://purl.org/dc/terms/\" xmlns:rdf=\"http://www.w3.org/1999/02/22-rdf-syntax-ns#\"><adms:Identifier rdf:about=\"https://doi.org/10.2908/MIGR_IMM1CTZ\"><skos:notation rdf:datatype=\"http://purl.org/spar/datacite/doi\">10.2908/MIGR_IMM1CTZ</skos:notation><dct:creator rdf:resource=\"http://publications.europa.eu/resource/authority/corporate-body/ESTAT\"/><dct:issued rdf:datatype=\"http://www.w3.org/2001/XMLSchema#date\">2023-01-19T14:01:03</dct:issued></adms:Identifier></adms:identifier>'},\n",
       "  {'type': 'DISSEMINATION_OBJECT_TYPE', 'title': 'DATASET'},\n",
       "  {'type': 'ESMS_HTML',\n",
       "   'title': 'Explanatory texts (metadata)',\n",
       "   'href': 'https://ec.europa.eu/eurostat/cache/metadata/en/migr_immi_esms.htm'},\n",
       "  {'type': 'ESMS_SDMX',\n",
       "   'title': 'Explanatory texts (metadata)',\n",
       "   'href': 'https://ec.europa.eu/eurostat/estat-navtree-portlet-prod/BulkDownloadListing?file=metadata/migr_immi_esms.sdmx.zip'},\n",
       "  {'type': 'OBS_COUNT', 'title': '10101572'},\n",
       "  {'type': 'OBS_PERIOD_OVERALL_LATEST', 'title': '2021'},\n",
       "  {'type': 'OBS_PERIOD_OVERALL_OLDEST', 'title': '1998'},\n",
       "  {'type': 'SOURCE_INSTITUTIONS', 'text': 'Eurostat'},\n",
       "  {'type': 'UPDATE_DATA', 'date': '2023-03-29T23:00:00+0200'},\n",
       "  {'type': 'UPDATE_STRUCTURE', 'date': '2023-03-29T11:00:00+0200'}],\n",
       " 'status': {'label': {'b': 'break in time series',\n",
       "   'be': 'break in time series, estimated',\n",
       "   'bp': 'break in time series, provisional',\n",
       "   'e': 'estimated',\n",
       "   'ep': 'estimated, provisional',\n",
       "   'p': 'provisional'}},\n",
       " 'positions-with-no-data': {'freq': [],\n",
       "  'citizen': [],\n",
       "  'agedef': [],\n",
       "  'age': [],\n",
       "  'unit': [],\n",
       "  'sex': [],\n",
       "  'geo': [],\n",
       "  'time': []}}"
      ]
     },
     "execution_count": 195,
     "metadata": {},
     "output_type": "execute_result"
    }
   ],
   "source": [
    "json_data[\"extension\"]"
   ]
  }
 ],
 "metadata": {
  "kernelspec": {
   "display_name": "venv_porfolio_project",
   "language": "python",
   "name": "python3"
  },
  "language_info": {
   "codemirror_mode": {
    "name": "ipython",
    "version": 3
   },
   "file_extension": ".py",
   "mimetype": "text/x-python",
   "name": "python",
   "nbconvert_exporter": "python",
   "pygments_lexer": "ipython3",
   "version": "3.10.12"
  },
  "orig_nbformat": 4
 },
 "nbformat": 4,
 "nbformat_minor": 2
}
