{
 "cells": [
  {
   "cell_type": "code",
   "execution_count": 1,
   "metadata": {},
   "outputs": [],
   "source": [
    "from llama_index import LLMPredictor, ServiceContext\n",
    "from llama_index import VectorStoreIndex\n",
    "from llama_index import SimpleDirectoryReader\n",
    "from llama_index import Prompt\n",
    "from llama_index import StorageContext, load_index_from_storage\n",
    "# from llama_index.llms import OpenAI\n",
    "\n",
    "from langchain.chat_models import ChatOpenAI\n",
    "\n",
    "import environ\n",
    "import openai"
   ]
  },
  {
   "cell_type": "code",
   "execution_count": 2,
   "metadata": {},
   "outputs": [
    {
     "name": "stderr",
     "output_type": "stream",
     "text": [
      "/home/daniele/Desktop/Projects/chatbot_dsr_project/.venv_chatbot/lib/python3.10/site-packages/environ/environ.py:639: UserWarning: /tmp/ipykernel_39407/.env doesn't exist - if you're not configuring your environment separately, create one.\n",
      "  warnings.warn(\n"
     ]
    }
   ],
   "source": [
    "# For now I use my key\n",
    "env = environ.Env()\n",
    "environ.Env.read_env()\n",
    "API_KEY = env(\"OPENAI_API_KEY\")\n",
    "openai.api_key = API_KEY"
   ]
  },
  {
   "cell_type": "code",
   "execution_count": 3,
   "metadata": {},
   "outputs": [],
   "source": [
    "folder_vector_db = \"vector_bd_CANC\""
   ]
  },
  {
   "cell_type": "markdown",
   "metadata": {},
   "source": [
    "# Create and save vector database"
   ]
  },
  {
   "cell_type": "code",
   "execution_count": 4,
   "metadata": {},
   "outputs": [],
   "source": [
    "doc_path = \"documents_pdf/merkblatt-fuer-arbeitslose_ba036520.pdf\""
   ]
  },
  {
   "cell_type": "code",
   "execution_count": 5,
   "metadata": {},
   "outputs": [],
   "source": [
    "documents = SimpleDirectoryReader(input_files=[doc_path]).load_data()\n",
    "llm = LLMPredictor(llm=ChatOpenAI(temperature=0, model_name=\"gpt-3.5-turbo\"))\n",
    "service_context = ServiceContext.from_defaults(llm_predictor=llm)\n",
    "index = VectorStoreIndex.from_documents(\n",
    "    documents,\n",
    "    service_context=service_context\n",
    ")\n",
    "\n",
    "# Define prompt\n",
    "template = (\n",
    "    \"We have provided context information below. \\n\"\n",
    "    \"---------------------\\n\"\n",
    "    \"{context_str}\"\n",
    "    \"\\n---------------------\\n\"\n",
    "    \"Given this information, please answer the question and each answer should start with code word Response: {query_str}\\n\"\n",
    ")\n",
    "qa_template = Prompt(template)\n",
    "\n",
    "# Use the custom prompt when querying\n",
    "query_engine_with_prompt = index.as_query_engine(text_qa_template=qa_template, similarity_top_k=3,)"
   ]
  },
  {
   "cell_type": "code",
   "execution_count": 6,
   "metadata": {},
   "outputs": [],
   "source": [
    "response = query_engine_with_prompt.query(\"What do you know about the city of Berlin?\")"
   ]
  },
  {
   "cell_type": "code",
   "execution_count": 7,
   "metadata": {},
   "outputs": [
    {
     "data": {
      "text/plain": [
       "'Response: Based on the provided context information, there is no direct mention or information about the city of Berlin.'"
      ]
     },
     "execution_count": 7,
     "metadata": {},
     "output_type": "execute_result"
    }
   ],
   "source": [
    "response.response"
   ]
  },
  {
   "cell_type": "code",
   "execution_count": 8,
   "metadata": {},
   "outputs": [
    {
     "data": {
      "text/plain": [
       "{'2bd21c5c-5fb8-4505-ae7b-511fd989ba4c': {'page_label': '5',\n",
       "  'file_name': 'merkblatt-fuer-arbeitslose_ba036520.pdf'},\n",
       " '04542c52-be10-4102-b72e-d76283a54e63': {'page_label': '2',\n",
       "  'file_name': 'merkblatt-fuer-arbeitslose_ba036520.pdf'},\n",
       " '928942b0-3482-484b-acfe-dd1675b3ef5b': {'page_label': '3',\n",
       "  'file_name': 'merkblatt-fuer-arbeitslose_ba036520.pdf'}}"
      ]
     },
     "execution_count": 8,
     "metadata": {},
     "output_type": "execute_result"
    }
   ],
   "source": [
    "response.metadata"
   ]
  },
  {
   "cell_type": "code",
   "execution_count": 9,
   "metadata": {},
   "outputs": [],
   "source": [
    "# Save index\n",
    "index.storage_context.persist(persist_dir=folder_vector_db)"
   ]
  },
  {
   "cell_type": "markdown",
   "metadata": {},
   "source": [
    "# Load vector database"
   ]
  },
  {
   "cell_type": "code",
   "execution_count": 10,
   "metadata": {},
   "outputs": [],
   "source": [
    "# rebuild storage context\n",
    "storage_context = StorageContext.from_defaults(persist_dir=folder_vector_db)\n",
    "# load index\n",
    "index_loaded = load_index_from_storage(storage_context)\n",
    "# create query engine\n",
    "query_engine_from_loaded = index_loaded.as_query_engine(text_qa_template=qa_template, similarity_top_k=3,)"
   ]
  },
  {
   "cell_type": "code",
   "execution_count": 11,
   "metadata": {},
   "outputs": [],
   "source": [
    "response_from_loaded = query_engine_from_loaded.query(\"What do you know about the city of Berlin?\")"
   ]
  },
  {
   "cell_type": "code",
   "execution_count": 12,
   "metadata": {},
   "outputs": [
    {
     "data": {
      "text/plain": [
       "'Response: Based on the provided context information, there is no direct mention or information about the city of Berlin. The context information primarily focuses on the Merkblatt (information brochure) for unemployed individuals and the services provided by the Agentur für Arbeit (Federal Employment Agency).'"
      ]
     },
     "execution_count": 12,
     "metadata": {},
     "output_type": "execute_result"
    }
   ],
   "source": [
    "response_from_loaded.response"
   ]
  },
  {
   "cell_type": "code",
   "execution_count": 13,
   "metadata": {},
   "outputs": [
    {
     "data": {
      "text/plain": [
       "{'2bd21c5c-5fb8-4505-ae7b-511fd989ba4c': {'page_label': '5',\n",
       "  'file_name': 'merkblatt-fuer-arbeitslose_ba036520.pdf'},\n",
       " '04542c52-be10-4102-b72e-d76283a54e63': {'page_label': '2',\n",
       "  'file_name': 'merkblatt-fuer-arbeitslose_ba036520.pdf'},\n",
       " '928942b0-3482-484b-acfe-dd1675b3ef5b': {'page_label': '3',\n",
       "  'file_name': 'merkblatt-fuer-arbeitslose_ba036520.pdf'}}"
      ]
     },
     "execution_count": 13,
     "metadata": {},
     "output_type": "execute_result"
    }
   ],
   "source": [
    "response_from_loaded.metadata"
   ]
  },
  {
   "cell_type": "markdown",
   "metadata": {},
   "source": [
    "# as_query_engine"
   ]
  },
  {
   "cell_type": "code",
   "execution_count": 14,
   "metadata": {},
   "outputs": [],
   "source": [
    "query_engine_1 = index_loaded.as_query_engine(text_qa_template=qa_template, similarity_top_k=3)"
   ]
  },
  {
   "cell_type": "code",
   "execution_count": 15,
   "metadata": {},
   "outputs": [],
   "source": [
    "response_1 = query_engine_1.query(\"What do you know about the city of Berlin?\")"
   ]
  },
  {
   "cell_type": "code",
   "execution_count": 16,
   "metadata": {},
   "outputs": [
    {
     "data": {
      "text/plain": [
       "'Response: Based on the provided context information, there is no specific information about the city of Berlin. The context information is related to a brochure or leaflet about unemployment benefits and services provided by the German Federal Employment Agency (Agentur für Arbeit).'"
      ]
     },
     "execution_count": 16,
     "metadata": {},
     "output_type": "execute_result"
    }
   ],
   "source": [
    "response_1.response"
   ]
  },
  {
   "cell_type": "code",
   "execution_count": 17,
   "metadata": {},
   "outputs": [
    {
     "data": {
      "text/plain": [
       "{'2bd21c5c-5fb8-4505-ae7b-511fd989ba4c': {'page_label': '5',\n",
       "  'file_name': 'merkblatt-fuer-arbeitslose_ba036520.pdf'},\n",
       " '04542c52-be10-4102-b72e-d76283a54e63': {'page_label': '2',\n",
       "  'file_name': 'merkblatt-fuer-arbeitslose_ba036520.pdf'},\n",
       " '928942b0-3482-484b-acfe-dd1675b3ef5b': {'page_label': '3',\n",
       "  'file_name': 'merkblatt-fuer-arbeitslose_ba036520.pdf'}}"
      ]
     },
     "execution_count": 17,
     "metadata": {},
     "output_type": "execute_result"
    }
   ],
   "source": [
    "response_1.metadata"
   ]
  },
  {
   "cell_type": "code",
   "execution_count": 18,
   "metadata": {},
   "outputs": [
    {
     "data": {
      "text/plain": [
       "{'ref_0': {'page': '5', 'document': 'merkblatt-fuer-arbeitslose_ba036520.pdf'},\n",
       " 'ref_1': {'page': '2', 'document': 'merkblatt-fuer-arbeitslose_ba036520.pdf'},\n",
       " 'ref_2': {'page': '3', 'document': 'merkblatt-fuer-arbeitslose_ba036520.pdf'}}"
      ]
     },
     "execution_count": 18,
     "metadata": {},
     "output_type": "execute_result"
    }
   ],
   "source": [
    "response_text = response_1.response\n",
    "response_metadata = dict()\n",
    "response_metadata_message = f'There {len(response_1.metadata)} sources:'\n",
    "for i, meta_data in enumerate(response_1.metadata):\n",
    "    key_name = \"ref_\" + str(i)\n",
    "    response_metadata[key_name] = {\n",
    "        \"page\": response_1.metadata[meta_data][\"page_label\"],\n",
    "        \"document\":response_1.metadata[meta_data][\"file_name\"]\n",
    "    }\n",
    "    response_metadata_message += \"\\n -\" + key_name + f'Page {response_1.metadata[meta_data][\"page_label\"]} from file {response_1.metadata[meta_data][\"file_name\"]}'\n",
    "\n",
    "response_metadata"
   ]
  },
  {
   "cell_type": "markdown",
   "metadata": {},
   "source": [
    "# as_chat_engine"
   ]
  },
  {
   "cell_type": "code",
   "execution_count": 19,
   "metadata": {},
   "outputs": [],
   "source": [
    "query_engine_chat = index_loaded.as_chat_engine(\n",
    "    text_qa_template=qa_template,\n",
    "    similarity_top_k=3,\n",
    "    chat_mode=\"context\")"
   ]
  },
  {
   "cell_type": "code",
   "execution_count": 20,
   "metadata": {},
   "outputs": [],
   "source": [
    "response_chat = query_engine_chat.chat(\"What do you know about the city of Berlin?\")"
   ]
  },
  {
   "cell_type": "code",
   "execution_count": 21,
   "metadata": {},
   "outputs": [
    {
     "data": {
      "text/plain": [
       "AgentChatResponse(response=\"Berlin is the capital and largest city of Germany. It is located in the northeastern part of the country and is known for its rich history, vibrant culture, and diverse population. Here are some key points about Berlin:\\n\\n1. History: Berlin has a significant historical background, including its role as the capital of Prussia, the German Empire, the Weimar Republic, and Nazi Germany. It was also divided into East and West Berlin during the Cold War, with the Berlin Wall separating the two parts.\\n\\n2. Landmarks: The city is home to several iconic landmarks, such as the Brandenburg Gate, Berlin Wall Memorial, Reichstag building, Checkpoint Charlie, and the Berlin TV Tower. These landmarks symbolize the city's history and reunification.\\n\\n3. Cultural Hub: Berlin is renowned for its thriving arts and cultural scene. It has numerous museums, art galleries, theaters, and music venues. The city hosts various festivals, including the Berlin International Film Festival (Berlinale) and the Carnival of Cultures.\\n\\n4. Nightlife: Berlin is famous for its vibrant nightlife. It offers a diverse range of clubs, bars, and music venues, attracting party-goers from around the world. The city is known for its techno music scene and has a reputation as a party capital.\\n\\n5. Green Spaces: Despite being a bustling metropolis, Berlin has many green spaces and parks. The Tiergarten, Volkspark Friedrichshain, and Tempelhofer Feld are popular recreational areas where locals and tourists can relax and enjoy outdoor activities.\\n\\n6. International Cuisine: Berlin's culinary scene reflects its multicultural population. The city offers a wide range of international cuisines, including Turkish, Vietnamese, Middle Eastern, and Ethiopian. Street food markets and food festivals are also popular in Berlin.\\n\\n7. Start-up Hub: Berlin has emerged as a major start-up hub in Europe. The city attracts entrepreneurs and innovators from various industries, fostering a dynamic and entrepreneurial spirit.\\n\\n8. Transportation: Berlin has an extensive public transportation system, including buses, trams, and an efficient subway network (U-Bahn and S-Bahn). Cycling is also popular, with many bike lanes and rental services available.\\n\\n9. Museums and Galleries: Berlin is home to numerous world-class museums and galleries. The Museum Island, located in the heart of the city, is a UNESCO World Heritage site and houses several renowned institutions, including the Pergamon Museum, Neues Museum, and Altes Museum.\\n\\n10. Diversity and Tolerance: Berlin is known for its diverse and inclusive atmosphere. The city embraces different cultures, lifestyles, and identities, making it a welcoming place for people from all walks of life.\\n\\nOverall, Berlin is a dynamic and cosmopolitan city that offers a blend of history, culture, and modernity. It attracts visitors with its unique charm and continues to evolve as a global metropolis.\", sources=[ToolOutput(content='system: Context information is below.\\n--------------------\\npage_label: 5\\nfile_name: merkblatt-fuer-arbeitslose_ba036520.pdf\\n\\nVorwort\\n6Das Merkblatt Bürgergeld – Grundsicherung für \\nArbeit  suchende – SGB II  können Sie bei dem für Sie \\nzuständigen Jobcenter erhalten.\\n BITTE BEACHTEN SIE\\nDieses Merkblatt ist eine Informationsbro \\xad\\nschüre, die jährlich aktualisiert wird. Sie \\ndient Ihrer allgemeinen Information und kann \\nnicht alle Bestimmungen erschöpfend dar \\xad\\nstellen.\\nWenden Sie sich bitte an das Service Center \\noder den Empfang in Ihrer Agentur für Arbeit, \\nwenn Sie weitere Fragen haben oder Unklar \\xad\\nheiten beseitigen möchten.\\nTelefonisch erreichen Sie Ihre Agentur für \\nArbeit montags – freitags von 8:00 bis \\n18:00 Uhr über die gebührenfreie Service-\\nrufnummer 0800 4 5555 00.\\nDer Aktualitätsstand dieses Merkblattes ist \\nauf der Rückseite der Broschüre angegeben.\\n\\npage_label: 2\\nfile_name: merkblatt-fuer-arbeitslose_ba036520.pdf\\n\\n3 \\nIhre Agentur für Arbeit hält eine Fülle von \\n Informationen für Sie bereit. \\nNeben den Informationen in diesem Merkblatt finden \\nSie unter » www.arbeitsagentur.de  unser umfassen \\xad\\ndes Online-Angebot der „eServices “ sowie ein \\n interessantes Informationsangebot aus allen Aufgaben \\xad\\nbereichen der Bundesagentur für Arbeit. Sie erhalten \\nwertvolle Tipps zu den Themen Ausbil \\xad\\ndung, Berufs- und Studienwahl, Weiter \\xad\\nbildung, wichtige Informationen über \\nGeldleistungen sowie ein umfangreiches \\nServiceangebot.\\nÜber das Job- und Serviceportal  \\n» www.arbeitsagentur.de  können Sie beispielsweise:\\n•  sich arbeitsuchend und arbeitslos melden,\\n•  Geldleistungen, wie Arbeitslosengeld, beantragen\\n•  Fragen zum Arbeitslosengeld unserem Chatbot \\n stellen\\n• Stellenangebote über die Jobsuche finden\\n• Vermittlungsvorschläge und Stellenempfehlungen \\neinsehen und sich bewerben\\n•  Bescheide einsehen \\n•  die Postfachnachricht nutzen – eine sichere \\n Alternative zur E-Mail \\nund vieles mehr\\nWenden Sie sich bitte an das Service Center bzw. den \\nEmpfang in Ihrer Agentur für Arbeit, wenn Sie weitere \\nInformationen über das Verfahren und die Vorteile \\n erhalten möchten.\\n\\npage_label: 3\\nfile_name: merkblatt-fuer-arbeitslose_ba036520.pdf\\n\\n4Und jetzt auch per App: Sie können ab sofort jederzeit \\nund an jedem Ort auf ausgewählte Funktionen Ihres \\nOnline-Profils über die neue Kunden-App „BA-mobil“  \\nzugreifen. \\n \\nInformationen zur App finden Sie im Internet unter: \\nhttp://www.arbeitsagentur.de »  Arbeitslos und \\n\\xad Arbeit\\xadfinden\\xad»\\xadAlle \\xad Infos \\xad und \\xad Services \\xad » \\xad Machen \\xad\\nSie Ihren nächsten Schritt »  BA-Mobil: Die Kunden-\\nApp der BA\\nAm Ende dieses Merkblattes finden Sie eine Übersicht \\nüber weitere bei Ihrer Agentur für Arbeit erhältliche \\nMerk- und Faltblätter. Diese finden Sie auch unter \\n» www.arbeitsagentur.de .\\n--------------------\\n', tool_name='retriever', raw_input={'message': 'What do you know about the city of Berlin?'}, raw_output=ChatMessage(role=<MessageRole.SYSTEM: 'system'>, content='Context information is below.\\n--------------------\\npage_label: 5\\nfile_name: merkblatt-fuer-arbeitslose_ba036520.pdf\\n\\nVorwort\\n6Das Merkblatt Bürgergeld – Grundsicherung für \\nArbeit  suchende – SGB II  können Sie bei dem für Sie \\nzuständigen Jobcenter erhalten.\\n BITTE BEACHTEN SIE\\nDieses Merkblatt ist eine Informationsbro \\xad\\nschüre, die jährlich aktualisiert wird. Sie \\ndient Ihrer allgemeinen Information und kann \\nnicht alle Bestimmungen erschöpfend dar \\xad\\nstellen.\\nWenden Sie sich bitte an das Service Center \\noder den Empfang in Ihrer Agentur für Arbeit, \\nwenn Sie weitere Fragen haben oder Unklar \\xad\\nheiten beseitigen möchten.\\nTelefonisch erreichen Sie Ihre Agentur für \\nArbeit montags – freitags von 8:00 bis \\n18:00 Uhr über die gebührenfreie Service-\\nrufnummer 0800 4 5555 00.\\nDer Aktualitätsstand dieses Merkblattes ist \\nauf der Rückseite der Broschüre angegeben.\\n\\npage_label: 2\\nfile_name: merkblatt-fuer-arbeitslose_ba036520.pdf\\n\\n3 \\nIhre Agentur für Arbeit hält eine Fülle von \\n Informationen für Sie bereit. \\nNeben den Informationen in diesem Merkblatt finden \\nSie unter » www.arbeitsagentur.de  unser umfassen \\xad\\ndes Online-Angebot der „eServices “ sowie ein \\n interessantes Informationsangebot aus allen Aufgaben \\xad\\nbereichen der Bundesagentur für Arbeit. Sie erhalten \\nwertvolle Tipps zu den Themen Ausbil \\xad\\ndung, Berufs- und Studienwahl, Weiter \\xad\\nbildung, wichtige Informationen über \\nGeldleistungen sowie ein umfangreiches \\nServiceangebot.\\nÜber das Job- und Serviceportal  \\n» www.arbeitsagentur.de  können Sie beispielsweise:\\n•  sich arbeitsuchend und arbeitslos melden,\\n•  Geldleistungen, wie Arbeitslosengeld, beantragen\\n•  Fragen zum Arbeitslosengeld unserem Chatbot \\n stellen\\n• Stellenangebote über die Jobsuche finden\\n• Vermittlungsvorschläge und Stellenempfehlungen \\neinsehen und sich bewerben\\n•  Bescheide einsehen \\n•  die Postfachnachricht nutzen – eine sichere \\n Alternative zur E-Mail \\nund vieles mehr\\nWenden Sie sich bitte an das Service Center bzw. den \\nEmpfang in Ihrer Agentur für Arbeit, wenn Sie weitere \\nInformationen über das Verfahren und die Vorteile \\n erhalten möchten.\\n\\npage_label: 3\\nfile_name: merkblatt-fuer-arbeitslose_ba036520.pdf\\n\\n4Und jetzt auch per App: Sie können ab sofort jederzeit \\nund an jedem Ort auf ausgewählte Funktionen Ihres \\nOnline-Profils über die neue Kunden-App „BA-mobil“  \\nzugreifen. \\n \\nInformationen zur App finden Sie im Internet unter: \\nhttp://www.arbeitsagentur.de »  Arbeitslos und \\n\\xad Arbeit\\xadfinden\\xad»\\xadAlle \\xad Infos \\xad und \\xad Services \\xad » \\xad Machen \\xad\\nSie Ihren nächsten Schritt »  BA-Mobil: Die Kunden-\\nApp der BA\\nAm Ende dieses Merkblattes finden Sie eine Übersicht \\nüber weitere bei Ihrer Agentur für Arbeit erhältliche \\nMerk- und Faltblätter. Diese finden Sie auch unter \\n» www.arbeitsagentur.de .\\n--------------------\\n', additional_kwargs={}))], source_nodes=[NodeWithScore(node=TextNode(id_='2bd21c5c-5fb8-4505-ae7b-511fd989ba4c', embedding=None, metadata={'page_label': '5', 'file_name': 'merkblatt-fuer-arbeitslose_ba036520.pdf'}, excluded_embed_metadata_keys=[], excluded_llm_metadata_keys=[], relationships={<NodeRelationship.SOURCE: '1'>: RelatedNodeInfo(node_id='363514c5-c59c-40c9-b9d3-a4e178e32660', node_type=None, metadata={'page_label': '5', 'file_name': 'merkblatt-fuer-arbeitslose_ba036520.pdf'}, hash='0c8a57ee4f5b2fa53dba2d875d2acfc3e423002cddea6a0797c0bf4778513227')}, hash='0c8a57ee4f5b2fa53dba2d875d2acfc3e423002cddea6a0797c0bf4778513227', text='Vorwort\\n6Das Merkblatt Bürgergeld – Grundsicherung für \\nArbeit  suchende – SGB II  können Sie bei dem für Sie \\nzuständigen Jobcenter erhalten.\\n BITTE BEACHTEN SIE\\nDieses Merkblatt ist eine Informationsbro \\xad\\nschüre, die jährlich aktualisiert wird. Sie \\ndient Ihrer allgemeinen Information und kann \\nnicht alle Bestimmungen erschöpfend dar \\xad\\nstellen.\\nWenden Sie sich bitte an das Service Center \\noder den Empfang in Ihrer Agentur für Arbeit, \\nwenn Sie weitere Fragen haben oder Unklar \\xad\\nheiten beseitigen möchten.\\nTelefonisch erreichen Sie Ihre Agentur für \\nArbeit montags – freitags von 8:00 bis \\n18:00 Uhr über die gebührenfreie Service-\\nrufnummer 0800 4 5555 00.\\nDer Aktualitätsstand dieses Merkblattes ist \\nauf der Rückseite der Broschüre angegeben.', start_char_idx=None, end_char_idx=None, text_template='{metadata_str}\\n\\n{content}', metadata_template='{key}: {value}', metadata_seperator='\\n'), score=0.7557143062794232), NodeWithScore(node=TextNode(id_='04542c52-be10-4102-b72e-d76283a54e63', embedding=None, metadata={'page_label': '2', 'file_name': 'merkblatt-fuer-arbeitslose_ba036520.pdf'}, excluded_embed_metadata_keys=[], excluded_llm_metadata_keys=[], relationships={<NodeRelationship.SOURCE: '1'>: RelatedNodeInfo(node_id='05670a59-56d9-4b52-b020-639826d15f06', node_type=None, metadata={'page_label': '2', 'file_name': 'merkblatt-fuer-arbeitslose_ba036520.pdf'}, hash='96291ef98137c571c20b29d30df5a6c087563271148520a97ce911686ac9592a')}, hash='1e5992db20516788acd55cf89afc2f33392a1ab6ab9bdfbfc14cf201486d58f8', text='3 \\nIhre Agentur für Arbeit hält eine Fülle von \\n Informationen für Sie bereit. \\nNeben den Informationen in diesem Merkblatt finden \\nSie unter » www.arbeitsagentur.de  unser umfassen \\xad\\ndes Online-Angebot der „eServices “ sowie ein \\n interessantes Informationsangebot aus allen Aufgaben \\xad\\nbereichen der Bundesagentur für Arbeit. Sie erhalten \\nwertvolle Tipps zu den Themen Ausbil \\xad\\ndung, Berufs- und Studienwahl, Weiter \\xad\\nbildung, wichtige Informationen über \\nGeldleistungen sowie ein umfangreiches \\nServiceangebot.\\nÜber das Job- und Serviceportal  \\n» www.arbeitsagentur.de  können Sie beispielsweise:\\n•  sich arbeitsuchend und arbeitslos melden,\\n•  Geldleistungen, wie Arbeitslosengeld, beantragen\\n•  Fragen zum Arbeitslosengeld unserem Chatbot \\n stellen\\n• Stellenangebote über die Jobsuche finden\\n• Vermittlungsvorschläge und Stellenempfehlungen \\neinsehen und sich bewerben\\n•  Bescheide einsehen \\n•  die Postfachnachricht nutzen – eine sichere \\n Alternative zur E-Mail \\nund vieles mehr\\nWenden Sie sich bitte an das Service Center bzw. den \\nEmpfang in Ihrer Agentur für Arbeit, wenn Sie weitere \\nInformationen über das Verfahren und die Vorteile \\n erhalten möchten.', start_char_idx=None, end_char_idx=None, text_template='{metadata_str}\\n\\n{content}', metadata_template='{key}: {value}', metadata_seperator='\\n'), score=0.7496471651614129), NodeWithScore(node=TextNode(id_='928942b0-3482-484b-acfe-dd1675b3ef5b', embedding=None, metadata={'page_label': '3', 'file_name': 'merkblatt-fuer-arbeitslose_ba036520.pdf'}, excluded_embed_metadata_keys=[], excluded_llm_metadata_keys=[], relationships={<NodeRelationship.SOURCE: '1'>: RelatedNodeInfo(node_id='81bf0fa3-1d56-456f-9d00-83d903805633', node_type=None, metadata={'page_label': '3', 'file_name': 'merkblatt-fuer-arbeitslose_ba036520.pdf'}, hash='aeda75aad73c80a3f3bd19e22ae124bd72a477c3c2f1f78dd2d2dc382b60e4bc')}, hash='593992245c982cc2435abf8d07b43b01ec98a6a1f2cedc0639c78a61720a2977', text='4Und jetzt auch per App: Sie können ab sofort jederzeit \\nund an jedem Ort auf ausgewählte Funktionen Ihres \\nOnline-Profils über die neue Kunden-App „BA-mobil“  \\nzugreifen. \\n \\nInformationen zur App finden Sie im Internet unter: \\nhttp://www.arbeitsagentur.de »  Arbeitslos und \\n\\xad Arbeit\\xadfinden\\xad»\\xadAlle \\xad Infos \\xad und \\xad Services \\xad » \\xad Machen \\xad\\nSie Ihren nächsten Schritt »  BA-Mobil: Die Kunden-\\nApp der BA\\nAm Ende dieses Merkblattes finden Sie eine Übersicht \\nüber weitere bei Ihrer Agentur für Arbeit erhältliche \\nMerk- und Faltblätter. Diese finden Sie auch unter \\n» www.arbeitsagentur.de .', start_char_idx=None, end_char_idx=None, text_template='{metadata_str}\\n\\n{content}', metadata_template='{key}: {value}', metadata_seperator='\\n'), score=0.7493206299881958)])"
      ]
     },
     "execution_count": 21,
     "metadata": {},
     "output_type": "execute_result"
    }
   ],
   "source": [
    "response_chat"
   ]
  },
  {
   "cell_type": "code",
   "execution_count": 22,
   "metadata": {},
   "outputs": [
    {
     "data": {
      "text/plain": [
       "\"Berlin is the capital and largest city of Germany. It is located in the northeastern part of the country and is known for its rich history, vibrant culture, and diverse population. Here are some key points about Berlin:\\n\\n1. History: Berlin has a significant historical background, including its role as the capital of Prussia, the German Empire, the Weimar Republic, and Nazi Germany. It was also divided into East and West Berlin during the Cold War, with the Berlin Wall separating the two parts.\\n\\n2. Landmarks: The city is home to several iconic landmarks, such as the Brandenburg Gate, Berlin Wall Memorial, Reichstag building, Checkpoint Charlie, and the Berlin TV Tower. These landmarks symbolize the city's history and reunification.\\n\\n3. Cultural Hub: Berlin is renowned for its thriving arts and cultural scene. It has numerous museums, art galleries, theaters, and music venues. The city hosts various festivals, including the Berlin International Film Festival (Berlinale) and the Carnival of Cultures.\\n\\n4. Nightlife: Berlin is famous for its vibrant nightlife. It offers a diverse range of clubs, bars, and music venues, attracting party-goers from around the world. The city is known for its techno music scene and has a reputation as a party capital.\\n\\n5. Green Spaces: Despite being a bustling metropolis, Berlin has many green spaces and parks. The Tiergarten, Volkspark Friedrichshain, and Tempelhofer Feld are popular recreational areas where locals and tourists can relax and enjoy outdoor activities.\\n\\n6. International Cuisine: Berlin's culinary scene reflects its multicultural population. The city offers a wide range of international cuisines, including Turkish, Vietnamese, Middle Eastern, and Ethiopian. Street food markets and food festivals are also popular in Berlin.\\n\\n7. Start-up Hub: Berlin has emerged as a major start-up hub in Europe. The city attracts entrepreneurs and innovators from various industries, fostering a dynamic and entrepreneurial spirit.\\n\\n8. Transportation: Berlin has an extensive public transportation system, including buses, trams, and an efficient subway network (U-Bahn and S-Bahn). Cycling is also popular, with many bike lanes and rental services available.\\n\\n9. Museums and Galleries: Berlin is home to numerous world-class museums and galleries. The Museum Island, located in the heart of the city, is a UNESCO World Heritage site and houses several renowned institutions, including the Pergamon Museum, Neues Museum, and Altes Museum.\\n\\n10. Diversity and Tolerance: Berlin is known for its diverse and inclusive atmosphere. The city embraces different cultures, lifestyles, and identities, making it a welcoming place for people from all walks of life.\\n\\nOverall, Berlin is a dynamic and cosmopolitan city that offers a blend of history, culture, and modernity. It attracts visitors with its unique charm and continues to evolve as a global metropolis.\""
      ]
     },
     "execution_count": 22,
     "metadata": {},
     "output_type": "execute_result"
    }
   ],
   "source": [
    "response_chat.response"
   ]
  },
  {
   "cell_type": "code",
   "execution_count": 23,
   "metadata": {},
   "outputs": [
    {
     "name": "stdout",
     "output_type": "stream",
     "text": [
      "There 3 sources.\n",
      "Page 5 from file merkblatt-fuer-arbeitslose_ba036520.pdf\n",
      "Page 2 from file merkblatt-fuer-arbeitslose_ba036520.pdf\n",
      "Page 3 from file merkblatt-fuer-arbeitslose_ba036520.pdf\n"
     ]
    }
   ],
   "source": [
    "print(f\"There {len(response_chat.source_nodes)} sources.\")\n",
    "for source_node in response_chat.source_nodes:\n",
    "    print(f'Page {source_node.node.metadata[\"page_label\"]} from file {source_node.node.metadata[\"file_name\"]}')"
   ]
  },
  {
   "cell_type": "code",
   "execution_count": 24,
   "metadata": {},
   "outputs": [
    {
     "data": {
      "text/plain": [
       "{'ref_0': {'page': '5', 'document': 'merkblatt-fuer-arbeitslose_ba036520.pdf'},\n",
       " 'ref_1': {'page': '2', 'document': 'merkblatt-fuer-arbeitslose_ba036520.pdf'},\n",
       " 'ref_2': {'page': '3', 'document': 'merkblatt-fuer-arbeitslose_ba036520.pdf'}}"
      ]
     },
     "execution_count": 24,
     "metadata": {},
     "output_type": "execute_result"
    }
   ],
   "source": [
    "response_metadata_chat = dict()\n",
    "\n",
    "for i, source_node in enumerate(response_chat.source_nodes):\n",
    "    key_name = \"ref_\" + str(i)\n",
    "    response_metadata_chat[key_name] = {\n",
    "        \"page\": source_node.node.metadata[\"page_label\"],\n",
    "        \"document\":source_node.node.metadata[\"file_name\"]\n",
    "    }\n",
    "\n",
    "response_metadata_chat"
   ]
  }
 ],
 "metadata": {
  "kernelspec": {
   "display_name": ".venv_chatbot",
   "language": "python",
   "name": "python3"
  },
  "language_info": {
   "codemirror_mode": {
    "name": "ipython",
    "version": 3
   },
   "file_extension": ".py",
   "mimetype": "text/x-python",
   "name": "python",
   "nbconvert_exporter": "python",
   "pygments_lexer": "ipython3",
   "version": "3.10.12"
  },
  "orig_nbformat": 4
 },
 "nbformat": 4,
 "nbformat_minor": 2
}
