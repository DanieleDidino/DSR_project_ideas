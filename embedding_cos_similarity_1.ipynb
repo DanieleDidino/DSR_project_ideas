{
  "cells": [
    {
      "cell_type": "markdown",
      "metadata": {},
      "source": [
        "# Playing with embeddings\n",
        "\n",
        "In this notebook, I use a small subset of a dataset (5 rows) to create an embedding (based on the `text-embedding-ada-` model)\n",
        "and to use cosine similarity to evaluate the similarity between the embedding and a new text.\n",
        "\n",
        "The [openai-cookbook](https://github.com/openai/openai-cookbook/tree/main) has useful notebooks."
      ]
    },
    {
      "cell_type": "markdown",
      "metadata": {
        "id": "sZTCjNnR10nF"
      },
      "source": [
        "# Import & set params"
      ]
    },
    {
      "cell_type": "code",
      "execution_count": 1,
      "metadata": {
        "id": "bV0fj7JM1nQq"
      },
      "outputs": [],
      "source": [
        "import pandas as pd\n",
        "import tiktoken\n",
        "\n",
        "from openai.embeddings_utils import get_embedding, cosine_similarity\n",
        "import openai\n",
        "openai.api_key = \"sk-...\" # <-------- ENTER HERE THE API KEY"
      ]
    },
    {
      "cell_type": "markdown",
      "metadata": {},
      "source": [
        "I used this model:\n",
        "\n",
        "- Model name: `text-embedding-ada-002`\n",
        "- Tokenizer:`cl100k_base`\n",
        "- Max input tokens: `8191`\n",
        "- Output dimensions: `1536` (i.e., dimensions in the embedding)"
      ]
    },
    {
      "cell_type": "code",
      "execution_count": 2,
      "metadata": {},
      "outputs": [],
      "source": [
        "# embedding model parameters\n",
        "embedding_model = \"text-embedding-ada-002\"\n",
        "embedding_encoding = \"cl100k_base\"  # encoding for text-embedding-ada-002\n",
        "max_tokens = 8000  # max input token for text-embedding-ada-002 is 8191"
      ]
    },
    {
      "cell_type": "markdown",
      "metadata": {
        "id": "sr5jQpk11xIZ"
      },
      "source": [
        "# Load data"
      ]
    },
    {
      "cell_type": "code",
      "execution_count": 3,
      "metadata": {
        "id": "MMrWAD8O1w0C"
      },
      "outputs": [
        {
          "data": {
            "text/html": [
              "<div>\n",
              "<style scoped>\n",
              "    .dataframe tbody tr th:only-of-type {\n",
              "        vertical-align: middle;\n",
              "    }\n",
              "\n",
              "    .dataframe tbody tr th {\n",
              "        vertical-align: top;\n",
              "    }\n",
              "\n",
              "    .dataframe thead th {\n",
              "        text-align: right;\n",
              "    }\n",
              "</style>\n",
              "<table border=\"1\" class=\"dataframe\">\n",
              "  <thead>\n",
              "    <tr style=\"text-align: right;\">\n",
              "      <th></th>\n",
              "      <th>Time</th>\n",
              "      <th>ProductId</th>\n",
              "      <th>UserId</th>\n",
              "      <th>Score</th>\n",
              "      <th>Summary</th>\n",
              "      <th>Text</th>\n",
              "      <th>combined</th>\n",
              "    </tr>\n",
              "  </thead>\n",
              "  <tbody>\n",
              "    <tr>\n",
              "      <th>0</th>\n",
              "      <td>1351123200</td>\n",
              "      <td>B003XPF9BO</td>\n",
              "      <td>A3R7JR3FMEBXQB</td>\n",
              "      <td>5</td>\n",
              "      <td>where does one  start...and stop... with a tre...</td>\n",
              "      <td>Wanted to save some to bring to my Chicago fam...</td>\n",
              "      <td>Title: where does one  start...and stop... wit...</td>\n",
              "    </tr>\n",
              "    <tr>\n",
              "      <th>1</th>\n",
              "      <td>1351123200</td>\n",
              "      <td>B003JK537S</td>\n",
              "      <td>A3JBPC3WFUT5ZP</td>\n",
              "      <td>1</td>\n",
              "      <td>Arrived in pieces</td>\n",
              "      <td>Not pleased at all. When I opened the box, mos...</td>\n",
              "      <td>Title: Arrived in pieces; Content: Not pleased...</td>\n",
              "    </tr>\n",
              "  </tbody>\n",
              "</table>\n",
              "</div>"
            ],
            "text/plain": [
              "         Time   ProductId          UserId  Score  \\\n",
              "0  1351123200  B003XPF9BO  A3R7JR3FMEBXQB      5   \n",
              "1  1351123200  B003JK537S  A3JBPC3WFUT5ZP      1   \n",
              "\n",
              "                                             Summary  \\\n",
              "0  where does one  start...and stop... with a tre...   \n",
              "1                                  Arrived in pieces   \n",
              "\n",
              "                                                Text  \\\n",
              "0  Wanted to save some to bring to my Chicago fam...   \n",
              "1  Not pleased at all. When I opened the box, mos...   \n",
              "\n",
              "                                            combined  \n",
              "0  Title: where does one  start...and stop... wit...  \n",
              "1  Title: Arrived in pieces; Content: Not pleased...  "
            ]
          },
          "execution_count": 3,
          "metadata": {},
          "output_type": "execute_result"
        }
      ],
      "source": [
        "input_datapath = \"data/fine_food_reviews_1k.csv\"  # to save space, we provide a pre-filtered dataset\n",
        "df = pd.read_csv(input_datapath, index_col=0)\n",
        "df = df[[\"Time\", \"ProductId\", \"UserId\", \"Score\", \"Summary\", \"Text\"]]\n",
        "df = df.dropna()\n",
        "df[\"combined\"] = (\n",
        "    \"Title: \" + df.Summary.str.strip() + \"; Content: \" + df.Text.str.strip()\n",
        ")\n",
        "df.head(2)"
      ]
    },
    {
      "cell_type": "code",
      "execution_count": 4,
      "metadata": {
        "id": "q9yDYtLn1_PR"
      },
      "outputs": [
        {
          "data": {
            "text/plain": [
              "1000"
            ]
          },
          "execution_count": 4,
          "metadata": {},
          "output_type": "execute_result"
        }
      ],
      "source": [
        "# subsample to 1k most recent reviews and remove samples that are too long\n",
        "top_n = 1000\n",
        "df = df.sort_values(\"Time\").tail(top_n * 2)  # first cut to first 2k entries, assuming less than half will be filtered out\n",
        "df.drop(\"Time\", axis=1, inplace=True)\n",
        "\n",
        "encoding = tiktoken.get_encoding(embedding_encoding)\n",
        "\n",
        "# omit reviews that are too long to embed\n",
        "df[\"n_tokens\"] = df.combined.apply(lambda x: len(encoding.encode(x)))\n",
        "df = df[df.n_tokens <= max_tokens].tail(top_n)\n",
        "len(df)"
      ]
    },
    {
      "cell_type": "code",
      "execution_count": 5,
      "metadata": {},
      "outputs": [
        {
          "data": {
            "text/html": [
              "<div>\n",
              "<style scoped>\n",
              "    .dataframe tbody tr th:only-of-type {\n",
              "        vertical-align: middle;\n",
              "    }\n",
              "\n",
              "    .dataframe tbody tr th {\n",
              "        vertical-align: top;\n",
              "    }\n",
              "\n",
              "    .dataframe thead th {\n",
              "        text-align: right;\n",
              "    }\n",
              "</style>\n",
              "<table border=\"1\" class=\"dataframe\">\n",
              "  <thead>\n",
              "    <tr style=\"text-align: right;\">\n",
              "      <th></th>\n",
              "      <th>ProductId</th>\n",
              "      <th>UserId</th>\n",
              "      <th>Score</th>\n",
              "      <th>Summary</th>\n",
              "      <th>Text</th>\n",
              "      <th>combined</th>\n",
              "      <th>n_tokens</th>\n",
              "    </tr>\n",
              "  </thead>\n",
              "  <tbody>\n",
              "    <tr>\n",
              "      <th>0</th>\n",
              "      <td>B003XPF9BO</td>\n",
              "      <td>A3R7JR3FMEBXQB</td>\n",
              "      <td>5</td>\n",
              "      <td>where does one  start...and stop... with a tre...</td>\n",
              "      <td>Wanted to save some to bring to my Chicago fam...</td>\n",
              "      <td>Title: where does one  start...and stop... wit...</td>\n",
              "      <td>52</td>\n",
              "    </tr>\n",
              "    <tr>\n",
              "      <th>297</th>\n",
              "      <td>B003VXHGPK</td>\n",
              "      <td>A21VWSCGW7UUAR</td>\n",
              "      <td>4</td>\n",
              "      <td>Good, but not Wolfgang Puck good</td>\n",
              "      <td>Honestly, I have to admit that I expected a li...</td>\n",
              "      <td>Title: Good, but not Wolfgang Puck good; Conte...</td>\n",
              "      <td>178</td>\n",
              "    </tr>\n",
              "  </tbody>\n",
              "</table>\n",
              "</div>"
            ],
            "text/plain": [
              "      ProductId          UserId  Score  \\\n",
              "0    B003XPF9BO  A3R7JR3FMEBXQB      5   \n",
              "297  B003VXHGPK  A21VWSCGW7UUAR      4   \n",
              "\n",
              "                                               Summary  \\\n",
              "0    where does one  start...and stop... with a tre...   \n",
              "297                   Good, but not Wolfgang Puck good   \n",
              "\n",
              "                                                  Text  \\\n",
              "0    Wanted to save some to bring to my Chicago fam...   \n",
              "297  Honestly, I have to admit that I expected a li...   \n",
              "\n",
              "                                              combined  n_tokens  \n",
              "0    Title: where does one  start...and stop... wit...        52  \n",
              "297  Title: Good, but not Wolfgang Puck good; Conte...       178  "
            ]
          },
          "execution_count": 5,
          "metadata": {},
          "output_type": "execute_result"
        }
      ],
      "source": [
        "df.head(2)"
      ]
    },
    {
      "cell_type": "markdown",
      "metadata": {
        "id": "Ku7RQFtC2AJZ"
      },
      "source": [
        "# Create embeddings"
      ]
    },
    {
      "cell_type": "code",
      "execution_count": 6,
      "metadata": {},
      "outputs": [
        {
          "name": "stdout",
          "output_type": "stream",
          "text": [
            "Total number of tokens in the data: 95895\n"
          ]
        }
      ],
      "source": [
        "print(f\"Total number of tokens in the data: {df.n_tokens.sum()}\")"
      ]
    },
    {
      "cell_type": "markdown",
      "metadata": {},
      "source": [
        "Select the first 5 reviews"
      ]
    },
    {
      "cell_type": "code",
      "execution_count": 7,
      "metadata": {},
      "outputs": [],
      "source": [
        "df1 = df.iloc[:5, :].copy() # create a copy"
      ]
    },
    {
      "cell_type": "code",
      "execution_count": 8,
      "metadata": {},
      "outputs": [
        {
          "name": "stdout",
          "output_type": "stream",
          "text": [
            "139969035748160\n",
            "139965568612864\n"
          ]
        }
      ],
      "source": [
        "# Is it a copy?\n",
        "print(id(df))\n",
        "print(id(df1))"
      ]
    },
    {
      "cell_type": "markdown",
      "metadata": {},
      "source": [
        "`openai.Embedding.create()` expects a list"
      ]
    },
    {
      "cell_type": "code",
      "execution_count": 9,
      "metadata": {},
      "outputs": [
        {
          "data": {
            "text/plain": [
              "['Title: where does one  start...and stop... with a treat like this; Content: Wanted to save some to bring to my Chicago family but my North Carolina family ate all 4 boxes before I could pack. These are excellent...could serve to anyone',\n",
              " \"Title: Good, but not Wolfgang Puck good; Content: Honestly, I have to admit that I expected a little better. That's not to say that this is bad coffee - in fact it's quite bold without being too acidic, and pretty satisfying overall. I think my main problem is that Wolfgang Puck's name is attached to it, so perhaps it set my expectations a little high. I have a Wolfgang Puck knife set that I adore, and is very high quality for what I paid for it. This coffee was on sale, so it was well worth it also, I just hoped for something that would knock my socks off - which it didn't. I also purchased the Breakfast blend, and Jamaica me crazy at the same time. The breakfast blend was the best, in my opinion, and the jamaican coffee smelled the best, but was the least successful.\",\n",
              " \"Title: Should advertise coconut as an ingredient more prominently; Content: First, these should be called Mac - Coconut bars, as Coconut is the #2 ingredient and Mango is #3.  Second, lots of people don't like coconut.  I happen to be allergic to it.  Word to Amazon that if you want happy customers to make things like this more prominent.  Thanks.\",\n",
              " \"Title: Best tomato soup; Content: I have a hard time finding packaged food of any type, without dairy in it; even potato chips these days have it. The Imagine Organic is just tomato soup, no other BS in it. It is the best tasting too. At one time this soup could be purchased at TJ's, but since they have their own brand, it has dairy & I can't consume it. There are health food stores with it, but I wanted to give Amazon a try. It was delivered as promised & in good condition.\",\n",
              " \"Title: Should advertise coconut as an ingredient more prominently; Content: First, these should be called Mac - Coconut bars, as Coconut is the #2 ingredient and Mango is #3.  Second, lots of people don't like coconut.  I happen to be allergic to it.  Word to Amazon that if you want happy customers to make things like this more prominent.  Thanks.\"]"
            ]
          },
          "execution_count": 9,
          "metadata": {},
          "output_type": "execute_result"
        }
      ],
      "source": [
        "df1.combined.to_list()"
      ]
    },
    {
      "cell_type": "markdown",
      "metadata": {},
      "source": [
        "The API key must be set in the environment (see https://github.com/openai/openai-python#usage)"
      ]
    },
    {
      "cell_type": "code",
      "execution_count": 10,
      "metadata": {},
      "outputs": [],
      "source": [
        "df1_embedding = openai.Embedding.create(\n",
        "    input=df1.combined.to_list(),\n",
        "    model=embedding_model)"
      ]
    },
    {
      "cell_type": "code",
      "execution_count": 11,
      "metadata": {},
      "outputs": [
        {
          "data": {
            "text/plain": [
              "dict_keys(['object', 'data', 'model', 'usage'])"
            ]
          },
          "execution_count": 11,
          "metadata": {},
          "output_type": "execute_result"
        }
      ],
      "source": [
        "df1_embedding.keys()"
      ]
    },
    {
      "cell_type": "code",
      "execution_count": 12,
      "metadata": {},
      "outputs": [
        {
          "name": "stdout",
          "output_type": "stream",
          "text": [
            "Object: list\n",
            "\n",
            "Model: text-embedding-ada-002-v2\n",
            "\n",
            "Usage:\n",
            "{\n",
            "  \"prompt_tokens\": 497,\n",
            "  \"total_tokens\": 497\n",
            "}\n"
          ]
        }
      ],
      "source": [
        "print(f'Object: {df1_embedding[\"object\"]}')\n",
        "print(f'\\nModel: {df1_embedding[\"model\"]}')\n",
        "print(f'\\nUsage:\\n{df1_embedding[\"usage\"]}')"
      ]
    },
    {
      "cell_type": "markdown",
      "metadata": {},
      "source": [
        "From the embedding model we get 5 vectors representing the 5 reviews."
      ]
    },
    {
      "cell_type": "code",
      "execution_count": 13,
      "metadata": {},
      "outputs": [
        {
          "data": {
            "text/plain": [
              "5"
            ]
          },
          "execution_count": 13,
          "metadata": {},
          "output_type": "execute_result"
        }
      ],
      "source": [
        "len(df1_embedding[\"data\"])"
      ]
    },
    {
      "cell_type": "markdown",
      "metadata": {},
      "source": [
        "All vectors have the same length (i.e., the output dimensions: `1536` )"
      ]
    },
    {
      "cell_type": "code",
      "execution_count": 14,
      "metadata": {},
      "outputs": [
        {
          "name": "stdout",
          "output_type": "stream",
          "text": [
            "Vector 0 - 1536\n",
            "Vector 1 - 1536\n",
            "Vector 2 - 1536\n",
            "Vector 3 - 1536\n",
            "Vector 4 - 1536\n"
          ]
        }
      ],
      "source": [
        "for i in range(len(df1_embedding[\"data\"])):\n",
        "    print(f'Vector {i} - {len(df1_embedding[\"data\"][i][\"embedding\"])}')"
      ]
    },
    {
      "cell_type": "markdown",
      "metadata": {},
      "source": [
        "First 10 dimensions of the first vector"
      ]
    },
    {
      "cell_type": "code",
      "execution_count": 15,
      "metadata": {},
      "outputs": [
        {
          "data": {
            "text/plain": [
              "[0.0070097302086651325,\n",
              " -0.02735169231891632,\n",
              " 0.010535212233662605,\n",
              " -0.014569243416190147,\n",
              " 0.004429187625646591,\n",
              " 0.019943369552493095,\n",
              " 0.0007039796910248697,\n",
              " -0.0221012681722641,\n",
              " -0.019201163202524185,\n",
              " -0.013668973930180073]"
            ]
          },
          "execution_count": 15,
          "metadata": {},
          "output_type": "execute_result"
        }
      ],
      "source": [
        "df1_embedding[\"data\"][0][\"embedding\"][:10]"
      ]
    },
    {
      "cell_type": "code",
      "execution_count": 16,
      "metadata": {},
      "outputs": [
        {
          "name": "stdout",
          "output_type": "stream",
          "text": [
            "Text\n",
            "Title: where does one  start...and stop... with a treat like this; Content: Wanted to save some to bring to my Chicago family but my North Carolina family ate all 4 boxes before I could pack. These are excellent...could serve to anyone\n",
            "Embedding (first 10 dimensions):\n",
            "[0.0070097302086651325, -0.02735169231891632, 0.010535212233662605, -0.014569243416190147, 0.004429187625646591, 0.019943369552493095, 0.0007039796910248697, -0.0221012681722641, -0.019201163202524185, -0.013668973930180073]\n",
            "==================================================\n",
            "Text\n",
            "Title: Good, but not Wolfgang Puck good; Content: Honestly, I have to admit that I expected a little better. That's not to say that this is bad coffee - in fact it's quite bold without being too acidic, and pretty satisfying overall. I think my main problem is that Wolfgang Puck's name is attached to it, so perhaps it set my expectations a little high. I have a Wolfgang Puck knife set that I adore, and is very high quality for what I paid for it. This coffee was on sale, so it was well worth it also, I just hoped for something that would knock my socks off - which it didn't. I also purchased the Breakfast blend, and Jamaica me crazy at the same time. The breakfast blend was the best, in my opinion, and the jamaican coffee smelled the best, but was the least successful.\n",
            "Embedding (first 10 dimensions):\n",
            "[-0.003115636995062232, -0.009948926977813244, -0.003453755285590887, -0.015715081244707108, -0.002719791140407324, 0.0042190575040876865, -0.0026686610653996468, -0.019198525696992874, -0.02261599525809288, -0.017100542783737183]\n",
            "==================================================\n",
            "Text\n",
            "Title: Should advertise coconut as an ingredient more prominently; Content: First, these should be called Mac - Coconut bars, as Coconut is the #2 ingredient and Mango is #3.  Second, lots of people don't like coconut.  I happen to be allergic to it.  Word to Amazon that if you want happy customers to make things like this more prominent.  Thanks.\n",
            "Embedding (first 10 dimensions):\n",
            "[-0.017541345208883286, -2.462551128701307e-05, -0.011331305839121342, -0.010847406461834908, 0.025203080847859383, 0.008145635947585106, -0.010397111065685749, -0.046212371438741684, -0.0028529888950288296, -0.00835398118942976]\n",
            "==================================================\n",
            "Text\n",
            "Title: Best tomato soup; Content: I have a hard time finding packaged food of any type, without dairy in it; even potato chips these days have it. The Imagine Organic is just tomato soup, no other BS in it. It is the best tasting too. At one time this soup could be purchased at TJ's, but since they have their own brand, it has dairy & I can't consume it. There are health food stores with it, but I wanted to give Amazon a try. It was delivered as promised & in good condition.\n",
            "Embedding (first 10 dimensions):\n",
            "[-0.0013143676333129406, -0.011042999103665352, -0.015155245549976826, -0.008554528467357159, -0.003079234389588237, 0.011577656492590904, 8.096191595541313e-05, -0.0420069620013237, -0.019419308751821518, -0.01614535227417946]\n",
            "==================================================\n",
            "Text\n",
            "Title: Should advertise coconut as an ingredient more prominently; Content: First, these should be called Mac - Coconut bars, as Coconut is the #2 ingredient and Mango is #3.  Second, lots of people don't like coconut.  I happen to be allergic to it.  Word to Amazon that if you want happy customers to make things like this more prominent.  Thanks.\n",
            "Embedding (first 10 dimensions):\n",
            "[-0.017541345208883286, -2.462551128701307e-05, -0.011331305839121342, -0.010847406461834908, 0.025203080847859383, 0.008145635947585106, -0.010397111065685749, -0.046212371438741684, -0.0028529888950288296, -0.00835398118942976]\n",
            "==================================================\n"
          ]
        }
      ],
      "source": [
        "# Print the embeddings for each text\n",
        "for i, embedding in enumerate(df1_embedding[\"data\"]):\n",
        "    print(f'Text\\n{df1.combined.to_list()[i]}')\n",
        "    print(f'Embedding (first 10 dimensions):\\n{embedding[\"embedding\"][:10]}')\n",
        "    print(\"=\"*50)"
      ]
    },
    {
      "cell_type": "markdown",
      "metadata": {},
      "source": [
        "Add the embeddings to the data frame"
      ]
    },
    {
      "cell_type": "code",
      "execution_count": 17,
      "metadata": {},
      "outputs": [],
      "source": [
        "embeddings_to_df = []\n",
        "for i in range(len(df1_embedding[\"data\"])):\n",
        "    embeddings_to_df.append(df1_embedding[\"data\"][i][\"embedding\"])"
      ]
    },
    {
      "cell_type": "code",
      "execution_count": 18,
      "metadata": {},
      "outputs": [
        {
          "data": {
            "text/plain": [
              "5"
            ]
          },
          "execution_count": 18,
          "metadata": {},
          "output_type": "execute_result"
        }
      ],
      "source": [
        "len(embeddings_to_df)"
      ]
    },
    {
      "cell_type": "code",
      "execution_count": 19,
      "metadata": {},
      "outputs": [],
      "source": [
        "df1[\"embedding\"] = embeddings_to_df"
      ]
    },
    {
      "cell_type": "code",
      "execution_count": 20,
      "metadata": {},
      "outputs": [
        {
          "data": {
            "text/html": [
              "<div>\n",
              "<style scoped>\n",
              "    .dataframe tbody tr th:only-of-type {\n",
              "        vertical-align: middle;\n",
              "    }\n",
              "\n",
              "    .dataframe tbody tr th {\n",
              "        vertical-align: top;\n",
              "    }\n",
              "\n",
              "    .dataframe thead th {\n",
              "        text-align: right;\n",
              "    }\n",
              "</style>\n",
              "<table border=\"1\" class=\"dataframe\">\n",
              "  <thead>\n",
              "    <tr style=\"text-align: right;\">\n",
              "      <th></th>\n",
              "      <th>ProductId</th>\n",
              "      <th>UserId</th>\n",
              "      <th>Score</th>\n",
              "      <th>Summary</th>\n",
              "      <th>Text</th>\n",
              "      <th>combined</th>\n",
              "      <th>n_tokens</th>\n",
              "      <th>embedding</th>\n",
              "    </tr>\n",
              "  </thead>\n",
              "  <tbody>\n",
              "    <tr>\n",
              "      <th>0</th>\n",
              "      <td>B003XPF9BO</td>\n",
              "      <td>A3R7JR3FMEBXQB</td>\n",
              "      <td>5</td>\n",
              "      <td>where does one  start...and stop... with a tre...</td>\n",
              "      <td>Wanted to save some to bring to my Chicago fam...</td>\n",
              "      <td>Title: where does one  start...and stop... wit...</td>\n",
              "      <td>52</td>\n",
              "      <td>[0.0070097302086651325, -0.02735169231891632, ...</td>\n",
              "    </tr>\n",
              "    <tr>\n",
              "      <th>297</th>\n",
              "      <td>B003VXHGPK</td>\n",
              "      <td>A21VWSCGW7UUAR</td>\n",
              "      <td>4</td>\n",
              "      <td>Good, but not Wolfgang Puck good</td>\n",
              "      <td>Honestly, I have to admit that I expected a li...</td>\n",
              "      <td>Title: Good, but not Wolfgang Puck good; Conte...</td>\n",
              "      <td>178</td>\n",
              "      <td>[-0.003115636995062232, -0.009948926977813244,...</td>\n",
              "    </tr>\n",
              "    <tr>\n",
              "      <th>296</th>\n",
              "      <td>B008JKTTUA</td>\n",
              "      <td>A34XBAIFT02B60</td>\n",
              "      <td>1</td>\n",
              "      <td>Should advertise coconut as an ingredient more...</td>\n",
              "      <td>First, these should be called Mac - Coconut ba...</td>\n",
              "      <td>Title: Should advertise coconut as an ingredie...</td>\n",
              "      <td>78</td>\n",
              "      <td>[-0.017541345208883286, -2.462551128701307e-05...</td>\n",
              "    </tr>\n",
              "    <tr>\n",
              "      <th>295</th>\n",
              "      <td>B000LKTTTW</td>\n",
              "      <td>A14MQ40CCU8B13</td>\n",
              "      <td>5</td>\n",
              "      <td>Best tomato soup</td>\n",
              "      <td>I have a hard time finding packaged food of an...</td>\n",
              "      <td>Title: Best tomato soup; Content: I have a har...</td>\n",
              "      <td>111</td>\n",
              "      <td>[-0.0013143676333129406, -0.011042999103665352...</td>\n",
              "    </tr>\n",
              "    <tr>\n",
              "      <th>294</th>\n",
              "      <td>B001D09KAM</td>\n",
              "      <td>A34XBAIFT02B60</td>\n",
              "      <td>1</td>\n",
              "      <td>Should advertise coconut as an ingredient more...</td>\n",
              "      <td>First, these should be called Mac - Coconut ba...</td>\n",
              "      <td>Title: Should advertise coconut as an ingredie...</td>\n",
              "      <td>78</td>\n",
              "      <td>[-0.017541345208883286, -2.462551128701307e-05...</td>\n",
              "    </tr>\n",
              "  </tbody>\n",
              "</table>\n",
              "</div>"
            ],
            "text/plain": [
              "      ProductId          UserId  Score  \\\n",
              "0    B003XPF9BO  A3R7JR3FMEBXQB      5   \n",
              "297  B003VXHGPK  A21VWSCGW7UUAR      4   \n",
              "296  B008JKTTUA  A34XBAIFT02B60      1   \n",
              "295  B000LKTTTW  A14MQ40CCU8B13      5   \n",
              "294  B001D09KAM  A34XBAIFT02B60      1   \n",
              "\n",
              "                                               Summary  \\\n",
              "0    where does one  start...and stop... with a tre...   \n",
              "297                   Good, but not Wolfgang Puck good   \n",
              "296  Should advertise coconut as an ingredient more...   \n",
              "295                                   Best tomato soup   \n",
              "294  Should advertise coconut as an ingredient more...   \n",
              "\n",
              "                                                  Text  \\\n",
              "0    Wanted to save some to bring to my Chicago fam...   \n",
              "297  Honestly, I have to admit that I expected a li...   \n",
              "296  First, these should be called Mac - Coconut ba...   \n",
              "295  I have a hard time finding packaged food of an...   \n",
              "294  First, these should be called Mac - Coconut ba...   \n",
              "\n",
              "                                              combined  n_tokens  \\\n",
              "0    Title: where does one  start...and stop... wit...        52   \n",
              "297  Title: Good, but not Wolfgang Puck good; Conte...       178   \n",
              "296  Title: Should advertise coconut as an ingredie...        78   \n",
              "295  Title: Best tomato soup; Content: I have a har...       111   \n",
              "294  Title: Should advertise coconut as an ingredie...        78   \n",
              "\n",
              "                                             embedding  \n",
              "0    [0.0070097302086651325, -0.02735169231891632, ...  \n",
              "297  [-0.003115636995062232, -0.009948926977813244,...  \n",
              "296  [-0.017541345208883286, -2.462551128701307e-05...  \n",
              "295  [-0.0013143676333129406, -0.011042999103665352...  \n",
              "294  [-0.017541345208883286, -2.462551128701307e-05...  "
            ]
          },
          "execution_count": 20,
          "metadata": {},
          "output_type": "execute_result"
        }
      ],
      "source": [
        "df1"
      ]
    },
    {
      "cell_type": "markdown",
      "metadata": {},
      "source": [
        "# Search for similarity"
      ]
    },
    {
      "cell_type": "code",
      "execution_count": 21,
      "metadata": {},
      "outputs": [],
      "source": [
        "def get_embedding(text, model):\n",
        "   \"\"\"\n",
        "   Return an embedding from a text given a model\n",
        "   \"\"\"\n",
        "   text = text.replace(\"\\n\", \" \")\n",
        "   return openai.Embedding.create(input = [text], model=model)['data'][0]['embedding']\n",
        "\n",
        "\n",
        "def search_reviews(df: pd.DataFrame, product_description: str, n: int = 3):\n",
        "   \"\"\"\n",
        "   Calculate the cosine similarity between a database of reviews and a product description.\n",
        "\n",
        "   Args:\n",
        "       df (DataFrame): A pandas dataframe with the embedding of the review in the column \"embedding\".\n",
        "       product_description (string): product description to evaluate with cosine similarity.\n",
        "       n (int): number of most similar results to print.\n",
        "    \n",
        "    Returns:\n",
        "        DataFrame: The dataframe df with an additional column (i.e., \"similarities\") with the cosine similarities.\n",
        "    \"\"\"\n",
        "   embedding = get_embedding(product_description, model=embedding_model)\n",
        "   df['similarities'] = df.embedding.apply(lambda x: cosine_similarity(x, embedding))\n",
        "   res = df.sort_values('similarities', ascending=False).head(n)\n",
        "   return res"
      ]
    },
    {
      "cell_type": "markdown",
      "metadata": {},
      "source": [
        "Test `get_embedding()`"
      ]
    },
    {
      "cell_type": "code",
      "execution_count": 22,
      "metadata": {},
      "outputs": [
        {
          "name": "stdout",
          "output_type": "stream",
          "text": [
            "1536\n",
            "[-0.015345171093940735, -0.01350956130772829, -0.016731781885027885, -0.0221989955753088, -0.007210381329059601]\n"
          ]
        }
      ],
      "source": [
        "new_text_embedding = get_embedding(\"delicious beans\", model=embedding_model)\n",
        "print(len(new_text_embedding))\n",
        "print(new_text_embedding[:5])"
      ]
    },
    {
      "cell_type": "markdown",
      "metadata": {},
      "source": [
        "Try `cosine_similarity()`"
      ]
    },
    {
      "cell_type": "code",
      "execution_count": 23,
      "metadata": {},
      "outputs": [
        {
          "data": {
            "text/plain": [
              "0      0.773732\n",
              "297    0.784666\n",
              "296    0.751474\n",
              "295    0.798300\n",
              "294    0.751474\n",
              "Name: embedding, dtype: float64"
            ]
          },
          "execution_count": 23,
          "metadata": {},
          "output_type": "execute_result"
        }
      ],
      "source": [
        "df1.embedding.apply(lambda x: cosine_similarity(x, new_text_embedding))"
      ]
    },
    {
      "cell_type": "markdown",
      "metadata": {},
      "source": [
        "Test `search_reviews()`"
      ]
    },
    {
      "cell_type": "code",
      "execution_count": 24,
      "metadata": {},
      "outputs": [],
      "source": [
        "res = search_reviews(df1, 'delicious beans', n=3)"
      ]
    },
    {
      "cell_type": "code",
      "execution_count": 25,
      "metadata": {},
      "outputs": [
        {
          "data": {
            "text/html": [
              "<div>\n",
              "<style scoped>\n",
              "    .dataframe tbody tr th:only-of-type {\n",
              "        vertical-align: middle;\n",
              "    }\n",
              "\n",
              "    .dataframe tbody tr th {\n",
              "        vertical-align: top;\n",
              "    }\n",
              "\n",
              "    .dataframe thead th {\n",
              "        text-align: right;\n",
              "    }\n",
              "</style>\n",
              "<table border=\"1\" class=\"dataframe\">\n",
              "  <thead>\n",
              "    <tr style=\"text-align: right;\">\n",
              "      <th></th>\n",
              "      <th>ProductId</th>\n",
              "      <th>UserId</th>\n",
              "      <th>Score</th>\n",
              "      <th>Summary</th>\n",
              "      <th>Text</th>\n",
              "      <th>combined</th>\n",
              "      <th>n_tokens</th>\n",
              "      <th>embedding</th>\n",
              "      <th>similarities</th>\n",
              "    </tr>\n",
              "  </thead>\n",
              "  <tbody>\n",
              "    <tr>\n",
              "      <th>295</th>\n",
              "      <td>B000LKTTTW</td>\n",
              "      <td>A14MQ40CCU8B13</td>\n",
              "      <td>5</td>\n",
              "      <td>Best tomato soup</td>\n",
              "      <td>I have a hard time finding packaged food of an...</td>\n",
              "      <td>Title: Best tomato soup; Content: I have a har...</td>\n",
              "      <td>111</td>\n",
              "      <td>[-0.0013143676333129406, -0.011042999103665352...</td>\n",
              "      <td>0.798300</td>\n",
              "    </tr>\n",
              "    <tr>\n",
              "      <th>297</th>\n",
              "      <td>B003VXHGPK</td>\n",
              "      <td>A21VWSCGW7UUAR</td>\n",
              "      <td>4</td>\n",
              "      <td>Good, but not Wolfgang Puck good</td>\n",
              "      <td>Honestly, I have to admit that I expected a li...</td>\n",
              "      <td>Title: Good, but not Wolfgang Puck good; Conte...</td>\n",
              "      <td>178</td>\n",
              "      <td>[-0.003115636995062232, -0.009948926977813244,...</td>\n",
              "      <td>0.784666</td>\n",
              "    </tr>\n",
              "    <tr>\n",
              "      <th>0</th>\n",
              "      <td>B003XPF9BO</td>\n",
              "      <td>A3R7JR3FMEBXQB</td>\n",
              "      <td>5</td>\n",
              "      <td>where does one  start...and stop... with a tre...</td>\n",
              "      <td>Wanted to save some to bring to my Chicago fam...</td>\n",
              "      <td>Title: where does one  start...and stop... wit...</td>\n",
              "      <td>52</td>\n",
              "      <td>[0.0070097302086651325, -0.02735169231891632, ...</td>\n",
              "      <td>0.773732</td>\n",
              "    </tr>\n",
              "  </tbody>\n",
              "</table>\n",
              "</div>"
            ],
            "text/plain": [
              "      ProductId          UserId  Score  \\\n",
              "295  B000LKTTTW  A14MQ40CCU8B13      5   \n",
              "297  B003VXHGPK  A21VWSCGW7UUAR      4   \n",
              "0    B003XPF9BO  A3R7JR3FMEBXQB      5   \n",
              "\n",
              "                                               Summary  \\\n",
              "295                                   Best tomato soup   \n",
              "297                   Good, but not Wolfgang Puck good   \n",
              "0    where does one  start...and stop... with a tre...   \n",
              "\n",
              "                                                  Text  \\\n",
              "295  I have a hard time finding packaged food of an...   \n",
              "297  Honestly, I have to admit that I expected a li...   \n",
              "0    Wanted to save some to bring to my Chicago fam...   \n",
              "\n",
              "                                              combined  n_tokens  \\\n",
              "295  Title: Best tomato soup; Content: I have a har...       111   \n",
              "297  Title: Good, but not Wolfgang Puck good; Conte...       178   \n",
              "0    Title: where does one  start...and stop... wit...        52   \n",
              "\n",
              "                                             embedding  similarities  \n",
              "295  [-0.0013143676333129406, -0.011042999103665352...      0.798300  \n",
              "297  [-0.003115636995062232, -0.009948926977813244,...      0.784666  \n",
              "0    [0.0070097302086651325, -0.02735169231891632, ...      0.773732  "
            ]
          },
          "execution_count": 25,
          "metadata": {},
          "output_type": "execute_result"
        }
      ],
      "source": [
        "res"
      ]
    }
  ],
  "metadata": {
    "colab": {
      "provenance": []
    },
    "kernelspec": {
      "display_name": "Python 3",
      "name": "python3"
    },
    "language_info": {
      "codemirror_mode": {
        "name": "ipython",
        "version": 3
      },
      "file_extension": ".py",
      "mimetype": "text/x-python",
      "name": "python",
      "nbconvert_exporter": "python",
      "pygments_lexer": "ipython3",
      "version": "3.10.12"
    }
  },
  "nbformat": 4,
  "nbformat_minor": 0
}
